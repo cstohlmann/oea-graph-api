{
  "cells": [
    {
      "cell_type": "markdown",
      "source": [
        "# Graph API Module Example Notebook\r\n",
        "\r\n",
        "This notebook creates 3 tables (users, m365_app_user_detail and teams_acivity_user_details) into a new Spark database called graphapi. \r\n"
      ],
      "metadata": {
        "nteract": {
          "transient": {
            "deleting": false
          }
        }
      }
    },
    {
      "cell_type": "markdown",
      "source": [
        "### Provision storage accounts\r\n",
        "\r\n",
        "The storage account variable has to be changed to the name of the storage account associated with your Azure resource group."
      ],
      "metadata": {
        "nteract": {
          "transient": {
            "deleting": false
          }
        }
      }
    },
    {
      "cell_type": "code",
      "source": [
        "from pyspark.sql.types import StructType, StructField, StringType, IntegerType, DoubleType, ArrayType\r\n",
        "from pyspark.sql.functions import *\r\n",
        "from pyspark.sql.window import Window\r\n",
        "\r\n",
        "\r\n",
        "# data lake and container information\r\n",
        "storage_account = 'stoeahybriddev2'\r\n",
        "use_test_env = False\r\n",
        "\r\n",
        "if use_test_env:\r\n",
        "    stage1np = 'abfss://test-env@' + storage_account + '.dfs.core.windows.net/stage1np'\r\n",
        "    stage2np = 'abfss://test-env@' + storage_account + '.dfs.core.windows.net/stage2np'\r\n",
        "else:\r\n",
        "    stage1np = 'abfss://stage1np@' + storage_account + '.dfs.core.windows.net'\r\n",
        "    stage2np = 'abfss://stage2np@' + storage_account + '.dfs.core.windows.net'"
      ],
      "outputs": [
        {
          "output_type": "display_data",
          "data": {
            "application/vnd.livy.statement-meta+json": {
              "spark_pool": "medium2",
              "session_id": 4,
              "statement_id": 1,
              "state": "finished",
              "livy_statement_state": "available",
              "queued_time": "2021-10-06T18:09:06.6866199Z",
              "session_start_time": "2021-10-06T18:09:06.7276022Z",
              "execution_start_time": "2021-10-06T18:11:30.6337346Z",
              "execution_finish_time": "2021-10-06T18:11:30.7892429Z"
            },
            "text/plain": "StatementMeta(medium2, 4, 1, Finished, Available)"
          },
          "metadata": {}
        }
      ],
      "execution_count": 1,
      "metadata": {
        "jupyter": {
          "source_hidden": false,
          "outputs_hidden": false
        },
        "nteract": {
          "transient": {
            "deleting": false
          }
        }
      }
    },
    {
      "cell_type": "markdown",
      "source": [
        "### Load Raw Data from Lake\r\n",
        "To ensure that that the right tables are loaded, confirm that the file paths match your data lake storage containers. \r\n",
        "\r\n",
        "The top code-block defines the schema of how each of the stage 1 JSON files are stored."
      ],
      "metadata": {
        "nteract": {
          "transient": {
            "deleting": false
          }
        }
      }
    },
    {
      "cell_type": "code",
      "source": [
        "# schemas for each of the JSON files for transformation into tables\r\n",
        "user_schema = StructType(fields=[\r\n",
        "    StructField('value', ArrayType(\r\n",
        "        StructType([\r\n",
        "            StructField('surname', StringType(), False),\r\n",
        "            StructField('givenName', StringType(), False),\r\n",
        "            StructField('userPrincipalName', StringType(), False),\r\n",
        "            StructField('id', StringType(), False)\r\n",
        "        ])\r\n",
        "    ))\r\n",
        "])\r\n",
        "\r\n",
        "m365_app_user_details_schema = StructType(fields=[\r\n",
        "    StructField('value', ArrayType(\r\n",
        "        StructType([\r\n",
        "            StructField('reportRefreshDate', StringType(), False),\r\n",
        "            StructField('userPrincipalName', StringType(), False),\r\n",
        "            StructField('lastActivityDate', StringType(), False),\r\n",
        "            StructField('details', ArrayType(\r\n",
        "                StructType([\r\n",
        "                    StructField('reportPeriod', StringType(), False),\r\n",
        "                    StructField('excel', StringType(), False),\r\n",
        "                    StructField('excelWeb', StringType(), False),\r\n",
        "                    StructField('outlook', StringType(), False),\r\n",
        "                    StructField('outlookWeb', StringType(), False),\r\n",
        "                    StructField('powerPoint', StringType(), False),\r\n",
        "                    StructField('powerPointWeb', StringType(), False),\r\n",
        "                    StructField('teams', StringType(), False),\r\n",
        "                    StructField('teamsWeb', StringType(), False),\r\n",
        "                    StructField('word', StringType(), False),\r\n",
        "                    StructField('wordWeb', StringType(), False),\r\n",
        "                ])\r\n",
        "            ))\r\n",
        "        ])\r\n",
        "    ))\r\n",
        "])\r\n",
        "\r\n",
        "teams_activity_user_details_schema = StructType(fields=[\r\n",
        "    StructField('value', ArrayType(\r\n",
        "        StructType([\r\n",
        "            StructField('reportRefreshDate', StringType(), False),\r\n",
        "            StructField('reportPeriod', StringType(), False),\r\n",
        "            StructField('userPrincipalName', StringType(), False),\r\n",
        "            StructField('privateChatMessageCount', IntegerType(), False),\r\n",
        "            StructField('teamChatMessageCount', IntegerType(), False),\r\n",
        "            StructField('meetingsAttendedCount', IntegerType(), False),\r\n",
        "            StructField('meetingCount', IntegerType(), False),\r\n",
        "            StructField('audioDuration', StringType(), False),\r\n",
        "        ])\r\n",
        "    ))\r\n",
        "])"
      ],
      "outputs": [
        {
          "output_type": "display_data",
          "data": {
            "application/vnd.livy.statement-meta+json": {
              "spark_pool": "medium2",
              "session_id": 4,
              "statement_id": 2,
              "state": "finished",
              "livy_statement_state": "available",
              "queued_time": "2021-10-06T18:10:03.2842266Z",
              "session_start_time": null,
              "execution_start_time": "2021-10-06T18:11:30.9226613Z",
              "execution_finish_time": "2021-10-06T18:11:31.0911698Z"
            },
            "text/plain": "StatementMeta(medium2, 4, 2, Finished, Available)"
          },
          "metadata": {}
        }
      ],
      "execution_count": 2,
      "metadata": {
        "jupyter": {
          "source_hidden": false,
          "outputs_hidden": false
        },
        "nteract": {
          "transient": {
            "deleting": false
          }
        }
      }
    },
    {
      "cell_type": "code",
      "source": [
        "# load needed tables from JSON data lake storage\r\n",
        "dfUsersRaw = spark.read.format('json').load(f'{stage1np}/GraphAPI/users.json', schema=user_schema)\r\n",
        "dfM365UserActivityRaw = spark.read.format('json').load(f'{stage1np}/GraphAPI/m365_app_user_detail.json', schema=m365_app_user_details_schema)\r\n",
        "dfTeamsUserActivityRaw = spark.read.format('json').load(f'{stage1np}/GraphAPI/teams_activity_user_details.json', schema=teams_activity_user_details_schema)"
      ],
      "outputs": [
        {
          "output_type": "display_data",
          "data": {
            "application/vnd.livy.statement-meta+json": {
              "spark_pool": "medium2",
              "session_id": 4,
              "statement_id": 3,
              "state": "finished",
              "livy_statement_state": "available",
              "queued_time": "2021-10-06T18:10:42.1621711Z",
              "session_start_time": null,
              "execution_start_time": "2021-10-06T18:11:31.1947587Z",
              "execution_finish_time": "2021-10-06T18:11:35.4549811Z"
            },
            "text/plain": "StatementMeta(medium2, 4, 3, Finished, Available)"
          },
          "metadata": {}
        }
      ],
      "execution_count": 3,
      "metadata": {
        "jupyter": {
          "source_hidden": false,
          "outputs_hidden": false
        },
        "nteract": {
          "transient": {
            "deleting": false
          }
        }
      }
    },
    {
      "cell_type": "markdown",
      "source": [
        "## 1. Users table\r\n",
        "Contains all users (students and teachers) at a school-system level\r\n",
        "\r\n",
        "** Databases and tables used: **\r\n",
        "\r\n",
        " - None \r\n",
        " \r\n",
        "**JSON files used:**\r\n",
        "\r\n",
        "- users.json\r\n",
        "\r\n",
        "**Database and table created:**\r\n",
        "\r\n",
        "1. Spark DB: graphapi\r\n",
        "- Table: users"
      ],
      "metadata": {
        "nteract": {
          "transient": {
            "deleting": false
          }
        }
      }
    },
    {
      "cell_type": "code",
      "source": [
        "dfUsers = dfUsersRaw.select(explode('value').alias('exploded_values')).select(\"exploded_values.*\")"
      ],
      "outputs": [
        {
          "output_type": "display_data",
          "data": {
            "application/vnd.livy.statement-meta+json": {
              "spark_pool": "medium2",
              "session_id": 2,
              "statement_id": 7,
              "state": "finished",
              "livy_statement_state": "available",
              "queued_time": "2021-10-05T18:49:26.035693Z",
              "session_start_time": null,
              "execution_start_time": "2021-10-05T18:49:26.1443762Z",
              "execution_finish_time": "2021-10-05T18:49:26.2941242Z"
            },
            "text/plain": "StatementMeta(medium2, 2, 7, Finished, Available)"
          },
          "metadata": {}
        }
      ],
      "execution_count": 7,
      "metadata": {
        "jupyter": {
          "source_hidden": false,
          "outputs_hidden": false
        },
        "nteract": {
          "transient": {
            "deleting": false
          }
        }
      }
    },
    {
      "cell_type": "markdown",
      "source": [
        "## Write Data Back to Lake"
      ],
      "metadata": {
        "nteract": {
          "transient": {
            "deleting": false
          }
        }
      }
    },
    {
      "cell_type": "code",
      "source": [
        "# write back to the lake in stage 2 ds2_main directory\r\n",
        "dfUsers.write.format('parquet').mode('overwrite').save(stage2np + '/GraphAPI/users')"
      ],
      "outputs": [],
      "execution_count": null,
      "metadata": {
        "jupyter": {
          "source_hidden": false,
          "outputs_hidden": false
        },
        "nteract": {
          "transient": {
            "deleting": false
          }
        }
      }
    },
    {
      "cell_type": "markdown",
      "source": [
        "### Load to Spark DB"
      ],
      "metadata": {
        "nteract": {
          "transient": {
            "deleting": false
          }
        }
      }
    },
    {
      "cell_type": "code",
      "source": [
        "# Create spark db to allow for access to the data in the delta-lake via SQL on-demand.\r\n",
        "# This is only creating metadata for SQL on-demand, pointing to the data in the delta-lake.\r\n",
        "# This also makes it possible to connect in Power BI via the azure sql data source connector.\r\n",
        "def create_spark_db(db_name, source_path):\r\n",
        "    spark.sql(f'CREATE DATABASE IF NOT EXISTS {db_name}')\r\n",
        "    spark.sql(f\"DROP TABLE IF EXISTS {db_name}.users\")\r\n",
        "    spark.sql(f\"create table if not exists {db_name}.users using PARQUET location '{source_path}/users'\")\r\n",
        "    \r\n",
        "create_spark_db('s2np_graphapi', stage2np + '/GraphAPI/users')"
      ],
      "outputs": [],
      "execution_count": null,
      "metadata": {
        "jupyter": {
          "source_hidden": false,
          "outputs_hidden": false
        },
        "nteract": {
          "transient": {
            "deleting": false
          }
        }
      }
    },
    {
      "cell_type": "markdown",
      "source": [
        "## 2. M365_app_user_detail table\r\n",
        "Contains a sample m365 table to support data analysis in a Power BI dashboard.\r\n",
        "\r\n",
        "**Databases and tables used:**\r\n",
        "- None\r\n",
        "\r\n",
        "**JSON files used:**\r\n",
        "- m365_app_user_detail.json\r\n",
        "\r\n",
        "**Databases and tables created:**\r\n",
        "\r\n",
        "1. Spark DB: graphapi\r\n",
        "- Table: m365_app_user_detail"
      ],
      "metadata": {
        "nteract": {
          "transient": {
            "deleting": false
          }
        }
      }
    },
    {
      "cell_type": "code",
      "source": [
        "dfM365UserActivity = dfM365UserActivityRaw.select(explode('value').alias('exploded_values')).select(\"exploded_values.*\")"
      ],
      "outputs": [
        {
          "output_type": "display_data",
          "data": {
            "application/vnd.livy.statement-meta+json": {
              "spark_pool": "medium2",
              "session_id": 4,
              "statement_id": 4,
              "state": "finished",
              "livy_statement_state": "available",
              "queued_time": "2021-10-06T18:10:50.6474177Z",
              "session_start_time": null,
              "execution_start_time": "2021-10-06T18:11:35.5660654Z",
              "execution_finish_time": "2021-10-06T18:11:35.7083873Z"
            },
            "text/plain": "StatementMeta(medium2, 4, 4, Finished, Available)"
          },
          "metadata": {}
        }
      ],
      "execution_count": 4,
      "metadata": {
        "jupyter": {
          "source_hidden": false,
          "outputs_hidden": false
        },
        "nteract": {
          "transient": {
            "deleting": false
          }
        }
      }
    },
    {
      "cell_type": "markdown",
      "source": [
        "### Processing m365 activity \"details\" data \r\n",
        "This code block moves the relevant data from \"details\" and allocates them into their respective columns."
      ],
      "metadata": {
        "nteract": {
          "transient": {
            "deleting": false
          }
        }
      }
    },
    {
      "cell_type": "code",
      "source": [
        "import pyspark.sql.functions as f\r\n",
        "\r\n",
        "dfM365UserActivity = dfM365UserActivity.withColumn('reportPeriod', f.explode(f.col('details').reportPeriod)) \\\r\n",
        "                        .withColumn('excel', f.explode(f.col('details').excel)) \\\r\n",
        "                        .withColumn('excelWeb', f.explode(f.col('details').excelWeb)) \\\r\n",
        "                        .withColumn('outlook', f.explode(f.col('details').outlook)) \\\r\n",
        "                        .withColumn('outlookWeb', f.explode(f.col('details').outlookWeb)) \\\r\n",
        "                        .withColumn('powerPoint', f.explode(f.col('details').powerPoint)) \\\r\n",
        "                        .withColumn('powerPointWeb', f.explode(f.col('details').powerPointWeb)) \\\r\n",
        "                        .withColumn('teams', f.explode(f.col('details').teams)) \\\r\n",
        "                        .withColumn('teamsWeb', f.explode(f.col('details').teamsWeb)) \\\r\n",
        "                        .withColumn('word', f.explode(f.col('details').word)) \\\r\n",
        "                        .withColumn('wordWeb', f.explode(f.col('details').wordWeb)) \\\r\n",
        "                        .drop('details')\r\n",
        "\r\n",
        "display(dfM365UserActivity.limit(10))"
      ],
      "outputs": [
        {
          "output_type": "display_data",
          "data": {
            "application/vnd.livy.statement-meta+json": {
              "spark_pool": "medium2",
              "session_id": 4,
              "statement_id": 6,
              "state": "finished",
              "livy_statement_state": "available",
              "queued_time": "2021-10-06T18:13:18.8842925Z",
              "session_start_time": null,
              "execution_start_time": "2021-10-06T18:13:19.0320219Z",
              "execution_finish_time": "2021-10-06T18:13:31.6542715Z"
            },
            "text/plain": "StatementMeta(medium2, 4, 6, Finished, Available)"
          },
          "metadata": {}
        },
        {
          "output_type": "display_data",
          "data": {
            "application/vnd.synapse.widget-view+json": {
              "widget_id": "e1fcadb2-e02e-4629-9c34-420fda433048",
              "widget_type": "Synapse.DataFrame"
            },
            "text/plain": "SynapseWidget(Synapse.DataFrame, e1fcadb2-e02e-4629-9c34-420fda433048)"
          },
          "metadata": {}
        }
      ],
      "execution_count": 6,
      "metadata": {
        "jupyter": {
          "source_hidden": false,
          "outputs_hidden": false
        },
        "nteract": {
          "transient": {
            "deleting": false
          }
        },
        "collapsed": false
      }
    },
    {
      "cell_type": "markdown",
      "source": [
        "## Write Data Back to Lake"
      ],
      "metadata": {
        "nteract": {
          "transient": {
            "deleting": false
          }
        }
      }
    },
    {
      "cell_type": "code",
      "source": [
        "# write back to the lake in stage 2 ds2_main directory\r\n",
        "dfM365UserActivity.write.format('parquet').mode('overwrite').save(stage2np + '/GraphAPI/m365_app_user_detail')"
      ],
      "outputs": [],
      "execution_count": null,
      "metadata": {
        "jupyter": {
          "source_hidden": false,
          "outputs_hidden": false
        },
        "nteract": {
          "transient": {
            "deleting": false
          }
        }
      }
    },
    {
      "cell_type": "markdown",
      "source": [
        "### Load to Spark DB"
      ],
      "metadata": {
        "nteract": {
          "transient": {
            "deleting": false
          }
        }
      }
    },
    {
      "cell_type": "code",
      "source": [
        "# Create spark db to allow for access to the data in the delta-lake via SQL on-demand.\r\n",
        "# This is only creating metadata for SQL on-demand, pointing to the data in the delta-lake.\r\n",
        "# This also makes it possible to connect in Power BI via the azure sql data source connector.\r\n",
        "def create_spark_db(db_name, source_path):\r\n",
        "    spark.sql(f'CREATE DATABASE IF NOT EXISTS {db_name}')\r\n",
        "    spark.sql(f\"DROP TABLE IF EXISTS {db_name}.m365_app_user_detail\")\r\n",
        "    spark.sql(f\"create table if not exists {db_name}.m365_app_user_detail using PARQUET location '{source_path}/m365_app_user_detail'\")\r\n",
        "    \r\n",
        "create_spark_db('s2np_graphapi', stage2np + '/GraphAPI/m365_app_user_detail')"
      ],
      "outputs": [],
      "execution_count": null,
      "metadata": {
        "jupyter": {
          "source_hidden": false,
          "outputs_hidden": false
        },
        "nteract": {
          "transient": {
            "deleting": false
          }
        }
      }
    },
    {
      "cell_type": "markdown",
      "source": [
        "## 3. Teams_activity_user_details table\r\n",
        "Contains a sample Teams table to support data analysis in a Power BI dashboard.\r\n",
        "\r\n",
        "**Databases and tables used:**\r\n",
        "- None\r\n",
        "\r\n",
        "**JSON files used:**\r\n",
        "- teams_activity_user_details.json\r\n",
        "\r\n",
        "**Databases and tables created:**\r\n",
        "\r\n",
        "1. Spark DB: graphapi\r\n",
        "- Table: teams_activity_user_details"
      ],
      "metadata": {
        "nteract": {
          "transient": {
            "deleting": false
          }
        }
      }
    },
    {
      "cell_type": "code",
      "source": [
        "dfTeamsUserActivity = dfTeamsUserActivityRaw.select(explode('value').alias('exploded_values')).select(\"exploded_values.*\")"
      ],
      "outputs": [],
      "execution_count": null,
      "metadata": {
        "jupyter": {
          "source_hidden": false,
          "outputs_hidden": false
        },
        "nteract": {
          "transient": {
            "deleting": false
          }
        }
      }
    },
    {
      "cell_type": "markdown",
      "source": [
        "## Write Data Back to Lake"
      ],
      "metadata": {
        "nteract": {
          "transient": {
            "deleting": false
          }
        }
      }
    },
    {
      "cell_type": "code",
      "source": [
        "# write back to the lake in stage 2 ds2_main directory\r\n",
        "dfTeamsUserActivity.write.format('parquet').mode('overwrite').save(stage2np + '/GraphAPI/teams_activity_user_details')"
      ],
      "outputs": [],
      "execution_count": null,
      "metadata": {
        "jupyter": {
          "source_hidden": false,
          "outputs_hidden": false
        },
        "nteract": {
          "transient": {
            "deleting": false
          }
        }
      }
    },
    {
      "cell_type": "markdown",
      "source": [
        "### Load to Spark DB"
      ],
      "metadata": {
        "nteract": {
          "transient": {
            "deleting": false
          }
        }
      }
    },
    {
      "cell_type": "code",
      "source": [
        "# Create spark db to allow for access to the data in the delta-lake via SQL on-demand.\r\n",
        "# This is only creating metadata for SQL on-demand, pointing to the data in the delta-lake.\r\n",
        "# This also makes it possible to connect in Power BI via the azure sql data source connector.\r\n",
        "def create_spark_db(db_name, source_path):\r\n",
        "    spark.sql(f'CREATE DATABASE IF NOT EXISTS {db_name}')\r\n",
        "    spark.sql(f\"DROP TABLE IF EXISTS {db_name}.teams_activity_user_details\")\r\n",
        "    spark.sql(f\"create table if not exists {db_name}.teams_activity_user_details using PARQUET location '{source_path}/teams_activity_user_details'\")\r\n",
        "    \r\n",
        "create_spark_db('s2np_graphapi', stage2np + '/GraphAPI/teams_activity_user_details')"
      ],
      "outputs": [],
      "execution_count": null,
      "metadata": {
        "jupyter": {
          "source_hidden": false,
          "outputs_hidden": false
        },
        "nteract": {
          "transient": {
            "deleting": false
          }
        }
      }
    }
  ],
  "metadata": {
    "kernelspec": {
      "name": "synapse_pyspark",
      "display_name": "Synapse PySpark"
    },
    "language_info": {
      "name": "python"
    },
    "save_output": true,
    "synapse_widget": {
      "version": "0.1",
      "state": {
        "e1fcadb2-e02e-4629-9c34-420fda433048": {
          "type": "Synapse.DataFrame",
          "sync_state": {
            "table": {
              "rows": [
                {
                  "0": "2021-10-04",
                  "1": "gloriafowler49@contosoisd3.onmicrosoft.com",
                  "2": "",
                  "3": "180",
                  "4": "false",
                  "5": "false",
                  "6": "false",
                  "7": "false",
                  "8": "false",
                  "9": "false",
                  "10": "false",
                  "11": "false",
                  "12": "false",
                  "13": "false"
                },
                {
                  "0": "2021-10-04",
                  "1": "johnhampton54@contosoisd3.onmicrosoft.com",
                  "2": "",
                  "3": "180",
                  "4": "false",
                  "5": "false",
                  "6": "false",
                  "7": "false",
                  "8": "false",
                  "9": "false",
                  "10": "false",
                  "11": "false",
                  "12": "false",
                  "13": "false"
                },
                {
                  "0": "2021-10-04",
                  "1": "jenniferdavenport34@contosoisd3.onmicrosoft.com",
                  "2": "",
                  "3": "180",
                  "4": "false",
                  "5": "false",
                  "6": "false",
                  "7": "false",
                  "8": "false",
                  "9": "false",
                  "10": "false",
                  "11": "false",
                  "12": "false",
                  "13": "false"
                },
                {
                  "0": "2021-10-04",
                  "1": "tj@contosoisd3.onmicrosoft.com",
                  "2": "",
                  "3": "180",
                  "4": "false",
                  "5": "false",
                  "6": "false",
                  "7": "false",
                  "8": "false",
                  "9": "false",
                  "10": "false",
                  "11": "false",
                  "12": "false",
                  "13": "false"
                },
                {
                  "0": "2021-10-04",
                  "1": "davidwest41@contosoisd3.onmicrosoft.com",
                  "2": "",
                  "3": "180",
                  "4": "false",
                  "5": "false",
                  "6": "false",
                  "7": "false",
                  "8": "false",
                  "9": "false",
                  "10": "false",
                  "11": "false",
                  "12": "false",
                  "13": "false"
                },
                {
                  "0": "2021-10-04",
                  "1": "davidtaylor44@contosoisd3.onmicrosoft.com",
                  "2": "",
                  "3": "180",
                  "4": "false",
                  "5": "false",
                  "6": "false",
                  "7": "false",
                  "8": "false",
                  "9": "false",
                  "10": "false",
                  "11": "false",
                  "12": "false",
                  "13": "false"
                },
                {
                  "0": "2021-10-04",
                  "1": "justincooper74@contosoisd3.onmicrosoft.com",
                  "2": "",
                  "3": "180",
                  "4": "false",
                  "5": "false",
                  "6": "false",
                  "7": "false",
                  "8": "false",
                  "9": "false",
                  "10": "false",
                  "11": "false",
                  "12": "false",
                  "13": "false"
                },
                {
                  "0": "2021-10-04",
                  "1": "annaalvarado60@contosoisd3.onmicrosoft.com",
                  "2": "",
                  "3": "180",
                  "4": "false",
                  "5": "false",
                  "6": "false",
                  "7": "false",
                  "8": "false",
                  "9": "false",
                  "10": "false",
                  "11": "false",
                  "12": "false",
                  "13": "false"
                },
                {
                  "0": "2021-10-04",
                  "1": "jessicaedwards33@contosoisd3.onmicrosoft.com",
                  "2": "",
                  "3": "180",
                  "4": "false",
                  "5": "false",
                  "6": "false",
                  "7": "false",
                  "8": "false",
                  "9": "false",
                  "10": "false",
                  "11": "false",
                  "12": "false",
                  "13": "false"
                },
                {
                  "0": "2021-10-04",
                  "1": "abigaillong3@contosoisd3.onmicrosoft.com",
                  "2": "",
                  "3": "180",
                  "4": "false",
                  "5": "false",
                  "6": "false",
                  "7": "false",
                  "8": "false",
                  "9": "false",
                  "10": "false",
                  "11": "false",
                  "12": "false",
                  "13": "false"
                }
              ],
              "schema": [
                {
                  "key": "0",
                  "name": "reportRefreshDate",
                  "type": "string"
                },
                {
                  "key": "1",
                  "name": "userPrincipalName",
                  "type": "string"
                },
                {
                  "key": "2",
                  "name": "lastActivityDate",
                  "type": "string"
                },
                {
                  "key": "3",
                  "name": "reportPeriod",
                  "type": "string"
                },
                {
                  "key": "4",
                  "name": "excel",
                  "type": "string"
                },
                {
                  "key": "5",
                  "name": "excelWeb",
                  "type": "string"
                },
                {
                  "key": "6",
                  "name": "outlook",
                  "type": "string"
                },
                {
                  "key": "7",
                  "name": "outlookWeb",
                  "type": "string"
                },
                {
                  "key": "8",
                  "name": "powerPoint",
                  "type": "string"
                },
                {
                  "key": "9",
                  "name": "powerPointWeb",
                  "type": "string"
                },
                {
                  "key": "10",
                  "name": "teams",
                  "type": "string"
                },
                {
                  "key": "11",
                  "name": "teamsWeb",
                  "type": "string"
                },
                {
                  "key": "12",
                  "name": "word",
                  "type": "string"
                },
                {
                  "key": "13",
                  "name": "wordWeb",
                  "type": "string"
                }
              ]
            },
            "isSummary": false,
            "language": "scala"
          },
          "persist_state": {
            "view": {
              "type": "details",
              "tableOptions": {},
              "chartOptions": {
                "chartType": "bar",
                "aggregationType": "count",
                "categoryFieldKeys": [
                  "0"
                ],
                "seriesFieldKeys": [
                  "0"
                ],
                "isStacked": false
              }
            }
          }
        }
      }
    }
  },
  "nbformat": 4,
  "nbformat_minor": 2
}