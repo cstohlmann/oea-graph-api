{
  "cells": [
    {
      "cell_type": "code",
      "source": [
        "from pyspark.sql.types import StructType, StructField, StringType, IntegerType, DoubleType, ArrayType\r\n",
        "from pyspark.sql.functions import *\r\n",
        "from pyspark.sql.window import Window\r\n",
        "from faker import Faker\r\n",
        "import datetime\r\n",
        "\r\n",
        "# data lake and container information\r\n",
        "storage_account = 'stoeahybriddev2'\r\n",
        "use_test_env = False\r\n",
        "\r\n",
        "if use_test_env:\r\n",
        "    stage1np = 'abfss://test-env@' + storage_account + '.dfs.core.windows.net/stage1np'\r\n",
        "    stage2np = 'abfss://test-env@' + storage_account + '.dfs.core.windows.net/stage2np'\r\n",
        "    stage2p = 'abfss://test-env@' + storage_account + '.dfs.core.windows.net/stage2p'\r\n",
        "else:\r\n",
        "    stage1np = 'abfss://stage1np@' + storage_account + '.dfs.core.windows.net'\r\n",
        "    stage2np = 'abfss://stage2np@' + storage_account + '.dfs.core.windows.net'\r\n",
        "    stage2p = 'abfss://stage2p@' + storage_account + '.dfs.core.windows.net'"
      ],
      "outputs": [
        {
          "output_type": "display_data",
          "data": {
            "application/vnd.livy.statement-meta+json": {
              "spark_pool": "spark3p1sm",
              "session_id": 58,
              "statement_id": 12,
              "state": "finished",
              "livy_statement_state": "available",
              "queued_time": "2021-10-11T14:13:15.5338547Z",
              "session_start_time": null,
              "execution_start_time": "2021-10-11T14:13:15.6941079Z",
              "execution_finish_time": "2021-10-11T14:13:15.8501961Z"
            },
            "text/plain": "StatementMeta(spark3p1sm, 58, 12, Finished, Available)"
          },
          "metadata": {}
        }
      ],
      "execution_count": 13,
      "metadata": {}
    },
    {
      "cell_type": "markdown",
      "source": [
        "# User data"
      ],
      "metadata": {
        "nteract": {
          "transient": {
            "deleting": false
          }
        }
      }
    },
    {
      "cell_type": "code",
      "source": [
        "# schemas for each of the JSON files into tables\r\n",
        "user_schema = StructType(fields=[\r\n",
        "    StructField('value', ArrayType(\r\n",
        "        StructType([\r\n",
        "            StructField('surname', StringType(), False),\r\n",
        "            StructField('givenName', StringType(), False),\r\n",
        "            StructField('userPrincipalName', StringType(), False),\r\n",
        "            StructField('id', StringType(), False)\r\n",
        "        ])\r\n",
        "    ))\r\n",
        "])"
      ],
      "outputs": [
        {
          "output_type": "display_data",
          "data": {
            "application/vnd.livy.statement-meta+json": {
              "spark_pool": "spark3p1sm",
              "session_id": 58,
              "statement_id": 13,
              "state": "finished",
              "livy_statement_state": "available",
              "queued_time": "2021-10-11T14:13:15.6441543Z",
              "session_start_time": null,
              "execution_start_time": "2021-10-11T14:13:15.9506942Z",
              "execution_finish_time": "2021-10-11T14:13:16.1190864Z"
            },
            "text/plain": "StatementMeta(spark3p1sm, 58, 13, Finished, Available)"
          },
          "metadata": {}
        }
      ],
      "execution_count": 14,
      "metadata": {
        "jupyter": {
          "source_hidden": false,
          "outputs_hidden": false
        },
        "nteract": {
          "transient": {
            "deleting": false
          }
        }
      }
    },
    {
      "cell_type": "code",
      "source": [
        "# load needed tables from JSON data lake storage\r\n",
        "dfUsersRaw = spark.read.format('json').load(f'{stage1np}/GraphAPI/Users/*.json', schema=user_schema)\r\n",
        "dfUsersRaw.printSchema()"
      ],
      "outputs": [
        {
          "output_type": "display_data",
          "data": {
            "application/vnd.livy.statement-meta+json": {
              "spark_pool": "spark3p1sm",
              "session_id": 58,
              "statement_id": 38,
              "state": "finished",
              "livy_statement_state": "available",
              "queued_time": "2021-10-11T14:43:30.4826821Z",
              "session_start_time": null,
              "execution_start_time": "2021-10-11T14:43:30.5907232Z",
              "execution_finish_time": "2021-10-11T14:43:30.7397595Z"
            },
            "text/plain": "StatementMeta(spark3p1sm, 58, 38, Finished, Available)"
          },
          "metadata": {}
        },
        {
          "output_type": "stream",
          "name": "stdout",
          "text": [
            "root\n |-- value: array (nullable = true)\n |    |-- element: struct (containsNull = true)\n |    |    |-- surname: string (nullable = true)\n |    |    |-- givenName: string (nullable = true)\n |    |    |-- userPrincipalName: string (nullable = true)\n |    |    |-- id: string (nullable = true)"
          ]
        }
      ],
      "execution_count": 39,
      "metadata": {
        "jupyter": {
          "source_hidden": false,
          "outputs_hidden": false
        },
        "nteract": {
          "transient": {
            "deleting": false
          }
        }
      }
    },
    {
      "cell_type": "code",
      "source": [
        "dfUsers = dfUsersRaw.select(explode('value').alias('exploded_values')).select(\"exploded_values.*\")\r\n",
        "print(dfUsers.count())\r\n",
        "# remove all unneeded users, keep contoso only\r\n",
        "dfUsers = dfUsers.filter(~dfUsers.userPrincipalName.contains('#EXT#') & ~dfUsers.userPrincipalName.contains('admin'))\r\n",
        "print(dfUsers.count())\r\n",
        "display(dfUsers.limit(10))"
      ],
      "outputs": [
        {
          "output_type": "display_data",
          "data": {
            "application/vnd.livy.statement-meta+json": {
              "spark_pool": "spark3p1sm",
              "session_id": 58,
              "statement_id": 39,
              "state": "finished",
              "livy_statement_state": "available",
              "queued_time": "2021-10-11T14:43:31.9530564Z",
              "session_start_time": null,
              "execution_start_time": "2021-10-11T14:43:32.0589495Z",
              "execution_finish_time": "2021-10-11T14:43:32.5523953Z"
            },
            "text/plain": "StatementMeta(spark3p1sm, 58, 39, Finished, Available)"
          },
          "metadata": {}
        },
        {
          "output_type": "stream",
          "name": "stdout",
          "text": [
            "0\n0\n"
          ]
        },
        {
          "output_type": "display_data",
          "data": {
            "application/vnd.synapse.widget-view+json": {
              "widget_id": "0d80afcb-8df6-4379-bd6b-daae34fbaa8c",
              "widget_type": "Synapse.DataFrame"
            },
            "text/plain": "SynapseWidget(Synapse.DataFrame, 0d80afcb-8df6-4379-bd6b-daae34fbaa8c)"
          },
          "metadata": {}
        }
      ],
      "execution_count": 40,
      "metadata": {
        "jupyter": {
          "source_hidden": false,
          "outputs_hidden": false
        },
        "nteract": {
          "transient": {
            "deleting": false
          }
        },
        "collapsed": false
      }
    },
    {
      "cell_type": "code",
      "source": [
        "dfUsersStructured = dfUsers.select(\r\n",
        "    array(struct(\r\n",
        "        col(\"surname\"),\r\n",
        "        col(\"givenName\"),\r\n",
        "        col(\"userPrincipalName\"),\r\n",
        "        col(\"id\")\r\n",
        "    )).alias(\"value\")\r\n",
        ")"
      ],
      "outputs": [
        {
          "output_type": "display_data",
          "data": {
            "application/vnd.livy.statement-meta+json": {
              "spark_pool": "spark3p1sm",
              "session_id": 58,
              "statement_id": 16,
              "state": "finished",
              "livy_statement_state": "available",
              "queued_time": "2021-10-11T14:13:16.3845851Z",
              "session_start_time": null,
              "execution_start_time": "2021-10-11T14:13:27.516064Z",
              "execution_finish_time": "2021-10-11T14:13:27.6975065Z"
            },
            "text/plain": "StatementMeta(spark3p1sm, 58, 16, Finished, Available)"
          },
          "metadata": {}
        }
      ],
      "execution_count": 17,
      "metadata": {
        "jupyter": {
          "source_hidden": false,
          "outputs_hidden": false
        },
        "nteract": {
          "transient": {
            "deleting": false
          }
        }
      }
    },
    {
      "cell_type": "code",
      "source": [
        "dfUsersStructured.write.format(\"org.apache.spark.sql.json\").mode(\"overwrite\").save(stage1np + '/temp/Users/')"
      ],
      "outputs": [
        {
          "output_type": "display_data",
          "data": {
            "application/vnd.livy.statement-meta+json": {
              "spark_pool": "spark3p1sm",
              "session_id": 58,
              "statement_id": 17,
              "state": "finished",
              "livy_statement_state": "available",
              "queued_time": "2021-10-11T14:13:16.7066831Z",
              "session_start_time": null,
              "execution_start_time": "2021-10-11T14:13:27.8009278Z",
              "execution_finish_time": "2021-10-11T14:13:29.6237486Z"
            },
            "text/plain": "StatementMeta(spark3p1sm, 58, 17, Finished, Available)"
          },
          "metadata": {}
        }
      ],
      "execution_count": 18,
      "metadata": {
        "jupyter": {
          "source_hidden": false,
          "outputs_hidden": false
        },
        "nteract": {
          "transient": {
            "deleting": false
          }
        }
      }
    },
    {
      "cell_type": "code",
      "source": [
        "dfUsersGenLoad = spark.read.format('json').load(f'{stage1np}/temp/Users/*.json', schema=user_schema)\r\n",
        "dfUsersGenLoad.printSchema()\r\n",
        "dfUsersGen = dfUsersGenLoad.select(explode('value').alias('exploded_values')).select(\"exploded_values.*\")\r\n",
        "print(dfUsersGen.count())\r\n",
        "display(dfUsersGen.limit(10))"
      ],
      "outputs": [
        {
          "output_type": "display_data",
          "data": {
            "application/vnd.livy.statement-meta+json": {
              "spark_pool": "spark3p1sm",
              "session_id": 58,
              "statement_id": 18,
              "state": "finished",
              "livy_statement_state": "available",
              "queued_time": "2021-10-11T14:13:16.8576491Z",
              "session_start_time": null,
              "execution_start_time": "2021-10-11T14:13:29.7302242Z",
              "execution_finish_time": "2021-10-11T14:13:31.5684714Z"
            },
            "text/plain": "StatementMeta(spark3p1sm, 58, 18, Finished, Available)"
          },
          "metadata": {}
        },
        {
          "output_type": "stream",
          "name": "stdout",
          "text": [
            "root\n |-- value: array (nullable = true)\n |    |-- element: struct (containsNull = true)\n |    |    |-- surname: string (nullable = true)\n |    |    |-- givenName: string (nullable = true)\n |    |    |-- userPrincipalName: string (nullable = true)\n |    |    |-- id: string (nullable = true)\n\n77\n"
          ]
        },
        {
          "output_type": "display_data",
          "data": {
            "application/vnd.synapse.widget-view+json": {
              "widget_id": "3f0febc1-551b-4f1f-9196-7d97a03ec639",
              "widget_type": "Synapse.DataFrame"
            },
            "text/plain": "SynapseWidget(Synapse.DataFrame, 3f0febc1-551b-4f1f-9196-7d97a03ec639)"
          },
          "metadata": {}
        }
      ],
      "execution_count": 19,
      "metadata": {
        "jupyter": {
          "source_hidden": false,
          "outputs_hidden": false
        },
        "nteract": {
          "transient": {
            "deleting": false
          }
        }
      }
    },
    {
      "cell_type": "markdown",
      "source": [
        "# M365 data"
      ],
      "metadata": {
        "nteract": {
          "transient": {
            "deleting": false
          }
        }
      }
    },
    {
      "cell_type": "code",
      "source": [
        "\r\n",
        "m365_app_user_details_schema = StructType(fields=[\r\n",
        "    StructField('value', ArrayType(\r\n",
        "        StructType([\r\n",
        "            StructField('reportRefreshDate', StringType(), False),\r\n",
        "            StructField('userPrincipalName', StringType(), False),\r\n",
        "            StructField('lastActivityDate', StringType(), False),\r\n",
        "            StructField('details', ArrayType(\r\n",
        "                StructType([\r\n",
        "                    StructField('reportPeriod', StringType(), False),\r\n",
        "                    StructField('excel', StringType(), False),\r\n",
        "                    StructField('excelWeb', StringType(), False),\r\n",
        "                    StructField('outlook', StringType(), False),\r\n",
        "                    StructField('outlookWeb', StringType(), False),\r\n",
        "                    StructField('powerPoint', StringType(), False),\r\n",
        "                    StructField('powerPointWeb', StringType(), False),\r\n",
        "                    StructField('teams', StringType(), False),\r\n",
        "                    StructField('teamsWeb', StringType(), False),\r\n",
        "                    StructField('word', StringType(), False),\r\n",
        "                    StructField('wordWeb', StringType(), False),\r\n",
        "                ])\r\n",
        "            ))\r\n",
        "        ])\r\n",
        "    ))\r\n",
        "])"
      ],
      "outputs": [
        {
          "output_type": "display_data",
          "data": {
            "application/vnd.livy.statement-meta+json": {
              "spark_pool": "spark3p1sm",
              "session_id": 58,
              "statement_id": 19,
              "state": "finished",
              "livy_statement_state": "available",
              "queued_time": "2021-10-11T14:13:17.1521687Z",
              "session_start_time": null,
              "execution_start_time": "2021-10-11T14:13:31.6872029Z",
              "execution_finish_time": "2021-10-11T14:13:31.8424123Z"
            },
            "text/plain": "StatementMeta(spark3p1sm, 58, 19, Finished, Available)"
          },
          "metadata": {}
        }
      ],
      "execution_count": 20,
      "metadata": {
        "jupyter": {
          "source_hidden": false,
          "outputs_hidden": false
        },
        "nteract": {
          "transient": {
            "deleting": false
          }
        }
      }
    },
    {
      "cell_type": "code",
      "source": [
        "# load needed tables from JSON data lake storage\r\n",
        "dfM365UserActivityRaw = spark.read.format('json').load(f'{stage1np}/GraphAPI/M365_App_User_Detail/*.json', schema=m365_app_user_details_schema)"
      ],
      "outputs": [
        {
          "output_type": "display_data",
          "data": {
            "application/vnd.livy.statement-meta+json": {
              "spark_pool": "spark3p1sm",
              "session_id": 58,
              "statement_id": 20,
              "state": "finished",
              "livy_statement_state": "available",
              "queued_time": "2021-10-11T14:13:17.2649012Z",
              "session_start_time": null,
              "execution_start_time": "2021-10-11T14:13:31.9451361Z",
              "execution_finish_time": "2021-10-11T14:13:32.1049897Z"
            },
            "text/plain": "StatementMeta(spark3p1sm, 58, 20, Finished, Available)"
          },
          "metadata": {}
        }
      ],
      "execution_count": 21,
      "metadata": {
        "jupyter": {
          "source_hidden": false,
          "outputs_hidden": false
        },
        "nteract": {
          "transient": {
            "deleting": false
          }
        }
      }
    },
    {
      "cell_type": "code",
      "source": [
        "dfM365UserActivity = dfM365UserActivityRaw.select(explode('value').alias('exploded_values')).select(\"exploded_values.*\")\r\n",
        "dfM365UserActivity = dfM365UserActivity.withColumn('reportPeriod', explode(col('details').reportPeriod)) \\\r\n",
        "                        .withColumn('excel', explode(col('details').excel)) \\\r\n",
        "                        .withColumn('excelWeb', explode(col('details').excelWeb)) \\\r\n",
        "                        .withColumn('outlook', explode(col('details').outlook)) \\\r\n",
        "                        .withColumn('outlookWeb', explode(col('details').outlookWeb)) \\\r\n",
        "                        .withColumn('powerPoint', explode(col('details').powerPoint)) \\\r\n",
        "                        .withColumn('powerPointWeb', explode(col('details').powerPointWeb)) \\\r\n",
        "                        .withColumn('teams', explode(col('details').teams)) \\\r\n",
        "                        .withColumn('teamsWeb', explode(col('details').teamsWeb)) \\\r\n",
        "                        .withColumn('word', explode(col('details').word)) \\\r\n",
        "                        .withColumn('wordWeb', explode(col('details').wordWeb)) \\\r\n",
        "                        .drop('details')\r\n",
        "display(dfM365UserActivity.limit(10))"
      ],
      "outputs": [
        {
          "output_type": "display_data",
          "data": {
            "application/vnd.livy.statement-meta+json": {
              "spark_pool": "spark3p1sm",
              "session_id": 58,
              "statement_id": 21,
              "state": "finished",
              "livy_statement_state": "available",
              "queued_time": "2021-10-11T14:13:17.3831035Z",
              "session_start_time": null,
              "execution_start_time": "2021-10-11T14:13:32.2113134Z",
              "execution_finish_time": "2021-10-11T14:13:47.2459411Z"
            },
            "text/plain": "StatementMeta(spark3p1sm, 58, 21, Finished, Available)"
          },
          "metadata": {}
        },
        {
          "output_type": "display_data",
          "data": {
            "application/vnd.synapse.widget-view+json": {
              "widget_id": "4c0c5cd8-b848-4eac-bd9b-822541cd7d56",
              "widget_type": "Synapse.DataFrame"
            },
            "text/plain": "SynapseWidget(Synapse.DataFrame, 4c0c5cd8-b848-4eac-bd9b-822541cd7d56)"
          },
          "metadata": {}
        }
      ],
      "execution_count": 22,
      "metadata": {
        "jupyter": {
          "source_hidden": false,
          "outputs_hidden": false
        },
        "nteract": {
          "transient": {
            "deleting": false
          }
        },
        "collapsed": false
      }
    },
    {
      "cell_type": "code",
      "source": [
        "num_of_users = dfUsersGen.count()\r\n",
        "users = dfUsersGen.select('userPrincipalName').collect()\r\n",
        "num_weeks = 10\r\n",
        "\r\n",
        "m365schema = StructType(fields=[\r\n",
        "    StructField('reportRefreshDate', StringType(), False),\r\n",
        "    StructField('userPrincipalName', StringType(), False),\r\n",
        "    StructField('lastActivityDate', StringType(), False),\r\n",
        "    StructField('reportPeriod', StringType(), False),\r\n",
        "    StructField('excel', StringType(), False),\r\n",
        "    StructField('excelWeb', StringType(), False),\r\n",
        "    StructField('outlook', StringType(), False),\r\n",
        "    StructField('outlookWeb', StringType(), False),\r\n",
        "    StructField('powerPoint', StringType(), False),\r\n",
        "    StructField('powerPointWeb', StringType(), False),\r\n",
        "    StructField('teams', StringType(), False),\r\n",
        "    StructField('teamsWeb', StringType(), False),\r\n",
        "    StructField('word', StringType(), False),\r\n",
        "    StructField('wordWeb', StringType(), False)\r\n",
        "    ])\r\n",
        "\r\n",
        "dfM365Gen = spark.createDataFrame([], m365schema)\r\n",
        "\r\n",
        "today = datetime.datetime.now()\r\n",
        "\r\n",
        "for m in range(num_weeks):\r\n",
        "    weeks = datetime.timedelta(days=7*m)\r\n",
        "    date = today - weeks\r\n",
        "    date = date.strftime('%Y-%m-%d')\r\n",
        "    for n in range(num_of_users):\r\n",
        "        user = users[n][0]\r\n",
        "        newRow = spark.createDataFrame([(date,'user',date,'7','true','true','true','true','true','true','true','true','true','true')])\r\n",
        "        \r\n",
        "        dfM365Gen = dfM365Gen.union(newRow)\r\n",
        "\r\n",
        "dfM365Gen = dfM365Gen.withColumn('excel', when(rand() > 0.3, \"true\").otherwise(\"false\")).withColumn('excelWeb', when(rand() > 0.7, \"true\").otherwise(\"false\")).withColumn('outlook', when(rand() > 0.9, \"true\").otherwise(\"false\")).withColumn('outlookWeb', when(rand() > 0.1, \"true\").otherwise(\"false\")).withColumn('powerPoint', when(rand() > 0.7, \"true\").otherwise(\"false\")).withColumn('powerPointWeb', when(rand() > 0.9, \"true\").otherwise(\"false\")).withColumn('teams', when(rand() > 0.1, \"true\").otherwise(\"false\")).withColumn('teamsWeb', when(rand() > 0.3, \"true\").otherwise(\"false\")).withColumn('word', when(rand() > 0.4, \"true\").otherwise(\"false\")).withColumn('wordWeb', when(rand() > 0.7, \"true\").otherwise(\"false\"))\r\n",
        "\r\n",
        "display(dfM365Gen.limit(10))"
      ],
      "outputs": [
        {
          "output_type": "display_data",
          "data": {
            "application/vnd.livy.statement-meta+json": {
              "spark_pool": "spark3p1sm",
              "session_id": 58,
              "statement_id": 22,
              "state": "finished",
              "livy_statement_state": "available",
              "queued_time": "2021-10-11T14:13:17.5011434Z",
              "session_start_time": null,
              "execution_start_time": "2021-10-11T14:13:48.4935273Z",
              "execution_finish_time": "2021-10-11T14:18:16.9966706Z"
            },
            "text/plain": "StatementMeta(spark3p1sm, 58, 22, Finished, Available)"
          },
          "metadata": {}
        },
        {
          "output_type": "display_data",
          "data": {
            "application/vnd.synapse.widget-view+json": {
              "widget_id": "49336244-d97e-4e29-910a-3453cee61e1c",
              "widget_type": "Synapse.DataFrame"
            },
            "text/plain": "SynapseWidget(Synapse.DataFrame, 49336244-d97e-4e29-910a-3453cee61e1c)"
          },
          "metadata": {}
        }
      ],
      "execution_count": 23,
      "metadata": {
        "jupyter": {
          "source_hidden": false,
          "outputs_hidden": false
        },
        "nteract": {
          "transient": {
            "deleting": false
          }
        },
        "collapsed": false
      }
    },
    {
      "cell_type": "code",
      "source": [
        "dfM365UserActivityStructured = dfM365Gen.select(\r\n",
        "    array(struct(\r\n",
        "        col(\"reportRefreshDate\"),\r\n",
        "        col(\"userPrincipalName\"),\r\n",
        "        col(\"lastActivityDate\"),\r\n",
        "        array(struct(\r\n",
        "            col(\"reportPeriod\"),\r\n",
        "            col(\"excel\"),col(\"excelWeb\"),\r\n",
        "            col(\"outlook\"),col(\"outlookWeb\"),\r\n",
        "            col(\"powerPoint\"),col(\"powerPointWeb\"),\r\n",
        "            col(\"teams\"),col(\"teamsWeb\"),\r\n",
        "            col(\"word\"),col(\"wordWeb\")\r\n",
        "        )).alias(\"details\")        \r\n",
        "    )).alias(\"value\")\r\n",
        ")"
      ],
      "outputs": [
        {
          "output_type": "display_data",
          "data": {
            "application/vnd.livy.statement-meta+json": {
              "spark_pool": "spark3p1sm",
              "session_id": 58,
              "statement_id": 23,
              "state": "finished",
              "livy_statement_state": "available",
              "queued_time": "2021-10-11T14:13:17.5985452Z",
              "session_start_time": null,
              "execution_start_time": "2021-10-11T14:18:17.1780143Z",
              "execution_finish_time": "2021-10-11T14:18:17.3340778Z"
            },
            "text/plain": "StatementMeta(spark3p1sm, 58, 23, Finished, Available)"
          },
          "metadata": {}
        }
      ],
      "execution_count": 24,
      "metadata": {
        "jupyter": {
          "source_hidden": false,
          "outputs_hidden": false
        },
        "nteract": {
          "transient": {
            "deleting": false
          }
        }
      }
    },
    {
      "cell_type": "code",
      "source": [
        "dfM365UserActivityStructured.write.format(\"org.apache.spark.sql.json\").mode(\"overwrite\").save(stage1np + '/temp/M365/')"
      ],
      "outputs": [
        {
          "output_type": "display_data",
          "data": {
            "application/vnd.livy.statement-meta+json": {
              "spark_pool": "spark3p1sm",
              "session_id": 58,
              "statement_id": 24,
              "state": "finished",
              "livy_statement_state": "available",
              "queued_time": "2021-10-11T14:13:17.6953279Z",
              "session_start_time": null,
              "execution_start_time": "2021-10-11T14:18:17.4379484Z",
              "execution_finish_time": "2021-10-11T14:21:28.778478Z"
            },
            "text/plain": "StatementMeta(spark3p1sm, 58, 24, Finished, Available)"
          },
          "metadata": {}
        }
      ],
      "execution_count": 25,
      "metadata": {
        "jupyter": {
          "source_hidden": false,
          "outputs_hidden": false
        },
        "nteract": {
          "transient": {
            "deleting": false
          }
        }
      }
    },
    {
      "cell_type": "code",
      "source": [
        "dfM365GenLoad = spark.read.format('json').load(f'{stage1np}/temp/M365/*.json', schema=m365_app_user_details_schema)\r\n",
        "dfM365GenLoad.printSchema()\r\n",
        "dfM365Gen = dfM365GenLoad.select(explode('value').alias('exploded_values')).select(\"exploded_values.*\")\r\n",
        "dfM365Gen = dfM365Gen.withColumn('reportPeriod', explode(col('details').reportPeriod)) \\\r\n",
        "                        .withColumn('excel', explode(col('details').excel)) \\\r\n",
        "                        .withColumn('excelWeb', explode(col('details').excelWeb)) \\\r\n",
        "                        .withColumn('outlook', explode(col('details').outlook)) \\\r\n",
        "                        .withColumn('outlookWeb', explode(col('details').outlookWeb)) \\\r\n",
        "                        .withColumn('powerPoint', explode(col('details').powerPoint)) \\\r\n",
        "                        .withColumn('powerPointWeb', explode(col('details').powerPointWeb)) \\\r\n",
        "                        .withColumn('teams', explode(col('details').teams)) \\\r\n",
        "                        .withColumn('teamsWeb', explode(col('details').teamsWeb)) \\\r\n",
        "                        .withColumn('word', explode(col('details').word)) \\\r\n",
        "                        .withColumn('wordWeb', explode(col('details').wordWeb)) \\\r\n",
        "                        .drop('details')\r\n",
        "print(dfM365Gen.count())\r\n",
        "display(dfM365Gen.limit(10))"
      ],
      "outputs": [
        {
          "output_type": "display_data",
          "data": {
            "application/vnd.livy.statement-meta+json": {
              "spark_pool": "spark3p1sm",
              "session_id": 58,
              "statement_id": 25,
              "state": "finished",
              "livy_statement_state": "available",
              "queued_time": "2021-10-11T14:13:17.7974454Z",
              "session_start_time": null,
              "execution_start_time": "2021-10-11T14:21:28.9087812Z",
              "execution_finish_time": "2021-10-11T14:21:37.9820134Z"
            },
            "text/plain": "StatementMeta(spark3p1sm, 58, 25, Finished, Available)"
          },
          "metadata": {}
        },
        {
          "output_type": "stream",
          "name": "stdout",
          "text": [
            "root\n |-- value: array (nullable = true)\n |    |-- element: struct (containsNull = true)\n |    |    |-- reportRefreshDate: string (nullable = true)\n |    |    |-- userPrincipalName: string (nullable = true)\n |    |    |-- lastActivityDate: string (nullable = true)\n |    |    |-- details: array (nullable = true)\n |    |    |    |-- element: struct (containsNull = true)\n |    |    |    |    |-- reportPeriod: string (nullable = true)\n |    |    |    |    |-- excel: string (nullable = true)\n |    |    |    |    |-- excelWeb: string (nullable = true)\n |    |    |    |    |-- outlook: string (nullable = true)\n |    |    |    |    |-- outlookWeb: string (nullable = true)\n |    |    |    |    |-- powerPoint: string (nullable = true)\n |    |    |    |    |-- powerPointWeb: string (nullable = true)\n |    |    |    |    |-- teams: string (nullable = true)\n |    |    |    |    |-- teamsWeb: string (nullable = true)\n |    |    |    |    |-- word: string (nullable = true)\n |    |    |    |    |-- wordWeb: string (nullable = true)\n\n770\n"
          ]
        },
        {
          "output_type": "display_data",
          "data": {
            "application/vnd.synapse.widget-view+json": {
              "widget_id": "92903d68-6132-44a3-be59-c5762b682042",
              "widget_type": "Synapse.DataFrame"
            },
            "text/plain": "SynapseWidget(Synapse.DataFrame, 92903d68-6132-44a3-be59-c5762b682042)"
          },
          "metadata": {}
        }
      ],
      "execution_count": 26,
      "metadata": {
        "jupyter": {
          "source_hidden": false,
          "outputs_hidden": false
        },
        "nteract": {
          "transient": {
            "deleting": false
          }
        }
      }
    },
    {
      "cell_type": "markdown",
      "source": [
        "# Teams Activity"
      ],
      "metadata": {
        "nteract": {
          "transient": {
            "deleting": false
          }
        }
      }
    },
    {
      "cell_type": "code",
      "source": [
        "\r\n",
        "teams_activity_user_details_schema = StructType(fields=[\r\n",
        "    StructField('value', ArrayType(\r\n",
        "        StructType([\r\n",
        "            StructField('reportRefreshDate', StringType(), False),\r\n",
        "            StructField('reportPeriod', StringType(), False),\r\n",
        "            StructField('userPrincipalName', StringType(), False),\r\n",
        "            StructField('privateChatMessageCount', IntegerType(), False),\r\n",
        "            StructField('teamChatMessageCount', IntegerType(), False),\r\n",
        "            StructField('meetingsAttendedCount', IntegerType(), False),\r\n",
        "            StructField('meetingCount', IntegerType(), False),\r\n",
        "            StructField('audioDuration', StringType(), False),\r\n",
        "            StructField('videoDuration', StringType(), False)\r\n",
        "        ])\r\n",
        "    ))\r\n",
        "])"
      ],
      "outputs": [
        {
          "output_type": "display_data",
          "data": {
            "application/vnd.livy.statement-meta+json": {
              "spark_pool": "spark3p1sm",
              "session_id": 58,
              "statement_id": 26,
              "state": "finished",
              "livy_statement_state": "available",
              "queued_time": "2021-10-11T14:13:17.8972653Z",
              "session_start_time": null,
              "execution_start_time": "2021-10-11T14:21:38.0904006Z",
              "execution_finish_time": "2021-10-11T14:21:38.2398041Z"
            },
            "text/plain": "StatementMeta(spark3p1sm, 58, 26, Finished, Available)"
          },
          "metadata": {}
        }
      ],
      "execution_count": 27,
      "metadata": {
        "jupyter": {
          "source_hidden": false,
          "outputs_hidden": false
        },
        "nteract": {
          "transient": {
            "deleting": false
          }
        }
      }
    },
    {
      "cell_type": "code",
      "source": [
        "# load needed tables from JSON data lake storage\r\n",
        "dfTeamsUserActivityRaw = spark.read.format('json').load(f'{stage1np}/GraphAPI/Teams_Activity_User_Detail/*.json', schema=teams_activity_user_details_schema)"
      ],
      "outputs": [
        {
          "output_type": "display_data",
          "data": {
            "application/vnd.livy.statement-meta+json": {
              "spark_pool": "spark3p1sm",
              "session_id": 58,
              "statement_id": 27,
              "state": "finished",
              "livy_statement_state": "available",
              "queued_time": "2021-10-11T14:13:18.0291594Z",
              "session_start_time": null,
              "execution_start_time": "2021-10-11T14:21:38.3333138Z",
              "execution_finish_time": "2021-10-11T14:21:38.845623Z"
            },
            "text/plain": "StatementMeta(spark3p1sm, 58, 27, Finished, Available)"
          },
          "metadata": {}
        }
      ],
      "execution_count": 28,
      "metadata": {
        "jupyter": {
          "source_hidden": false,
          "outputs_hidden": false
        },
        "nteract": {
          "transient": {
            "deleting": false
          }
        }
      }
    },
    {
      "cell_type": "code",
      "source": [
        "dfTeamsUserActivity = dfTeamsUserActivityRaw.select(explode('value').alias('exploded_values')).select(\"exploded_values.*\")\r\n",
        "display(dfTeamsUserActivity.limit(10))"
      ],
      "outputs": [
        {
          "output_type": "display_data",
          "data": {
            "application/vnd.livy.statement-meta+json": {
              "spark_pool": "spark3p1sm",
              "session_id": 58,
              "statement_id": 28,
              "state": "finished",
              "livy_statement_state": "available",
              "queued_time": "2021-10-11T14:13:18.1247883Z",
              "session_start_time": null,
              "execution_start_time": "2021-10-11T14:21:38.9463757Z",
              "execution_finish_time": "2021-10-11T14:21:40.0233099Z"
            },
            "text/plain": "StatementMeta(spark3p1sm, 58, 28, Finished, Available)"
          },
          "metadata": {}
        },
        {
          "output_type": "display_data",
          "data": {
            "application/vnd.synapse.widget-view+json": {
              "widget_id": "a5148b3c-7c29-49e7-984f-f537ed23fea7",
              "widget_type": "Synapse.DataFrame"
            },
            "text/plain": "SynapseWidget(Synapse.DataFrame, a5148b3c-7c29-49e7-984f-f537ed23fea7)"
          },
          "metadata": {}
        }
      ],
      "execution_count": 29,
      "metadata": {
        "jupyter": {
          "source_hidden": false,
          "outputs_hidden": false
        },
        "nteract": {
          "transient": {
            "deleting": false
          }
        },
        "collapsed": false
      }
    },
    {
      "cell_type": "code",
      "source": [
        "num_of_users = dfUsersGen.count()\r\n",
        "users = dfUsersGen.select('userPrincipalName').collect()\r\n",
        "num_weeks = 10\r\n",
        "\r\n",
        "teamsSchema = StructType(fields=[\r\n",
        "     StructField('reportRefreshDate', StringType(), False),\r\n",
        "            StructField('reportPeriod', StringType(), False),\r\n",
        "            StructField('userPrincipalName', StringType(), False),\r\n",
        "            StructField('privateChatMessageCount', IntegerType(), False),\r\n",
        "            StructField('teamChatMessageCount', IntegerType(), False),\r\n",
        "            StructField('meetingsAttendedCount', IntegerType(), False),\r\n",
        "            StructField('meetingCount', IntegerType(), False),\r\n",
        "            StructField('audioDuration', StringType(), False),\r\n",
        "            StructField('videoDuration', StringType(), False)\r\n",
        "    ])\r\n",
        "\r\n",
        "dfTeamsGen = spark.createDataFrame([], teamsSchema)\r\n",
        "\r\n",
        "today = datetime.datetime.now()\r\n",
        "\r\n",
        "for m in range(num_weeks):\r\n",
        "    weeks = datetime.timedelta(days=7*m)\r\n",
        "    date = today - weeks\r\n",
        "    date = date.strftime('%Y-%m-%d')\r\n",
        "    for n in range(num_of_users):\r\n",
        "        user = users[n][0]\r\n",
        "        newRow = spark.createDataFrame([(date,'7','user',0,0,0,0,\"PT0S\",\"PT0S\")])\r\n",
        "        dfTeamsGen = dfTeamsGen.union(newRow)\r\n",
        "\r\n",
        "dfTeamsGen = dfTeamsGen.withColumn('privateChatMessageCount', ceil(rand()*10)).withColumn('meetingsAttendedCount', ceil(rand()*10)).withColumn('meetingCount', ceil(rand()*10)) #.withColumn('audioDuration', datetime.timedelta(seconds=100)).withColumn('videoDuration', datetime.timedelta(seconds=100))\r\n",
        "display(dfTeamsGen.limit(10))"
      ],
      "outputs": [
        {
          "output_type": "display_data",
          "data": {
            "application/vnd.livy.statement-meta+json": {
              "spark_pool": "spark3p1sm",
              "session_id": 58,
              "statement_id": 29,
              "state": "finished",
              "livy_statement_state": "available",
              "queued_time": "2021-10-11T14:13:18.2228079Z",
              "session_start_time": null,
              "execution_start_time": "2021-10-11T14:21:40.1384893Z",
              "execution_finish_time": "2021-10-11T14:26:14.7394312Z"
            },
            "text/plain": "StatementMeta(spark3p1sm, 58, 29, Finished, Available)"
          },
          "metadata": {}
        },
        {
          "output_type": "display_data",
          "data": {
            "application/vnd.synapse.widget-view+json": {
              "widget_id": "bd35c9e2-4f0f-4c11-9ab0-878f9e79f378",
              "widget_type": "Synapse.DataFrame"
            },
            "text/plain": "SynapseWidget(Synapse.DataFrame, bd35c9e2-4f0f-4c11-9ab0-878f9e79f378)"
          },
          "metadata": {}
        }
      ],
      "execution_count": 30,
      "metadata": {
        "jupyter": {
          "source_hidden": false,
          "outputs_hidden": false
        },
        "nteract": {
          "transient": {
            "deleting": false
          }
        },
        "collapsed": false
      }
    },
    {
      "cell_type": "code",
      "source": [
        "dfTeamsActivityStructured = dfTeamsGen.select(\r\n",
        "    array(struct(\r\n",
        "        col(\"reportRefreshDate\"),\r\n",
        "        col(\"reportPeriod\"),\r\n",
        "        col(\"userPrincipalName\"),        \r\n",
        "        col(\"privateChatMessageCount\"),        \r\n",
        "        col(\"teamChatMessageCount\"),        \r\n",
        "        col(\"meetingsAttendedCount\"),        \r\n",
        "        col(\"meetingCount\"),        \r\n",
        "        col(\"audioDuration\"),        \r\n",
        "        col(\"videoDuration\"),        \r\n",
        "    )).alias(\"value\"))"
      ],
      "outputs": [
        {
          "output_type": "display_data",
          "data": {
            "application/vnd.livy.statement-meta+json": {
              "spark_pool": "spark3p1sm",
              "session_id": 58,
              "statement_id": 30,
              "state": "finished",
              "livy_statement_state": "available",
              "queued_time": "2021-10-11T14:13:18.3302397Z",
              "session_start_time": null,
              "execution_start_time": "2021-10-11T14:26:14.9639606Z",
              "execution_finish_time": "2021-10-11T14:26:15.1133093Z"
            },
            "text/plain": "StatementMeta(spark3p1sm, 58, 30, Finished, Available)"
          },
          "metadata": {}
        }
      ],
      "execution_count": 31,
      "metadata": {
        "jupyter": {
          "source_hidden": false,
          "outputs_hidden": false
        },
        "nteract": {
          "transient": {
            "deleting": false
          }
        }
      }
    },
    {
      "cell_type": "code",
      "source": [
        "dfTeamsActivityStructured.write.format(\"org.apache.spark.sql.json\").mode(\"overwrite\").save(stage1np + '/temp/Teams/')"
      ],
      "outputs": [
        {
          "output_type": "display_data",
          "data": {
            "application/vnd.livy.statement-meta+json": {
              "spark_pool": "spark3p1sm",
              "session_id": 58,
              "statement_id": 31,
              "state": "finished",
              "livy_statement_state": "available",
              "queued_time": "2021-10-11T14:13:18.4235787Z",
              "session_start_time": null,
              "execution_start_time": "2021-10-11T14:26:15.2100739Z",
              "execution_finish_time": "2021-10-11T14:29:30.9276425Z"
            },
            "text/plain": "StatementMeta(spark3p1sm, 58, 31, Finished, Available)"
          },
          "metadata": {}
        }
      ],
      "execution_count": 32,
      "metadata": {
        "jupyter": {
          "source_hidden": false,
          "outputs_hidden": false
        },
        "nteract": {
          "transient": {
            "deleting": false
          }
        }
      }
    },
    {
      "cell_type": "code",
      "source": [
        "dfTeamsGenLoad = spark.read.format('json').load(f'{stage1np}/temp/Teams/*.json', schema=teams_activity_user_details_schema)\r\n",
        "dfTeamsGenLoad.printSchema()\r\n",
        "dfTeamsGen = dfTeamsGenLoad.select(explode('value').alias('exploded_values')).select(\"exploded_values.*\")\r\n",
        "print(dfTeamsGen.count())\r\n",
        "display(dfTeamsGen.limit(10))"
      ],
      "outputs": [
        {
          "output_type": "display_data",
          "data": {
            "application/vnd.livy.statement-meta+json": {
              "spark_pool": "spark3p1sm",
              "session_id": 58,
              "statement_id": 32,
              "state": "finished",
              "livy_statement_state": "available",
              "queued_time": "2021-10-11T14:13:18.5223783Z",
              "session_start_time": null,
              "execution_start_time": "2021-10-11T14:29:31.0623542Z",
              "execution_finish_time": "2021-10-11T14:29:38.0972788Z"
            },
            "text/plain": "StatementMeta(spark3p1sm, 58, 32, Finished, Available)"
          },
          "metadata": {}
        },
        {
          "output_type": "stream",
          "name": "stdout",
          "text": [
            "root\n |-- value: array (nullable = true)\n |    |-- element: struct (containsNull = true)\n |    |    |-- reportRefreshDate: string (nullable = true)\n |    |    |-- reportPeriod: string (nullable = true)\n |    |    |-- userPrincipalName: string (nullable = true)\n |    |    |-- privateChatMessageCount: integer (nullable = true)\n |    |    |-- teamChatMessageCount: integer (nullable = true)\n |    |    |-- meetingsAttendedCount: integer (nullable = true)\n |    |    |-- meetingCount: integer (nullable = true)\n |    |    |-- audioDuration: string (nullable = true)\n |    |    |-- videoDuration: string (nullable = true)\n\n770\n"
          ]
        },
        {
          "output_type": "display_data",
          "data": {
            "application/vnd.synapse.widget-view+json": {
              "widget_id": "c208f65d-3e57-4c1a-bb43-58e48adfb39d",
              "widget_type": "Synapse.DataFrame"
            },
            "text/plain": "SynapseWidget(Synapse.DataFrame, c208f65d-3e57-4c1a-bb43-58e48adfb39d)"
          },
          "metadata": {}
        }
      ],
      "execution_count": 33,
      "metadata": {
        "jupyter": {
          "source_hidden": false,
          "outputs_hidden": false
        },
        "nteract": {
          "transient": {
            "deleting": false
          }
        }
      }
    },
    {
      "cell_type": "markdown",
      "source": [
        "# Move data to production"
      ],
      "metadata": {
        "nteract": {
          "transient": {
            "deleting": false
          }
        }
      }
    },
    {
      "cell_type": "code",
      "source": [
        "dfUsersGenLoad.write.format(\"org.apache.spark.sql.json\").mode(\"overwrite\").save(stage1np + '/GraphAPI/Users/')\r\n",
        "dfM365GenLoad.write.format(\"org.apache.spark.sql.json\").mode(\"overwrite\").save(stage1np + '/GraphAPI/M365_App_User_Detail/')\r\n",
        "dfTeamsGenLoad.write.format(\"org.apache.spark.sql.json\").mode(\"overwrite\").save(stage1np + '/GraphAPI/Teams_Activity_User_Detail/')"
      ],
      "outputs": [
        {
          "output_type": "display_data",
          "data": {
            "application/vnd.livy.statement-meta+json": {
              "spark_pool": "spark3p1sm",
              "session_id": 58,
              "statement_id": 40,
              "state": "finished",
              "livy_statement_state": "available",
              "queued_time": "2021-10-11T14:44:57.1376956Z",
              "session_start_time": null,
              "execution_start_time": "2021-10-11T14:44:57.2432303Z",
              "execution_finish_time": "2021-10-11T14:45:07.7839655Z"
            },
            "text/plain": "StatementMeta(spark3p1sm, 58, 40, Finished, Available)"
          },
          "metadata": {}
        }
      ],
      "execution_count": 41,
      "metadata": {
        "jupyter": {
          "source_hidden": false,
          "outputs_hidden": false
        },
        "nteract": {
          "transient": {
            "deleting": false
          }
        }
      }
    },
    {
      "cell_type": "code",
      "source": [],
      "outputs": [],
      "execution_count": null,
      "metadata": {
        "jupyter": {
          "source_hidden": false,
          "outputs_hidden": false
        },
        "nteract": {
          "transient": {
            "deleting": false
          }
        }
      }
    }
  ],
  "metadata": {
    "kernelspec": {
      "name": "synapse_pyspark",
      "language": "Python",
      "display_name": "Synapse PySpark"
    },
    "language_info": {
      "name": "python"
    },
    "kernel_info": {
      "name": "synapse_pyspark"
    },
    "save_output": true,
    "synapse_widget": {
      "version": "0.1",
      "state": {
        "3f0febc1-551b-4f1f-9196-7d97a03ec639": {
          "type": "Synapse.DataFrame",
          "sync_state": {
            "table": {
              "rows": [
                {
                  "0": "Long",
                  "1": "Abigail",
                  "2": "abigaillong3@contosoisd3.onmicrosoft.com",
                  "3": "0d444980-3123-46f4-85d3-6f49e4619ea5"
                },
                {
                  "0": "Smith",
                  "1": "Abigail",
                  "2": "abigailsmith35@contosoisd3.onmicrosoft.com",
                  "3": "c19234e7-a816-41af-9524-4be4092fc559"
                },
                {
                  "0": "Jordan",
                  "1": "Adrian",
                  "2": "adrianjordan15@contosoisd3.onmicrosoft.com",
                  "3": "7a2ca37f-d1f3-4be8-8abe-8711d4eea8d6"
                },
                {
                  "0": "Long",
                  "1": "Amanda",
                  "2": "amandalong47@contosoisd3.onmicrosoft.com",
                  "3": "154f2b2c-9e73-4ecc-917e-06c0e440ea15"
                },
                {
                  "0": "Berger",
                  "1": "Amber",
                  "2": "amberberger79@contosoisd3.onmicrosoft.com",
                  "3": "dbc10b91-8d2c-4cf2-ac08-985ad3b4d6b4"
                },
                {
                  "0": "Buchanan",
                  "1": "Amber",
                  "2": "amberbuchanan5@contosoisd3.onmicrosoft.com",
                  "3": "3f901837-788d-407b-b6e5-3dd9018011fe"
                },
                {
                  "0": "Cook",
                  "1": "Amber",
                  "2": "ambercook62@contosoisd3.onmicrosoft.com",
                  "3": "8ec9eba7-aab5-4f79-b798-47320dbbef0d"
                },
                {
                  "0": "Price",
                  "1": "Amy",
                  "2": "amyprice29@contosoisd3.onmicrosoft.com",
                  "3": "ce02f59b-7ab4-426d-be15-f831bef543a8"
                },
                {
                  "0": "Berry",
                  "1": "Andrea",
                  "2": "andreaberry63@contosoisd3.onmicrosoft.com",
                  "3": "1e9fb7e6-a12b-43d9-bf5a-c0c832226db8"
                },
                {
                  "0": "Hunter",
                  "1": "Andrew",
                  "2": "andrewhunter25@contosoisd3.onmicrosoft.com",
                  "3": "ebdecc9f-bfd9-4a32-bc62-07554666ec00"
                }
              ],
              "schema": [
                {
                  "key": "0",
                  "name": "surname",
                  "type": "string"
                },
                {
                  "key": "1",
                  "name": "givenName",
                  "type": "string"
                },
                {
                  "key": "2",
                  "name": "userPrincipalName",
                  "type": "string"
                },
                {
                  "key": "3",
                  "name": "id",
                  "type": "string"
                }
              ]
            },
            "isSummary": false,
            "language": "scala"
          },
          "persist_state": {
            "view": {
              "type": "details",
              "tableOptions": {},
              "chartOptions": {
                "chartType": "bar",
                "aggregationType": "count",
                "categoryFieldKeys": [
                  "0"
                ],
                "seriesFieldKeys": [
                  "0"
                ],
                "isStacked": false
              }
            }
          }
        },
        "4c0c5cd8-b848-4eac-bd9b-822541cd7d56": {
          "type": "Synapse.DataFrame",
          "sync_state": {
            "table": {
              "rows": [
                {
                  "0": "2021-09-27",
                  "1": "gloriafowler49@contosoisd3.onmicrosoft.com",
                  "2": "",
                  "3": "180",
                  "4": "false",
                  "5": "false",
                  "6": "false",
                  "7": "false",
                  "8": "false",
                  "9": "false",
                  "10": "false",
                  "11": "false",
                  "12": "false",
                  "13": "false"
                },
                {
                  "0": "2021-09-27",
                  "1": "johnhampton54@contosoisd3.onmicrosoft.com",
                  "2": "",
                  "3": "180",
                  "4": "false",
                  "5": "false",
                  "6": "false",
                  "7": "false",
                  "8": "false",
                  "9": "false",
                  "10": "false",
                  "11": "false",
                  "12": "false",
                  "13": "false"
                },
                {
                  "0": "2021-09-27",
                  "1": "jenniferdavenport34@contosoisd3.onmicrosoft.com",
                  "2": "",
                  "3": "180",
                  "4": "false",
                  "5": "false",
                  "6": "false",
                  "7": "false",
                  "8": "false",
                  "9": "false",
                  "10": "false",
                  "11": "false",
                  "12": "false",
                  "13": "false"
                },
                {
                  "0": "2021-09-27",
                  "1": "tj@contosoisd3.onmicrosoft.com",
                  "2": "",
                  "3": "180",
                  "4": "false",
                  "5": "false",
                  "6": "false",
                  "7": "false",
                  "8": "false",
                  "9": "false",
                  "10": "false",
                  "11": "false",
                  "12": "false",
                  "13": "false"
                },
                {
                  "0": "2021-09-27",
                  "1": "davidwest41@contosoisd3.onmicrosoft.com",
                  "2": "",
                  "3": "180",
                  "4": "false",
                  "5": "false",
                  "6": "false",
                  "7": "false",
                  "8": "false",
                  "9": "false",
                  "10": "false",
                  "11": "false",
                  "12": "false",
                  "13": "false"
                },
                {
                  "0": "2021-09-27",
                  "1": "davidtaylor44@contosoisd3.onmicrosoft.com",
                  "2": "",
                  "3": "180",
                  "4": "false",
                  "5": "false",
                  "6": "false",
                  "7": "false",
                  "8": "false",
                  "9": "false",
                  "10": "false",
                  "11": "false",
                  "12": "false",
                  "13": "false"
                },
                {
                  "0": "2021-09-27",
                  "1": "justincooper74@contosoisd3.onmicrosoft.com",
                  "2": "",
                  "3": "180",
                  "4": "false",
                  "5": "false",
                  "6": "false",
                  "7": "false",
                  "8": "false",
                  "9": "false",
                  "10": "false",
                  "11": "false",
                  "12": "false",
                  "13": "false"
                },
                {
                  "0": "2021-09-27",
                  "1": "annaalvarado60@contosoisd3.onmicrosoft.com",
                  "2": "",
                  "3": "180",
                  "4": "false",
                  "5": "false",
                  "6": "false",
                  "7": "false",
                  "8": "false",
                  "9": "false",
                  "10": "false",
                  "11": "false",
                  "12": "false",
                  "13": "false"
                },
                {
                  "0": "2021-09-27",
                  "1": "jessicaedwards33@contosoisd3.onmicrosoft.com",
                  "2": "",
                  "3": "180",
                  "4": "false",
                  "5": "false",
                  "6": "false",
                  "7": "false",
                  "8": "false",
                  "9": "false",
                  "10": "false",
                  "11": "false",
                  "12": "false",
                  "13": "false"
                },
                {
                  "0": "2021-09-27",
                  "1": "abigaillong3@contosoisd3.onmicrosoft.com",
                  "2": "",
                  "3": "180",
                  "4": "false",
                  "5": "false",
                  "6": "false",
                  "7": "false",
                  "8": "false",
                  "9": "false",
                  "10": "false",
                  "11": "false",
                  "12": "false",
                  "13": "false"
                }
              ],
              "schema": [
                {
                  "key": "0",
                  "name": "reportRefreshDate",
                  "type": "string"
                },
                {
                  "key": "1",
                  "name": "userPrincipalName",
                  "type": "string"
                },
                {
                  "key": "2",
                  "name": "lastActivityDate",
                  "type": "string"
                },
                {
                  "key": "3",
                  "name": "reportPeriod",
                  "type": "string"
                },
                {
                  "key": "4",
                  "name": "excel",
                  "type": "string"
                },
                {
                  "key": "5",
                  "name": "excelWeb",
                  "type": "string"
                },
                {
                  "key": "6",
                  "name": "outlook",
                  "type": "string"
                },
                {
                  "key": "7",
                  "name": "outlookWeb",
                  "type": "string"
                },
                {
                  "key": "8",
                  "name": "powerPoint",
                  "type": "string"
                },
                {
                  "key": "9",
                  "name": "powerPointWeb",
                  "type": "string"
                },
                {
                  "key": "10",
                  "name": "teams",
                  "type": "string"
                },
                {
                  "key": "11",
                  "name": "teamsWeb",
                  "type": "string"
                },
                {
                  "key": "12",
                  "name": "word",
                  "type": "string"
                },
                {
                  "key": "13",
                  "name": "wordWeb",
                  "type": "string"
                }
              ]
            },
            "isSummary": false,
            "language": "scala"
          },
          "persist_state": {
            "view": {
              "type": "details",
              "tableOptions": {},
              "chartOptions": {
                "chartType": "bar",
                "aggregationType": "count",
                "categoryFieldKeys": [
                  "0"
                ],
                "seriesFieldKeys": [
                  "0"
                ],
                "isStacked": false
              }
            }
          }
        },
        "49336244-d97e-4e29-910a-3453cee61e1c": {
          "type": "Synapse.DataFrame",
          "sync_state": {
            "table": {
              "rows": [
                {
                  "0": "2021-10-11",
                  "1": "user",
                  "2": "2021-10-11",
                  "3": "7",
                  "4": "true",
                  "5": "false",
                  "6": "false",
                  "7": "false",
                  "8": "false",
                  "9": "false",
                  "10": "true",
                  "11": "true",
                  "12": "false",
                  "13": "false"
                },
                {
                  "0": "2021-10-11",
                  "1": "user",
                  "2": "2021-10-11",
                  "3": "7",
                  "4": "false",
                  "5": "false",
                  "6": "false",
                  "7": "true",
                  "8": "true",
                  "9": "false",
                  "10": "true",
                  "11": "true",
                  "12": "true",
                  "13": "false"
                },
                {
                  "0": "2021-10-11",
                  "1": "user",
                  "2": "2021-10-11",
                  "3": "7",
                  "4": "true",
                  "5": "false",
                  "6": "false",
                  "7": "true",
                  "8": "false",
                  "9": "false",
                  "10": "true",
                  "11": "false",
                  "12": "true",
                  "13": "false"
                },
                {
                  "0": "2021-10-11",
                  "1": "user",
                  "2": "2021-10-11",
                  "3": "7",
                  "4": "false",
                  "5": "true",
                  "6": "true",
                  "7": "true",
                  "8": "false",
                  "9": "false",
                  "10": "true",
                  "11": "false",
                  "12": "false",
                  "13": "true"
                },
                {
                  "0": "2021-10-11",
                  "1": "user",
                  "2": "2021-10-11",
                  "3": "7",
                  "4": "true",
                  "5": "true",
                  "6": "false",
                  "7": "true",
                  "8": "true",
                  "9": "false",
                  "10": "true",
                  "11": "false",
                  "12": "false",
                  "13": "false"
                },
                {
                  "0": "2021-10-11",
                  "1": "user",
                  "2": "2021-10-11",
                  "3": "7",
                  "4": "true",
                  "5": "false",
                  "6": "false",
                  "7": "true",
                  "8": "false",
                  "9": "true",
                  "10": "true",
                  "11": "true",
                  "12": "true",
                  "13": "true"
                },
                {
                  "0": "2021-10-11",
                  "1": "user",
                  "2": "2021-10-11",
                  "3": "7",
                  "4": "false",
                  "5": "false",
                  "6": "false",
                  "7": "true",
                  "8": "false",
                  "9": "false",
                  "10": "true",
                  "11": "true",
                  "12": "true",
                  "13": "false"
                },
                {
                  "0": "2021-10-11",
                  "1": "user",
                  "2": "2021-10-11",
                  "3": "7",
                  "4": "true",
                  "5": "true",
                  "6": "false",
                  "7": "true",
                  "8": "false",
                  "9": "false",
                  "10": "true",
                  "11": "true",
                  "12": "false",
                  "13": "false"
                },
                {
                  "0": "2021-10-11",
                  "1": "user",
                  "2": "2021-10-11",
                  "3": "7",
                  "4": "true",
                  "5": "false",
                  "6": "false",
                  "7": "true",
                  "8": "true",
                  "9": "false",
                  "10": "true",
                  "11": "true",
                  "12": "true",
                  "13": "false"
                },
                {
                  "0": "2021-10-11",
                  "1": "user",
                  "2": "2021-10-11",
                  "3": "7",
                  "4": "true",
                  "5": "false",
                  "6": "false",
                  "7": "true",
                  "8": "false",
                  "9": "false",
                  "10": "true",
                  "11": "false",
                  "12": "true",
                  "13": "false"
                }
              ],
              "schema": [
                {
                  "key": "0",
                  "name": "reportRefreshDate",
                  "type": "string"
                },
                {
                  "key": "1",
                  "name": "userPrincipalName",
                  "type": "string"
                },
                {
                  "key": "2",
                  "name": "lastActivityDate",
                  "type": "string"
                },
                {
                  "key": "3",
                  "name": "reportPeriod",
                  "type": "string"
                },
                {
                  "key": "4",
                  "name": "excel",
                  "type": "string"
                },
                {
                  "key": "5",
                  "name": "excelWeb",
                  "type": "string"
                },
                {
                  "key": "6",
                  "name": "outlook",
                  "type": "string"
                },
                {
                  "key": "7",
                  "name": "outlookWeb",
                  "type": "string"
                },
                {
                  "key": "8",
                  "name": "powerPoint",
                  "type": "string"
                },
                {
                  "key": "9",
                  "name": "powerPointWeb",
                  "type": "string"
                },
                {
                  "key": "10",
                  "name": "teams",
                  "type": "string"
                },
                {
                  "key": "11",
                  "name": "teamsWeb",
                  "type": "string"
                },
                {
                  "key": "12",
                  "name": "word",
                  "type": "string"
                },
                {
                  "key": "13",
                  "name": "wordWeb",
                  "type": "string"
                }
              ]
            },
            "isSummary": false,
            "language": "scala"
          },
          "persist_state": {
            "view": {
              "type": "details",
              "tableOptions": {},
              "chartOptions": {
                "chartType": "bar",
                "aggregationType": "count",
                "categoryFieldKeys": [
                  "0"
                ],
                "seriesFieldKeys": [
                  "0"
                ],
                "isStacked": false
              }
            }
          }
        },
        "92903d68-6132-44a3-be59-c5762b682042": {
          "type": "Synapse.DataFrame",
          "sync_state": {
            "table": {
              "rows": [
                {
                  "0": "2021-10-11",
                  "1": "user",
                  "2": "2021-10-11",
                  "3": "7",
                  "4": "true",
                  "5": "false",
                  "6": "false",
                  "7": "true",
                  "8": "false",
                  "9": "false",
                  "10": "true",
                  "11": "false",
                  "12": "true",
                  "13": "false"
                },
                {
                  "0": "2021-10-11",
                  "1": "user",
                  "2": "2021-10-11",
                  "3": "7",
                  "4": "false",
                  "5": "true",
                  "6": "false",
                  "7": "true",
                  "8": "false",
                  "9": "false",
                  "10": "true",
                  "11": "false",
                  "12": "true",
                  "13": "false"
                },
                {
                  "0": "2021-10-11",
                  "1": "user",
                  "2": "2021-10-11",
                  "3": "7",
                  "4": "false",
                  "5": "false",
                  "6": "false",
                  "7": "true",
                  "8": "false",
                  "9": "false",
                  "10": "false",
                  "11": "true",
                  "12": "true",
                  "13": "true"
                },
                {
                  "0": "2021-10-11",
                  "1": "user",
                  "2": "2021-10-11",
                  "3": "7",
                  "4": "true",
                  "5": "false",
                  "6": "false",
                  "7": "true",
                  "8": "true",
                  "9": "false",
                  "10": "false",
                  "11": "false",
                  "12": "true",
                  "13": "false"
                },
                {
                  "0": "2021-10-11",
                  "1": "user",
                  "2": "2021-10-11",
                  "3": "7",
                  "4": "true",
                  "5": "false",
                  "6": "false",
                  "7": "true",
                  "8": "false",
                  "9": "false",
                  "10": "true",
                  "11": "false",
                  "12": "true",
                  "13": "false"
                },
                {
                  "0": "2021-10-11",
                  "1": "user",
                  "2": "2021-10-11",
                  "3": "7",
                  "4": "true",
                  "5": "false",
                  "6": "false",
                  "7": "true",
                  "8": "true",
                  "9": "false",
                  "10": "true",
                  "11": "false",
                  "12": "false",
                  "13": "false"
                },
                {
                  "0": "2021-10-11",
                  "1": "user",
                  "2": "2021-10-11",
                  "3": "7",
                  "4": "false",
                  "5": "false",
                  "6": "false",
                  "7": "true",
                  "8": "false",
                  "9": "true",
                  "10": "true",
                  "11": "false",
                  "12": "true",
                  "13": "false"
                },
                {
                  "0": "2021-10-04",
                  "1": "user",
                  "2": "2021-10-04",
                  "3": "7",
                  "4": "false",
                  "5": "false",
                  "6": "true",
                  "7": "true",
                  "8": "false",
                  "9": "false",
                  "10": "false",
                  "11": "true",
                  "12": "false",
                  "13": "true"
                },
                {
                  "0": "2021-10-04",
                  "1": "user",
                  "2": "2021-10-04",
                  "3": "7",
                  "4": "true",
                  "5": "false",
                  "6": "false",
                  "7": "true",
                  "8": "true",
                  "9": "false",
                  "10": "true",
                  "11": "false",
                  "12": "false",
                  "13": "false"
                },
                {
                  "0": "2021-10-04",
                  "1": "user",
                  "2": "2021-10-04",
                  "3": "7",
                  "4": "true",
                  "5": "true",
                  "6": "false",
                  "7": "false",
                  "8": "false",
                  "9": "false",
                  "10": "true",
                  "11": "false",
                  "12": "false",
                  "13": "true"
                }
              ],
              "schema": [
                {
                  "key": "0",
                  "name": "reportRefreshDate",
                  "type": "string"
                },
                {
                  "key": "1",
                  "name": "userPrincipalName",
                  "type": "string"
                },
                {
                  "key": "2",
                  "name": "lastActivityDate",
                  "type": "string"
                },
                {
                  "key": "3",
                  "name": "reportPeriod",
                  "type": "string"
                },
                {
                  "key": "4",
                  "name": "excel",
                  "type": "string"
                },
                {
                  "key": "5",
                  "name": "excelWeb",
                  "type": "string"
                },
                {
                  "key": "6",
                  "name": "outlook",
                  "type": "string"
                },
                {
                  "key": "7",
                  "name": "outlookWeb",
                  "type": "string"
                },
                {
                  "key": "8",
                  "name": "powerPoint",
                  "type": "string"
                },
                {
                  "key": "9",
                  "name": "powerPointWeb",
                  "type": "string"
                },
                {
                  "key": "10",
                  "name": "teams",
                  "type": "string"
                },
                {
                  "key": "11",
                  "name": "teamsWeb",
                  "type": "string"
                },
                {
                  "key": "12",
                  "name": "word",
                  "type": "string"
                },
                {
                  "key": "13",
                  "name": "wordWeb",
                  "type": "string"
                }
              ]
            },
            "isSummary": false,
            "language": "scala"
          },
          "persist_state": {
            "view": {
              "type": "details",
              "tableOptions": {},
              "chartOptions": {
                "chartType": "bar",
                "aggregationType": "count",
                "categoryFieldKeys": [
                  "0"
                ],
                "seriesFieldKeys": [
                  "0"
                ],
                "isStacked": false
              }
            }
          }
        },
        "a5148b3c-7c29-49e7-984f-f537ed23fea7": {
          "type": "Synapse.DataFrame",
          "sync_state": {
            "table": {
              "rows": [
                {
                  "0": "2021-10-07",
                  "1": "7",
                  "2": "ashleytodd20@contosoisd3.onmicrosoft.com",
                  "3": "0",
                  "4": "0",
                  "5": "0",
                  "6": "0",
                  "7": "PT0S",
                  "8": "PT0S"
                },
                {
                  "0": "2021-10-07",
                  "1": "7",
                  "2": "paigetaylor11@contosoisd3.onmicrosoft.com",
                  "3": "0",
                  "4": "0",
                  "5": "0",
                  "6": "0",
                  "7": "PT0S",
                  "8": "PT0S"
                },
                {
                  "0": "2021-10-07",
                  "1": "7",
                  "2": "joshuaelliott18@contosoisd3.onmicrosoft.com",
                  "3": "0",
                  "4": "0",
                  "5": "0",
                  "6": "0",
                  "7": "PT0S",
                  "8": "PT0S"
                },
                {
                  "0": "2021-10-07",
                  "1": "7",
                  "2": "annaalvarado60@contosoisd3.onmicrosoft.com",
                  "3": "0",
                  "4": "0",
                  "5": "0",
                  "6": "0",
                  "7": "PT0S",
                  "8": "PT0S"
                },
                {
                  "0": "2021-10-07",
                  "1": "7",
                  "2": "stacythompson16@contosoisd3.onmicrosoft.com",
                  "3": "0",
                  "4": "0",
                  "5": "0",
                  "6": "0",
                  "7": "PT0S",
                  "8": "PT0S"
                },
                {
                  "0": "2021-10-07",
                  "1": "7",
                  "2": "lydiahunt39@contosoisd3.onmicrosoft.com",
                  "3": "0",
                  "4": "0",
                  "5": "0",
                  "6": "0",
                  "7": "PT0S",
                  "8": "PT0S"
                },
                {
                  "0": "2021-10-07",
                  "1": "7",
                  "2": "christinahanna78@contosoisd3.onmicrosoft.com",
                  "3": "0",
                  "4": "0",
                  "5": "0",
                  "6": "0",
                  "7": "PT0S",
                  "8": "PT0S"
                },
                {
                  "0": "2021-10-07",
                  "1": "7",
                  "2": "stevenlarsen30@contosoisd3.onmicrosoft.com",
                  "3": "0",
                  "4": "0",
                  "5": "0",
                  "6": "0",
                  "7": "PT0S",
                  "8": "PT0S"
                },
                {
                  "0": "2021-10-07",
                  "1": "7",
                  "2": "annaalvarado10@contosoisd3.onmicrosoft.com",
                  "3": "0",
                  "4": "0",
                  "5": "0",
                  "6": "0",
                  "7": "PT0S",
                  "8": "PT0S"
                },
                {
                  "0": "2021-10-07",
                  "1": "7",
                  "2": "zacharyjohnson64@contosoisd3.onmicrosoft.com",
                  "3": "0",
                  "4": "0",
                  "5": "0",
                  "6": "0",
                  "7": "PT0S",
                  "8": "PT0S"
                }
              ],
              "schema": [
                {
                  "key": "0",
                  "name": "reportRefreshDate",
                  "type": "string"
                },
                {
                  "key": "1",
                  "name": "reportPeriod",
                  "type": "string"
                },
                {
                  "key": "2",
                  "name": "userPrincipalName",
                  "type": "string"
                },
                {
                  "key": "3",
                  "name": "privateChatMessageCount",
                  "type": "int"
                },
                {
                  "key": "4",
                  "name": "teamChatMessageCount",
                  "type": "int"
                },
                {
                  "key": "5",
                  "name": "meetingsAttendedCount",
                  "type": "int"
                },
                {
                  "key": "6",
                  "name": "meetingCount",
                  "type": "int"
                },
                {
                  "key": "7",
                  "name": "audioDuration",
                  "type": "string"
                },
                {
                  "key": "8",
                  "name": "videoDuration",
                  "type": "string"
                }
              ]
            },
            "isSummary": false,
            "language": "scala"
          },
          "persist_state": {
            "view": {
              "type": "details",
              "tableOptions": {},
              "chartOptions": {
                "chartType": "bar",
                "aggregationType": "sum",
                "categoryFieldKeys": [
                  "0"
                ],
                "seriesFieldKeys": [
                  "3"
                ],
                "isStacked": false
              }
            }
          }
        },
        "bd35c9e2-4f0f-4c11-9ab0-878f9e79f378": {
          "type": "Synapse.DataFrame",
          "sync_state": {
            "table": {
              "rows": [
                {
                  "0": "2021-10-11",
                  "1": "7",
                  "2": "user",
                  "3": "3",
                  "4": "0",
                  "5": "9",
                  "6": "8",
                  "7": "PT0S",
                  "8": "PT0S"
                },
                {
                  "0": "2021-10-11",
                  "1": "7",
                  "2": "user",
                  "3": "7",
                  "4": "0",
                  "5": "3",
                  "6": "8",
                  "7": "PT0S",
                  "8": "PT0S"
                },
                {
                  "0": "2021-10-11",
                  "1": "7",
                  "2": "user",
                  "3": "8",
                  "4": "0",
                  "5": "3",
                  "6": "4",
                  "7": "PT0S",
                  "8": "PT0S"
                },
                {
                  "0": "2021-10-11",
                  "1": "7",
                  "2": "user",
                  "3": "5",
                  "4": "0",
                  "5": "8",
                  "6": "7",
                  "7": "PT0S",
                  "8": "PT0S"
                },
                {
                  "0": "2021-10-11",
                  "1": "7",
                  "2": "user",
                  "3": "1",
                  "4": "0",
                  "5": "10",
                  "6": "6",
                  "7": "PT0S",
                  "8": "PT0S"
                },
                {
                  "0": "2021-10-11",
                  "1": "7",
                  "2": "user",
                  "3": "2",
                  "4": "0",
                  "5": "8",
                  "6": "10",
                  "7": "PT0S",
                  "8": "PT0S"
                },
                {
                  "0": "2021-10-11",
                  "1": "7",
                  "2": "user",
                  "3": "6",
                  "4": "0",
                  "5": "1",
                  "6": "1",
                  "7": "PT0S",
                  "8": "PT0S"
                },
                {
                  "0": "2021-10-11",
                  "1": "7",
                  "2": "user",
                  "3": "3",
                  "4": "0",
                  "5": "2",
                  "6": "9",
                  "7": "PT0S",
                  "8": "PT0S"
                },
                {
                  "0": "2021-10-11",
                  "1": "7",
                  "2": "user",
                  "3": "3",
                  "4": "0",
                  "5": "3",
                  "6": "9",
                  "7": "PT0S",
                  "8": "PT0S"
                },
                {
                  "0": "2021-10-11",
                  "1": "7",
                  "2": "user",
                  "3": "3",
                  "4": "0",
                  "5": "3",
                  "6": "6",
                  "7": "PT0S",
                  "8": "PT0S"
                }
              ],
              "schema": [
                {
                  "key": "0",
                  "name": "reportRefreshDate",
                  "type": "string"
                },
                {
                  "key": "1",
                  "name": "reportPeriod",
                  "type": "string"
                },
                {
                  "key": "2",
                  "name": "userPrincipalName",
                  "type": "string"
                },
                {
                  "key": "3",
                  "name": "privateChatMessageCount",
                  "type": "bigint"
                },
                {
                  "key": "4",
                  "name": "teamChatMessageCount",
                  "type": "bigint"
                },
                {
                  "key": "5",
                  "name": "meetingsAttendedCount",
                  "type": "bigint"
                },
                {
                  "key": "6",
                  "name": "meetingCount",
                  "type": "bigint"
                },
                {
                  "key": "7",
                  "name": "audioDuration",
                  "type": "string"
                },
                {
                  "key": "8",
                  "name": "videoDuration",
                  "type": "string"
                }
              ]
            },
            "isSummary": false,
            "language": "scala"
          },
          "persist_state": {
            "view": {
              "type": "details",
              "tableOptions": {},
              "chartOptions": {
                "chartType": "bar",
                "aggregationType": "sum",
                "categoryFieldKeys": [
                  "0"
                ],
                "seriesFieldKeys": [
                  "3"
                ],
                "isStacked": false
              }
            }
          }
        },
        "c208f65d-3e57-4c1a-bb43-58e48adfb39d": {
          "type": "Synapse.DataFrame",
          "sync_state": {
            "table": {
              "rows": [
                {
                  "0": "2021-09-20",
                  "1": "7",
                  "2": "user",
                  "3": "8",
                  "4": "0",
                  "5": "10",
                  "6": "9",
                  "7": "PT0S",
                  "8": "PT0S"
                },
                {
                  "0": "2021-09-20",
                  "1": "7",
                  "2": "user",
                  "3": "10",
                  "4": "0",
                  "5": "9",
                  "6": "1",
                  "7": "PT0S",
                  "8": "PT0S"
                },
                {
                  "0": "2021-09-20",
                  "1": "7",
                  "2": "user",
                  "3": "1",
                  "4": "0",
                  "5": "10",
                  "6": "2",
                  "7": "PT0S",
                  "8": "PT0S"
                },
                {
                  "0": "2021-09-20",
                  "1": "7",
                  "2": "user",
                  "3": "5",
                  "4": "0",
                  "5": "6",
                  "6": "10",
                  "7": "PT0S",
                  "8": "PT0S"
                },
                {
                  "0": "2021-09-20",
                  "1": "7",
                  "2": "user",
                  "3": "10",
                  "4": "0",
                  "5": "7",
                  "6": "6",
                  "7": "PT0S",
                  "8": "PT0S"
                },
                {
                  "0": "2021-09-20",
                  "1": "7",
                  "2": "user",
                  "3": "10",
                  "4": "0",
                  "5": "3",
                  "6": "3",
                  "7": "PT0S",
                  "8": "PT0S"
                },
                {
                  "0": "2021-09-20",
                  "1": "7",
                  "2": "user",
                  "3": "10",
                  "4": "0",
                  "5": "1",
                  "6": "8",
                  "7": "PT0S",
                  "8": "PT0S"
                },
                {
                  "0": "2021-09-13",
                  "1": "7",
                  "2": "user",
                  "3": "8",
                  "4": "0",
                  "5": "3",
                  "6": "10",
                  "7": "PT0S",
                  "8": "PT0S"
                },
                {
                  "0": "2021-09-13",
                  "1": "7",
                  "2": "user",
                  "3": "1",
                  "4": "0",
                  "5": "3",
                  "6": "10",
                  "7": "PT0S",
                  "8": "PT0S"
                },
                {
                  "0": "2021-09-13",
                  "1": "7",
                  "2": "user",
                  "3": "1",
                  "4": "0",
                  "5": "5",
                  "6": "10",
                  "7": "PT0S",
                  "8": "PT0S"
                }
              ],
              "schema": [
                {
                  "key": "0",
                  "name": "reportRefreshDate",
                  "type": "string"
                },
                {
                  "key": "1",
                  "name": "reportPeriod",
                  "type": "string"
                },
                {
                  "key": "2",
                  "name": "userPrincipalName",
                  "type": "string"
                },
                {
                  "key": "3",
                  "name": "privateChatMessageCount",
                  "type": "int"
                },
                {
                  "key": "4",
                  "name": "teamChatMessageCount",
                  "type": "int"
                },
                {
                  "key": "5",
                  "name": "meetingsAttendedCount",
                  "type": "int"
                },
                {
                  "key": "6",
                  "name": "meetingCount",
                  "type": "int"
                },
                {
                  "key": "7",
                  "name": "audioDuration",
                  "type": "string"
                },
                {
                  "key": "8",
                  "name": "videoDuration",
                  "type": "string"
                }
              ]
            },
            "isSummary": false,
            "language": "scala"
          },
          "persist_state": {
            "view": {
              "type": "details",
              "tableOptions": {},
              "chartOptions": {
                "chartType": "bar",
                "aggregationType": "sum",
                "categoryFieldKeys": [
                  "0"
                ],
                "seriesFieldKeys": [
                  "3"
                ],
                "isStacked": false
              }
            }
          }
        },
        "0d80afcb-8df6-4379-bd6b-daae34fbaa8c": {
          "type": "Synapse.DataFrame",
          "sync_state": {
            "table": {
              "rows": [],
              "schema": [
                {
                  "key": "0",
                  "name": "surname",
                  "type": "string"
                },
                {
                  "key": "1",
                  "name": "givenName",
                  "type": "string"
                },
                {
                  "key": "2",
                  "name": "userPrincipalName",
                  "type": "string"
                },
                {
                  "key": "3",
                  "name": "id",
                  "type": "string"
                }
              ]
            },
            "isSummary": false,
            "language": "scala"
          },
          "persist_state": {
            "view": {
              "type": "details",
              "tableOptions": {},
              "chartOptions": {
                "chartType": "bar",
                "aggregationType": "count",
                "categoryFieldKeys": [
                  "0"
                ],
                "seriesFieldKeys": [
                  "0"
                ],
                "isStacked": false
              }
            }
          }
        }
      }
    }
  },
  "nbformat": 4,
  "nbformat_minor": 2
}