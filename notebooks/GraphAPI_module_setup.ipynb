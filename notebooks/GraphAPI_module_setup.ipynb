{
  "cells": [
    {
      "cell_type": "markdown",
      "source": [
        "# Graph API Module Example Notebook\r\n",
        "\r\n",
        "This notebook creates 3 tables (users, m365_app_user_detail and teams_acivity_user_details) into a new Spark database called 2np_graphapi. \r\n"
      ],
      "metadata": {
        "nteract": {
          "transient": {
            "deleting": false
          }
        }
      }
    },
    {
      "cell_type": "markdown",
      "source": [
        "### Provision storage accounts\r\n",
        "\r\n",
        "The storage account variable has to be changed to the name of the storage account associated with your Azure resource group."
      ],
      "metadata": {
        "nteract": {
          "transient": {
            "deleting": false
          }
        }
      }
    },
    {
      "cell_type": "code",
      "source": [
        "from pyspark.sql.types import StructType, StructField, StringType, IntegerType, DoubleType, ArrayType\r\n",
        "from pyspark.sql.functions import *\r\n",
        "from pyspark.sql.window import Window\r\n",
        "\r\n",
        "\r\n",
        "# data lake and container information\r\n",
        "storage_account = 'stoeahybriddev2'\r\n",
        "use_test_env = False\r\n",
        "\r\n",
        "if use_test_env:\r\n",
        "    stage1np = 'abfss://test-env@' + storage_account + '.dfs.core.windows.net/stage1np'\r\n",
        "    stage2np = 'abfss://test-env@' + storage_account + '.dfs.core.windows.net/stage2np'\r\n",
        "    stage2p = 'abfss://test-env@' + storage_account + '.dfs.core.windows.net/stage2p'\r\n",
        "else:\r\n",
        "    stage1np = 'abfss://stage1np@' + storage_account + '.dfs.core.windows.net'\r\n",
        "    stage2np = 'abfss://stage2np@' + storage_account + '.dfs.core.windows.net'\r\n",
        "    stage2p = 'abfss://stage2p@' + storage_account + '.dfs.core.windows.net'"
      ],
      "outputs": [
        {
          "output_type": "display_data",
          "data": {
            "application/vnd.livy.statement-meta+json": {
              "spark_pool": "spark3p1sm",
              "session_id": 59,
              "statement_id": 24,
              "state": "finished",
              "livy_statement_state": "available",
              "queued_time": "2021-10-11T14:45:20.255849Z",
              "session_start_time": null,
              "execution_start_time": "2021-10-11T14:45:20.3602902Z",
              "execution_finish_time": "2021-10-11T14:45:20.5097964Z"
            },
            "text/plain": "StatementMeta(spark3p1sm, 59, 24, Finished, Available)"
          },
          "metadata": {}
        }
      ],
      "execution_count": 24,
      "metadata": {
        "jupyter": {
          "source_hidden": false,
          "outputs_hidden": false
        },
        "nteract": {
          "transient": {
            "deleting": false
          }
        }
      }
    },
    {
      "cell_type": "markdown",
      "source": [
        "### Load Raw Data from Lake\r\n",
        "To ensure that that the right tables are loaded, confirm that the file paths match your data lake storage containers. \r\n",
        "\r\n",
        "The top code-block defines the schema of how each of the stage 1 JSON files are stored."
      ],
      "metadata": {
        "nteract": {
          "transient": {
            "deleting": false
          }
        }
      }
    },
    {
      "cell_type": "code",
      "source": [
        "# schemas for each of the JSON files for transformation into tables\r\n",
        "user_schema = StructType(fields=[\r\n",
        "    StructField('value', ArrayType(\r\n",
        "        StructType([\r\n",
        "            StructField('surname', StringType(), False),\r\n",
        "            StructField('givenName', StringType(), False),\r\n",
        "            StructField('userPrincipalName', StringType(), False),\r\n",
        "            StructField('id', StringType(), False)\r\n",
        "        ])\r\n",
        "    ))\r\n",
        "])\r\n",
        "\r\n",
        "m365_app_user_details_schema = StructType(fields=[\r\n",
        "    StructField('value', ArrayType(\r\n",
        "        StructType([\r\n",
        "            StructField('reportRefreshDate', StringType(), False),\r\n",
        "            StructField('userPrincipalName', StringType(), False),\r\n",
        "            StructField('lastActivityDate', StringType(), False),\r\n",
        "            StructField('details', ArrayType(\r\n",
        "                StructType([\r\n",
        "                    StructField('reportPeriod', StringType(), False),\r\n",
        "                    StructField('excel', StringType(), False),\r\n",
        "                    StructField('excelWeb', StringType(), False),\r\n",
        "                    StructField('outlook', StringType(), False),\r\n",
        "                    StructField('outlookWeb', StringType(), False),\r\n",
        "                    StructField('powerPoint', StringType(), False),\r\n",
        "                    StructField('powerPointWeb', StringType(), False),\r\n",
        "                    StructField('teams', StringType(), False),\r\n",
        "                    StructField('teamsWeb', StringType(), False),\r\n",
        "                    StructField('word', StringType(), False),\r\n",
        "                    StructField('wordWeb', StringType(), False),\r\n",
        "                ])\r\n",
        "            ))\r\n",
        "        ])\r\n",
        "    ))\r\n",
        "])\r\n",
        "\r\n",
        "teams_activity_user_details_schema = StructType(fields=[\r\n",
        "    StructField('value', ArrayType(\r\n",
        "        StructType([\r\n",
        "            StructField('reportRefreshDate', StringType(), False),\r\n",
        "            StructField('reportPeriod', StringType(), False),\r\n",
        "            StructField('userPrincipalName', StringType(), False),\r\n",
        "            StructField('privateChatMessageCount', IntegerType(), False),\r\n",
        "            StructField('teamChatMessageCount', IntegerType(), False),\r\n",
        "            StructField('meetingsAttendedCount', IntegerType(), False),\r\n",
        "            StructField('meetingCount', IntegerType(), False),\r\n",
        "            StructField('audioDuration', StringType(), False),\r\n",
        "            StructField('videoDuration', StringType(), False),\r\n",
        "        ])\r\n",
        "    ))\r\n",
        "])"
      ],
      "outputs": [
        {
          "output_type": "display_data",
          "data": {
            "application/vnd.livy.statement-meta+json": {
              "spark_pool": "spark3p1sm",
              "session_id": 59,
              "statement_id": 25,
              "state": "finished",
              "livy_statement_state": "available",
              "queued_time": "2021-10-11T14:45:20.3360283Z",
              "session_start_time": null,
              "execution_start_time": "2021-10-11T14:45:20.651891Z",
              "execution_finish_time": "2021-10-11T14:45:20.815919Z"
            },
            "text/plain": "StatementMeta(spark3p1sm, 59, 25, Finished, Available)"
          },
          "metadata": {}
        }
      ],
      "execution_count": 25,
      "metadata": {
        "jupyter": {
          "source_hidden": false,
          "outputs_hidden": false
        },
        "nteract": {
          "transient": {
            "deleting": false
          }
        }
      }
    },
    {
      "cell_type": "code",
      "source": [
        "# load needed tables from JSON data lake storage\r\n",
        "dfUsersRaw = spark.read.format('json').load(f'{stage1np}/GraphAPI/Users/*.json', schema=user_schema)\r\n",
        "dfM365UserActivityRaw = spark.read.format('json').load(f'{stage1np}/GraphAPI/M365_App_User_Detail/*.json', schema=m365_app_user_details_schema)\r\n",
        "dfTeamsUserActivityRaw = spark.read.format('json').load(f'{stage1np}/GraphAPI/Teams_Activity_User_Detail/*.json', schema=teams_activity_user_details_schema)"
      ],
      "outputs": [
        {
          "output_type": "display_data",
          "data": {
            "application/vnd.livy.statement-meta+json": {
              "spark_pool": "spark3p1sm",
              "session_id": 59,
              "statement_id": 26,
              "state": "finished",
              "livy_statement_state": "available",
              "queued_time": "2021-10-11T14:45:20.5040366Z",
              "session_start_time": null,
              "execution_start_time": "2021-10-11T14:45:20.9231018Z",
              "execution_finish_time": "2021-10-11T14:45:21.9505228Z"
            },
            "text/plain": "StatementMeta(spark3p1sm, 59, 26, Finished, Available)"
          },
          "metadata": {}
        }
      ],
      "execution_count": 26,
      "metadata": {
        "jupyter": {
          "source_hidden": false,
          "outputs_hidden": false
        },
        "nteract": {
          "transient": {
            "deleting": false
          }
        }
      }
    },
    {
      "cell_type": "markdown",
      "source": [
        "## 1. Users table\r\n",
        "Contains all users (students and teachers) at a school-system level\r\n",
        "\r\n",
        "** Databases and tables used: **\r\n",
        "\r\n",
        " - None \r\n",
        " \r\n",
        "**JSON files used:**\r\n",
        "\r\n",
        "- users.json\r\n",
        "\r\n",
        "**Database and table created:**\r\n",
        "\r\n",
        "1. Spark DB: s2np_graphapi\r\n",
        "- Table: users"
      ],
      "metadata": {
        "nteract": {
          "transient": {
            "deleting": false
          }
        }
      }
    },
    {
      "cell_type": "code",
      "source": [
        "dfUsers = dfUsersRaw.select(explode('value').alias('exploded_values')).select(\"exploded_values.*\")\r\n",
        "display(dfUsers.limit(10))"
      ],
      "outputs": [
        {
          "output_type": "display_data",
          "data": {
            "application/vnd.livy.statement-meta+json": {
              "spark_pool": "spark3p1sm",
              "session_id": 59,
              "statement_id": 27,
              "state": "finished",
              "livy_statement_state": "available",
              "queued_time": "2021-10-11T14:45:20.6972232Z",
              "session_start_time": null,
              "execution_start_time": "2021-10-11T14:45:22.8182618Z",
              "execution_finish_time": "2021-10-11T14:45:22.9871791Z"
            },
            "text/plain": "StatementMeta(spark3p1sm, 59, 27, Finished, Available)"
          },
          "metadata": {}
        },
        {
          "output_type": "display_data",
          "data": {
            "application/vnd.synapse.widget-view+json": {
              "widget_id": "b1453f39-1ea2-4e4d-a888-2ef185f78340",
              "widget_type": "Synapse.DataFrame"
            },
            "text/plain": "SynapseWidget(Synapse.DataFrame, b1453f39-1ea2-4e4d-a888-2ef185f78340)"
          },
          "metadata": {}
        }
      ],
      "execution_count": 27,
      "metadata": {
        "jupyter": {
          "source_hidden": false,
          "outputs_hidden": false
        },
        "nteract": {
          "transient": {
            "deleting": false
          }
        },
        "collapsed": false
      }
    },
    {
      "cell_type": "markdown",
      "source": [
        "## Write Data Back to Lake\r\n",
        "\r\n",
        "### Writing to Stage 2np"
      ],
      "metadata": {
        "nteract": {
          "transient": {
            "deleting": false
          }
        }
      }
    },
    {
      "cell_type": "code",
      "source": [
        "# write back to the lake in stage 2 ds2_main directory\r\n",
        "dfUsers.write.format('parquet').mode('overwrite').save(stage2np + '/GraphAPI/Users')"
      ],
      "outputs": [
        {
          "output_type": "display_data",
          "data": {
            "application/vnd.livy.statement-meta+json": {
              "spark_pool": "spark3p1sm",
              "session_id": 59,
              "statement_id": 28,
              "state": "finished",
              "livy_statement_state": "available",
              "queued_time": "2021-10-11T14:45:21.0741042Z",
              "session_start_time": null,
              "execution_start_time": "2021-10-11T14:45:23.1078921Z",
              "execution_finish_time": "2021-10-11T14:45:25.7896712Z"
            },
            "text/plain": "StatementMeta(spark3p1sm, 59, 28, Finished, Available)"
          },
          "metadata": {}
        }
      ],
      "execution_count": 28,
      "metadata": {
        "jupyter": {
          "source_hidden": false,
          "outputs_hidden": false
        },
        "nteract": {
          "transient": {
            "deleting": false
          }
        }
      }
    },
    {
      "cell_type": "markdown",
      "source": [
        "### Writing to Stage 2p\r\n",
        "Pseudonymizing users data"
      ],
      "metadata": {
        "nteract": {
          "transient": {
            "deleting": false
          }
        }
      }
    },
    {
      "cell_type": "code",
      "source": [
        "%run /OEA_py"
      ],
      "outputs": [
        {
          "output_type": "display_data",
          "data": {
            "application/vnd.livy.statement-meta+json": {
              "spark_pool": null,
              "session_id": 59,
              "statement_id": -1,
              "state": "finished",
              "livy_statement_state": "available",
              "queued_time": "2021-10-11T14:45:21.330983Z",
              "session_start_time": null,
              "execution_start_time": "2021-10-11T14:45:26.2764472Z",
              "execution_finish_time": "2021-10-11T14:45:26.2765905Z"
            },
            "text/plain": "StatementMeta(, 59, -1, Finished, Available)"
          },
          "metadata": {}
        }
      ],
      "execution_count": 29,
      "metadata": {
        "jupyter": {
          "source_hidden": false,
          "outputs_hidden": false
        },
        "nteract": {
          "transient": {
            "deleting": false
          }
        }
      }
    },
    {
      "cell_type": "code",
      "source": [
        "oea = OEA()\r\n",
        "\r\n",
        "usersSchema = [['surname', 'string', 'mask'],\r\n",
        "                        ['givenName', 'string', 'mask'],\r\n",
        "                        ['userPrincipalName', 'string', 'hash'],\r\n",
        "                        ['id', 'string', 'no-op']]\r\n",
        "\r\n",
        "df_pseudo, df_lookup = oea.pseudonymize(dfUsers, usersSchema)\r\n",
        "\r\n",
        "df_pseudo.write.format('parquet').mode('overwrite').save(stage2p + '/GraphAPI/Users')"
      ],
      "outputs": [
        {
          "output_type": "display_data",
          "data": {
            "application/vnd.livy.statement-meta+json": {
              "spark_pool": "spark3p1sm",
              "session_id": 59,
              "statement_id": 30,
              "state": "finished",
              "livy_statement_state": "available",
              "queued_time": "2021-10-11T14:45:21.4452779Z",
              "session_start_time": null,
              "execution_start_time": "2021-10-11T14:45:26.3789868Z",
              "execution_finish_time": "2021-10-11T14:45:28.1898019Z"
            },
            "text/plain": "StatementMeta(spark3p1sm, 59, 30, Finished, Available)"
          },
          "metadata": {}
        },
        {
          "output_type": "stream",
          "name": "stdout",
          "text": [
            "2021-10-11 14:45:26,358 - OEA - DEBUG - OEA initialized.\nOEA initialized."
          ]
        }
      ],
      "execution_count": 30,
      "metadata": {
        "jupyter": {
          "source_hidden": false,
          "outputs_hidden": false
        },
        "nteract": {
          "transient": {
            "deleting": false
          }
        }
      }
    },
    {
      "cell_type": "markdown",
      "source": [
        "### Load to Spark DB"
      ],
      "metadata": {
        "nteract": {
          "transient": {
            "deleting": false
          }
        }
      }
    },
    {
      "cell_type": "code",
      "source": [
        "# Create spark db to allow for access to the data in the delta-lake via SQL on-demand.\r\n",
        "# This is only creating metadata for SQL on-demand, pointing to the data in the delta-lake.\r\n",
        "# This also makes it possible to connect in Power BI via the azure sql data source connector.\r\n",
        "def create_spark_db(db_name, source_path):\r\n",
        "    spark.sql(f'CREATE DATABASE IF NOT EXISTS {db_name}')\r\n",
        "    spark.sql(f\"DROP TABLE IF EXISTS {db_name}.users\")\r\n",
        "    spark.sql(f\"create table if not exists {db_name}.users using PARQUET location '{source_path}'\")\r\n",
        "    \r\n",
        "create_spark_db('s2np_graphapi', stage2np + '/GraphAPI/Users')\r\n",
        "create_spark_db('s2p_graphapi', stage2p + '/GraphAPI/Users')"
      ],
      "outputs": [
        {
          "output_type": "display_data",
          "data": {
            "application/vnd.livy.statement-meta+json": {
              "spark_pool": "spark3p1sm",
              "session_id": 59,
              "statement_id": 31,
              "state": "finished",
              "livy_statement_state": "available",
              "queued_time": "2021-10-11T14:45:21.5534437Z",
              "session_start_time": null,
              "execution_start_time": "2021-10-11T14:45:28.2992658Z",
              "execution_finish_time": "2021-10-11T14:45:33.5156498Z"
            },
            "text/plain": "StatementMeta(spark3p1sm, 59, 31, Finished, Available)"
          },
          "metadata": {}
        }
      ],
      "execution_count": 31,
      "metadata": {
        "jupyter": {
          "source_hidden": false,
          "outputs_hidden": false
        },
        "nteract": {
          "transient": {
            "deleting": false
          }
        }
      }
    },
    {
      "cell_type": "markdown",
      "source": [
        "## Reset Data Processing"
      ],
      "metadata": {
        "nteract": {
          "transient": {
            "deleting": false
          }
        }
      }
    },
    {
      "cell_type": "code",
      "source": [
        "def reset_all_processing():\r\n",
        "    oea.rm_if_exists(stage2np + '/GraphAPI/Users')\r\n",
        "    oea.rm_if_exists(stage2p + '/GraphAPI/Users')\r\n",
        "    oea.drop_db('s2np_graphapi')\r\n",
        "    oea.drop_db('s2p_graphapi')\r\n",
        "\r\n",
        "#reset_all_processing()"
      ],
      "outputs": [
        {
          "output_type": "display_data",
          "data": {
            "application/vnd.livy.statement-meta+json": {
              "spark_pool": "spark3p1sm",
              "session_id": 59,
              "statement_id": 32,
              "state": "finished",
              "livy_statement_state": "available",
              "queued_time": "2021-10-11T14:45:21.6565067Z",
              "session_start_time": null,
              "execution_start_time": "2021-10-11T14:45:33.6216617Z",
              "execution_finish_time": "2021-10-11T14:45:33.7703133Z"
            },
            "text/plain": "StatementMeta(spark3p1sm, 59, 32, Finished, Available)"
          },
          "metadata": {}
        }
      ],
      "execution_count": 32,
      "metadata": {
        "jupyter": {
          "source_hidden": false,
          "outputs_hidden": false
        },
        "nteract": {
          "transient": {
            "deleting": false
          }
        }
      }
    },
    {
      "cell_type": "markdown",
      "source": [
        "## 2. M365_app_user_detail table\r\n",
        "Contains a sample m365 table to support data analysis in a Power BI dashboard.\r\n",
        "\r\n",
        "**Databases and tables used:**\r\n",
        "- None\r\n",
        "\r\n",
        "**JSON files used:**\r\n",
        "- m365_app_user_detail.json\r\n",
        "\r\n",
        "**Databases and tables created:**\r\n",
        "\r\n",
        "1. Spark DB: s2np_graphapi\r\n",
        "- Table: m365_app_user_detail"
      ],
      "metadata": {
        "nteract": {
          "transient": {
            "deleting": false
          }
        }
      }
    },
    {
      "cell_type": "code",
      "source": [
        "dfM365UserActivity = dfM365UserActivityRaw.select(explode('value').alias('exploded_values')).select(\"exploded_values.*\")"
      ],
      "outputs": [
        {
          "output_type": "display_data",
          "data": {
            "application/vnd.livy.statement-meta+json": {
              "spark_pool": "spark3p1sm",
              "session_id": 59,
              "statement_id": 33,
              "state": "finished",
              "livy_statement_state": "available",
              "queued_time": "2021-10-11T14:45:21.7501712Z",
              "session_start_time": null,
              "execution_start_time": "2021-10-11T14:45:33.8781094Z",
              "execution_finish_time": "2021-10-11T14:45:34.0278029Z"
            },
            "text/plain": "StatementMeta(spark3p1sm, 59, 33, Finished, Available)"
          },
          "metadata": {}
        }
      ],
      "execution_count": 33,
      "metadata": {
        "jupyter": {
          "source_hidden": false,
          "outputs_hidden": false
        },
        "nteract": {
          "transient": {
            "deleting": false
          }
        }
      }
    },
    {
      "cell_type": "markdown",
      "source": [
        "### Processing m365 activity \"details\" data \r\n",
        "This code block moves the relevant data from \"details\" and allocates them into their respective columns."
      ],
      "metadata": {
        "nteract": {
          "transient": {
            "deleting": false
          }
        }
      }
    },
    {
      "cell_type": "code",
      "source": [
        "import pyspark.sql.functions as f\r\n",
        "\r\n",
        "dfM365UserActivity = dfM365UserActivity.withColumn('reportPeriod', f.explode(f.col('details').reportPeriod)) \\\r\n",
        "                        .withColumn('excel', f.explode(f.col('details').excel)) \\\r\n",
        "                        .withColumn('excelWeb', f.explode(f.col('details').excelWeb)) \\\r\n",
        "                        .withColumn('outlook', f.explode(f.col('details').outlook)) \\\r\n",
        "                        .withColumn('outlookWeb', f.explode(f.col('details').outlookWeb)) \\\r\n",
        "                        .withColumn('powerPoint', f.explode(f.col('details').powerPoint)) \\\r\n",
        "                        .withColumn('powerPointWeb', f.explode(f.col('details').powerPointWeb)) \\\r\n",
        "                        .withColumn('teams', f.explode(f.col('details').teams)) \\\r\n",
        "                        .withColumn('teamsWeb', f.explode(f.col('details').teamsWeb)) \\\r\n",
        "                        .withColumn('word', f.explode(f.col('details').word)) \\\r\n",
        "                        .withColumn('wordWeb', f.explode(f.col('details').wordWeb)) \\\r\n",
        "                        .drop('details')\r\n",
        "\r\n",
        "display(dfM365UserActivity.limit(10))"
      ],
      "outputs": [
        {
          "output_type": "display_data",
          "data": {
            "application/vnd.livy.statement-meta+json": {
              "spark_pool": "spark3p1sm",
              "session_id": 59,
              "statement_id": 34,
              "state": "finished",
              "livy_statement_state": "available",
              "queued_time": "2021-10-11T14:45:21.8420529Z",
              "session_start_time": null,
              "execution_start_time": "2021-10-11T14:45:34.1296933Z",
              "execution_finish_time": "2021-10-11T14:45:36.8300603Z"
            },
            "text/plain": "StatementMeta(spark3p1sm, 59, 34, Finished, Available)"
          },
          "metadata": {}
        },
        {
          "output_type": "display_data",
          "data": {
            "application/vnd.synapse.widget-view+json": {
              "widget_id": "6e6b7da5-705a-48f4-9594-236db094ea4e",
              "widget_type": "Synapse.DataFrame"
            },
            "text/plain": "SynapseWidget(Synapse.DataFrame, 6e6b7da5-705a-48f4-9594-236db094ea4e)"
          },
          "metadata": {}
        }
      ],
      "execution_count": 34,
      "metadata": {
        "jupyter": {
          "source_hidden": false,
          "outputs_hidden": false
        },
        "nteract": {
          "transient": {
            "deleting": false
          }
        },
        "collapsed": false
      }
    },
    {
      "cell_type": "markdown",
      "source": [
        "## Write Data Back to Lake"
      ],
      "metadata": {
        "nteract": {
          "transient": {
            "deleting": false
          }
        }
      }
    },
    {
      "cell_type": "code",
      "source": [
        "# write back to the lake in stage 2 ds2_main directory\r\n",
        "dfM365UserActivity.write.format('parquet').mode('overwrite').save(stage2np + '/GraphAPI/M365_App_User_Detail')"
      ],
      "outputs": [
        {
          "output_type": "display_data",
          "data": {
            "application/vnd.livy.statement-meta+json": {
              "spark_pool": "spark3p1sm",
              "session_id": 59,
              "statement_id": 35,
              "state": "finished",
              "livy_statement_state": "available",
              "queued_time": "2021-10-11T14:45:21.9398379Z",
              "session_start_time": null,
              "execution_start_time": "2021-10-11T14:45:36.9437099Z",
              "execution_finish_time": "2021-10-11T14:45:39.730632Z"
            },
            "text/plain": "StatementMeta(spark3p1sm, 59, 35, Finished, Available)"
          },
          "metadata": {}
        }
      ],
      "execution_count": 35,
      "metadata": {
        "jupyter": {
          "source_hidden": false,
          "outputs_hidden": false
        },
        "nteract": {
          "transient": {
            "deleting": false
          }
        }
      }
    },
    {
      "cell_type": "markdown",
      "source": [
        "### Writing to Stage 2p\r\n",
        "Pseudonymizing M365 data"
      ],
      "metadata": {
        "nteract": {
          "transient": {
            "deleting": false
          }
        }
      }
    },
    {
      "cell_type": "code",
      "source": [
        "m365Schema = [['reportRefreshDate', 'string', 'no-op'],\r\n",
        "                        ['userPrincipalName', 'string', 'hash'],\r\n",
        "                        ['lastActivityDate', 'string', 'no-op'],\r\n",
        "                        ['reportPeriod', 'string', 'no-op'],\r\n",
        "                        ['excel', 'string', 'no-op'],\r\n",
        "                        ['excelWeb', 'string', 'no-op'],\r\n",
        "                        ['outlook', 'string', 'no-op'],\r\n",
        "                        ['outlookWeb', 'string', 'no-op'],\r\n",
        "                        ['powerPoint', 'string', 'no-op'],\r\n",
        "                        ['powerPointWeb', 'string', 'no-op'],\r\n",
        "                        ['teams', 'string', 'no-op'],\r\n",
        "                        ['teamsWeb', 'string', 'no-op'],\r\n",
        "                        ['word', 'string', 'no-op'],\r\n",
        "                        ['wordWeb', 'string', 'no-op']]\r\n",
        "\r\n",
        "\r\n",
        "df_pseudo, df_lookup = oea.pseudonymize(dfM365UserActivity, m365Schema)\r\n",
        "\r\n",
        "df_pseudo.write.format('parquet').mode('overwrite').save(stage2p + '/GraphAPI/M365_App_User_Detail')"
      ],
      "outputs": [
        {
          "output_type": "display_data",
          "data": {
            "application/vnd.livy.statement-meta+json": {
              "spark_pool": "spark3p1sm",
              "session_id": 59,
              "statement_id": 36,
              "state": "finished",
              "livy_statement_state": "available",
              "queued_time": "2021-10-11T14:45:22.0463762Z",
              "session_start_time": null,
              "execution_start_time": "2021-10-11T14:45:39.8339944Z",
              "execution_finish_time": "2021-10-11T14:45:42.580795Z"
            },
            "text/plain": "StatementMeta(spark3p1sm, 59, 36, Finished, Available)"
          },
          "metadata": {}
        }
      ],
      "execution_count": 36,
      "metadata": {
        "jupyter": {
          "source_hidden": false,
          "outputs_hidden": false
        },
        "nteract": {
          "transient": {
            "deleting": false
          }
        }
      }
    },
    {
      "cell_type": "markdown",
      "source": [
        "### Load to Spark DB"
      ],
      "metadata": {
        "nteract": {
          "transient": {
            "deleting": false
          }
        }
      }
    },
    {
      "cell_type": "code",
      "source": [
        "# Create spark db to allow for access to the data in the delta-lake via SQL on-demand.\r\n",
        "# This is only creating metadata for SQL on-demand, pointing to the data in the delta-lake.\r\n",
        "# This also makes it possible to connect in Power BI via the azure sql data source connector.\r\n",
        "def create_spark_db(db_name, source_path):\r\n",
        "    spark.sql(f'CREATE DATABASE IF NOT EXISTS {db_name}')\r\n",
        "    spark.sql(f\"DROP TABLE IF EXISTS {db_name}.m365_app_user_detail\")\r\n",
        "    spark.sql(f\"create table if not exists {db_name}.m365_app_user_detail using PARQUET location '{source_path}'\")\r\n",
        "    \r\n",
        "create_spark_db('s2np_graphapi', stage2np + '/GraphAPI/M365_App_User_Detail')\r\n",
        "create_spark_db('s2p_graphapi', stage2p + '/GraphAPI/M365_App_User_Detail')"
      ],
      "outputs": [
        {
          "output_type": "display_data",
          "data": {
            "application/vnd.livy.statement-meta+json": {
              "spark_pool": "spark3p1sm",
              "session_id": 59,
              "statement_id": 37,
              "state": "finished",
              "livy_statement_state": "available",
              "queued_time": "2021-10-11T14:45:22.2922989Z",
              "session_start_time": null,
              "execution_start_time": "2021-10-11T14:45:42.6854712Z",
              "execution_finish_time": "2021-10-11T14:45:50.4929569Z"
            },
            "text/plain": "StatementMeta(spark3p1sm, 59, 37, Finished, Available)"
          },
          "metadata": {}
        }
      ],
      "execution_count": 37,
      "metadata": {
        "jupyter": {
          "source_hidden": false,
          "outputs_hidden": false
        },
        "nteract": {
          "transient": {
            "deleting": false
          }
        }
      }
    },
    {
      "cell_type": "markdown",
      "source": [
        "## 3. Teams_activity_user_details table\r\n",
        "Contains a sample Teams table to support data analysis in a Power BI dashboard.\r\n",
        "\r\n",
        "**Databases and tables used:**\r\n",
        "- None\r\n",
        "\r\n",
        "**JSON files used:**\r\n",
        "- teams_activity_user_details.json\r\n",
        "\r\n",
        "**Databases and tables created:**\r\n",
        "\r\n",
        "1. Spark DB: s2np_graphapi\r\n",
        "- Table: teams_activity_user_details"
      ],
      "metadata": {
        "nteract": {
          "transient": {
            "deleting": false
          }
        }
      }
    },
    {
      "cell_type": "code",
      "source": [
        "dfTeamsUserActivity = dfTeamsUserActivityRaw.select(explode('value').alias('exploded_values')).select(\"exploded_values.*\")\r\n",
        "display(dfTeamsUserActivity.limit(10))"
      ],
      "outputs": [
        {
          "output_type": "display_data",
          "data": {
            "application/vnd.livy.statement-meta+json": {
              "spark_pool": "spark3p1sm",
              "session_id": 59,
              "statement_id": 38,
              "state": "finished",
              "livy_statement_state": "available",
              "queued_time": "2021-10-11T14:45:22.4549599Z",
              "session_start_time": null,
              "execution_start_time": "2021-10-11T14:45:50.6051809Z",
              "execution_finish_time": "2021-10-11T14:45:51.6915488Z"
            },
            "text/plain": "StatementMeta(spark3p1sm, 59, 38, Finished, Available)"
          },
          "metadata": {}
        },
        {
          "output_type": "display_data",
          "data": {
            "application/vnd.synapse.widget-view+json": {
              "widget_id": "b0bee655-d79b-4f16-8f2c-f92305eedd29",
              "widget_type": "Synapse.DataFrame"
            },
            "text/plain": "SynapseWidget(Synapse.DataFrame, b0bee655-d79b-4f16-8f2c-f92305eedd29)"
          },
          "metadata": {}
        }
      ],
      "execution_count": 38,
      "metadata": {
        "jupyter": {
          "source_hidden": false,
          "outputs_hidden": false
        },
        "nteract": {
          "transient": {
            "deleting": false
          }
        },
        "collapsed": false
      }
    },
    {
      "cell_type": "markdown",
      "source": [
        "## Write Data Back to Lake"
      ],
      "metadata": {
        "nteract": {
          "transient": {
            "deleting": false
          }
        }
      }
    },
    {
      "cell_type": "code",
      "source": [
        "# write back to the lake in stage 2 ds2_main directory\r\n",
        "dfTeamsUserActivity.write.format('parquet').mode('overwrite').save(stage2np + '/GraphAPI/Teams_Activity_User_Detail')"
      ],
      "outputs": [
        {
          "output_type": "display_data",
          "data": {
            "application/vnd.livy.statement-meta+json": {
              "spark_pool": "spark3p1sm",
              "session_id": 59,
              "statement_id": 39,
              "state": "finished",
              "livy_statement_state": "available",
              "queued_time": "2021-10-11T14:45:22.6368036Z",
              "session_start_time": null,
              "execution_start_time": "2021-10-11T14:45:51.8263489Z",
              "execution_finish_time": "2021-10-11T14:45:53.6582334Z"
            },
            "text/plain": "StatementMeta(spark3p1sm, 59, 39, Finished, Available)"
          },
          "metadata": {}
        }
      ],
      "execution_count": 39,
      "metadata": {
        "jupyter": {
          "source_hidden": false,
          "outputs_hidden": false
        },
        "nteract": {
          "transient": {
            "deleting": false
          }
        }
      }
    },
    {
      "cell_type": "markdown",
      "source": [
        "### Writing to Stage 2p\r\n",
        "Pseudonymizing Teams data"
      ],
      "metadata": {
        "nteract": {
          "transient": {
            "deleting": false
          }
        }
      }
    },
    {
      "cell_type": "code",
      "source": [
        "teamsSchema = [['reportRefreshDate', 'string', 'no-op'],\r\n",
        "                        ['reportPeriod', 'string', 'no-op'],\r\n",
        "                        ['userPrincipalName', 'string', 'hash'],\r\n",
        "                        ['privateChatMessageCount', 'integer', 'no-op'],\r\n",
        "                        ['teamChatMessageCount', 'integer', 'no-op'],\r\n",
        "                        ['meetingsAttendedCount', 'integer', 'no-op'],\r\n",
        "                        ['meetingCount', 'integer', 'no-op'],\r\n",
        "                        ['audioDuration', 'string', 'no-op'],\r\n",
        "                        ['videoDuration', 'string', 'no-op']]\r\n",
        "\r\n",
        "df_pseudo, df_lookup = oea.pseudonymize(dfTeamsUserActivity, teamsSchema)\r\n",
        "\r\n",
        "df_pseudo.write.format('parquet').mode('overwrite').save(stage2p + '/GraphAPI/Teams_Activity_User_Detail')"
      ],
      "outputs": [
        {
          "output_type": "display_data",
          "data": {
            "application/vnd.livy.statement-meta+json": {
              "spark_pool": "spark3p1sm",
              "session_id": 59,
              "statement_id": 40,
              "state": "finished",
              "livy_statement_state": "available",
              "queued_time": "2021-10-11T14:45:22.7486601Z",
              "session_start_time": null,
              "execution_start_time": "2021-10-11T14:45:54.113771Z",
              "execution_finish_time": "2021-10-11T14:45:55.9161978Z"
            },
            "text/plain": "StatementMeta(spark3p1sm, 59, 40, Finished, Available)"
          },
          "metadata": {}
        }
      ],
      "execution_count": 40,
      "metadata": {
        "jupyter": {
          "source_hidden": false,
          "outputs_hidden": false
        },
        "nteract": {
          "transient": {
            "deleting": false
          }
        }
      }
    },
    {
      "cell_type": "markdown",
      "source": [
        "### Load to Spark DB"
      ],
      "metadata": {
        "nteract": {
          "transient": {
            "deleting": false
          }
        }
      }
    },
    {
      "cell_type": "code",
      "source": [
        "# Create spark db to allow for access to the data in the delta-lake via SQL on-demand.\r\n",
        "# This is only creating metadata for SQL on-demand, pointing to the data in the delta-lake.\r\n",
        "# This also makes it possible to connect in Power BI via the azure sql data source connector.\r\n",
        "def create_spark_db(db_name, source_path):\r\n",
        "    spark.sql(f'CREATE DATABASE IF NOT EXISTS {db_name}')\r\n",
        "    spark.sql(f\"DROP TABLE IF EXISTS {db_name}.teams_activity_user_details\")\r\n",
        "    spark.sql(f\"create table if not exists {db_name}.teams_activity_user_details using PARQUET location '{source_path}'\")\r\n",
        "    \r\n",
        "create_spark_db('s2np_graphapi', stage2np + '/GraphAPI/Teams_Activity_User_Detail')\r\n",
        "create_spark_db('s2p_graphapi', stage2p + '/GraphAPI/Teams_Activity_User_Detail')\r\n",
        "\r\n",
        "# Create spark db to allow for access to the data in the delta-lake via SQL on-demand.\r\n",
        "# This is only creating metadata for SQL on-demand, pointing to the data in the delta-lake.\r\n",
        "# This also makes it possible to connect in Power BI via the azure sql data source connector.\r\n",
        "def create_spark_db(db_name, source_path):\r\n",
        "    spark.sql(f'CREATE DATABASE IF NOT EXISTS {db_name}')\r\n",
        "    spark.sql(f\"DROP TABLE IF EXISTS {db_name}.m365_app_user_detail\")\r\n",
        "    spark.sql(f\"create table if not exists {db_name}.m365_app_user_detail using PARQUET location '{source_path}'\")\r\n",
        "    \r\n",
        "create_spark_db('s2np_graphapi', stage2np + '/GraphAPI/M365_App_User_Detail')\r\n",
        "create_spark_db('s2p_graphapi', stage2p + '/GraphAPI/M365_App_User_Detail')"
      ],
      "outputs": [
        {
          "output_type": "display_data",
          "data": {
            "application/vnd.livy.statement-meta+json": {
              "spark_pool": "spark3p1sm",
              "session_id": 59,
              "statement_id": 41,
              "state": "finished",
              "livy_statement_state": "available",
              "queued_time": "2021-10-11T14:45:22.8458498Z",
              "session_start_time": null,
              "execution_start_time": "2021-10-11T14:45:56.0232774Z",
              "execution_finish_time": "2021-10-11T14:46:25.9316322Z"
            },
            "text/plain": "StatementMeta(spark3p1sm, 59, 41, Finished, Available)"
          },
          "metadata": {}
        }
      ],
      "execution_count": 41,
      "metadata": {
        "jupyter": {
          "source_hidden": false,
          "outputs_hidden": false
        },
        "nteract": {
          "transient": {
            "deleting": false
          }
        }
      }
    },
    {
      "cell_type": "markdown",
      "source": [
        "## Reset Data Processing"
      ],
      "metadata": {
        "nteract": {
          "transient": {
            "deleting": false
          }
        }
      }
    },
    {
      "cell_type": "code",
      "source": [
        "def reset_all_processing():\r\n",
        "    oea.rm_if_exists(stage2np + '/GraphAPI/')\r\n",
        "    oea.rm_if_exists(stage2p + '/GraphAPI/')\r\n",
        "    oea.drop_db('s2np_graphapi')\r\n",
        "    oea.drop_db('s2p_graphapi')\r\n",
        "\r\n",
        "#reset_all_processing()"
      ],
      "outputs": [
        {
          "output_type": "display_data",
          "data": {
            "application/vnd.livy.statement-meta+json": {
              "spark_pool": "spark3p1sm",
              "session_id": 59,
              "statement_id": 42,
              "state": "finished",
              "livy_statement_state": "available",
              "queued_time": "2021-10-11T14:45:22.9694152Z",
              "session_start_time": null,
              "execution_start_time": "2021-10-11T14:46:26.0377832Z",
              "execution_finish_time": "2021-10-11T14:46:26.1816408Z"
            },
            "text/plain": "StatementMeta(spark3p1sm, 59, 42, Finished, Available)"
          },
          "metadata": {}
        }
      ],
      "execution_count": 42,
      "metadata": {
        "jupyter": {
          "source_hidden": false,
          "outputs_hidden": false
        },
        "nteract": {
          "transient": {
            "deleting": false
          }
        }
      }
    },
    {
      "cell_type": "code",
      "source": [],
      "outputs": [],
      "execution_count": null,
      "metadata": {
        "jupyter": {
          "source_hidden": false,
          "outputs_hidden": false
        },
        "nteract": {
          "transient": {
            "deleting": false
          }
        }
      }
    }
  ],
  "metadata": {
    "kernelspec": {
      "name": "synapse_pyspark",
      "language": "Python",
      "display_name": "Synapse PySpark"
    },
    "language_info": {
      "name": "python"
    },
    "kernel_info": {
      "name": "synapse_pyspark"
    },
    "save_output": true,
    "synapse_widget": {
      "version": "0.1",
      "state": {
        "b1453f39-1ea2-4e4d-a888-2ef185f78340": {
          "type": "Synapse.DataFrame",
          "sync_state": {
            "table": {
              "rows": [
                {
                  "0": "Long",
                  "1": "Abigail",
                  "2": "abigaillong3@contosoisd3.onmicrosoft.com",
                  "3": "0d444980-3123-46f4-85d3-6f49e4619ea5"
                },
                {
                  "0": "Smith",
                  "1": "Abigail",
                  "2": "abigailsmith35@contosoisd3.onmicrosoft.com",
                  "3": "c19234e7-a816-41af-9524-4be4092fc559"
                },
                {
                  "0": "Jordan",
                  "1": "Adrian",
                  "2": "adrianjordan15@contosoisd3.onmicrosoft.com",
                  "3": "7a2ca37f-d1f3-4be8-8abe-8711d4eea8d6"
                },
                {
                  "0": "Long",
                  "1": "Amanda",
                  "2": "amandalong47@contosoisd3.onmicrosoft.com",
                  "3": "154f2b2c-9e73-4ecc-917e-06c0e440ea15"
                },
                {
                  "0": "Berger",
                  "1": "Amber",
                  "2": "amberberger79@contosoisd3.onmicrosoft.com",
                  "3": "dbc10b91-8d2c-4cf2-ac08-985ad3b4d6b4"
                },
                {
                  "0": "Buchanan",
                  "1": "Amber",
                  "2": "amberbuchanan5@contosoisd3.onmicrosoft.com",
                  "3": "3f901837-788d-407b-b6e5-3dd9018011fe"
                },
                {
                  "0": "Cook",
                  "1": "Amber",
                  "2": "ambercook62@contosoisd3.onmicrosoft.com",
                  "3": "8ec9eba7-aab5-4f79-b798-47320dbbef0d"
                },
                {
                  "0": "Price",
                  "1": "Amy",
                  "2": "amyprice29@contosoisd3.onmicrosoft.com",
                  "3": "ce02f59b-7ab4-426d-be15-f831bef543a8"
                },
                {
                  "0": "Berry",
                  "1": "Andrea",
                  "2": "andreaberry63@contosoisd3.onmicrosoft.com",
                  "3": "1e9fb7e6-a12b-43d9-bf5a-c0c832226db8"
                },
                {
                  "0": "Hunter",
                  "1": "Andrew",
                  "2": "andrewhunter25@contosoisd3.onmicrosoft.com",
                  "3": "ebdecc9f-bfd9-4a32-bc62-07554666ec00"
                }
              ],
              "schema": [
                {
                  "key": "0",
                  "name": "surname",
                  "type": "string"
                },
                {
                  "key": "1",
                  "name": "givenName",
                  "type": "string"
                },
                {
                  "key": "2",
                  "name": "userPrincipalName",
                  "type": "string"
                },
                {
                  "key": "3",
                  "name": "id",
                  "type": "string"
                }
              ]
            },
            "isSummary": false,
            "language": "scala"
          },
          "persist_state": {
            "view": {
              "type": "details",
              "tableOptions": {},
              "chartOptions": {
                "chartType": "bar",
                "aggregationType": "count",
                "categoryFieldKeys": [
                  "0"
                ],
                "seriesFieldKeys": [
                  "0"
                ],
                "isStacked": false
              }
            }
          }
        },
        "6e6b7da5-705a-48f4-9594-236db094ea4e": {
          "type": "Synapse.DataFrame",
          "sync_state": {
            "table": {
              "rows": [
                {
                  "0": "2021-10-11",
                  "1": "user",
                  "2": "2021-10-11",
                  "3": "7",
                  "4": "false",
                  "5": "false",
                  "6": "false",
                  "7": "false",
                  "8": "false",
                  "9": "false",
                  "10": "true",
                  "11": "false",
                  "12": "false",
                  "13": "false"
                },
                {
                  "0": "2021-10-04",
                  "1": "user",
                  "2": "2021-10-04",
                  "3": "7",
                  "4": "false",
                  "5": "false",
                  "6": "false",
                  "7": "false",
                  "8": "false",
                  "9": "false",
                  "10": "true",
                  "11": "false",
                  "12": "false",
                  "13": "false"
                },
                {
                  "0": "2021-09-27",
                  "1": "user",
                  "2": "2021-09-27",
                  "3": "7",
                  "4": "false",
                  "5": "false",
                  "6": "false",
                  "7": "true",
                  "8": "false",
                  "9": "false",
                  "10": "true",
                  "11": "false",
                  "12": "false",
                  "13": "false"
                },
                {
                  "0": "2021-09-27",
                  "1": "user",
                  "2": "2021-09-27",
                  "3": "7",
                  "4": "false",
                  "5": "false",
                  "6": "false",
                  "7": "false",
                  "8": "false",
                  "9": "false",
                  "10": "false",
                  "11": "true",
                  "12": "true",
                  "13": "false"
                },
                {
                  "0": "2021-09-13",
                  "1": "user",
                  "2": "2021-09-13",
                  "3": "7",
                  "4": "true",
                  "5": "false",
                  "6": "false",
                  "7": "false",
                  "8": "false",
                  "9": "false",
                  "10": "false",
                  "11": "true",
                  "12": "false",
                  "13": "false"
                },
                {
                  "0": "2021-09-13",
                  "1": "user",
                  "2": "2021-09-13",
                  "3": "7",
                  "4": "true",
                  "5": "false",
                  "6": "false",
                  "7": "false",
                  "8": "false",
                  "9": "false",
                  "10": "true",
                  "11": "false",
                  "12": "false",
                  "13": "false"
                },
                {
                  "0": "2021-09-06",
                  "1": "user",
                  "2": "2021-09-06",
                  "3": "7",
                  "4": "false",
                  "5": "false",
                  "6": "false",
                  "7": "false",
                  "8": "false",
                  "9": "false",
                  "10": "true",
                  "11": "false",
                  "12": "true",
                  "13": "false"
                },
                {
                  "0": "2021-08-30",
                  "1": "user",
                  "2": "2021-08-30",
                  "3": "7",
                  "4": "true",
                  "5": "false",
                  "6": "false",
                  "7": "true",
                  "8": "false",
                  "9": "false",
                  "10": "false",
                  "11": "false",
                  "12": "false",
                  "13": "false"
                },
                {
                  "0": "2021-08-30",
                  "1": "user",
                  "2": "2021-08-30",
                  "3": "7",
                  "4": "false",
                  "5": "false",
                  "6": "false",
                  "7": "true",
                  "8": "false",
                  "9": "false",
                  "10": "true",
                  "11": "false",
                  "12": "false",
                  "13": "false"
                },
                {
                  "0": "2021-08-30",
                  "1": "user",
                  "2": "2021-08-30",
                  "3": "7",
                  "4": "true",
                  "5": "false",
                  "6": "false",
                  "7": "false",
                  "8": "false",
                  "9": "false",
                  "10": "true",
                  "11": "false",
                  "12": "false",
                  "13": "false"
                }
              ],
              "schema": [
                {
                  "key": "0",
                  "name": "reportRefreshDate",
                  "type": "string"
                },
                {
                  "key": "1",
                  "name": "userPrincipalName",
                  "type": "string"
                },
                {
                  "key": "2",
                  "name": "lastActivityDate",
                  "type": "string"
                },
                {
                  "key": "3",
                  "name": "reportPeriod",
                  "type": "string"
                },
                {
                  "key": "4",
                  "name": "excel",
                  "type": "string"
                },
                {
                  "key": "5",
                  "name": "excelWeb",
                  "type": "string"
                },
                {
                  "key": "6",
                  "name": "outlook",
                  "type": "string"
                },
                {
                  "key": "7",
                  "name": "outlookWeb",
                  "type": "string"
                },
                {
                  "key": "8",
                  "name": "powerPoint",
                  "type": "string"
                },
                {
                  "key": "9",
                  "name": "powerPointWeb",
                  "type": "string"
                },
                {
                  "key": "10",
                  "name": "teams",
                  "type": "string"
                },
                {
                  "key": "11",
                  "name": "teamsWeb",
                  "type": "string"
                },
                {
                  "key": "12",
                  "name": "word",
                  "type": "string"
                },
                {
                  "key": "13",
                  "name": "wordWeb",
                  "type": "string"
                }
              ]
            },
            "isSummary": false,
            "language": "scala"
          },
          "persist_state": {
            "view": {
              "type": "details",
              "tableOptions": {},
              "chartOptions": {
                "chartType": "bar",
                "aggregationType": "count",
                "categoryFieldKeys": [
                  "0"
                ],
                "seriesFieldKeys": [
                  "0"
                ],
                "isStacked": false
              }
            }
          }
        },
        "b0bee655-d79b-4f16-8f2c-f92305eedd29": {
          "type": "Synapse.DataFrame",
          "sync_state": {
            "table": {
              "rows": [
                {
                  "0": "2021-09-06",
                  "1": "7",
                  "2": "user",
                  "3": "10",
                  "4": "0",
                  "5": "6",
                  "6": "4",
                  "7": "PT0S",
                  "8": "PT0S"
                },
                {
                  "0": "2021-09-06",
                  "1": "7",
                  "2": "user",
                  "3": "10",
                  "4": "0",
                  "5": "1",
                  "6": "6",
                  "7": "PT0S",
                  "8": "PT0S"
                },
                {
                  "0": "2021-09-06",
                  "1": "7",
                  "2": "user",
                  "3": "6",
                  "4": "0",
                  "5": "1",
                  "6": "10",
                  "7": "PT0S",
                  "8": "PT0S"
                },
                {
                  "0": "2021-09-06",
                  "1": "7",
                  "2": "user",
                  "3": "10",
                  "4": "0",
                  "5": "3",
                  "6": "4",
                  "7": "PT0S",
                  "8": "PT0S"
                },
                {
                  "0": "2021-09-06",
                  "1": "7",
                  "2": "user",
                  "3": "1",
                  "4": "0",
                  "5": "10",
                  "6": "4",
                  "7": "PT0S",
                  "8": "PT0S"
                },
                {
                  "0": "2021-09-06",
                  "1": "7",
                  "2": "user",
                  "3": "10",
                  "4": "0",
                  "5": "8",
                  "6": "2",
                  "7": "PT0S",
                  "8": "PT0S"
                },
                {
                  "0": "2021-09-06",
                  "1": "7",
                  "2": "user",
                  "3": "7",
                  "4": "0",
                  "5": "3",
                  "6": "10",
                  "7": "PT0S",
                  "8": "PT0S"
                },
                {
                  "0": "2021-09-06",
                  "1": "7",
                  "2": "user",
                  "3": "6",
                  "4": "0",
                  "5": "4",
                  "6": "10",
                  "7": "PT0S",
                  "8": "PT0S"
                },
                {
                  "0": "2021-09-06",
                  "1": "7",
                  "2": "user",
                  "3": "3",
                  "4": "0",
                  "5": "10",
                  "6": "8",
                  "7": "PT0S",
                  "8": "PT0S"
                },
                {
                  "0": "2021-09-06",
                  "1": "7",
                  "2": "user",
                  "3": "5",
                  "4": "0",
                  "5": "5",
                  "6": "10",
                  "7": "PT0S",
                  "8": "PT0S"
                }
              ],
              "schema": [
                {
                  "key": "0",
                  "name": "reportRefreshDate",
                  "type": "string"
                },
                {
                  "key": "1",
                  "name": "reportPeriod",
                  "type": "string"
                },
                {
                  "key": "2",
                  "name": "userPrincipalName",
                  "type": "string"
                },
                {
                  "key": "3",
                  "name": "privateChatMessageCount",
                  "type": "int"
                },
                {
                  "key": "4",
                  "name": "teamChatMessageCount",
                  "type": "int"
                },
                {
                  "key": "5",
                  "name": "meetingsAttendedCount",
                  "type": "int"
                },
                {
                  "key": "6",
                  "name": "meetingCount",
                  "type": "int"
                },
                {
                  "key": "7",
                  "name": "audioDuration",
                  "type": "string"
                },
                {
                  "key": "8",
                  "name": "videoDuration",
                  "type": "string"
                }
              ]
            },
            "isSummary": false,
            "language": "scala"
          },
          "persist_state": {
            "view": {
              "type": "details",
              "tableOptions": {},
              "chartOptions": {
                "chartType": "bar",
                "aggregationType": "sum",
                "categoryFieldKeys": [
                  "0"
                ],
                "seriesFieldKeys": [
                  "3"
                ],
                "isStacked": false
              }
            }
          }
        }
      }
    }
  },
  "nbformat": 4,
  "nbformat_minor": 2
}