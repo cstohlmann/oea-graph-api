{
  "nbformat": 4,
  "nbformat_minor": 2,
  "metadata": {
    "kernelspec": {
      "name": "synapse_pyspark",
      "display_name": "Synapse PySpark"
    },
    "language_info": {
      "name": "python"
    },
    "save_output": true,
    "synapse_widget": {
      "version": "0.1",
      "state": {
        "f7cb3327-e39b-42c0-87fa-32507488be41": {
          "type": "Synapse.DataFrame",
          "sync_state": {
            "table": {
              "rows": [
                {
                  "0": "Long",
                  "1": "Abigail",
                  "2": "abigaillong3@contosoisd3.onmicrosoft.com",
                  "3": "0d444980-3123-46f4-85d3-6f49e4619ea5"
                },
                {
                  "0": "Smith",
                  "1": "Abigail",
                  "2": "abigailsmith35@contosoisd3.onmicrosoft.com",
                  "3": "c19234e7-a816-41af-9524-4be4092fc559"
                },
                {
                  "0": "Admin",
                  "1": "Global",
                  "2": "admin@contosoisd3.onmicrosoft.com",
                  "3": "7951c64a-b45d-4adb-8842-5e7ab60d17e1"
                },
                {
                  "0": "Jordan",
                  "1": "Adrian",
                  "2": "adrianjordan15@contosoisd3.onmicrosoft.com",
                  "3": "7a2ca37f-d1f3-4be8-8abe-8711d4eea8d6"
                },
                {
                  "2": "agundapaneni_microsoft.com#EXT#@contosoisd3.onmicrosoft.com",
                  "3": "34b26f30-cbfc-47ec-9131-27fef4433705"
                },
                {
                  "0": "Long",
                  "1": "Amanda",
                  "2": "amandalong47@contosoisd3.onmicrosoft.com",
                  "3": "154f2b2c-9e73-4ecc-917e-06c0e440ea15"
                },
                {
                  "0": "Berger",
                  "1": "Amber",
                  "2": "amberberger79@contosoisd3.onmicrosoft.com",
                  "3": "dbc10b91-8d2c-4cf2-ac08-985ad3b4d6b4"
                },
                {
                  "0": "Buchanan",
                  "1": "Amber",
                  "2": "amberbuchanan5@contosoisd3.onmicrosoft.com",
                  "3": "3f901837-788d-407b-b6e5-3dd9018011fe"
                },
                {
                  "0": "Cook",
                  "1": "Amber",
                  "2": "ambercook62@contosoisd3.onmicrosoft.com",
                  "3": "8ec9eba7-aab5-4f79-b798-47320dbbef0d"
                },
                {
                  "0": "Price",
                  "1": "Amy",
                  "2": "amyprice29@contosoisd3.onmicrosoft.com",
                  "3": "ce02f59b-7ab4-426d-be15-f831bef543a8"
                }
              ],
              "schema": [
                {
                  "key": "0",
                  "name": "surname",
                  "type": "string"
                },
                {
                  "key": "1",
                  "name": "givenName",
                  "type": "string"
                },
                {
                  "key": "2",
                  "name": "userPrincipalName",
                  "type": "string"
                },
                {
                  "key": "3",
                  "name": "id",
                  "type": "string"
                }
              ]
            },
            "isSummary": false,
            "language": "scala"
          },
          "persist_state": {
            "view": {
              "type": "details",
              "tableOptions": {},
              "chartOptions": {
                "chartType": "bar",
                "aggregationType": "count",
                "categoryFieldKeys": [
                  "0"
                ],
                "seriesFieldKeys": [
                  "0"
                ],
                "isStacked": false
              }
            }
          }
        },
        "c95b89c8-7b82-4436-9053-e7927f15dde8": {
          "type": "Synapse.DataFrame",
          "sync_state": {
            "table": {
              "rows": [
                {
                  "0": "2021-09-20",
                  "1": "7",
                  "2": "CD49B90A5B5561178CFEA18528430011",
                  "3": "0",
                  "4": "0",
                  "5": "0",
                  "6": "0",
                  "7": "PT0S"
                },
                {
                  "0": "2021-09-20",
                  "1": "7",
                  "2": "AAB70CEFCE617F3C2D75E91A5AC30234",
                  "3": "0",
                  "4": "0",
                  "5": "0",
                  "6": "0",
                  "7": "PT0S"
                },
                {
                  "0": "2021-09-20",
                  "1": "7",
                  "2": "032CECCC50B05F5187E9881BF47441E7",
                  "3": "0",
                  "4": "0",
                  "5": "0",
                  "6": "0",
                  "7": "PT0S"
                },
                {
                  "0": "2021-09-20",
                  "1": "7",
                  "2": "0317FECA322C73C305521137CAAE0E45",
                  "3": "0",
                  "4": "0",
                  "5": "0",
                  "6": "0",
                  "7": "PT0S"
                },
                {
                  "0": "2021-09-20",
                  "1": "7",
                  "2": "9469174B1915C8F874E68B2F09719C6E",
                  "3": "0",
                  "4": "0",
                  "5": "0",
                  "6": "0",
                  "7": "PT0S"
                },
                {
                  "0": "2021-09-20",
                  "1": "7",
                  "2": "DD7363E36691D51FE18B164003268C8D",
                  "3": "0",
                  "4": "0",
                  "5": "0",
                  "6": "0",
                  "7": "PT0S"
                },
                {
                  "0": "2021-09-20",
                  "1": "7",
                  "2": "7C5FA029D40D811FA6F521202623714C",
                  "3": "0",
                  "4": "0",
                  "5": "0",
                  "6": "0",
                  "7": "PT0S"
                },
                {
                  "0": "2021-09-20",
                  "1": "7",
                  "2": "724BDFFAE765699D85E62A195BC20DDB",
                  "3": "0",
                  "4": "0",
                  "5": "0",
                  "6": "0",
                  "7": "PT0S"
                },
                {
                  "0": "2021-09-20",
                  "1": "7",
                  "2": "7F662E6884C87A883AEB43DE6627D6E8",
                  "3": "0",
                  "4": "0",
                  "5": "0",
                  "6": "0",
                  "7": "PT0S"
                },
                {
                  "0": "2021-09-20",
                  "1": "7",
                  "2": "A01FC1BB0CE485B592445CD54980D7AE",
                  "3": "0",
                  "4": "0",
                  "5": "0",
                  "6": "0",
                  "7": "PT0S"
                }
              ],
              "schema": [
                {
                  "key": "0",
                  "name": "reportRefreshDate",
                  "type": "string"
                },
                {
                  "key": "1",
                  "name": "reportPeriod",
                  "type": "string"
                },
                {
                  "key": "2",
                  "name": "userPrincipalName",
                  "type": "string"
                },
                {
                  "key": "3",
                  "name": "privateChatMessageCount",
                  "type": "int"
                },
                {
                  "key": "4",
                  "name": "teamChatMessageCount",
                  "type": "int"
                },
                {
                  "key": "5",
                  "name": "meetingsAttendedCount",
                  "type": "int"
                },
                {
                  "key": "6",
                  "name": "meetingCount",
                  "type": "int"
                },
                {
                  "key": "7",
                  "name": "audioDuration",
                  "type": "string"
                }
              ]
            },
            "isSummary": false,
            "language": "scala"
          },
          "persist_state": {
            "view": {
              "type": "details",
              "tableOptions": {},
              "chartOptions": {
                "chartType": "bar",
                "aggregationType": "sum",
                "categoryFieldKeys": [
                  "0"
                ],
                "seriesFieldKeys": [
                  "3"
                ],
                "isStacked": false
              }
            }
          }
        },
        "dc059b89-52cd-4f7e-bb51-3adf743b6776": {
          "type": "Synapse.DataFrame",
          "sync_state": {
            "table": {
              "rows": [
                {
                  "0": "2021-09-20",
                  "1": "6264C78B91A5916530BEF9264AB606AE",
                  "2": "",
                  "3": [
                    {
                      "excelWeb": "false",
                      "outlookWeb": "false",
                      "powerPoint": "false",
                      "teamsWeb": "false",
                      "teams": "false",
                      "outlook": "false",
                      "reportPeriod": "30",
                      "excel": "false",
                      "powerPointWeb": "false",
                      "wordWeb": "false",
                      "word": "false"
                    }
                  ]
                },
                {
                  "0": "2021-09-20",
                  "1": "ACE06379C6EA23334C70F4BFC7BD1E1D",
                  "2": "",
                  "3": [
                    {
                      "excelWeb": "false",
                      "outlookWeb": "false",
                      "powerPoint": "false",
                      "teamsWeb": "false",
                      "teams": "false",
                      "outlook": "false",
                      "reportPeriod": "30",
                      "excel": "false",
                      "powerPointWeb": "false",
                      "wordWeb": "false",
                      "word": "false"
                    }
                  ]
                },
                {
                  "0": "2021-09-20",
                  "1": "CDAC7760D9F7F1B72610C5857EB54008",
                  "2": "",
                  "3": [
                    {
                      "excelWeb": "false",
                      "outlookWeb": "false",
                      "powerPoint": "false",
                      "teamsWeb": "false",
                      "teams": "false",
                      "outlook": "false",
                      "reportPeriod": "30",
                      "excel": "false",
                      "powerPointWeb": "false",
                      "wordWeb": "false",
                      "word": "false"
                    }
                  ]
                },
                {
                  "0": "2021-09-20",
                  "1": "3047A71317C3B8282B929F5BAE4383F6",
                  "2": "",
                  "3": [
                    {
                      "excelWeb": "false",
                      "outlookWeb": "false",
                      "powerPoint": "false",
                      "teamsWeb": "false",
                      "teams": "false",
                      "outlook": "false",
                      "reportPeriod": "30",
                      "excel": "false",
                      "powerPointWeb": "false",
                      "wordWeb": "false",
                      "word": "false"
                    }
                  ]
                },
                {
                  "0": "2021-09-20",
                  "1": "1849236169168FEEF211AD2BBBF7610E",
                  "2": "",
                  "3": [
                    {
                      "excelWeb": "false",
                      "outlookWeb": "false",
                      "powerPoint": "false",
                      "teamsWeb": "false",
                      "teams": "false",
                      "outlook": "false",
                      "reportPeriod": "30",
                      "excel": "false",
                      "powerPointWeb": "false",
                      "wordWeb": "false",
                      "word": "false"
                    }
                  ]
                },
                {
                  "0": "2021-09-20",
                  "1": "FBDEAFFC7CC887224E01A7C651383799",
                  "2": "",
                  "3": [
                    {
                      "excelWeb": "false",
                      "outlookWeb": "false",
                      "powerPoint": "false",
                      "teamsWeb": "false",
                      "teams": "false",
                      "outlook": "false",
                      "reportPeriod": "30",
                      "excel": "false",
                      "powerPointWeb": "false",
                      "wordWeb": "false",
                      "word": "false"
                    }
                  ]
                },
                {
                  "0": "2021-09-20",
                  "1": "9904821BDC38C789ADFACE9E628FCC2A",
                  "2": "",
                  "3": [
                    {
                      "excelWeb": "false",
                      "outlookWeb": "false",
                      "powerPoint": "false",
                      "teamsWeb": "false",
                      "teams": "false",
                      "outlook": "false",
                      "reportPeriod": "30",
                      "excel": "false",
                      "powerPointWeb": "false",
                      "wordWeb": "false",
                      "word": "false"
                    }
                  ]
                },
                {
                  "0": "2021-09-20",
                  "1": "0317FECA322C73C305521137CAAE0E45",
                  "2": "",
                  "3": [
                    {
                      "excelWeb": "false",
                      "outlookWeb": "false",
                      "powerPoint": "false",
                      "teamsWeb": "false",
                      "teams": "false",
                      "outlook": "false",
                      "reportPeriod": "30",
                      "excel": "false",
                      "powerPointWeb": "false",
                      "wordWeb": "false",
                      "word": "false"
                    }
                  ]
                },
                {
                  "0": "2021-09-20",
                  "1": "EB1F8C8325036876AA94989B509EBFB6",
                  "2": "",
                  "3": [
                    {
                      "excelWeb": "false",
                      "outlookWeb": "false",
                      "powerPoint": "false",
                      "teamsWeb": "false",
                      "teams": "false",
                      "outlook": "false",
                      "reportPeriod": "30",
                      "excel": "false",
                      "powerPointWeb": "false",
                      "wordWeb": "false",
                      "word": "false"
                    }
                  ]
                },
                {
                  "0": "2021-09-20",
                  "1": "46E4FFF7C99864AA2F62A4D76BE701CF",
                  "2": "",
                  "3": [
                    {
                      "excelWeb": "false",
                      "outlookWeb": "false",
                      "powerPoint": "false",
                      "teamsWeb": "false",
                      "teams": "false",
                      "outlook": "false",
                      "reportPeriod": "30",
                      "excel": "false",
                      "powerPointWeb": "false",
                      "wordWeb": "false",
                      "word": "false"
                    }
                  ]
                }
              ],
              "schema": [
                {
                  "key": "0",
                  "name": "reportRefreshDate",
                  "type": "string"
                },
                {
                  "key": "1",
                  "name": "userPrincipalName",
                  "type": "string"
                },
                {
                  "key": "2",
                  "name": "lastActivityDate",
                  "type": "string"
                },
                {
                  "key": "3",
                  "name": "details",
                  "type": "ArrayType(StructType(StructField(reportPeriod,StringType,true), StructField(excel,StringType,true), StructField(excelWeb,StringType,true), StructField(outlook,StringType,true), StructField(outlookWeb,StringType,true), StructField(powerPoint,StringType,true), StructField(powerPointWeb,StringType,true), StructField(teams,StringType,true), StructField(teamsWeb,StringType,true), StructField(word,StringType,true), StructField(wordWeb,StringType,true)),true)"
                }
              ]
            },
            "isSummary": false,
            "language": "scala"
          },
          "persist_state": {
            "view": {
              "type": "details",
              "tableOptions": {},
              "chartOptions": {
                "chartType": "bar",
                "aggregationType": "count",
                "categoryFieldKeys": [
                  "0"
                ],
                "seriesFieldKeys": [
                  "0"
                ],
                "isStacked": false
              }
            }
          }
        }
      }
    }
  },
  "cells": [
    {
      "cell_type": "markdown",
      "metadata": {
        "nteract": {
          "transient": {
            "deleting": false
          }
        }
      },
      "source": [
        "# Graph API Module Example \r\n",
        "This example demonstrates how to use the Graph API module to process incoming Microsoft Graph data, perform data prep, and view the data in an example Power BI dashboard.\r\n",
        "## Preface\r\n",
        "a.) Before running this notebook, you will need to change the storage account URLs to match your own, within every cell.\r\n",
        "\r\n",
        "b.) Above each of the data processing cells in each step, there is \"file viewer\" code commented out. You can uncomment this for debugging purposes, or to see the contents within each file.\r\n",
        "## Running the example (LAST STEP NEEDS TO BE EDITED)\r\n",
        "1.) Select your spark pool in the \"Attach to\" dropdown list above.\r\n",
        "\r\n",
        "2.) Click on \"Publish\" in the top nav bar (and wait a few seconds for the notification that says \"Publishing completed\").\r\n",
        "\r\n",
        "3.) Click on \"Run all\" at the top of this tab (and wait for the processing to complete - which can take around 5 to 10 minutes).\r\n",
        "\r\n",
        "4.) Open the dashboard in Power BI desktop and point it to your newly setup data lake (you can download the pbix from here: [techInequityDashboardContoso v2.pbix](https://github.com/microsoft/OpenEduAnalytics/blob/main/packages/ContosoISD/power_bi/techInequityDashboardContoso%20v2.pbix) )\r\n",
        "\r\n",
        "## 1.) Processing \"users\" raw data from Graph API - stage1np to stage2np\r\n",
        "Data is cleaned from \"users\" in stage1np of the data lake, written as a parquet, and landed in stage2np. \r\n",
        ""
      ]
    },
    {
      "cell_type": "code",
      "execution_count": null,
      "outputs": [],
      "metadata": {
        "jupyter": {
          "source_hidden": false,
          "outputs_hidden": false
        },
        "nteract": {
          "transient": {
            "deleting": false
          }
        },
        "microsoft": {}
      },
      "source": [
        "# View \"users\" JSON\r\n",
        "#%%pyspark\r\n",
        "#df = spark.read.load('abfss://stage1np@stoeahybriddev2.dfs.core.windows.net/GraphAPI/users', format='json')\r\n",
        "#display(df.limit(10))"
      ]
    },
    {
      "cell_type": "code",
      "execution_count": 3,
      "outputs": [
        {
          "output_type": "display_data",
          "data": {
            "application/vnd.livy.statement-meta+json": {
              "spark_pool": "spark3p1sm",
              "session_id": 32,
              "statement_id": 3,
              "state": "finished",
              "livy_statement_state": "available",
              "queued_time": "2021-09-22T22:10:01.5663278Z",
              "session_start_time": null,
              "execution_start_time": "2021-09-22T22:10:01.6816445Z",
              "execution_finish_time": "2021-09-22T22:10:37.4221448Z"
            },
            "text/plain": "StatementMeta(spark3p1sm, 32, 3, Finished, Available)"
          },
          "metadata": {}
        },
        {
          "output_type": "display_data",
          "data": {
            "application/vnd.synapse.widget-view+json": {
              "widget_id": "f7cb3327-e39b-42c0-87fa-32507488be41",
              "widget_type": "Synapse.DataFrame"
            },
            "text/plain": "SynapseWidget(Synapse.DataFrame, f7cb3327-e39b-42c0-87fa-32507488be41)"
          },
          "metadata": {}
        }
      ],
      "metadata": {
        "jupyter": {
          "source_hidden": false,
          "outputs_hidden": false
        },
        "nteract": {
          "transient": {
            "deleting": false
          }
        },
        "microsoft": {
          "language": "python"
        },
        "collapsed": false
      },
      "source": [
        "%%pyspark\r\n",
        "from pyspark.sql.types import StructType, StructField, StringType, IntegerType, DoubleType, ArrayType\r\n",
        "from pyspark.sql.functions import explode\r\n",
        "\r\n",
        "user_schema = StructType(fields=[\r\n",
        "    StructField('value', ArrayType(\r\n",
        "        StructType([\r\n",
        "            StructField('surname', StringType(), False),\r\n",
        "            StructField('givenName', StringType(), False),\r\n",
        "            StructField('userPrincipalName', StringType(), False),\r\n",
        "            StructField('id', StringType(), False)\r\n",
        "        ])\r\n",
        "    ))\r\n",
        "])\r\n",
        "\r\n",
        "df = spark.read.load('abfss://stage1np@stoeahybriddev2.dfs.core.windows.net/GraphAPI/users', format='json', schema=user_schema)\r\n",
        "df = df.select(explode('value').alias('exploded_values')).select(\"exploded_values.*\")\r\n",
        "display(df.limit(10))\r\n",
        "df.write.format('parquet').mode('overwrite').save('abfss://stage2np@stoeahybriddev2.dfs.core.windows.net/GraphAPI/users')\r\n",
        "\r\n",
        "# Create spark db graphapi to allow for access to the data in the data lake via SQL on-demand, and create the table \"users\".\r\n",
        "spark.sql('CREATE DATABASE IF NOT EXISTS GRAPHAPI')\r\n",
        "spark.sql(\"create table if not exists GraphAPI.users using PARQUET location 'abfss://stage2np@stoeahybriddev2.dfs.core.windows.net/GraphAPI/users'\")"
      ]
    },
    {
      "cell_type": "markdown",
      "metadata": {
        "nteract": {
          "transient": {
            "deleting": false
          }
        }
      },
      "source": [
        "## 2.) Processing \"Microsoft 365 app user detail\" raw data from Graph API - stage1np to stage2np (NEEDS EDITING)\r\n",
        "Data is cleaned from \"m365_app_user_detail\" in stage1np of the data lake, written as a parquet, and landed in stage2np."
      ]
    },
    {
      "cell_type": "code",
      "execution_count": 4,
      "outputs": [
        {
          "output_type": "display_data",
          "data": {
            "application/vnd.livy.statement-meta+json": {
              "spark_pool": "spark3p1sm",
              "session_id": 32,
              "statement_id": 4,
              "state": "finished",
              "livy_statement_state": "available",
              "queued_time": "2021-09-22T22:10:41.8968075Z",
              "session_start_time": null,
              "execution_start_time": "2021-09-22T22:10:41.9952737Z",
              "execution_finish_time": "2021-09-22T22:10:41.9953987Z"
            },
            "text/plain": "StatementMeta(spark3p1sm, 32, 4, Finished, Available)"
          },
          "metadata": {}
        }
      ],
      "metadata": {
        "jupyter": {
          "source_hidden": false,
          "outputs_hidden": false
        },
        "nteract": {
          "transient": {
            "deleting": false
          }
        },
        "microsoft": {},
        "collapsed": false
      },
      "source": [
        "# View \"m365_app_user_detail\" JSON\r\n",
        "#%%pyspark\r\n",
        "#df = spark.read.load('abfss://stage1np@stoeahybriddev2.dfs.core.windows.net/GraphAPI/m365_app_user_detail', format='json')\r\n",
        "#display(df.limit(10))"
      ]
    },
    {
      "cell_type": "code",
      "execution_count": 15,
      "outputs": [
        {
          "output_type": "display_data",
          "data": {
            "application/vnd.livy.statement-meta+json": {
              "spark_pool": "spark3p1sm",
              "session_id": 32,
              "statement_id": 15,
              "state": "finished",
              "livy_statement_state": "available",
              "queued_time": "2021-09-22T22:21:06.0909519Z",
              "session_start_time": null,
              "execution_start_time": "2021-09-22T22:21:06.1970257Z",
              "execution_finish_time": "2021-09-22T22:21:10.1307847Z"
            },
            "text/plain": "StatementMeta(spark3p1sm, 32, 15, Finished, Available)"
          },
          "metadata": {}
        },
        {
          "output_type": "display_data",
          "data": {
            "application/vnd.synapse.widget-view+json": {
              "widget_id": "dc059b89-52cd-4f7e-bb51-3adf743b6776",
              "widget_type": "Synapse.DataFrame"
            },
            "text/plain": "SynapseWidget(Synapse.DataFrame, dc059b89-52cd-4f7e-bb51-3adf743b6776)"
          },
          "metadata": {}
        }
      ],
      "metadata": {
        "jupyter": {
          "source_hidden": false,
          "outputs_hidden": false
        },
        "nteract": {
          "transient": {
            "deleting": false
          }
        },
        "microsoft": {
          "language": "python"
        },
        "collapsed": false
      },
      "source": [
        "%%pyspark\r\n",
        "from pyspark.sql.types import StructType, StructField, StringType, IntegerType, DoubleType, ArrayType\r\n",
        "from pyspark.sql.functions import explode\r\n",
        "\r\n",
        "m365_app_user_detail_schema = StructType(fields=[\r\n",
        "    StructField('value', ArrayType(\r\n",
        "        StructType([\r\n",
        "            StructField('reportRefreshDate', StringType(), False),\r\n",
        "            StructField('userPrincipalName', StringType(), False),\r\n",
        "            StructField('lastActivityDate', StringType(), False),\r\n",
        "            StructField('details', ArrayType(\r\n",
        "                StructType([\r\n",
        "                    StructField('reportPeriod', StringType(), False),\r\n",
        "                    StructField('excel', StringType(), False),\r\n",
        "                    StructField('excelWeb', StringType(), False),\r\n",
        "                    StructField('outlook', StringType(), False),\r\n",
        "                    StructField('outlookWeb', StringType(), False),\r\n",
        "                    StructField('powerPoint', StringType(), False),\r\n",
        "                    StructField('powerPointWeb', StringType(), False),\r\n",
        "                    StructField('teams', StringType(), False),\r\n",
        "                    StructField('teamsWeb', StringType(), False),\r\n",
        "                    StructField('word', StringType(), False),\r\n",
        "                    StructField('wordWeb', StringType(), False),\r\n",
        "                ])\r\n",
        "            ), False),\r\n",
        "        ])\r\n",
        "    ))\r\n",
        "])\r\n",
        "\r\n",
        "df = spark.read.load('abfss://stage1np@stoeahybriddev2.dfs.core.windows.net/GraphAPI/m365_app_user_detail', format='json', schema=m365_app_user_detail_schema)\r\n",
        "df = df.select(explode('value').alias('exploded_values')).select(\"exploded_values.*\")\r\n",
        "display(df.limit(10))\r\n",
        "df.write.format('parquet').mode('overwrite').save('abfss://stage2np@stoeahybriddev2.dfs.core.windows.net/GraphAPI/m365_app_user_detail')\r\n",
        "\r\n",
        "# Create table \"m365_app_user_detail\" in spark db \"graphapi\" to allow for access to the data in the data lake.\r\n",
        "spark.sql(\"create table if not exists GraphAPI.m365_app_user_detail using PARQUET location 'abfss://stage2np@stoeahybriddev2.dfs.core.windows.net/GraphAPI/m365_app_user_detail'\")"
      ]
    },
    {
      "cell_type": "markdown",
      "metadata": {
        "nteract": {
          "transient": {
            "deleting": false
          }
        }
      },
      "source": [
        "## 3.) Processing \"Teams activity user details\" raw data from Graph API - stage1np to stage2np\r\n",
        "Data is cleaned from \"teams_activity_user_details\" in stage1np of the data lake, written as a parquet, and landed in stage2np."
      ]
    },
    {
      "cell_type": "code",
      "execution_count": 1,
      "outputs": [
        {
          "output_type": "display_data",
          "data": {
            "application/vnd.livy.statement-meta+json": {
              "spark_pool": "spark3p1sm",
              "session_id": 32,
              "statement_id": 1,
              "state": "finished",
              "livy_statement_state": "available",
              "queued_time": "2021-09-22T22:06:20.9865092Z",
              "session_start_time": "2021-09-22T22:06:21.0205787Z",
              "execution_start_time": "2021-09-22T22:09:28.40634Z",
              "execution_finish_time": "2021-09-22T22:09:28.5693455Z"
            },
            "text/plain": "StatementMeta(spark3p1sm, 32, 1, Finished, Available)"
          },
          "metadata": {}
        }
      ],
      "metadata": {
        "jupyter": {
          "source_hidden": false,
          "outputs_hidden": false
        },
        "nteract": {
          "transient": {
            "deleting": false
          }
        },
        "microsoft": {},
        "collapsed": false
      },
      "source": [
        "# View \"teams_activity_user_details\" JSON\r\n",
        "#%%pyspark\r\n",
        "#df = spark.read.load('abfss://stage1np@stoeahybriddev2.dfs.core.windows.net/GraphAPI/teams_activity_user_details', format='json')\r\n",
        "#display(df.limit(10))"
      ]
    },
    {
      "cell_type": "code",
      "execution_count": 7,
      "outputs": [
        {
          "output_type": "display_data",
          "data": {
            "application/vnd.livy.statement-meta+json": {
              "spark_pool": "spark3p1sm",
              "session_id": 32,
              "statement_id": 7,
              "state": "finished",
              "livy_statement_state": "available",
              "queued_time": "2021-09-22T22:11:34.0569956Z",
              "session_start_time": null,
              "execution_start_time": "2021-09-22T22:11:34.1781004Z",
              "execution_finish_time": "2021-09-22T22:11:50.8837456Z"
            },
            "text/plain": "StatementMeta(spark3p1sm, 32, 7, Finished, Available)"
          },
          "metadata": {}
        },
        {
          "output_type": "display_data",
          "data": {
            "application/vnd.synapse.widget-view+json": {
              "widget_id": "c95b89c8-7b82-4436-9053-e7927f15dde8",
              "widget_type": "Synapse.DataFrame"
            },
            "text/plain": "SynapseWidget(Synapse.DataFrame, c95b89c8-7b82-4436-9053-e7927f15dde8)"
          },
          "metadata": {}
        }
      ],
      "metadata": {
        "jupyter": {
          "source_hidden": false,
          "outputs_hidden": false
        },
        "nteract": {
          "transient": {
            "deleting": false
          }
        },
        "microsoft": {},
        "collapsed": false
      },
      "source": [
        "teams_activity_user_details_schema = StructType(fields=[\r\n",
        "    StructField('value', ArrayType(\r\n",
        "        StructType([\r\n",
        "            StructField('reportRefreshDate', StringType(), False),\r\n",
        "            StructField('reportPeriod', StringType(), False),\r\n",
        "            StructField('userPrincipalName', StringType(), False),\r\n",
        "            StructField('privateChatMessageCount', IntegerType(), False),\r\n",
        "            StructField('teamChatMessageCount', IntegerType(), False),\r\n",
        "            StructField('meetingsAttendedCount', IntegerType(), False),\r\n",
        "            StructField('meetingCount', IntegerType(), False),\r\n",
        "            StructField('audioDuration', StringType(), False),\r\n",
        "        ])\r\n",
        "    ))\r\n",
        "])\r\n",
        "\r\n",
        "df = spark.read.load('abfss://stage1np@stoeahybriddev2.dfs.core.windows.net/GraphAPI/teams_activity_user_details', format='json', schema=teams_activity_user_details_schema)\r\n",
        "df = df.select(explode('value').alias('exploded_values')).select(\"exploded_values.*\")\r\n",
        "display(df.limit(10))\r\n",
        "df.write.format('parquet').mode('overwrite').save('abfss://stage2np@stoeahybriddev2.dfs.core.windows.net/GraphAPI/teams_activity_user_details')\r\n",
        "\r\n",
        "# Create table \"teams_activity_user_details\" in spark db \"graphapi\" to allow for access to the data in the data lake.\r\n",
        "spark.sql(\"create table if not exists GraphAPI.teams_activity_user_details using PARQUET location 'abfss://stage2np@stoeahybriddev2.dfs.core.windows.net/GraphAPI/teams_activity_user_details'\")"
      ]
    },
    {
      "cell_type": "markdown",
      "metadata": {
        "nteract": {
          "transient": {
            "deleting": false
          }
        }
      },
      "source": [
        "# Reset everything\r\n",
        "You can uncomment line 8 in the last cell below and run that cell to reset everything and walk through the process again, INCLUDING THE PIPELINE INTEGRATION TRIGGER.\r\n",
        "\r\n",
        "Note: remember to comment out line 8 again to prevent accidental resetting of the example"
      ]
    },
    {
      "cell_type": "code",
      "execution_count": 10,
      "outputs": [
        {
          "output_type": "display_data",
          "data": {
            "application/vnd.livy.statement-meta+json": {
              "spark_pool": null,
              "session_id": 32,
              "statement_id": -1,
              "state": "finished",
              "livy_statement_state": "available",
              "queued_time": "2021-09-22T22:17:18.434666Z",
              "session_start_time": null,
              "execution_start_time": "2021-09-22T22:17:20.5934388Z",
              "execution_finish_time": "2021-09-22T22:17:20.5936083Z"
            },
            "text/plain": "StatementMeta(, 32, -1, Finished, Available)"
          },
          "metadata": {}
        }
      ],
      "metadata": {
        "jupyter": {
          "source_hidden": false,
          "outputs_hidden": false
        },
        "nteract": {
          "transient": {
            "deleting": false
          }
        }
      },
      "source": [
        "%run /OEA_py_updated"
      ]
    },
    {
      "cell_type": "code",
      "execution_count": 11,
      "outputs": [
        {
          "output_type": "display_data",
          "data": {
            "application/vnd.livy.statement-meta+json": {
              "spark_pool": "spark3p1sm",
              "session_id": 32,
              "statement_id": 11,
              "state": "finished",
              "livy_statement_state": "available",
              "queued_time": "2021-09-22T22:17:19.9312136Z",
              "session_start_time": null,
              "execution_start_time": "2021-09-22T22:17:20.6909202Z",
              "execution_finish_time": "2021-09-22T22:17:20.8497509Z"
            },
            "text/plain": "StatementMeta(spark3p1sm, 32, 11, Finished, Available)"
          },
          "metadata": {}
        },
        {
          "output_type": "stream",
          "name": "stdout",
          "text": [
            "2021-09-22 22:17:20,706 - OEA - DEBUG - OEA initialized.\nOEA initialized."
          ]
        }
      ],
      "metadata": {
        "jupyter": {
          "source_hidden": false,
          "outputs_hidden": false
        },
        "nteract": {
          "transient": {
            "deleting": false
          }
        }
      },
      "source": [
        "oea = OEA()"
      ]
    },
    {
      "cell_type": "code",
      "execution_count": 14,
      "outputs": [
        {
          "output_type": "display_data",
          "data": {
            "application/vnd.livy.statement-meta+json": {
              "spark_pool": "spark3p1sm",
              "session_id": 32,
              "statement_id": 14,
              "state": "finished",
              "livy_statement_state": "available",
              "queued_time": "2021-09-22T22:17:48.3363803Z",
              "session_start_time": null,
              "execution_start_time": "2021-09-22T22:17:48.4303788Z",
              "execution_finish_time": "2021-09-22T22:19:29.4329865Z"
            },
            "text/plain": "StatementMeta(spark3p1sm, 32, 14, Finished, Available)"
          },
          "metadata": {}
        },
        {
          "output_type": "error",
          "ename": "AnalysisException",
          "evalue": "org.apache.hadoop.hive.ql.metadata.HiveException: MetaException(message:Metadata service API com.microsoft.catalog.metastore.sasClient.SasClient$API@600b544d failed with status 500 (Internal Server Error) Response Body ({\"result\":\"DependencyError\",\"errorId\":\"InternalServerError\",\"errorMessage\":\"Request to endpoint : SynapseMetadataService failed with Exception : The delegate executed asynchronously through TimeoutPolicy did not complete within the timeout.. TraceId : 61dca612-e876-4e47-94fc-d6c950be8b68. Error Component : SynapseMetadataService\"}))",
          "traceback": [
            "AnalysisException: org.apache.hadoop.hive.ql.metadata.HiveException: MetaException(message:Metadata service API com.microsoft.catalog.metastore.sasClient.SasClient$API@600b544d failed with status 500 (Internal Server Error) Response Body ({\"result\":\"DependencyError\",\"errorId\":\"InternalServerError\",\"errorMessage\":\"Request to endpoint : SynapseMetadataService failed with Exception : The delegate executed asynchronously through TimeoutPolicy did not complete within the timeout.. TraceId : 61dca612-e876-4e47-94fc-d6c950be8b68. Error Component : SynapseMetadataService\"}))",
            "Traceback (most recent call last):\n",
            "  File \"<stdin>\", line 5, in reset_all_processing\n",
            "  File \"<stdin>\", line 209, in drop_db\n",
            "  File \"/opt/spark/python/lib/pyspark.zip/pyspark/sql/session.py\", line 723, in sql\n    return DataFrame(self._jsparkSession.sql(sqlQuery), self._wrapped)\n",
            "  File \"/home/trusted-service-user/cluster-env/env/lib/python3.8/site-packages/py4j/java_gateway.py\", line 1304, in __call__\n    return_value = get_return_value(\n",
            "  File \"/opt/spark/python/lib/pyspark.zip/pyspark/sql/utils.py\", line 117, in deco\n    raise converted from None\n",
            "pyspark.sql.utils.AnalysisException: org.apache.hadoop.hive.ql.metadata.HiveException: MetaException(message:Metadata service API com.microsoft.catalog.metastore.sasClient.SasClient$API@600b544d failed with status 500 (Internal Server Error) Response Body ({\"result\":\"DependencyError\",\"errorId\":\"InternalServerError\",\"errorMessage\":\"Request to endpoint : SynapseMetadataService failed with Exception : The delegate executed asynchronously through TimeoutPolicy did not complete within the timeout.. TraceId : 61dca612-e876-4e47-94fc-d6c950be8b68. Error Component : SynapseMetadataService\"}))\n"
          ]
        }
      ],
      "metadata": {
        "jupyter": {
          "source_hidden": false,
          "outputs_hidden": false
        },
        "nteract": {
          "transient": {
            "deleting": false
          }
        }
      },
      "source": [
        "def reset_all_processing():\r\n",
        "    oea.rm_if_exists(oea.stage1np + '/GraphAPI')\r\n",
        "    oea.rm_if_exists(oea.stage2np + '/GraphAPI')\r\n",
        "\r\n",
        "    oea.drop_db('graphapi')\r\n",
        "\r\n",
        "# Uncomment the following line and run this cell to reset everything if you want to walk through the process again, INCLUDING THE PIPELINE INTEGRATION TRIGGER.\r\n",
        "#reset_all_processing()"
      ]
    }
  ]
}