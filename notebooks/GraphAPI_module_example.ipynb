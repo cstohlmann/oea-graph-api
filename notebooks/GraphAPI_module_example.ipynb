{
  "cells": [
    {
      "cell_type": "markdown",
      "source": [
        "# Graph API Module Example \r\n",
        "This example demonstrates how to use the Graph API module to process incoming Microsoft Graph data, perform data prep, and view the data in an example Power BI dashboard.\r\n",
        "## Preface\r\n",
        "a.) Before running this notebook, you will need to change the storage account URLs to match your own, within every cell.\r\n",
        "\r\n",
        "b.) Above each of the data processing cells in each step, there is \"file viewer\" code commented out. You can uncomment this for debugging purposes, or to see the contents within each file.\r\n",
        "\r\n",
        "c.) Directly below each of the data processing cells for steps 2 and 3 (m365 and teams data), there is code for randomization of data within each of the tables. **If you wish to preserve any original data that you chose to integrate via the Graph pipeline, you must comment these out.**\r\n",
        "\r\n",
        "d.) Step 2 (Processing the M365 apps user details data) has one additional cell, in order to clean the data into the right columns. Do not comment this out.\r\n",
        "## Running the example (LAST STEP NEEDS TO BE EDITED)\r\n",
        "1.) Select your spark pool in the \"Attach to\" dropdown list above.\r\n",
        "\r\n",
        "2.) Click on \"Publish\" in the top nav bar (and wait a few seconds for the notification that says \"Publishing completed\").\r\n",
        "\r\n",
        "3.) Click on \"Run all\" at the top of this tab (and wait for the processing to complete - which can take around 5 to 10 minutes).\r\n",
        "\r\n",
        "4.) Open the dashboard in Power BI desktop and point it to your newly setup data lake (you can download the pbix from here: [techInequityDashboardContoso v2.pbix](https://github.com/microsoft/OpenEduAnalytics/blob/main/packages/ContosoISD/power_bi/techInequityDashboardContoso%20v2.pbix) )\r\n",
        "\r\n",
        "## 1.) Processing \"users\" raw data from Graph API \r\n",
        "Data is cleaned from \"users\" in stage1np of the data lake, written as a parquet, and landed in stage2np. \r\n"
      ],
      "metadata": {
        "nteract": {
          "transient": {
            "deleting": false
          }
        }
      }
    },
    {
      "cell_type": "code",
      "source": [
        "# View \"users\" JSON\r\n",
        "#%%pyspark\r\n",
        "#df = spark.read.load('abfss://stage1np@stoeahybriddev2.dfs.core.windows.net/GraphAPI/users.json', format='json')\r\n",
        "#display(df.limit(10))"
      ],
      "outputs": [
        {
          "output_type": "display_data",
          "data": {
            "application/vnd.livy.statement-meta+json": {
              "spark_pool": null,
              "session_id": null,
              "statement_id": null,
              "state": "cancelled",
              "livy_statement_state": null,
              "queued_time": "2021-09-24T14:50:05.0110064Z",
              "session_start_time": "2021-09-24T14:50:05.0667902Z",
              "execution_start_time": null,
              "execution_finish_time": "2021-09-24T14:50:06.417292Z"
            },
            "text/plain": "StatementMeta(, , , Cancelled, )"
          },
          "metadata": {}
        }
      ],
      "execution_count": 1,
      "metadata": {
        "jupyter": {
          "source_hidden": false,
          "outputs_hidden": false
        },
        "nteract": {
          "transient": {
            "deleting": false
          }
        },
        "microsoft": {}
      }
    },
    {
      "cell_type": "code",
      "source": [
        "#%%pyspark\r\n",
        "from pyspark.sql.types import StructType, StructField, StringType, IntegerType, DoubleType, ArrayType\r\n",
        "from pyspark.sql.functions import explode\r\n",
        "\r\n",
        "user_schema = StructType(fields=[\r\n",
        "    StructField('value', ArrayType(\r\n",
        "        StructType([\r\n",
        "            StructField('surname', StringType(), False),\r\n",
        "            StructField('givenName', StringType(), False),\r\n",
        "            StructField('userPrincipalName', StringType(), False),\r\n",
        "            StructField('id', StringType(), False)\r\n",
        "        ])\r\n",
        "    ))\r\n",
        "])\r\n",
        "\r\n",
        "df = spark.read.load('abfss://stage1np@stoeahybriddev2.dfs.core.windows.net/GraphAPI/users.json', format='json', schema=user_schema)\r\n",
        "df = df.select(explode('value').alias('exploded_values')).select(\"exploded_values.*\")\r\n",
        "display(df.limit(10))\r\n",
        "#display(df)\r\n",
        "\r\n",
        "# Convert the data in the JSON above to parquet and land this parquet in stage 2np\r\n",
        "df.write.format('parquet').mode('overwrite').save('abfss://stage2np@stoeahybriddev2.dfs.core.windows.net/GraphAPI/users')\r\n",
        "\r\n",
        "# Create spark db graphapi to allow for access to the data in the data lake via SQL on-demand, and create the table \"users\".\r\n",
        "spark.sql('CREATE DATABASE IF NOT EXISTS GRAPHAPI')\r\n",
        "spark.sql(\"create table if not exists GraphAPI.users using PARQUET location 'abfss://stage2np@stoeahybriddev2.dfs.core.windows.net/GraphAPI/users'\")"
      ],
      "outputs": [
        {
          "output_type": "display_data",
          "data": {
            "application/vnd.livy.statement-meta+json": {
              "spark_pool": "spark3p1sm",
              "session_id": 46,
              "statement_id": 1,
              "state": "finished",
              "livy_statement_state": "available",
              "queued_time": "2021-09-29T19:15:22.1656194Z",
              "session_start_time": "2021-09-29T19:15:22.2021857Z",
              "execution_start_time": "2021-09-29T19:18:47.2891198Z",
              "execution_finish_time": "2021-09-29T19:19:12.4838606Z"
            },
            "text/plain": "StatementMeta(spark3p1sm, 46, 1, Finished, Available)"
          },
          "metadata": {}
        },
        {
          "output_type": "display_data",
          "data": {
            "application/vnd.synapse.widget-view+json": {
              "widget_id": "0cfed38b-57aa-41fe-a263-4e9356833ebb",
              "widget_type": "Synapse.DataFrame"
            },
            "text/plain": "SynapseWidget(Synapse.DataFrame, 0cfed38b-57aa-41fe-a263-4e9356833ebb)"
          },
          "metadata": {}
        }
      ],
      "execution_count": 56,
      "metadata": {
        "jupyter": {
          "source_hidden": false,
          "outputs_hidden": false
        },
        "nteract": {
          "transient": {
            "deleting": false
          }
        },
        "microsoft": {},
        "collapsed": false
      }
    },
    {
      "cell_type": "markdown",
      "source": [
        "## 2.) Processing \"Microsoft 365 app user detail\" raw data from Graph API\r\n",
        "Data is cleaned from \"m365_app_user_detail\" in stage1np of the data lake, written as a parquet, and landed in stage2np."
      ],
      "metadata": {
        "nteract": {
          "transient": {
            "deleting": false
          }
        }
      }
    },
    {
      "cell_type": "code",
      "source": [
        "# View \"m365_app_user_detail\" JSON\r\n",
        "#%%pyspark\r\n",
        "#df = spark.read.load('abfss://stage1np@stoeahybriddev2.dfs.core.windows.net/GraphAPI/m365_app_user_detail.json', format='json')\r\n",
        "#display(df.limit(10))"
      ],
      "outputs": [
        {
          "output_type": "display_data",
          "data": {
            "application/vnd.livy.statement-meta+json": {
              "spark_pool": "spark3p1sm",
              "session_id": 41,
              "statement_id": 1,
              "state": "finished",
              "livy_statement_state": "available",
              "queued_time": "2021-09-28T16:18:57.8659842Z",
              "session_start_time": "2021-09-28T16:18:57.9159307Z",
              "execution_start_time": "2021-09-28T16:21:46.0618578Z",
              "execution_finish_time": "2021-09-28T16:21:46.2081712Z"
            },
            "text/plain": "StatementMeta(spark3p1sm, 41, 1, Finished, Available)"
          },
          "metadata": {}
        }
      ],
      "execution_count": 1,
      "metadata": {
        "jupyter": {
          "source_hidden": false,
          "outputs_hidden": false
        },
        "nteract": {
          "transient": {
            "deleting": false
          }
        },
        "microsoft": {},
        "collapsed": false
      }
    },
    {
      "cell_type": "code",
      "source": [
        "\r\n",
        "from pyspark.sql.types import StructType, StructField, StringType, IntegerType, DoubleType, ArrayType, BooleanType\r\n",
        "from pyspark.sql.functions import explode, split, col, regexp_replace, rand, when\r\n",
        "\r\n",
        "m365_app_user_details_schema = StructType(fields=[\r\n",
        "    StructField('value', ArrayType(\r\n",
        "        StructType([\r\n",
        "            StructField('reportRefreshDate', StringType(), False),\r\n",
        "            StructField('userPrincipalName', StringType(), False),\r\n",
        "            StructField('lastActivityDate', StringType(), False),\r\n",
        "            StructField('reportPeriod', StringType(), False),\r\n",
        "            StructField('excel', StringType(), False),\r\n",
        "            StructField('excelWeb', StringType(), False),\r\n",
        "            StructField('outlook', StringType(), False),\r\n",
        "            StructField('outlookWeb', StringType(), False),\r\n",
        "            StructField('powerPoint', StringType(), False),\r\n",
        "            StructField('powerPointWeb', StringType(), False),\r\n",
        "            StructField('teams', StringType(), False),\r\n",
        "            StructField('teamsWeb', StringType(), False),\r\n",
        "            StructField('word', StringType(), False),\r\n",
        "            StructField('wordWeb', StringType(), False),\r\n",
        "            StructField('details', StringType(\r\n",
        "                #StructType([\r\n",
        "                #    StructField('reportPeriod', StringType(), False),\r\n",
        "                #    StructField('excel', StringType(), False),\r\n",
        "                #    StructField('excelWeb', StringType(), False),\r\n",
        "                #    StructField('outlook', StringType(), False),\r\n",
        "                #    StructField('outlookWeb', StringType(), False),\r\n",
        "                #    StructField('powerPoint', StringType(), False),\r\n",
        "                #    StructField('powerPointWeb', StringType(), False),\r\n",
        "                #    StructField('teams', StringType(), False),\r\n",
        "                #    StructField('teamsWeb', StringType(), False),\r\n",
        "                #    StructField('word', StringType(), False),\r\n",
        "                #    StructField('wordWeb', StringType(), False),\r\n",
        "                #    StructField('userPrincipalName', StringType(), False),\r\n",
        "                #])\r\n",
        "            ))\r\n",
        "        ])\r\n",
        "    ))\r\n",
        "])\r\n",
        "\r\n",
        "df = spark.read.load('abfss://stage1np@stoeahybriddev2.dfs.core.windows.net/GraphAPI/m365_app_user_detail.json', format='json', schema=m365_app_user_details_schema)\r\n",
        "\r\n",
        "df = df.select(explode('value').alias('exploded_values')).select(\"exploded_values.*\")\r\n",
        "#df = df.select(explode('details').alias('exploded_details')).select(\"exploded_details.*\")\r\n",
        "\r\n",
        "display(df.limit(10))"
      ],
      "outputs": [
        {
          "output_type": "display_data",
          "data": {
            "application/vnd.livy.statement-meta+json": {
              "spark_pool": "spark3p1sm",
              "session_id": 46,
              "statement_id": 8,
              "state": "finished",
              "livy_statement_state": "available",
              "queued_time": "2021-09-29T19:37:56.0957374Z",
              "session_start_time": null,
              "execution_start_time": "2021-09-29T19:37:56.2021002Z",
              "execution_finish_time": "2021-09-29T19:37:56.7177076Z"
            },
            "text/plain": "StatementMeta(spark3p1sm, 46, 8, Finished, Available)"
          },
          "metadata": {}
        },
        {
          "output_type": "display_data",
          "data": {
            "application/vnd.synapse.widget-view+json": {
              "widget_id": "8e1117de-e81f-4eec-97fe-e3197421cb4f",
              "widget_type": "Synapse.DataFrame"
            },
            "text/plain": "SynapseWidget(Synapse.DataFrame, 8e1117de-e81f-4eec-97fe-e3197421cb4f)"
          },
          "metadata": {}
        }
      ],
      "execution_count": 63,
      "metadata": {
        "jupyter": {
          "source_hidden": false,
          "outputs_hidden": false
        },
        "nteract": {
          "transient": {
            "deleting": false
          }
        },
        "collapsed": false
      }
    },
    {
      "cell_type": "code",
      "source": [
        "# This is a very roundabout method (taking in details as a string rather than array), but nontheless - it works for now.\r\n",
        "\r\n",
        "# Isolate and allocate data from \"details\" to their respective columns\r\n",
        "splitDF = df.withColumn('reportPeriod', split(col('details'), ',').getItem(0)).withColumn('outlook', split(col('details'), ',').getItem(5)).withColumn('word', split(col('details'), ',').getItem(6)).withColumn('excel', split(col('details'), ',').getItem(7)).withColumn('powerPoint', split(col('details'), ',').getItem(8)).withColumn('teams', split(col('details'), ',').getItem(10)).withColumn('outlookWeb', split(col('details'), ',').getItem(29)).withColumn('wordWeb', split(col('details'), ',').getItem(30)).withColumn('excelWeb', split(col('details'), ',').getItem(31)).withColumn('powerPointWeb', split(col('details'), ',').getItem(32)).withColumn('teamsWeb', split(col('details'), ',').getItem(34))\r\n",
        "splitDF = splitDF.drop('details')\r\n",
        "\r\n",
        "# Clean the data within each column, to remove excess string pieces\r\n",
        "splitDF = splitDF.withColumn('reportPeriod', regexp_replace('reportPeriod', '\"reportPeriod\":', '')).withColumn('excel', regexp_replace('excel','\"excel\":', '')).withColumn('excelWeb', regexp_replace('excelWeb','\"excelWeb\":', '')).withColumn('outlook', regexp_replace('outlook','\"outlook\":', '')).withColumn('outlookWeb', regexp_replace('outlookWeb','\"outlookWeb\":', '')).withColumn('powerPoint', regexp_replace('powerPoint','\"powerPoint\":', '')).withColumn('powerPointWeb', regexp_replace('powerPointWeb','\"powerPointWeb\":', '')).withColumn('teams', regexp_replace('teams','\"teams\":', '')).withColumn('teamsWeb', regexp_replace('teamsWeb','\"teamsWeb\":', '')).withColumn('word', regexp_replace('word','\"word\":', '')).withColumn('wordWeb', regexp_replace('wordWeb','\"wordWeb\":', ''))\r\n",
        "splitDF = splitDF.withColumn('reportPeriod', regexp_replace('reportPeriod', '\\W+', '')).withColumn('teamsWeb', regexp_replace('teamsWeb', '\\W+', ''))\r\n",
        "\r\n",
        "# Transform the datatypes of the columns to be accurate to what they represent\r\n",
        "splitDF = splitDF.withColumn('reportPeriod', col('reportPeriod').cast(\"int\")).withColumn('excel', col('excel').cast(\"boolean\")).withColumn('excelWeb', col('excelWeb').cast(\"boolean\")).withColumn('outlook', col('outlook').cast(\"boolean\")).withColumn('outlookWeb', col('outlookWeb').cast(\"boolean\")).withColumn('powerPoint', col('powerPoint').cast(\"boolean\")).withColumn('powerPointWeb', col('powerPointWeb').cast(\"boolean\")).withColumn('teams', col('teams').cast(\"boolean\")).withColumn('teamsWeb', col('teamsWeb').cast(\"boolean\")).withColumn('word', col('word').cast(\"boolean\")).withColumn('wordWeb', col('wordWeb').cast(\"boolean\"))\r\n",
        "\r\n",
        "#display(splitDF.limit(10))\r\n",
        "#splitDF.printSchema\r\n",
        "#display(splitDF)\r\n"
      ],
      "outputs": [
        {
          "output_type": "display_data",
          "data": {
            "application/vnd.livy.statement-meta+json": {
              "spark_pool": "spark3p1sm",
              "session_id": 46,
              "statement_id": 9,
              "state": "finished",
              "livy_statement_state": "available",
              "queued_time": "2021-09-29T19:38:02.8758489Z",
              "session_start_time": null,
              "execution_start_time": "2021-09-29T19:38:02.9865668Z",
              "execution_finish_time": "2021-09-29T19:38:04.0727263Z"
            },
            "text/plain": "StatementMeta(spark3p1sm, 46, 9, Finished, Available)"
          },
          "metadata": {}
        },
        {
          "output_type": "display_data",
          "data": {
            "application/vnd.synapse.widget-view+json": {
              "widget_id": "b5365f2a-2a7d-4156-9489-fb942d941941",
              "widget_type": "Synapse.DataFrame"
            },
            "text/plain": "SynapseWidget(Synapse.DataFrame, b5365f2a-2a7d-4156-9489-fb942d941941)"
          },
          "metadata": {}
        }
      ],
      "execution_count": 64,
      "metadata": {
        "jupyter": {
          "source_hidden": false,
          "outputs_hidden": false
        },
        "nteract": {
          "transient": {
            "deleting": false
          }
        },
        "microsoft": {},
        "collapsed": false
      }
    },
    {
      "cell_type": "code",
      "source": [
        "# Randomization for sample data\r\n",
        "splitDF = splitDF.withColumn('excel', when(rand() > 0.3, \"true\").otherwise(\"false\")).withColumn('excelWeb', when(rand() > 0.7, \"true\").otherwise(\"false\")).withColumn('outlook', when(rand() > 0.9, \"true\").otherwise(\"false\")).withColumn('outlookWeb', when(rand() > 0.1, \"true\").otherwise(\"false\")).withColumn('powerPoint', when(rand() > 0.7, \"true\").otherwise(\"false\")).withColumn('powerPointWeb', when(rand() > 0.9, \"true\").otherwise(\"false\")).withColumn('teams', when(rand() > 0.1, \"true\").otherwise(\"false\")).withColumn('teamsWeb', when(rand() > 0.3, \"true\").otherwise(\"false\")).withColumn('word', when(rand() > 0.4, \"true\").otherwise(\"false\")).withColumn('wordWeb', when(rand() > 0.7, \"true\").otherwise(\"false\"))\r\n",
        "\r\n",
        "display(splitDF.limit(10))"
      ],
      "outputs": [
        {
          "output_type": "display_data",
          "data": {
            "application/vnd.livy.statement-meta+json": {
              "spark_pool": "spark3p1sm",
              "session_id": 46,
              "statement_id": 6,
              "state": "finished",
              "livy_statement_state": "available",
              "queued_time": "2021-09-29T19:35:30.1685933Z",
              "session_start_time": null,
              "execution_start_time": "2021-09-29T19:35:33.1848152Z",
              "execution_finish_time": "2021-09-29T19:35:36.5617938Z"
            },
            "text/plain": "StatementMeta(spark3p1sm, 46, 6, Finished, Available)"
          },
          "metadata": {}
        },
        {
          "output_type": "display_data",
          "data": {
            "application/vnd.synapse.widget-view+json": {
              "widget_id": "883ef332-0298-4018-92f6-c3bc8420dc11",
              "widget_type": "Synapse.DataFrame"
            },
            "text/plain": "SynapseWidget(Synapse.DataFrame, 883ef332-0298-4018-92f6-c3bc8420dc11)"
          },
          "metadata": {}
        }
      ],
      "execution_count": 61,
      "metadata": {
        "jupyter": {
          "source_hidden": false,
          "outputs_hidden": false
        },
        "nteract": {
          "transient": {
            "deleting": false
          }
        },
        "collapsed": false
      }
    },
    {
      "cell_type": "code",
      "source": [
        "# Convert the data in the JSON above to parquet and land this parquet in stage 2np\r\n",
        "#splitDF.write.format('parquet').mode('overwrite').save('abfss://stage2np@stoeahybriddev2.dfs.core.windows.net/GraphAPI/m365_app_user_detail')\r\n",
        "\r\n",
        "# Create table \"m365_app_user_detail\" in spark db \"graphapi\" to allow for access to the data in the data lake.\r\n",
        "#spark.sql(\"create table if not exists GraphAPI.m365_app_user_detail using PARQUET location 'abfss://stage2np@stoeahybriddev2.dfs.core.windows.net/GraphAPI/m365_app_user_detail'\")"
      ],
      "outputs": [],
      "execution_count": null,
      "metadata": {
        "jupyter": {
          "source_hidden": false,
          "outputs_hidden": false
        },
        "nteract": {
          "transient": {
            "deleting": false
          }
        }
      }
    },
    {
      "cell_type": "markdown",
      "source": [
        "## 3.) Processing \"Teams activity user details\" raw data from Graph API\r\n",
        "Data is cleaned from \"teams_activity_user_details\" in stage1np of the data lake, written as a parquet, and landed in stage2np."
      ],
      "metadata": {
        "nteract": {
          "transient": {
            "deleting": false
          }
        }
      }
    },
    {
      "cell_type": "code",
      "source": [
        "# View \"teams_activity_user_details\" JSON\r\n",
        "#%%pyspark\r\n",
        "#df = spark.read.load('abfss://stage1np@stoeahybriddev2.dfs.core.windows.net/GraphAPI/teams_activity_user_details', format='json')\r\n",
        "#display(df.limit(10))"
      ],
      "outputs": [
        {
          "output_type": "display_data",
          "data": {
            "application/vnd.livy.statement-meta+json": {
              "spark_pool": null,
              "session_id": null,
              "statement_id": null,
              "state": "cancelled",
              "livy_statement_state": null,
              "queued_time": "2021-09-24T14:50:05.0218483Z",
              "session_start_time": null,
              "execution_start_time": null,
              "execution_finish_time": "2021-09-24T14:50:06.4131369Z"
            },
            "text/plain": "StatementMeta(, , , Cancelled, )"
          },
          "metadata": {}
        }
      ],
      "execution_count": null,
      "metadata": {
        "jupyter": {
          "source_hidden": false,
          "outputs_hidden": false
        },
        "nteract": {
          "transient": {
            "deleting": false
          }
        },
        "microsoft": {},
        "collapsed": false
      }
    },
    {
      "cell_type": "code",
      "source": [
        "from pyspark.sql.types import StructType, StructField, StringType, IntegerType, DoubleType, ArrayType, BooleanType\r\n",
        "from pyspark.sql.functions import explode, split, col, regexp_replace, rand, when, round\r\n",
        "\r\n",
        "teams_activity_user_details_schema = StructType(fields=[\r\n",
        "    StructField('value', ArrayType(\r\n",
        "        StructType([\r\n",
        "            StructField('reportRefreshDate', StringType(), False),\r\n",
        "            StructField('reportPeriod', StringType(), False),\r\n",
        "            StructField('userPrincipalName', StringType(), False),\r\n",
        "            StructField('privateChatMessageCount', IntegerType(), False),\r\n",
        "            StructField('teamChatMessageCount', IntegerType(), False),\r\n",
        "            StructField('meetingsAttendedCount', IntegerType(), False),\r\n",
        "            StructField('meetingCount', IntegerType(), False),\r\n",
        "            StructField('audioDuration', StringType(), False),\r\n",
        "        ])\r\n",
        "    ))\r\n",
        "])\r\n",
        "\r\n",
        "df = spark.read.load('abfss://stage1np@stoeahybriddev2.dfs.core.windows.net/GraphAPI/teams_activity_user_details.json', format='json', schema=teams_activity_user_details_schema)\r\n",
        "df = df.select(explode('value').alias('exploded_values')).select(\"exploded_values.*\")\r\n",
        "\r\n",
        "display(df.limit(10))\r\n",
        "#display(df)\r\n"
      ],
      "outputs": [
        {
          "output_type": "display_data",
          "data": {
            "application/vnd.livy.statement-meta+json": {
              "spark_pool": "spark3p1sm",
              "session_id": 46,
              "statement_id": 2,
              "state": "finished",
              "livy_statement_state": "available",
              "queued_time": "2021-09-29T19:16:27.1390509Z",
              "session_start_time": null,
              "execution_start_time": "2021-09-29T19:19:12.5999437Z",
              "execution_finish_time": "2021-09-29T19:19:14.453199Z"
            },
            "text/plain": "StatementMeta(spark3p1sm, 46, 2, Finished, Available)"
          },
          "metadata": {}
        },
        {
          "output_type": "display_data",
          "data": {
            "application/vnd.synapse.widget-view+json": {
              "widget_id": "265cacbd-4dd3-47d9-bc63-6db7438049f6",
              "widget_type": "Synapse.DataFrame"
            },
            "text/plain": "SynapseWidget(Synapse.DataFrame, 265cacbd-4dd3-47d9-bc63-6db7438049f6)"
          },
          "metadata": {}
        }
      ],
      "execution_count": 57,
      "metadata": {
        "jupyter": {
          "source_hidden": false,
          "outputs_hidden": false
        },
        "nteract": {
          "transient": {
            "deleting": false
          }
        },
        "microsoft": {},
        "collapsed": false
      }
    },
    {
      "cell_type": "code",
      "source": [
        "# Randomization for sample data (meetingCount = meetingsAttendedCount)\r\n",
        "df = df.withColumn('privateChatMessageCount', round(rand(seed=10)*100).cast(\"int\")).withColumn('teamChatMessageCount', round(rand()*50).cast(\"int\")).withColumn('meetingsAttendedCount', round(rand(seed=20)*50).cast(\"int\")).withColumn('meetingCount', round(rand(seed=20)*50).cast(\"int\"))\r\n",
        "df = df.withColumn('audioDuration', when(rand() > 0.9, '2:00').when(rand() > 0.7, '1:30').when(rand() > 0.5, '1:00').when(rand() > 0.3, '0:30').when(rand() > 0.1, '0:15').otherwise('0:00'))\r\n",
        "\r\n",
        "display(df.limit(10))"
      ],
      "outputs": [
        {
          "output_type": "display_data",
          "data": {
            "application/vnd.livy.statement-meta+json": {
              "spark_pool": "spark3p1sm",
              "session_id": 46,
              "statement_id": 3,
              "state": "finished",
              "livy_statement_state": "available",
              "queued_time": "2021-09-29T19:16:28.7620295Z",
              "session_start_time": null,
              "execution_start_time": "2021-09-29T19:19:14.5668045Z",
              "execution_finish_time": "2021-09-29T19:19:31.2968647Z"
            },
            "text/plain": "StatementMeta(spark3p1sm, 46, 3, Finished, Available)"
          },
          "metadata": {}
        },
        {
          "output_type": "display_data",
          "data": {
            "application/vnd.synapse.widget-view+json": {
              "widget_id": "366b8b9a-3244-4b90-b406-81eb3a4cbcdc",
              "widget_type": "Synapse.DataFrame"
            },
            "text/plain": "SynapseWidget(Synapse.DataFrame, 366b8b9a-3244-4b90-b406-81eb3a4cbcdc)"
          },
          "metadata": {}
        }
      ],
      "execution_count": 58,
      "metadata": {
        "jupyter": {
          "source_hidden": false,
          "outputs_hidden": false
        },
        "nteract": {
          "transient": {
            "deleting": false
          }
        },
        "collapsed": false
      }
    },
    {
      "cell_type": "code",
      "source": [
        "# Convert the data in the JSON above to parquet and land this parquet in stage 2np\r\n",
        "#df.write.format('parquet').mode('overwrite').save('abfss://stage2np@stoeahybriddev2.dfs.core.windows.net/GraphAPI/teams_activity_user_details')\r\n",
        "\r\n",
        "# Create table \"teams_activity_user_details\" in spark db \"graphapi\" to allow for access to the data in the data lake.\r\n",
        "#spark.sql(\"create table if not exists GraphAPI.teams_activity_user_details using PARQUET location 'abfss://stage2np@stoeahybriddev2.dfs.core.windows.net/GraphAPI/teams_activity_user_details'\")"
      ],
      "outputs": [],
      "execution_count": null,
      "metadata": {
        "jupyter": {
          "source_hidden": false,
          "outputs_hidden": false
        },
        "nteract": {
          "transient": {
            "deleting": false
          }
        }
      }
    },
    {
      "cell_type": "markdown",
      "source": [
        "# Reset everything\r\n",
        "You can uncomment line 8 in the last cell below and run that cell to reset everything and walk through the process again.\r\n",
        "\r\n",
        "Note: remember to comment out line 8 again to prevent accidental resetting of the example"
      ],
      "metadata": {
        "nteract": {
          "transient": {
            "deleting": false
          }
        }
      }
    },
    {
      "cell_type": "code",
      "source": [
        "%run /OEA_py_updated"
      ],
      "outputs": [
        {
          "output_type": "display_data",
          "data": {
            "application/vnd.livy.statement-meta+json": {
              "spark_pool": null,
              "session_id": 38,
              "statement_id": -1,
              "state": "finished",
              "livy_statement_state": "available",
              "queued_time": "2021-09-27T14:15:02.0718652Z",
              "session_start_time": null,
              "execution_start_time": "2021-09-27T14:18:13.8396695Z",
              "execution_finish_time": "2021-09-27T14:18:13.8398009Z"
            },
            "text/plain": "StatementMeta(, 38, -1, Finished, Available)"
          },
          "metadata": {}
        }
      ],
      "execution_count": 1,
      "metadata": {
        "jupyter": {
          "source_hidden": false,
          "outputs_hidden": false
        },
        "nteract": {
          "transient": {
            "deleting": false
          }
        }
      }
    },
    {
      "cell_type": "code",
      "source": [
        "oea = OEA()"
      ],
      "outputs": [
        {
          "output_type": "display_data",
          "data": {
            "application/vnd.livy.statement-meta+json": {
              "spark_pool": "spark3p1sm",
              "session_id": 38,
              "statement_id": 2,
              "state": "finished",
              "livy_statement_state": "available",
              "queued_time": "2021-09-27T14:15:02.073708Z",
              "session_start_time": null,
              "execution_start_time": "2021-09-27T14:18:13.9479551Z",
              "execution_finish_time": "2021-09-27T14:18:15.8235812Z"
            },
            "text/plain": "StatementMeta(spark3p1sm, 38, 2, Finished, Available)"
          },
          "metadata": {}
        },
        {
          "output_type": "stream",
          "name": "stdout",
          "text": [
            "2021-09-27 14:18:15,619 - OEA - DEBUG - OEA initialized.\nOEA initialized."
          ]
        }
      ],
      "execution_count": 2,
      "metadata": {
        "jupyter": {
          "source_hidden": false,
          "outputs_hidden": false
        },
        "nteract": {
          "transient": {
            "deleting": false
          }
        }
      }
    },
    {
      "cell_type": "code",
      "source": [
        "def reset_all_processing():\r\n",
        "    #oea.rm_if_exists(oea.stage2np + '/GraphAPI')\r\n",
        "\r\n",
        "    oea.drop_db('graphapi')\r\n",
        "\r\n",
        "# Uncomment the following line and run this cell to reset everything if you want to walk through the process again, INCLUDING THE PIPELINE INTEGRATION TRIGGER.\r\n",
        "#reset_all_processing()"
      ],
      "outputs": [
        {
          "output_type": "display_data",
          "data": {
            "application/vnd.livy.statement-meta+json": {
              "spark_pool": "spark3p1sm",
              "session_id": 38,
              "statement_id": 19,
              "state": "finished",
              "livy_statement_state": "available",
              "queued_time": "2021-09-27T15:36:21.5923714Z",
              "session_start_time": null,
              "execution_start_time": "2021-09-27T15:36:21.7166824Z",
              "execution_finish_time": "2021-09-27T15:36:28.5902543Z"
            },
            "text/plain": "StatementMeta(spark3p1sm, 38, 19, Finished, Available)"
          },
          "metadata": {}
        },
        {
          "output_type": "stream",
          "name": "stdout",
          "text": [
            "Database dropped: graphapi"
          ]
        }
      ],
      "execution_count": 19,
      "metadata": {
        "jupyter": {
          "source_hidden": false,
          "outputs_hidden": false
        },
        "nteract": {
          "transient": {
            "deleting": false
          }
        }
      }
    }
  ],
  "metadata": {
    "kernelspec": {
      "name": "synapse_pyspark",
      "language": "Python",
      "display_name": "Synapse PySpark"
    },
    "language_info": {
      "name": "python"
    },
    "kernel_info": {
      "name": "synapse_pyspark"
    },
    "save_output": true,
    "synapse_widget": {
      "version": "0.1",
      "state": {
        "0cfed38b-57aa-41fe-a263-4e9356833ebb": {
          "type": "Synapse.DataFrame",
          "sync_state": {
            "table": {
              "rows": [
                {
                  "0": "Long",
                  "1": "Abigail",
                  "2": "abigaillong3@contosoisd3.onmicrosoft.com",
                  "3": "0d444980-3123-46f4-85d3-6f49e4619ea5"
                },
                {
                  "0": "Smith",
                  "1": "Abigail",
                  "2": "abigailsmith35@contosoisd3.onmicrosoft.com",
                  "3": "c19234e7-a816-41af-9524-4be4092fc559"
                },
                {
                  "0": "Admin",
                  "1": "Global",
                  "2": "admin@contosoisd3.onmicrosoft.com",
                  "3": "7951c64a-b45d-4adb-8842-5e7ab60d17e1"
                },
                {
                  "0": "Jordan",
                  "1": "Adrian",
                  "2": "adrianjordan15@contosoisd3.onmicrosoft.com",
                  "3": "7a2ca37f-d1f3-4be8-8abe-8711d4eea8d6"
                },
                {
                  "2": "agundapaneni_microsoft.com#EXT#@contosoisd3.onmicrosoft.com",
                  "3": "34b26f30-cbfc-47ec-9131-27fef4433705"
                },
                {
                  "0": "Long",
                  "1": "Amanda",
                  "2": "amandalong47@contosoisd3.onmicrosoft.com",
                  "3": "154f2b2c-9e73-4ecc-917e-06c0e440ea15"
                },
                {
                  "0": "Berger",
                  "1": "Amber",
                  "2": "amberberger79@contosoisd3.onmicrosoft.com",
                  "3": "dbc10b91-8d2c-4cf2-ac08-985ad3b4d6b4"
                },
                {
                  "0": "Buchanan",
                  "1": "Amber",
                  "2": "amberbuchanan5@contosoisd3.onmicrosoft.com",
                  "3": "3f901837-788d-407b-b6e5-3dd9018011fe"
                },
                {
                  "0": "Cook",
                  "1": "Amber",
                  "2": "ambercook62@contosoisd3.onmicrosoft.com",
                  "3": "8ec9eba7-aab5-4f79-b798-47320dbbef0d"
                },
                {
                  "0": "Price",
                  "1": "Amy",
                  "2": "amyprice29@contosoisd3.onmicrosoft.com",
                  "3": "ce02f59b-7ab4-426d-be15-f831bef543a8"
                }
              ],
              "schema": [
                {
                  "key": "0",
                  "name": "surname",
                  "type": "string"
                },
                {
                  "key": "1",
                  "name": "givenName",
                  "type": "string"
                },
                {
                  "key": "2",
                  "name": "userPrincipalName",
                  "type": "string"
                },
                {
                  "key": "3",
                  "name": "id",
                  "type": "string"
                }
              ]
            },
            "isSummary": false,
            "language": "scala"
          },
          "persist_state": {
            "view": {
              "type": "details",
              "tableOptions": {},
              "chartOptions": {
                "chartType": "bar",
                "aggregationType": "count",
                "categoryFieldKeys": [
                  "0"
                ],
                "seriesFieldKeys": [
                  "0"
                ],
                "isStacked": false
              }
            }
          }
        },
        "265cacbd-4dd3-47d9-bc63-6db7438049f6": {
          "type": "Synapse.DataFrame",
          "sync_state": {
            "table": {
              "rows": [
                {
                  "0": "2021-09-25",
                  "1": "180",
                  "2": "CD49B90A5B5561178CFEA18528430011",
                  "3": "0",
                  "4": "0",
                  "5": "0",
                  "6": "0",
                  "7": "PT0S"
                },
                {
                  "0": "2021-09-25",
                  "1": "180",
                  "2": "AAB70CEFCE617F3C2D75E91A5AC30234",
                  "3": "0",
                  "4": "0",
                  "5": "0",
                  "6": "0",
                  "7": "PT0S"
                },
                {
                  "0": "2021-09-25",
                  "1": "180",
                  "2": "032CECCC50B05F5187E9881BF47441E7",
                  "3": "0",
                  "4": "0",
                  "5": "0",
                  "6": "0",
                  "7": "PT0S"
                },
                {
                  "0": "2021-09-25",
                  "1": "180",
                  "2": "0317FECA322C73C305521137CAAE0E45",
                  "3": "0",
                  "4": "0",
                  "5": "0",
                  "6": "0",
                  "7": "PT0S"
                },
                {
                  "0": "2021-09-25",
                  "1": "180",
                  "2": "9469174B1915C8F874E68B2F09719C6E",
                  "3": "0",
                  "4": "0",
                  "5": "0",
                  "6": "0",
                  "7": "PT0S"
                },
                {
                  "0": "2021-09-25",
                  "1": "180",
                  "2": "DD7363E36691D51FE18B164003268C8D",
                  "3": "0",
                  "4": "0",
                  "5": "0",
                  "6": "0",
                  "7": "PT0S"
                },
                {
                  "0": "2021-09-25",
                  "1": "180",
                  "2": "7C5FA029D40D811FA6F521202623714C",
                  "3": "0",
                  "4": "0",
                  "5": "0",
                  "6": "0",
                  "7": "PT0S"
                },
                {
                  "0": "2021-09-25",
                  "1": "180",
                  "2": "724BDFFAE765699D85E62A195BC20DDB",
                  "3": "0",
                  "4": "0",
                  "5": "0",
                  "6": "0",
                  "7": "PT0S"
                },
                {
                  "0": "2021-09-25",
                  "1": "180",
                  "2": "7F662E6884C87A883AEB43DE6627D6E8",
                  "3": "0",
                  "4": "0",
                  "5": "0",
                  "6": "0",
                  "7": "PT0S"
                },
                {
                  "0": "2021-09-25",
                  "1": "180",
                  "2": "A01FC1BB0CE485B592445CD54980D7AE",
                  "3": "0",
                  "4": "0",
                  "5": "0",
                  "6": "0",
                  "7": "PT0S"
                }
              ],
              "schema": [
                {
                  "key": "0",
                  "name": "reportRefreshDate",
                  "type": "string"
                },
                {
                  "key": "1",
                  "name": "reportPeriod",
                  "type": "string"
                },
                {
                  "key": "2",
                  "name": "userPrincipalName",
                  "type": "string"
                },
                {
                  "key": "3",
                  "name": "privateChatMessageCount",
                  "type": "int"
                },
                {
                  "key": "4",
                  "name": "teamChatMessageCount",
                  "type": "int"
                },
                {
                  "key": "5",
                  "name": "meetingsAttendedCount",
                  "type": "int"
                },
                {
                  "key": "6",
                  "name": "meetingCount",
                  "type": "int"
                },
                {
                  "key": "7",
                  "name": "audioDuration",
                  "type": "string"
                }
              ]
            },
            "isSummary": false,
            "language": "scala"
          },
          "persist_state": {
            "view": {
              "type": "details",
              "tableOptions": {},
              "chartOptions": {
                "chartType": "bar",
                "aggregationType": "sum",
                "categoryFieldKeys": [
                  "0"
                ],
                "seriesFieldKeys": [
                  "3"
                ],
                "isStacked": false
              }
            }
          }
        },
        "366b8b9a-3244-4b90-b406-81eb3a4cbcdc": {
          "type": "Synapse.DataFrame",
          "sync_state": {
            "table": {
              "rows": [
                {
                  "0": "2021-09-25",
                  "1": "180",
                  "2": "CD49B90A5B5561178CFEA18528430011",
                  "3": "17",
                  "4": "17",
                  "5": "30",
                  "6": "30",
                  "7": "1:00"
                },
                {
                  "0": "2021-09-25",
                  "1": "180",
                  "2": "AAB70CEFCE617F3C2D75E91A5AC30234",
                  "3": "81",
                  "4": "27",
                  "5": "28",
                  "6": "28",
                  "7": "1:30"
                },
                {
                  "0": "2021-09-25",
                  "1": "180",
                  "2": "032CECCC50B05F5187E9881BF47441E7",
                  "3": "58",
                  "4": "19",
                  "5": "47",
                  "6": "47",
                  "7": "1:30"
                },
                {
                  "0": "2021-09-25",
                  "1": "180",
                  "2": "0317FECA322C73C305521137CAAE0E45",
                  "3": "95",
                  "4": "5",
                  "5": "9",
                  "6": "9",
                  "7": "1:00"
                },
                {
                  "0": "2021-09-25",
                  "1": "180",
                  "2": "9469174B1915C8F874E68B2F09719C6E",
                  "3": "21",
                  "4": "24",
                  "5": "11",
                  "6": "11",
                  "7": "1:00"
                },
                {
                  "0": "2021-09-25",
                  "1": "180",
                  "2": "DD7363E36691D51FE18B164003268C8D",
                  "3": "37",
                  "4": "25",
                  "5": "32",
                  "6": "32",
                  "7": "1:00"
                },
                {
                  "0": "2021-09-25",
                  "1": "180",
                  "2": "7C5FA029D40D811FA6F521202623714C",
                  "3": "81",
                  "4": "28",
                  "5": "6",
                  "6": "6",
                  "7": "2:00"
                },
                {
                  "0": "2021-09-25",
                  "1": "180",
                  "2": "724BDFFAE765699D85E62A195BC20DDB",
                  "3": "71",
                  "4": "36",
                  "5": "30",
                  "6": "30",
                  "7": "1:30"
                },
                {
                  "0": "2021-09-25",
                  "1": "180",
                  "2": "7F662E6884C87A883AEB43DE6627D6E8",
                  "3": "72",
                  "4": "27",
                  "5": "2",
                  "6": "2",
                  "7": "0:30"
                },
                {
                  "0": "2021-09-25",
                  "1": "180",
                  "2": "A01FC1BB0CE485B592445CD54980D7AE",
                  "3": "31",
                  "4": "18",
                  "5": "1",
                  "6": "1",
                  "7": "1:30"
                }
              ],
              "schema": [
                {
                  "key": "0",
                  "name": "reportRefreshDate",
                  "type": "string"
                },
                {
                  "key": "1",
                  "name": "reportPeriod",
                  "type": "string"
                },
                {
                  "key": "2",
                  "name": "userPrincipalName",
                  "type": "string"
                },
                {
                  "key": "3",
                  "name": "privateChatMessageCount",
                  "type": "int"
                },
                {
                  "key": "4",
                  "name": "teamChatMessageCount",
                  "type": "int"
                },
                {
                  "key": "5",
                  "name": "meetingsAttendedCount",
                  "type": "int"
                },
                {
                  "key": "6",
                  "name": "meetingCount",
                  "type": "int"
                },
                {
                  "key": "7",
                  "name": "audioDuration",
                  "type": "string"
                }
              ]
            },
            "isSummary": false,
            "language": "scala"
          },
          "persist_state": {
            "view": {
              "type": "details",
              "tableOptions": {},
              "chartOptions": {
                "chartType": "bar",
                "aggregationType": "sum",
                "categoryFieldKeys": [
                  "0"
                ],
                "seriesFieldKeys": [
                  "3"
                ],
                "isStacked": false
              }
            }
          }
        },
        "883ef332-0298-4018-92f6-c3bc8420dc11": {
          "type": "Synapse.DataFrame",
          "sync_state": {
            "table": {
              "rows": [
                {
                  "0": "2021-09-25",
                  "1": "6264C78B91A5916530BEF9264AB606AE",
                  "2": "",
                  "3": "180",
                  "4": "true",
                  "5": "true",
                  "6": "false",
                  "7": "true",
                  "8": "true",
                  "9": "false",
                  "10": "true",
                  "11": "true",
                  "12": "true",
                  "13": "true"
                },
                {
                  "0": "2021-09-25",
                  "1": "ACE06379C6EA23334C70F4BFC7BD1E1D",
                  "2": "",
                  "3": "180",
                  "4": "true",
                  "5": "false",
                  "6": "false",
                  "7": "true",
                  "8": "false",
                  "9": "false",
                  "10": "true",
                  "11": "false",
                  "12": "false",
                  "13": "false"
                },
                {
                  "0": "2021-09-25",
                  "1": "CDAC7760D9F7F1B72610C5857EB54008",
                  "2": "",
                  "3": "180",
                  "4": "false",
                  "5": "false",
                  "6": "false",
                  "7": "true",
                  "8": "true",
                  "9": "false",
                  "10": "true",
                  "11": "true",
                  "12": "true",
                  "13": "true"
                },
                {
                  "0": "2021-09-25",
                  "1": "3047A71317C3B8282B929F5BAE4383F6",
                  "2": "",
                  "3": "180",
                  "4": "true",
                  "5": "false",
                  "6": "false",
                  "7": "true",
                  "8": "false",
                  "9": "false",
                  "10": "true",
                  "11": "false",
                  "12": "false",
                  "13": "true"
                },
                {
                  "0": "2021-09-25",
                  "1": "1849236169168FEEF211AD2BBBF7610E",
                  "2": "",
                  "3": "180",
                  "4": "false",
                  "5": "false",
                  "6": "false",
                  "7": "true",
                  "8": "false",
                  "9": "false",
                  "10": "true",
                  "11": "false",
                  "12": "true",
                  "13": "false"
                },
                {
                  "0": "2021-09-25",
                  "1": "FBDEAFFC7CC887224E01A7C651383799",
                  "2": "",
                  "3": "180",
                  "4": "true",
                  "5": "true",
                  "6": "false",
                  "7": "true",
                  "8": "false",
                  "9": "false",
                  "10": "true",
                  "11": "true",
                  "12": "true",
                  "13": "false"
                },
                {
                  "0": "2021-09-25",
                  "1": "9904821BDC38C789ADFACE9E628FCC2A",
                  "2": "",
                  "3": "180",
                  "4": "true",
                  "5": "true",
                  "6": "true",
                  "7": "true",
                  "8": "false",
                  "9": "false",
                  "10": "true",
                  "11": "true",
                  "12": "false",
                  "13": "false"
                },
                {
                  "0": "2021-09-25",
                  "1": "0317FECA322C73C305521137CAAE0E45",
                  "2": "",
                  "3": "180",
                  "4": "false",
                  "5": "false",
                  "6": "false",
                  "7": "true",
                  "8": "false",
                  "9": "false",
                  "10": "true",
                  "11": "true",
                  "12": "true",
                  "13": "true"
                },
                {
                  "0": "2021-09-25",
                  "1": "EB1F8C8325036876AA94989B509EBFB6",
                  "2": "",
                  "3": "180",
                  "4": "true",
                  "5": "false",
                  "6": "false",
                  "7": "true",
                  "8": "false",
                  "9": "false",
                  "10": "true",
                  "11": "true",
                  "12": "true",
                  "13": "true"
                },
                {
                  "0": "2021-09-25",
                  "1": "46E4FFF7C99864AA2F62A4D76BE701CF",
                  "2": "",
                  "3": "180",
                  "4": "false",
                  "5": "true",
                  "6": "false",
                  "7": "true",
                  "8": "false",
                  "9": "false",
                  "10": "true",
                  "11": "false",
                  "12": "true",
                  "13": "false"
                }
              ],
              "schema": [
                {
                  "key": "0",
                  "name": "reportRefreshDate",
                  "type": "string"
                },
                {
                  "key": "1",
                  "name": "userPrincipalName",
                  "type": "string"
                },
                {
                  "key": "2",
                  "name": "lastActivityDate",
                  "type": "string"
                },
                {
                  "key": "3",
                  "name": "reportPeriod",
                  "type": "int"
                },
                {
                  "key": "4",
                  "name": "excel",
                  "type": "string"
                },
                {
                  "key": "5",
                  "name": "excelWeb",
                  "type": "string"
                },
                {
                  "key": "6",
                  "name": "outlook",
                  "type": "string"
                },
                {
                  "key": "7",
                  "name": "outlookWeb",
                  "type": "string"
                },
                {
                  "key": "8",
                  "name": "powerPoint",
                  "type": "string"
                },
                {
                  "key": "9",
                  "name": "powerPointWeb",
                  "type": "string"
                },
                {
                  "key": "10",
                  "name": "teams",
                  "type": "string"
                },
                {
                  "key": "11",
                  "name": "teamsWeb",
                  "type": "string"
                },
                {
                  "key": "12",
                  "name": "word",
                  "type": "string"
                },
                {
                  "key": "13",
                  "name": "wordWeb",
                  "type": "string"
                }
              ]
            },
            "isSummary": false,
            "language": "scala"
          },
          "persist_state": {
            "view": {
              "type": "details",
              "tableOptions": {},
              "chartOptions": {
                "chartType": "bar",
                "aggregationType": "sum",
                "categoryFieldKeys": [
                  "0"
                ],
                "seriesFieldKeys": [
                  "3"
                ],
                "isStacked": false
              }
            }
          }
        },
        "8e1117de-e81f-4eec-97fe-e3197421cb4f": {
          "type": "Synapse.DataFrame",
          "sync_state": {
            "table": {
              "rows": [
                {
                  "0": "2021-09-25",
                  "1": "6264C78B91A5916530BEF9264AB606AE",
                  "2": "",
                  "14": "[{\"reportPeriod\":180,\"windows\":false,\"mac\":false,\"mobile\":false,\"web\":false,\"outlook\":false,\"word\":false,\"excel\":false,\"powerPoint\":false,\"oneNote\":false,\"teams\":false,\"outlookWindows\":false,\"wordWindows\":false,\"excelWindows\":false,\"powerPointWindows\":false,\"oneNoteWindows\":false,\"teamsWindows\":false,\"outlookMac\":false,\"wordMac\":false,\"excelMac\":false,\"powerPointMac\":false,\"oneNoteMac\":false,\"teamsMac\":false,\"outlookMobile\":false,\"wordMobile\":false,\"excelMobile\":false,\"powerPointMobile\":false,\"oneNoteMobile\":false,\"teamsMobile\":false,\"outlookWeb\":false,\"wordWeb\":false,\"excelWeb\":false,\"powerPointWeb\":false,\"oneNoteWeb\":false,\"teamsWeb\":false}]"
                },
                {
                  "0": "2021-09-25",
                  "1": "ACE06379C6EA23334C70F4BFC7BD1E1D",
                  "2": "",
                  "14": "[{\"reportPeriod\":180,\"windows\":false,\"mac\":false,\"mobile\":false,\"web\":false,\"outlook\":false,\"word\":false,\"excel\":false,\"powerPoint\":false,\"oneNote\":false,\"teams\":false,\"outlookWindows\":false,\"wordWindows\":false,\"excelWindows\":false,\"powerPointWindows\":false,\"oneNoteWindows\":false,\"teamsWindows\":false,\"outlookMac\":false,\"wordMac\":false,\"excelMac\":false,\"powerPointMac\":false,\"oneNoteMac\":false,\"teamsMac\":false,\"outlookMobile\":false,\"wordMobile\":false,\"excelMobile\":false,\"powerPointMobile\":false,\"oneNoteMobile\":false,\"teamsMobile\":false,\"outlookWeb\":false,\"wordWeb\":false,\"excelWeb\":false,\"powerPointWeb\":false,\"oneNoteWeb\":false,\"teamsWeb\":false}]"
                },
                {
                  "0": "2021-09-25",
                  "1": "CDAC7760D9F7F1B72610C5857EB54008",
                  "2": "",
                  "14": "[{\"reportPeriod\":180,\"windows\":false,\"mac\":false,\"mobile\":false,\"web\":false,\"outlook\":false,\"word\":false,\"excel\":false,\"powerPoint\":false,\"oneNote\":false,\"teams\":false,\"outlookWindows\":false,\"wordWindows\":false,\"excelWindows\":false,\"powerPointWindows\":false,\"oneNoteWindows\":false,\"teamsWindows\":false,\"outlookMac\":false,\"wordMac\":false,\"excelMac\":false,\"powerPointMac\":false,\"oneNoteMac\":false,\"teamsMac\":false,\"outlookMobile\":false,\"wordMobile\":false,\"excelMobile\":false,\"powerPointMobile\":false,\"oneNoteMobile\":false,\"teamsMobile\":false,\"outlookWeb\":false,\"wordWeb\":false,\"excelWeb\":false,\"powerPointWeb\":false,\"oneNoteWeb\":false,\"teamsWeb\":false}]"
                },
                {
                  "0": "2021-09-25",
                  "1": "3047A71317C3B8282B929F5BAE4383F6",
                  "2": "",
                  "14": "[{\"reportPeriod\":180,\"windows\":false,\"mac\":false,\"mobile\":false,\"web\":false,\"outlook\":false,\"word\":false,\"excel\":false,\"powerPoint\":false,\"oneNote\":false,\"teams\":false,\"outlookWindows\":false,\"wordWindows\":false,\"excelWindows\":false,\"powerPointWindows\":false,\"oneNoteWindows\":false,\"teamsWindows\":false,\"outlookMac\":false,\"wordMac\":false,\"excelMac\":false,\"powerPointMac\":false,\"oneNoteMac\":false,\"teamsMac\":false,\"outlookMobile\":false,\"wordMobile\":false,\"excelMobile\":false,\"powerPointMobile\":false,\"oneNoteMobile\":false,\"teamsMobile\":false,\"outlookWeb\":false,\"wordWeb\":false,\"excelWeb\":false,\"powerPointWeb\":false,\"oneNoteWeb\":false,\"teamsWeb\":false}]"
                },
                {
                  "0": "2021-09-25",
                  "1": "1849236169168FEEF211AD2BBBF7610E",
                  "2": "",
                  "14": "[{\"reportPeriod\":180,\"windows\":false,\"mac\":false,\"mobile\":false,\"web\":false,\"outlook\":false,\"word\":false,\"excel\":false,\"powerPoint\":false,\"oneNote\":false,\"teams\":false,\"outlookWindows\":false,\"wordWindows\":false,\"excelWindows\":false,\"powerPointWindows\":false,\"oneNoteWindows\":false,\"teamsWindows\":false,\"outlookMac\":false,\"wordMac\":false,\"excelMac\":false,\"powerPointMac\":false,\"oneNoteMac\":false,\"teamsMac\":false,\"outlookMobile\":false,\"wordMobile\":false,\"excelMobile\":false,\"powerPointMobile\":false,\"oneNoteMobile\":false,\"teamsMobile\":false,\"outlookWeb\":false,\"wordWeb\":false,\"excelWeb\":false,\"powerPointWeb\":false,\"oneNoteWeb\":false,\"teamsWeb\":false}]"
                },
                {
                  "0": "2021-09-25",
                  "1": "FBDEAFFC7CC887224E01A7C651383799",
                  "2": "",
                  "14": "[{\"reportPeriod\":180,\"windows\":false,\"mac\":false,\"mobile\":false,\"web\":false,\"outlook\":false,\"word\":false,\"excel\":false,\"powerPoint\":false,\"oneNote\":false,\"teams\":false,\"outlookWindows\":false,\"wordWindows\":false,\"excelWindows\":false,\"powerPointWindows\":false,\"oneNoteWindows\":false,\"teamsWindows\":false,\"outlookMac\":false,\"wordMac\":false,\"excelMac\":false,\"powerPointMac\":false,\"oneNoteMac\":false,\"teamsMac\":false,\"outlookMobile\":false,\"wordMobile\":false,\"excelMobile\":false,\"powerPointMobile\":false,\"oneNoteMobile\":false,\"teamsMobile\":false,\"outlookWeb\":false,\"wordWeb\":false,\"excelWeb\":false,\"powerPointWeb\":false,\"oneNoteWeb\":false,\"teamsWeb\":false}]"
                },
                {
                  "0": "2021-09-25",
                  "1": "9904821BDC38C789ADFACE9E628FCC2A",
                  "2": "",
                  "14": "[{\"reportPeriod\":180,\"windows\":false,\"mac\":false,\"mobile\":false,\"web\":false,\"outlook\":false,\"word\":false,\"excel\":false,\"powerPoint\":false,\"oneNote\":false,\"teams\":false,\"outlookWindows\":false,\"wordWindows\":false,\"excelWindows\":false,\"powerPointWindows\":false,\"oneNoteWindows\":false,\"teamsWindows\":false,\"outlookMac\":false,\"wordMac\":false,\"excelMac\":false,\"powerPointMac\":false,\"oneNoteMac\":false,\"teamsMac\":false,\"outlookMobile\":false,\"wordMobile\":false,\"excelMobile\":false,\"powerPointMobile\":false,\"oneNoteMobile\":false,\"teamsMobile\":false,\"outlookWeb\":false,\"wordWeb\":false,\"excelWeb\":false,\"powerPointWeb\":false,\"oneNoteWeb\":false,\"teamsWeb\":false}]"
                },
                {
                  "0": "2021-09-25",
                  "1": "0317FECA322C73C305521137CAAE0E45",
                  "2": "",
                  "14": "[{\"reportPeriod\":180,\"windows\":false,\"mac\":false,\"mobile\":false,\"web\":false,\"outlook\":false,\"word\":false,\"excel\":false,\"powerPoint\":false,\"oneNote\":false,\"teams\":false,\"outlookWindows\":false,\"wordWindows\":false,\"excelWindows\":false,\"powerPointWindows\":false,\"oneNoteWindows\":false,\"teamsWindows\":false,\"outlookMac\":false,\"wordMac\":false,\"excelMac\":false,\"powerPointMac\":false,\"oneNoteMac\":false,\"teamsMac\":false,\"outlookMobile\":false,\"wordMobile\":false,\"excelMobile\":false,\"powerPointMobile\":false,\"oneNoteMobile\":false,\"teamsMobile\":false,\"outlookWeb\":false,\"wordWeb\":false,\"excelWeb\":false,\"powerPointWeb\":false,\"oneNoteWeb\":false,\"teamsWeb\":false}]"
                },
                {
                  "0": "2021-09-25",
                  "1": "EB1F8C8325036876AA94989B509EBFB6",
                  "2": "",
                  "14": "[{\"reportPeriod\":180,\"windows\":false,\"mac\":false,\"mobile\":false,\"web\":false,\"outlook\":false,\"word\":false,\"excel\":false,\"powerPoint\":false,\"oneNote\":false,\"teams\":false,\"outlookWindows\":false,\"wordWindows\":false,\"excelWindows\":false,\"powerPointWindows\":false,\"oneNoteWindows\":false,\"teamsWindows\":false,\"outlookMac\":false,\"wordMac\":false,\"excelMac\":false,\"powerPointMac\":false,\"oneNoteMac\":false,\"teamsMac\":false,\"outlookMobile\":false,\"wordMobile\":false,\"excelMobile\":false,\"powerPointMobile\":false,\"oneNoteMobile\":false,\"teamsMobile\":false,\"outlookWeb\":false,\"wordWeb\":false,\"excelWeb\":false,\"powerPointWeb\":false,\"oneNoteWeb\":false,\"teamsWeb\":false}]"
                },
                {
                  "0": "2021-09-25",
                  "1": "46E4FFF7C99864AA2F62A4D76BE701CF",
                  "2": "",
                  "14": "[{\"reportPeriod\":180,\"windows\":false,\"mac\":false,\"mobile\":false,\"web\":false,\"outlook\":false,\"word\":false,\"excel\":false,\"powerPoint\":false,\"oneNote\":false,\"teams\":false,\"outlookWindows\":false,\"wordWindows\":false,\"excelWindows\":false,\"powerPointWindows\":false,\"oneNoteWindows\":false,\"teamsWindows\":false,\"outlookMac\":false,\"wordMac\":false,\"excelMac\":false,\"powerPointMac\":false,\"oneNoteMac\":false,\"teamsMac\":false,\"outlookMobile\":false,\"wordMobile\":false,\"excelMobile\":false,\"powerPointMobile\":false,\"oneNoteMobile\":false,\"teamsMobile\":false,\"outlookWeb\":false,\"wordWeb\":false,\"excelWeb\":false,\"powerPointWeb\":false,\"oneNoteWeb\":false,\"teamsWeb\":false}]"
                }
              ],
              "schema": [
                {
                  "key": "0",
                  "name": "reportRefreshDate",
                  "type": "string"
                },
                {
                  "key": "1",
                  "name": "userPrincipalName",
                  "type": "string"
                },
                {
                  "key": "2",
                  "name": "lastActivityDate",
                  "type": "string"
                },
                {
                  "key": "3",
                  "name": "reportPeriod",
                  "type": "string"
                },
                {
                  "key": "4",
                  "name": "excel",
                  "type": "string"
                },
                {
                  "key": "5",
                  "name": "excelWeb",
                  "type": "string"
                },
                {
                  "key": "6",
                  "name": "outlook",
                  "type": "string"
                },
                {
                  "key": "7",
                  "name": "outlookWeb",
                  "type": "string"
                },
                {
                  "key": "8",
                  "name": "powerPoint",
                  "type": "string"
                },
                {
                  "key": "9",
                  "name": "powerPointWeb",
                  "type": "string"
                },
                {
                  "key": "10",
                  "name": "teams",
                  "type": "string"
                },
                {
                  "key": "11",
                  "name": "teamsWeb",
                  "type": "string"
                },
                {
                  "key": "12",
                  "name": "word",
                  "type": "string"
                },
                {
                  "key": "13",
                  "name": "wordWeb",
                  "type": "string"
                },
                {
                  "key": "14",
                  "name": "details",
                  "type": "string"
                }
              ]
            },
            "isSummary": false,
            "language": "scala"
          },
          "persist_state": {
            "view": {
              "type": "details",
              "tableOptions": {},
              "chartOptions": {
                "chartType": "bar",
                "aggregationType": "count",
                "categoryFieldKeys": [
                  "0"
                ],
                "seriesFieldKeys": [
                  "0"
                ],
                "isStacked": false
              }
            }
          }
        },
        "b5365f2a-2a7d-4156-9489-fb942d941941": {
          "type": "Synapse.DataFrame",
          "sync_state": {
            "table": {
              "rows": [
                {
                  "0": "2021-09-25",
                  "1": "6264C78B91A5916530BEF9264AB606AE",
                  "2": "",
                  "3": "180",
                  "4": "false",
                  "5": "false",
                  "6": "false",
                  "7": "false",
                  "8": "false",
                  "9": "false",
                  "10": "false",
                  "11": "false",
                  "12": "false",
                  "13": "false"
                },
                {
                  "0": "2021-09-25",
                  "1": "ACE06379C6EA23334C70F4BFC7BD1E1D",
                  "2": "",
                  "3": "180",
                  "4": "false",
                  "5": "false",
                  "6": "false",
                  "7": "false",
                  "8": "false",
                  "9": "false",
                  "10": "false",
                  "11": "false",
                  "12": "false",
                  "13": "false"
                },
                {
                  "0": "2021-09-25",
                  "1": "CDAC7760D9F7F1B72610C5857EB54008",
                  "2": "",
                  "3": "180",
                  "4": "false",
                  "5": "false",
                  "6": "false",
                  "7": "false",
                  "8": "false",
                  "9": "false",
                  "10": "false",
                  "11": "false",
                  "12": "false",
                  "13": "false"
                },
                {
                  "0": "2021-09-25",
                  "1": "3047A71317C3B8282B929F5BAE4383F6",
                  "2": "",
                  "3": "180",
                  "4": "false",
                  "5": "false",
                  "6": "false",
                  "7": "false",
                  "8": "false",
                  "9": "false",
                  "10": "false",
                  "11": "false",
                  "12": "false",
                  "13": "false"
                },
                {
                  "0": "2021-09-25",
                  "1": "1849236169168FEEF211AD2BBBF7610E",
                  "2": "",
                  "3": "180",
                  "4": "false",
                  "5": "false",
                  "6": "false",
                  "7": "false",
                  "8": "false",
                  "9": "false",
                  "10": "false",
                  "11": "false",
                  "12": "false",
                  "13": "false"
                },
                {
                  "0": "2021-09-25",
                  "1": "FBDEAFFC7CC887224E01A7C651383799",
                  "2": "",
                  "3": "180",
                  "4": "false",
                  "5": "false",
                  "6": "false",
                  "7": "false",
                  "8": "false",
                  "9": "false",
                  "10": "false",
                  "11": "false",
                  "12": "false",
                  "13": "false"
                },
                {
                  "0": "2021-09-25",
                  "1": "9904821BDC38C789ADFACE9E628FCC2A",
                  "2": "",
                  "3": "180",
                  "4": "false",
                  "5": "false",
                  "6": "false",
                  "7": "false",
                  "8": "false",
                  "9": "false",
                  "10": "false",
                  "11": "false",
                  "12": "false",
                  "13": "false"
                },
                {
                  "0": "2021-09-25",
                  "1": "0317FECA322C73C305521137CAAE0E45",
                  "2": "",
                  "3": "180",
                  "4": "false",
                  "5": "false",
                  "6": "false",
                  "7": "false",
                  "8": "false",
                  "9": "false",
                  "10": "false",
                  "11": "false",
                  "12": "false",
                  "13": "false"
                },
                {
                  "0": "2021-09-25",
                  "1": "EB1F8C8325036876AA94989B509EBFB6",
                  "2": "",
                  "3": "180",
                  "4": "false",
                  "5": "false",
                  "6": "false",
                  "7": "false",
                  "8": "false",
                  "9": "false",
                  "10": "false",
                  "11": "false",
                  "12": "false",
                  "13": "false"
                },
                {
                  "0": "2021-09-25",
                  "1": "46E4FFF7C99864AA2F62A4D76BE701CF",
                  "2": "",
                  "3": "180",
                  "4": "false",
                  "5": "false",
                  "6": "false",
                  "7": "false",
                  "8": "false",
                  "9": "false",
                  "10": "false",
                  "11": "false",
                  "12": "false",
                  "13": "false"
                }
              ],
              "schema": [
                {
                  "key": "0",
                  "name": "reportRefreshDate",
                  "type": "string"
                },
                {
                  "key": "1",
                  "name": "userPrincipalName",
                  "type": "string"
                },
                {
                  "key": "2",
                  "name": "lastActivityDate",
                  "type": "string"
                },
                {
                  "key": "3",
                  "name": "reportPeriod",
                  "type": "int"
                },
                {
                  "key": "4",
                  "name": "excel",
                  "type": "boolean"
                },
                {
                  "key": "5",
                  "name": "excelWeb",
                  "type": "boolean"
                },
                {
                  "key": "6",
                  "name": "outlook",
                  "type": "boolean"
                },
                {
                  "key": "7",
                  "name": "outlookWeb",
                  "type": "boolean"
                },
                {
                  "key": "8",
                  "name": "powerPoint",
                  "type": "boolean"
                },
                {
                  "key": "9",
                  "name": "powerPointWeb",
                  "type": "boolean"
                },
                {
                  "key": "10",
                  "name": "teams",
                  "type": "boolean"
                },
                {
                  "key": "11",
                  "name": "teamsWeb",
                  "type": "boolean"
                },
                {
                  "key": "12",
                  "name": "word",
                  "type": "boolean"
                },
                {
                  "key": "13",
                  "name": "wordWeb",
                  "type": "boolean"
                }
              ]
            },
            "isSummary": false,
            "language": "scala"
          },
          "persist_state": {
            "view": {
              "type": "details",
              "tableOptions": {},
              "chartOptions": {
                "chartType": "bar",
                "aggregationType": "sum",
                "categoryFieldKeys": [
                  "0"
                ],
                "seriesFieldKeys": [
                  "3"
                ],
                "isStacked": false
              }
            }
          }
        }
      }
    }
  },
  "nbformat": 4,
  "nbformat_minor": 2
}