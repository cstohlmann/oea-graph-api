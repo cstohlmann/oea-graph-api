{
  "cells": [
    {
      "cell_type": "markdown",
      "source": [
        "# Test for processing Microsoft Graph Reports API data\r\n",
        "\r\n",
        "This notebook demonstrates possible data processing and exploration of the Microsoft Graph Reports API data, using the OEA_py class notebook. \r\n",
        "\r\n",
        "Most of the data processing done in this notebook are also achieved by executing the Graph module main pipeline. This notebook is designed as an alternate approach to the same processing, as well as module data exploration and visualization. \r\n",
        "\r\n",
        "The steps are clearly outlined below:\r\n",
        "1. Set the workspace,\r\n",
        "2. Land Graph Module (K-12 or Higher Ed.) Test Data,\r\n",
        "3. Ingest the Graph Module Test Data,\r\n",
        "4. Graph Schema Correction,\r\n",
        "5. Refine the Graph Module Test Data, \r\n",
        "6. Demonstrate Lake Database Queries/Final Remarks, and\r\n",
        "7. Appendix"
      ],
      "metadata": {
        "nteract": {
          "transient": {
            "deleting": false
          }
        }
      }
    },
    {
      "cell_type": "code",
      "source": [
        "%run OEA_py"
      ],
      "outputs": [],
      "execution_count": 47,
      "metadata": {
        "jupyter": {
          "source_hidden": false,
          "outputs_hidden": false
        },
        "nteract": {
          "transient": {
            "deleting": false
          }
        }
      }
    },
    {
      "cell_type": "code",
      "source": [
        "# 1) set the workspace (this determines where in the data lake you'll be writing to and reading from).\r\n",
        "# You can work in 'dev', 'prod', or a sandbox with any name you choose.\r\n",
        "# For example, Sam the developer can create a 'sam' workspace and expect to find his datasets in the data lake under oea/sandboxes/sam\r\n",
        "oea.set_workspace('sam')"
      ],
      "outputs": [],
      "execution_count": null,
      "metadata": {
        "jupyter": {
          "source_hidden": false,
          "outputs_hidden": false
        },
        "nteract": {
          "transient": {
            "deleting": false
          }
        }
      }
    },
    {
      "cell_type": "markdown",
      "source": [
        "## 2.) Land Graph Module (K-12 or Higher Ed.) Test Data\r\n",
        "Below are 3 code blocks - the first lands test data formatted as K-12 data in your data lake, whereas the second and third land Higher Ed. test data in your lake. Choose and run *one* of the set of these blocks."
      ],
      "metadata": {
        "nteract": {
          "transient": {
            "deleting": false
          }
        }
      }
    },
    {
      "cell_type": "code",
      "source": [
        "# 2.1) Land batch data files into stage1 of the data lake.\r\n",
        "# In this example we pull Graph K-12 test json data files from github and land it in oea/sandboxes/sam/stage1/Transactional/graph_api/beta\r\n",
        "# NOTE: You can choose to ingest Graph Higher Ed. test data instead, by running the 2 code blocks below rather than this one.\r\n",
        "import datetime\r\n",
        "currentDate = datetime.datetime.now()\r\n",
        "currentDateTime = currentDate.strftime(\"%Y-%m-%d %H-%M-%S\")\r\n",
        "data = requests.get('https://raw.githubusercontent.com/microsoft/OpenEduAnalytics/main/modules/module_catalog/Microsoft_Graph/test_data/k12_test_data/Users/part-00000-cae42818-3572-4824-b396-58587ad01616-c000.json').text\r\n",
        "oea.land(data, 'graph_api/beta/users', 'users_k12_test_data.json', oea.SNAPSHOT_BATCH_DATA, currentDateTime)\r\n",
        "\r\n",
        "data = requests.get('https://raw.githubusercontent.com/microsoft/OpenEduAnalytics/main/modules/module_catalog/Microsoft_Graph/test_data/k12_test_data/M365_App_User_Detail/part-00000-b6c697c6-1520-4aae-9f5c-6213dff6ab0a-c000.json').text\r\n",
        "oea.land(data, 'graph_api/beta/m365_app_user_detail', 'part01_k12_test_data.json', oea.ADDITIVE_BATCH_DATA, currentDateTime)\r\n",
        "data = requests.get('https://raw.githubusercontent.com/microsoft/OpenEduAnalytics/main/modules/module_catalog/Microsoft_Graph/test_data/k12_test_data/M365_App_User_Detail/part-00001-b6c697c6-1520-4aae-9f5c-6213dff6ab0a-c000.json').text\r\n",
        "oea.land(data, 'graph_api/beta/m365_app_user_detail', 'part02_k12_test_data.json', oea.ADDITIVE_BATCH_DATA, currentDateTime)\r\n",
        "data = requests.get('https://raw.githubusercontent.com/microsoft/OpenEduAnalytics/main/modules/module_catalog/Microsoft_Graph/test_data/k12_test_data/M365_App_User_Detail/part-00002-b6c697c6-1520-4aae-9f5c-6213dff6ab0a-c000.json').text\r\n",
        "oea.land(data, 'graph_api/beta/m365_app_user_detail', 'part03_k12_test_data.json', oea.ADDITIVE_BATCH_DATA, currentDateTime)\r\n",
        "data = requests.get('https://raw.githubusercontent.com/microsoft/OpenEduAnalytics/main/modules/module_catalog/Microsoft_Graph/test_data/k12_test_data/M365_App_User_Detail/part-00003-b6c697c6-1520-4aae-9f5c-6213dff6ab0a-c000.json').text\r\n",
        "oea.land(data, 'graph_api/beta/m365_app_user_detail', 'part04_k12_test_data.json', oea.ADDITIVE_BATCH_DATA, currentDateTime)\r\n",
        "data = requests.get('https://raw.githubusercontent.com/microsoft/OpenEduAnalytics/main/modules/module_catalog/Microsoft_Graph/test_data/k12_test_data/M365_App_User_Detail/part-00004-b6c697c6-1520-4aae-9f5c-6213dff6ab0a-c000.json').text\r\n",
        "oea.land(data, 'graph_api/beta/m365_app_user_detail', 'part05_k12_test_data.json', oea.ADDITIVE_BATCH_DATA, currentDateTime)\r\n",
        "data = requests.get('https://raw.githubusercontent.com/microsoft/OpenEduAnalytics/main/modules/module_catalog/Microsoft_Graph/test_data/k12_test_data/M365_App_User_Detail/part-00005-b6c697c6-1520-4aae-9f5c-6213dff6ab0a-c000.json').text\r\n",
        "oea.land(data, 'graph_api/beta/m365_app_user_detail', 'part06_k12_test_data.json', oea.ADDITIVE_BATCH_DATA, currentDateTime)\r\n",
        "data = requests.get('https://raw.githubusercontent.com/microsoft/OpenEduAnalytics/main/modules/module_catalog/Microsoft_Graph/test_data/k12_test_data/M365_App_User_Detail/part-00006-b6c697c6-1520-4aae-9f5c-6213dff6ab0a-c000.json').text\r\n",
        "oea.land(data, 'graph_api/beta/m365_app_user_detail', 'part07_k12_test_data.json', oea.ADDITIVE_BATCH_DATA, currentDateTime)\r\n",
        "data = requests.get('https://raw.githubusercontent.com/microsoft/OpenEduAnalytics/main/modules/module_catalog/Microsoft_Graph/test_data/k12_test_data/M365_App_User_Detail/part-00007-b6c697c6-1520-4aae-9f5c-6213dff6ab0a-c000.json').text\r\n",
        "oea.land(data, 'graph_api/beta/m365_app_user_detail', 'part08_k12_test_data.json', oea.ADDITIVE_BATCH_DATA, currentDateTime)\r\n",
        "data = requests.get('https://raw.githubusercontent.com/microsoft/OpenEduAnalytics/main/modules/module_catalog/Microsoft_Graph/test_data/k12_test_data/M365_App_User_Detail/part-00008-b6c697c6-1520-4aae-9f5c-6213dff6ab0a-c000.json').text\r\n",
        "oea.land(data, 'graph_api/beta/m365_app_user_detail', 'part09_k12_test_data.json', oea.ADDITIVE_BATCH_DATA, currentDateTime)\r\n",
        "data = requests.get('https://raw.githubusercontent.com/microsoft/OpenEduAnalytics/main/modules/module_catalog/Microsoft_Graph/test_data/k12_test_data/M365_App_User_Detail/part-00009-b6c697c6-1520-4aae-9f5c-6213dff6ab0a-c000.json').text\r\n",
        "oea.land(data, 'graph_api/beta/m365_app_user_detail', 'part10_k12_test_data.json', oea.ADDITIVE_BATCH_DATA, currentDateTime)\r\n",
        "data = requests.get('https://raw.githubusercontent.com/microsoft/OpenEduAnalytics/main/modules/module_catalog/Microsoft_Graph/test_data/k12_test_data/M365_App_User_Detail/part-00010-b6c697c6-1520-4aae-9f5c-6213dff6ab0a-c000.json').text\r\n",
        "oea.land(data, 'graph_api/beta/m365_app_user_detail', 'part11_k12_test_data.json', oea.ADDITIVE_BATCH_DATA, currentDateTime)\r\n",
        "data = requests.get('https://raw.githubusercontent.com/microsoft/OpenEduAnalytics/main/modules/module_catalog/Microsoft_Graph/test_data/k12_test_data/M365_App_User_Detail/part-00011-b6c697c6-1520-4aae-9f5c-6213dff6ab0a-c000.json').text\r\n",
        "oea.land(data, 'graph_api/beta/m365_app_user_detail', 'part12_k12_test_data.json', oea.ADDITIVE_BATCH_DATA, currentDateTime)\r\n",
        "data = requests.get('https://raw.githubusercontent.com/microsoft/OpenEduAnalytics/main/modules/module_catalog/Microsoft_Graph/test_data/k12_test_data/M365_App_User_Detail/part-00012-b6c697c6-1520-4aae-9f5c-6213dff6ab0a-c000.json').text\r\n",
        "oea.land(data, 'graph_api/beta/m365_app_user_detail', 'part13_k12_test_data.json', oea.ADDITIVE_BATCH_DATA, currentDateTime)\r\n",
        "data = requests.get('https://raw.githubusercontent.com/microsoft/OpenEduAnalytics/main/modules/module_catalog/Microsoft_Graph/test_data/k12_test_data/M365_App_User_Detail/part-00013-b6c697c6-1520-4aae-9f5c-6213dff6ab0a-c000.json').text\r\n",
        "oea.land(data, 'graph_api/beta/m365_app_user_detail', 'part14_k12_test_data.json', oea.ADDITIVE_BATCH_DATA, currentDateTime)\r\n",
        "data = requests.get('https://raw.githubusercontent.com/microsoft/OpenEduAnalytics/main/modules/module_catalog/Microsoft_Graph/test_data/k12_test_data/M365_App_User_Detail/part-00014-b6c697c6-1520-4aae-9f5c-6213dff6ab0a-c000.json').text\r\n",
        "oea.land(data, 'graph_api/beta/m365_app_user_detail', 'part15_k12_test_data.json', oea.ADDITIVE_BATCH_DATA, currentDateTime)\r\n",
        "data = requests.get('https://raw.githubusercontent.com/microsoft/OpenEduAnalytics/main/modules/module_catalog/Microsoft_Graph/test_data/k12_test_data/M365_App_User_Detail/part-00015-b6c697c6-1520-4aae-9f5c-6213dff6ab0a-c000.json').text\r\n",
        "oea.land(data, 'graph_api/beta/m365_app_user_detail', 'part16_k12_test_data.json', oea.ADDITIVE_BATCH_DATA, currentDateTime)\r\n",
        "data = requests.get('https://raw.githubusercontent.com/microsoft/OpenEduAnalytics/main/modules/module_catalog/Microsoft_Graph/test_data/k12_test_data/M365_App_User_Detail/part-00016-b6c697c6-1520-4aae-9f5c-6213dff6ab0a-c000.json').text\r\n",
        "oea.land(data, 'graph_api/beta/m365_app_user_detail', 'part17_k12_test_data.json', oea.ADDITIVE_BATCH_DATA, currentDateTime)\r\n",
        "data = requests.get('https://raw.githubusercontent.com/microsoft/OpenEduAnalytics/main/modules/module_catalog/Microsoft_Graph/test_data/k12_test_data/M365_App_User_Detail/part-00017-b6c697c6-1520-4aae-9f5c-6213dff6ab0a-c000.json').text\r\n",
        "oea.land(data, 'graph_api/beta/m365_app_user_detail', 'part18_k12_test_data.json', oea.ADDITIVE_BATCH_DATA, currentDateTime)\r\n",
        "data = requests.get('https://raw.githubusercontent.com/microsoft/OpenEduAnalytics/main/modules/module_catalog/Microsoft_Graph/test_data/k12_test_data/M365_App_User_Detail/part-00018-b6c697c6-1520-4aae-9f5c-6213dff6ab0a-c000.json').text\r\n",
        "oea.land(data, 'graph_api/beta/m365_app_user_detail', 'part19_k12_test_data.json', oea.ADDITIVE_BATCH_DATA, currentDateTime)\r\n",
        "data = requests.get('https://raw.githubusercontent.com/microsoft/OpenEduAnalytics/main/modules/module_catalog/Microsoft_Graph/test_data/k12_test_data/M365_App_User_Detail/part-00019-b6c697c6-1520-4aae-9f5c-6213dff6ab0a-c000.json').text\r\n",
        "oea.land(data, 'graph_api/beta/m365_app_user_detail', 'part20_k12_test_data.json', oea.ADDITIVE_BATCH_DATA, currentDateTime)\r\n",
        "data = requests.get('https://raw.githubusercontent.com/microsoft/OpenEduAnalytics/main/modules/module_catalog/Microsoft_Graph/test_data/k12_test_data/M365_App_User_Detail/part-00020-b6c697c6-1520-4aae-9f5c-6213dff6ab0a-c000.json').text\r\n",
        "oea.land(data, 'graph_api/beta/m365_app_user_detail', 'part21_k12_test_data.json', oea.ADDITIVE_BATCH_DATA, currentDateTime)\r\n",
        "data = requests.get('https://raw.githubusercontent.com/microsoft/OpenEduAnalytics/main/modules/module_catalog/Microsoft_Graph/test_data/k12_test_data/M365_App_User_Detail/part-00021-b6c697c6-1520-4aae-9f5c-6213dff6ab0a-c000.json').text\r\n",
        "oea.land(data, 'graph_api/beta/m365_app_user_detail', 'part22_k12_test_data.json', oea.ADDITIVE_BATCH_DATA, currentDateTime)\r\n",
        "data = requests.get('https://raw.githubusercontent.com/microsoft/OpenEduAnalytics/main/modules/module_catalog/Microsoft_Graph/test_data/k12_test_data/M365_App_User_Detail/part-00022-b6c697c6-1520-4aae-9f5c-6213dff6ab0a-c000.json').text\r\n",
        "oea.land(data, 'graph_api/beta/m365_app_user_detail', 'part23_k12_test_data.json', oea.ADDITIVE_BATCH_DATA, currentDateTime)\r\n",
        "data = requests.get('https://raw.githubusercontent.com/microsoft/OpenEduAnalytics/main/modules/module_catalog/Microsoft_Graph/test_data/k12_test_data/M365_App_User_Detail/part-00023-b6c697c6-1520-4aae-9f5c-6213dff6ab0a-c000.json').text\r\n",
        "oea.land(data, 'graph_api/beta/m365_app_user_detail', 'part24_k12_test_data.json', oea.ADDITIVE_BATCH_DATA, currentDateTime)\r\n",
        "data = requests.get('https://raw.githubusercontent.com/microsoft/OpenEduAnalytics/main/modules/module_catalog/Microsoft_Graph/test_data/k12_test_data/M365_App_User_Detail/part-00024-b6c697c6-1520-4aae-9f5c-6213dff6ab0a-c000.json').text\r\n",
        "oea.land(data, 'graph_api/beta/m365_app_user_detail', 'part25_k12_test_data.json', oea.ADDITIVE_BATCH_DATA, currentDateTime)\r\n",
        "data = requests.get('https://raw.githubusercontent.com/microsoft/OpenEduAnalytics/main/modules/module_catalog/Microsoft_Graph/test_data/k12_test_data/M365_App_User_Detail/part-00025-b6c697c6-1520-4aae-9f5c-6213dff6ab0a-c000.json').text\r\n",
        "oea.land(data, 'graph_api/beta/m365_app_user_detail', 'part26_k12_test_data.json', oea.ADDITIVE_BATCH_DATA, currentDateTime)\r\n",
        "data = requests.get('https://raw.githubusercontent.com/microsoft/OpenEduAnalytics/main/modules/module_catalog/Microsoft_Graph/test_data/k12_test_data/M365_App_User_Detail/part-00026-b6c697c6-1520-4aae-9f5c-6213dff6ab0a-c000.json').text\r\n",
        "oea.land(data, 'graph_api/beta/m365_app_user_detail', 'part27_k12_test_data.json', oea.ADDITIVE_BATCH_DATA, currentDateTime)\r\n",
        "data = requests.get('https://raw.githubusercontent.com/microsoft/OpenEduAnalytics/main/modules/module_catalog/Microsoft_Graph/test_data/k12_test_data/M365_App_User_Detail/part-00027-b6c697c6-1520-4aae-9f5c-6213dff6ab0a-c000.json').text\r\n",
        "oea.land(data, 'graph_api/beta/m365_app_user_detail', 'part28_k12_test_data.json', oea.ADDITIVE_BATCH_DATA, currentDateTime)\r\n",
        "data = requests.get('https://raw.githubusercontent.com/microsoft/OpenEduAnalytics/main/modules/module_catalog/Microsoft_Graph/test_data/k12_test_data/M365_App_User_Detail/part-00028-b6c697c6-1520-4aae-9f5c-6213dff6ab0a-c000.json').text\r\n",
        "oea.land(data, 'graph_api/beta/m365_app_user_detail', 'part29_k12_test_data.json', oea.ADDITIVE_BATCH_DATA, currentDateTime)\r\n",
        "data = requests.get('https://raw.githubusercontent.com/microsoft/OpenEduAnalytics/main/modules/module_catalog/Microsoft_Graph/test_data/k12_test_data/M365_App_User_Detail/part-00029-b6c697c6-1520-4aae-9f5c-6213dff6ab0a-c000.json').text\r\n",
        "oea.land(data, 'graph_api/beta/m365_app_user_detail', 'part30_k12_test_data.json', oea.ADDITIVE_BATCH_DATA, currentDateTime)\r\n",
        "data = requests.get('https://raw.githubusercontent.com/microsoft/OpenEduAnalytics/main/modules/module_catalog/Microsoft_Graph/test_data/k12_test_data/M365_App_User_Detail/part-00030-b6c697c6-1520-4aae-9f5c-6213dff6ab0a-c000.json').text\r\n",
        "oea.land(data, 'graph_api/beta/m365_app_user_detail', 'part31_k12_test_data.json', oea.ADDITIVE_BATCH_DATA, currentDateTime)\r\n",
        "data = requests.get('https://raw.githubusercontent.com/microsoft/OpenEduAnalytics/main/modules/module_catalog/Microsoft_Graph/test_data/k12_test_data/M365_App_User_Detail/part-00031-b6c697c6-1520-4aae-9f5c-6213dff6ab0a-c000.json').text\r\n",
        "oea.land(data, 'graph_api/beta/m365_app_user_detail', 'part32_k12_test_data.json', oea.ADDITIVE_BATCH_DATA, currentDateTime)\r\n",
        "\r\n",
        "data = requests.get('https://raw.githubusercontent.com/microsoft/OpenEduAnalytics/main/modules/module_catalog/Microsoft_Graph/test_data/k12_test_data/Teams_Activity_User_Detail/part-00000-bd366e94-d20e-4e81-b4ba-47b15889b4a9-c000.json').text\r\n",
        "oea.land(data, 'graph_api/beta/teams_activity_user_detail', 'part01_k12_test_data.json', oea.ADDITIVE_BATCH_DATA, currentDateTime)\r\n",
        "data = requests.get('https://raw.githubusercontent.com/microsoft/OpenEduAnalytics/main/modules/module_catalog/Microsoft_Graph/test_data/k12_test_data/Teams_Activity_User_Detail/part-00001-bd366e94-d20e-4e81-b4ba-47b15889b4a9-c000.json').text\r\n",
        "oea.land(data, 'graph_api/beta/teams_activity_user_detail', 'part02_k12_test_data.json', oea.ADDITIVE_BATCH_DATA, currentDateTime)\r\n",
        "data = requests.get('https://raw.githubusercontent.com/microsoft/OpenEduAnalytics/main/modules/module_catalog/Microsoft_Graph/test_data/k12_test_data/Teams_Activity_User_Detail/part-00002-bd366e94-d20e-4e81-b4ba-47b15889b4a9-c000.json').text\r\n",
        "oea.land(data, 'graph_api/beta/teams_activity_user_detail', 'part03_k12_test_data.json', oea.ADDITIVE_BATCH_DATA, currentDateTime)\r\n",
        "data = requests.get('https://raw.githubusercontent.com/microsoft/OpenEduAnalytics/main/modules/module_catalog/Microsoft_Graph/test_data/k12_test_data/Teams_Activity_User_Detail/part-00003-bd366e94-d20e-4e81-b4ba-47b15889b4a9-c000.json').text\r\n",
        "oea.land(data, 'graph_api/beta/teams_activity_user_detail', 'part04_k12_test_data.json', oea.ADDITIVE_BATCH_DATA, currentDateTime)\r\n",
        "data = requests.get('https://raw.githubusercontent.com/microsoft/OpenEduAnalytics/main/modules/module_catalog/Microsoft_Graph/test_data/k12_test_data/Teams_Activity_User_Detail/part-00004-bd366e94-d20e-4e81-b4ba-47b15889b4a9-c000.json').text\r\n",
        "oea.land(data, 'graph_api/beta/teams_activity_user_detail', 'part05_k12_test_data.json', oea.ADDITIVE_BATCH_DATA, currentDateTime)\r\n",
        "data = requests.get('https://raw.githubusercontent.com/microsoft/OpenEduAnalytics/main/modules/module_catalog/Microsoft_Graph/test_data/k12_test_data/Teams_Activity_User_Detail/part-00005-bd366e94-d20e-4e81-b4ba-47b15889b4a9-c000.json').text\r\n",
        "oea.land(data, 'graph_api/beta/teams_activity_user_detail', 'part06_k12_test_data.json', oea.ADDITIVE_BATCH_DATA, currentDateTime)\r\n",
        "data = requests.get('https://raw.githubusercontent.com/microsoft/OpenEduAnalytics/main/modules/module_catalog/Microsoft_Graph/test_data/k12_test_data/Teams_Activity_User_Detail/part-00006-bd366e94-d20e-4e81-b4ba-47b15889b4a9-c000.json').text\r\n",
        "oea.land(data, 'graph_api/beta/teams_activity_user_detail', 'part07_k12_test_data.json', oea.ADDITIVE_BATCH_DATA, currentDateTime)\r\n",
        "data = requests.get('https://raw.githubusercontent.com/microsoft/OpenEduAnalytics/main/modules/module_catalog/Microsoft_Graph/test_data/k12_test_data/Teams_Activity_User_Detail/part-00007-bd366e94-d20e-4e81-b4ba-47b15889b4a9-c000.json').text\r\n",
        "oea.land(data, 'graph_api/beta/teams_activity_user_detail', 'part08_k12_test_data.json', oea.ADDITIVE_BATCH_DATA, currentDateTime)\r\n",
        "data = requests.get('https://raw.githubusercontent.com/microsoft/OpenEduAnalytics/main/modules/module_catalog/Microsoft_Graph/test_data/k12_test_data/Teams_Activity_User_Detail/part-00008-bd366e94-d20e-4e81-b4ba-47b15889b4a9-c000.json').text\r\n",
        "oea.land(data, 'graph_api/beta/teams_activity_user_detail', 'part09_k12_test_data.json', oea.ADDITIVE_BATCH_DATA, currentDateTime)\r\n",
        "data = requests.get('https://raw.githubusercontent.com/microsoft/OpenEduAnalytics/main/modules/module_catalog/Microsoft_Graph/test_data/k12_test_data/Teams_Activity_User_Detail/part-00009-bd366e94-d20e-4e81-b4ba-47b15889b4a9-c000.json').text\r\n",
        "oea.land(data, 'graph_api/beta/teams_activity_user_detail', 'part10_k12_test_data.json', oea.ADDITIVE_BATCH_DATA, currentDateTime)\r\n",
        "data = requests.get('https://raw.githubusercontent.com/microsoft/OpenEduAnalytics/main/modules/module_catalog/Microsoft_Graph/test_data/k12_test_data/Teams_Activity_User_Detail/part-00010-bd366e94-d20e-4e81-b4ba-47b15889b4a9-c000.json').text\r\n",
        "oea.land(data, 'graph_api/beta/teams_activity_user_detail', 'part11_k12_test_data.json', oea.ADDITIVE_BATCH_DATA, currentDateTime)\r\n",
        "data = requests.get('https://raw.githubusercontent.com/microsoft/OpenEduAnalytics/main/modules/module_catalog/Microsoft_Graph/test_data/k12_test_data/Teams_Activity_User_Detail/part-00011-bd366e94-d20e-4e81-b4ba-47b15889b4a9-c000.json').text\r\n",
        "oea.land(data, 'graph_api/beta/teams_activity_user_detail', 'part12_k12_test_data.json', oea.ADDITIVE_BATCH_DATA, currentDateTime)\r\n",
        "data = requests.get('https://raw.githubusercontent.com/microsoft/OpenEduAnalytics/main/modules/module_catalog/Microsoft_Graph/test_data/k12_test_data/Teams_Activity_User_Detail/part-00012-bd366e94-d20e-4e81-b4ba-47b15889b4a9-c000.json').text\r\n",
        "oea.land(data, 'graph_api/beta/teams_activity_user_detail', 'part13_k12_test_data.json', oea.ADDITIVE_BATCH_DATA, currentDateTime)\r\n",
        "data = requests.get('https://raw.githubusercontent.com/microsoft/OpenEduAnalytics/main/modules/module_catalog/Microsoft_Graph/test_data/k12_test_data/Teams_Activity_User_Detail/part-00013-bd366e94-d20e-4e81-b4ba-47b15889b4a9-c000.json').text\r\n",
        "oea.land(data, 'graph_api/beta/teams_activity_user_detail', 'part14_k12_test_data.json', oea.ADDITIVE_BATCH_DATA, currentDateTime)\r\n",
        "data = requests.get('https://raw.githubusercontent.com/microsoft/OpenEduAnalytics/main/modules/module_catalog/Microsoft_Graph/test_data/k12_test_data/Teams_Activity_User_Detail/part-00014-bd366e94-d20e-4e81-b4ba-47b15889b4a9-c000.json').text\r\n",
        "oea.land(data, 'graph_api/beta/teams_activity_user_detail', 'part15_k12_test_data.json', oea.ADDITIVE_BATCH_DATA, currentDateTime)\r\n",
        "data = requests.get('https://raw.githubusercontent.com/microsoft/OpenEduAnalytics/main/modules/module_catalog/Microsoft_Graph/test_data/k12_test_data/Teams_Activity_User_Detail/part-00015-bd366e94-d20e-4e81-b4ba-47b15889b4a9-c000.json').text\r\n",
        "oea.land(data, 'graph_api/beta/teams_activity_user_detail', 'part16_k12_test_data.json', oea.ADDITIVE_BATCH_DATA, currentDateTime)\r\n",
        "data = requests.get('https://raw.githubusercontent.com/microsoft/OpenEduAnalytics/main/modules/module_catalog/Microsoft_Graph/test_data/k12_test_data/Teams_Activity_User_Detail/part-00016-bd366e94-d20e-4e81-b4ba-47b15889b4a9-c000.json').text\r\n",
        "oea.land(data, 'graph_api/beta/teams_activity_user_detail', 'part17_k12_test_data.json', oea.ADDITIVE_BATCH_DATA, currentDateTime)\r\n",
        "data = requests.get('https://raw.githubusercontent.com/microsoft/OpenEduAnalytics/main/modules/module_catalog/Microsoft_Graph/test_data/k12_test_data/Teams_Activity_User_Detail/part-00017-bd366e94-d20e-4e81-b4ba-47b15889b4a9-c000.json').text\r\n",
        "oea.land(data, 'graph_api/beta/teams_activity_user_detail', 'part18_k12_test_data.json', oea.ADDITIVE_BATCH_DATA, currentDateTime)\r\n",
        "data = requests.get('https://raw.githubusercontent.com/microsoft/OpenEduAnalytics/main/modules/module_catalog/Microsoft_Graph/test_data/k12_test_data/Teams_Activity_User_Detail/part-00018-bd366e94-d20e-4e81-b4ba-47b15889b4a9-c000.json').text\r\n",
        "oea.land(data, 'graph_api/beta/teams_activity_user_detail', 'part19_k12_test_data.json', oea.ADDITIVE_BATCH_DATA, currentDateTime)\r\n",
        "data = requests.get('https://raw.githubusercontent.com/microsoft/OpenEduAnalytics/main/modules/module_catalog/Microsoft_Graph/test_data/k12_test_data/Teams_Activity_User_Detail/part-00019-bd366e94-d20e-4e81-b4ba-47b15889b4a9-c000.json').text\r\n",
        "oea.land(data, 'graph_api/beta/teams_activity_user_detail', 'part20_k12_test_data.json', oea.ADDITIVE_BATCH_DATA, currentDateTime)\r\n",
        "data = requests.get('https://raw.githubusercontent.com/microsoft/OpenEduAnalytics/main/modules/module_catalog/Microsoft_Graph/test_data/k12_test_data/Teams_Activity_User_Detail/part-00020-bd366e94-d20e-4e81-b4ba-47b15889b4a9-c000.json').text\r\n",
        "oea.land(data, 'graph_api/beta/teams_activity_user_detail', 'part21_k12_test_data.json', oea.ADDITIVE_BATCH_DATA, currentDateTime)\r\n",
        "data = requests.get('https://raw.githubusercontent.com/microsoft/OpenEduAnalytics/main/modules/module_catalog/Microsoft_Graph/test_data/k12_test_data/Teams_Activity_User_Detail/part-00021-bd366e94-d20e-4e81-b4ba-47b15889b4a9-c000.json').text\r\n",
        "oea.land(data, 'graph_api/beta/teams_activity_user_detail', 'part22_k12_test_data.json', oea.ADDITIVE_BATCH_DATA, currentDateTime)\r\n",
        "data = requests.get('https://raw.githubusercontent.com/microsoft/OpenEduAnalytics/main/modules/module_catalog/Microsoft_Graph/test_data/k12_test_data/Teams_Activity_User_Detail/part-00022-bd366e94-d20e-4e81-b4ba-47b15889b4a9-c000.json').text\r\n",
        "oea.land(data, 'graph_api/beta/teams_activity_user_detail', 'part23_k12_test_data.json', oea.ADDITIVE_BATCH_DATA, currentDateTime)\r\n",
        "data = requests.get('https://raw.githubusercontent.com/microsoft/OpenEduAnalytics/main/modules/module_catalog/Microsoft_Graph/test_data/k12_test_data/Teams_Activity_User_Detail/part-00023-bd366e94-d20e-4e81-b4ba-47b15889b4a9-c000.json').text\r\n",
        "oea.land(data, 'graph_api/beta/teams_activity_user_detail', 'part24_k12_test_data.json', oea.ADDITIVE_BATCH_DATA, currentDateTime)\r\n",
        "data = requests.get('https://raw.githubusercontent.com/microsoft/OpenEduAnalytics/main/modules/module_catalog/Microsoft_Graph/test_data/k12_test_data/Teams_Activity_User_Detail/part-00024-bd366e94-d20e-4e81-b4ba-47b15889b4a9-c000.json').text\r\n",
        "oea.land(data, 'graph_api/beta/teams_activity_user_detail', 'part25_k12_test_data.json', oea.ADDITIVE_BATCH_DATA, currentDateTime)\r\n",
        "data = requests.get('https://raw.githubusercontent.com/microsoft/OpenEduAnalytics/main/modules/module_catalog/Microsoft_Graph/test_data/k12_test_data/Teams_Activity_User_Detail/part-00025-bd366e94-d20e-4e81-b4ba-47b15889b4a9-c000.json').text\r\n",
        "oea.land(data, 'graph_api/beta/teams_activity_user_detail', 'part26_k12_test_data.json', oea.ADDITIVE_BATCH_DATA, currentDateTime)\r\n",
        "data = requests.get('https://raw.githubusercontent.com/microsoft/OpenEduAnalytics/main/modules/module_catalog/Microsoft_Graph/test_data/k12_test_data/Teams_Activity_User_Detail/part-00026-bd366e94-d20e-4e81-b4ba-47b15889b4a9-c000.json').text\r\n",
        "oea.land(data, 'graph_api/beta/teams_activity_user_detail', 'part27_k12_test_data.json', oea.ADDITIVE_BATCH_DATA, currentDateTime)\r\n",
        "data = requests.get('https://raw.githubusercontent.com/microsoft/OpenEduAnalytics/main/modules/module_catalog/Microsoft_Graph/test_data/k12_test_data/Teams_Activity_User_Detail/part-00027-bd366e94-d20e-4e81-b4ba-47b15889b4a9-c000.json').text\r\n",
        "oea.land(data, 'graph_api/beta/teams_activity_user_detail', 'part28_k12_test_data.json', oea.ADDITIVE_BATCH_DATA, currentDateTime)\r\n",
        "data = requests.get('https://raw.githubusercontent.com/microsoft/OpenEduAnalytics/main/modules/module_catalog/Microsoft_Graph/test_data/k12_test_data/Teams_Activity_User_Detail/part-00028-bd366e94-d20e-4e81-b4ba-47b15889b4a9-c000.json').text\r\n",
        "oea.land(data, 'graph_api/beta/teams_activity_user_detail', 'part29_k12_test_data.json', oea.ADDITIVE_BATCH_DATA, currentDateTime)\r\n",
        "data = requests.get('https://raw.githubusercontent.com/microsoft/OpenEduAnalytics/main/modules/module_catalog/Microsoft_Graph/test_data/k12_test_data/Teams_Activity_User_Detail/part-00029-bd366e94-d20e-4e81-b4ba-47b15889b4a9-c000.json').text\r\n",
        "oea.land(data, 'graph_api/beta/teams_activity_user_detail', 'part30_k12_test_data.json', oea.ADDITIVE_BATCH_DATA, currentDateTime)\r\n",
        "data = requests.get('https://raw.githubusercontent.com/microsoft/OpenEduAnalytics/main/modules/module_catalog/Microsoft_Graph/test_data/k12_test_data/Teams_Activity_User_Detail/part-00030-bd366e94-d20e-4e81-b4ba-47b15889b4a9-c000.json').text\r\n",
        "oea.land(data, 'graph_api/beta/teams_activity_user_detail', 'part31_k12_test_data.json', oea.ADDITIVE_BATCH_DATA, currentDateTime)\r\n",
        "data = requests.get('https://raw.githubusercontent.com/microsoft/OpenEduAnalytics/main/modules/module_catalog/Microsoft_Graph/test_data/k12_test_data/Teams_Activity_User_Detail/part-00031-bd366e94-d20e-4e81-b4ba-47b15889b4a9-c000.json').text\r\n",
        "oea.land(data, 'graph_api/beta/teams_activity_user_detail', 'part32_k12_test_data.json', oea.ADDITIVE_BATCH_DATA, currentDateTime)"
      ],
      "outputs": [],
      "execution_count": null,
      "metadata": {
        "jupyter": {
          "source_hidden": false,
          "outputs_hidden": false
        },
        "nteract": {
          "transient": {
            "deleting": false
          }
        }
      }
    },
    {
      "cell_type": "code",
      "source": [
        "# 2.2) Land batch data files into stage1 of the data lake.\r\n",
        "# In this example we pull Graph Higher Ed. test json data files from github and land it in oea/sandboxes/sam/stage1/Transactional/graph_api/beta \r\n",
        "# NOTE: You can choose to ingest Graph K-12 test data instead, by running the code block above rather than this one and the one below.\r\n",
        "import datetime\r\n",
        "currentDate = datetime.datetime.now()\r\n",
        "currentDateTime = currentDate.strftime(\"%Y-%m-%d %H-%M-%S\")\r\n",
        "data = requests.get('https://raw.githubusercontent.com/microsoft/OpenEduAnalytics/main/modules/module_catalog/Microsoft_Graph/test_data/hed_test_data/Users/part-00000-cae42818-3572-4824-b396-58587ad01616-c000.json').text\r\n",
        "oea.land(data, 'graph_api/beta/users', 'users_hed_test_data.json', oea.SNAPSHOT_BATCH_DATA, currentDateTime)\r\n",
        "\r\n",
        "data = requests.get('https://raw.githubusercontent.com/microsoft/OpenEduAnalytics/main/modules/module_catalog/Microsoft_Graph/test_data/hed_test_data/M365_App_User_Detail/part-00000-b6c697c6-1520-4aae-9f5c-6213dff6ab0a-c000.json').text\r\n",
        "oea.land(data, 'graph_api/beta/m365_app_user_detail', 'part01_hed_test_data.json', oea.ADDITIVE_BATCH_DATA, currentDateTime)\r\n",
        "data = requests.get('https://raw.githubusercontent.com/microsoft/OpenEduAnalytics/main/modules/module_catalog/Microsoft_Graph/test_data/hed_test_data/M365_App_User_Detail/part-00001-b6c697c6-1520-4aae-9f5c-6213dff6ab0a-c000.json').text\r\n",
        "oea.land(data, 'graph_api/beta/m365_app_user_detail', 'part02_hed_test_data.json', oea.ADDITIVE_BATCH_DATA, currentDateTime)\r\n",
        "data = requests.get('https://raw.githubusercontent.com/microsoft/OpenEduAnalytics/main/modules/module_catalog/Microsoft_Graph/test_data/hed_test_data/M365_App_User_Detail/part-00002-b6c697c6-1520-4aae-9f5c-6213dff6ab0a-c000.json').text\r\n",
        "oea.land(data, 'graph_api/beta/m365_app_user_detail', 'part03_hed_test_data.json', oea.ADDITIVE_BATCH_DATA, currentDateTime)\r\n",
        "data = requests.get('https://raw.githubusercontent.com/microsoft/OpenEduAnalytics/main/modules/module_catalog/Microsoft_Graph/test_data/hed_test_data/M365_App_User_Detail/part-00003-b6c697c6-1520-4aae-9f5c-6213dff6ab0a-c000.json').text\r\n",
        "oea.land(data, 'graph_api/beta/m365_app_user_detail', 'part04_hed_test_data.json', oea.ADDITIVE_BATCH_DATA, currentDateTime)\r\n",
        "data = requests.get('https://raw.githubusercontent.com/microsoft/OpenEduAnalytics/main/modules/module_catalog/Microsoft_Graph/test_data/hed_test_data/M365_App_User_Detail/part-00004-b6c697c6-1520-4aae-9f5c-6213dff6ab0a-c000.json').text\r\n",
        "oea.land(data, 'graph_api/beta/m365_app_user_detail', 'part05_hed_test_data.json', oea.ADDITIVE_BATCH_DATA, currentDateTime)\r\n",
        "data = requests.get('https://raw.githubusercontent.com/microsoft/OpenEduAnalytics/main/modules/module_catalog/Microsoft_Graph/test_data/hed_test_data/M365_App_User_Detail/part-00005-b6c697c6-1520-4aae-9f5c-6213dff6ab0a-c000.json').text\r\n",
        "oea.land(data, 'graph_api/beta/m365_app_user_detail', 'part06_hed_test_data.json', oea.ADDITIVE_BATCH_DATA, currentDateTime)\r\n",
        "data = requests.get('https://raw.githubusercontent.com/microsoft/OpenEduAnalytics/main/modules/module_catalog/Microsoft_Graph/test_data/hed_test_data/M365_App_User_Detail/part-00006-b6c697c6-1520-4aae-9f5c-6213dff6ab0a-c000.json').text\r\n",
        "oea.land(data, 'graph_api/beta/m365_app_user_detail', 'part07_hed_test_data.json', oea.ADDITIVE_BATCH_DATA, currentDateTime)\r\n",
        "data = requests.get('https://raw.githubusercontent.com/microsoft/OpenEduAnalytics/main/modules/module_catalog/Microsoft_Graph/test_data/hed_test_data/M365_App_User_Detail/part-00007-b6c697c6-1520-4aae-9f5c-6213dff6ab0a-c000.json').text\r\n",
        "oea.land(data, 'graph_api/beta/m365_app_user_detail', 'part08_hed_test_data.json', oea.ADDITIVE_BATCH_DATA, currentDateTime)\r\n",
        "data = requests.get('https://raw.githubusercontent.com/microsoft/OpenEduAnalytics/main/modules/module_catalog/Microsoft_Graph/test_data/hed_test_data/M365_App_User_Detail/part-00008-b6c697c6-1520-4aae-9f5c-6213dff6ab0a-c000.json').text\r\n",
        "oea.land(data, 'graph_api/beta/m365_app_user_detail', 'part09_hed_test_data.json', oea.ADDITIVE_BATCH_DATA, currentDateTime)\r\n",
        "data = requests.get('https://raw.githubusercontent.com/microsoft/OpenEduAnalytics/main/modules/module_catalog/Microsoft_Graph/test_data/hed_test_data/M365_App_User_Detail/part-00009-b6c697c6-1520-4aae-9f5c-6213dff6ab0a-c000.json').text\r\n",
        "oea.land(data, 'graph_api/beta/m365_app_user_detail', 'part10_hed_test_data.json', oea.ADDITIVE_BATCH_DATA, currentDateTime)\r\n",
        "data = requests.get('https://raw.githubusercontent.com/microsoft/OpenEduAnalytics/main/modules/module_catalog/Microsoft_Graph/test_data/hed_test_data/M365_App_User_Detail/part-00010-b6c697c6-1520-4aae-9f5c-6213dff6ab0a-c000.json').text\r\n",
        "oea.land(data, 'graph_api/beta/m365_app_user_detail', 'part11_hed_test_data.json', oea.ADDITIVE_BATCH_DATA, currentDateTime)\r\n",
        "data = requests.get('https://raw.githubusercontent.com/microsoft/OpenEduAnalytics/main/modules/module_catalog/Microsoft_Graph/test_data/hed_test_data/M365_App_User_Detail/part-00011-b6c697c6-1520-4aae-9f5c-6213dff6ab0a-c000.json').text\r\n",
        "oea.land(data, 'graph_api/beta/m365_app_user_detail', 'part12_hed_test_data.json', oea.ADDITIVE_BATCH_DATA, currentDateTime)\r\n",
        "data = requests.get('https://raw.githubusercontent.com/microsoft/OpenEduAnalytics/main/modules/module_catalog/Microsoft_Graph/test_data/hed_test_data/M365_App_User_Detail/part-00012-b6c697c6-1520-4aae-9f5c-6213dff6ab0a-c000.json').text\r\n",
        "oea.land(data, 'graph_api/beta/m365_app_user_detail', 'part13_hed_test_data.json', oea.ADDITIVE_BATCH_DATA, currentDateTime)\r\n",
        "data = requests.get('https://raw.githubusercontent.com/microsoft/OpenEduAnalytics/main/modules/module_catalog/Microsoft_Graph/test_data/hed_test_data/M365_App_User_Detail/part-00013-b6c697c6-1520-4aae-9f5c-6213dff6ab0a-c000.json').text\r\n",
        "oea.land(data, 'graph_api/beta/m365_app_user_detail', 'part14_hed_test_data.json', oea.ADDITIVE_BATCH_DATA, currentDateTime)\r\n",
        "data = requests.get('https://raw.githubusercontent.com/microsoft/OpenEduAnalytics/main/modules/module_catalog/Microsoft_Graph/test_data/hed_test_data/M365_App_User_Detail/part-00014-b6c697c6-1520-4aae-9f5c-6213dff6ab0a-c000.json').text\r\n",
        "oea.land(data, 'graph_api/beta/m365_app_user_detail', 'part15_hed_test_data.json', oea.ADDITIVE_BATCH_DATA, currentDateTime)\r\n",
        "data = requests.get('https://raw.githubusercontent.com/microsoft/OpenEduAnalytics/main/modules/module_catalog/Microsoft_Graph/test_data/hed_test_data/M365_App_User_Detail/part-00015-b6c697c6-1520-4aae-9f5c-6213dff6ab0a-c000.json').text\r\n",
        "oea.land(data, 'graph_api/beta/m365_app_user_detail', 'part16_hed_test_data.json', oea.ADDITIVE_BATCH_DATA, currentDateTime)\r\n",
        "data = requests.get('https://raw.githubusercontent.com/microsoft/OpenEduAnalytics/main/modules/module_catalog/Microsoft_Graph/test_data/hed_test_data/M365_App_User_Detail/part-00016-b6c697c6-1520-4aae-9f5c-6213dff6ab0a-c000.json').text\r\n",
        "oea.land(data, 'graph_api/beta/m365_app_user_detail', 'part17_hed_test_data.json', oea.ADDITIVE_BATCH_DATA, currentDateTime)\r\n",
        "data = requests.get('https://raw.githubusercontent.com/microsoft/OpenEduAnalytics/main/modules/module_catalog/Microsoft_Graph/test_data/hed_test_data/M365_App_User_Detail/part-00017-b6c697c6-1520-4aae-9f5c-6213dff6ab0a-c000.json').text\r\n",
        "oea.land(data, 'graph_api/beta/m365_app_user_detail', 'part18_hed_test_data.json', oea.ADDITIVE_BATCH_DATA, currentDateTime)\r\n",
        "data = requests.get('https://raw.githubusercontent.com/microsoft/OpenEduAnalytics/main/modules/module_catalog/Microsoft_Graph/test_data/hed_test_data/M365_App_User_Detail/part-00018-b6c697c6-1520-4aae-9f5c-6213dff6ab0a-c000.json').text\r\n",
        "oea.land(data, 'graph_api/beta/m365_app_user_detail', 'part19_hed_test_data.json', oea.ADDITIVE_BATCH_DATA, currentDateTime)\r\n",
        "data = requests.get('https://raw.githubusercontent.com/microsoft/OpenEduAnalytics/main/modules/module_catalog/Microsoft_Graph/test_data/hed_test_data/M365_App_User_Detail/part-00019-b6c697c6-1520-4aae-9f5c-6213dff6ab0a-c000.json').text\r\n",
        "oea.land(data, 'graph_api/beta/m365_app_user_detail', 'part20_hed_test_data.json', oea.ADDITIVE_BATCH_DATA, currentDateTime)\r\n",
        "data = requests.get('https://raw.githubusercontent.com/microsoft/OpenEduAnalytics/main/modules/module_catalog/Microsoft_Graph/test_data/hed_test_data/M365_App_User_Detail/part-00020-b6c697c6-1520-4aae-9f5c-6213dff6ab0a-c000.json').text\r\n",
        "oea.land(data, 'graph_api/beta/m365_app_user_detail', 'part21_hed_test_data.json', oea.ADDITIVE_BATCH_DATA, currentDateTime)\r\n",
        "data = requests.get('https://raw.githubusercontent.com/microsoft/OpenEduAnalytics/main/modules/module_catalog/Microsoft_Graph/test_data/hed_test_data/M365_App_User_Detail/part-00021-b6c697c6-1520-4aae-9f5c-6213dff6ab0a-c000.json').text\r\n",
        "oea.land(data, 'graph_api/beta/m365_app_user_detail', 'part22_hed_test_data.json', oea.ADDITIVE_BATCH_DATA, currentDateTime)\r\n",
        "data = requests.get('https://raw.githubusercontent.com/microsoft/OpenEduAnalytics/main/modules/module_catalog/Microsoft_Graph/test_data/hed_test_data/M365_App_User_Detail/part-00022-b6c697c6-1520-4aae-9f5c-6213dff6ab0a-c000.json').text\r\n",
        "oea.land(data, 'graph_api/beta/m365_app_user_detail', 'part23_hed_test_data.json', oea.ADDITIVE_BATCH_DATA, currentDateTime)\r\n",
        "data = requests.get('https://raw.githubusercontent.com/microsoft/OpenEduAnalytics/main/modules/module_catalog/Microsoft_Graph/test_data/hed_test_data/M365_App_User_Detail/part-00023-b6c697c6-1520-4aae-9f5c-6213dff6ab0a-c000.json').text\r\n",
        "oea.land(data, 'graph_api/beta/m365_app_user_detail', 'part24_hed_test_data.json', oea.ADDITIVE_BATCH_DATA, currentDateTime)\r\n",
        "data = requests.get('https://raw.githubusercontent.com/microsoft/OpenEduAnalytics/main/modules/module_catalog/Microsoft_Graph/test_data/hed_test_data/M365_App_User_Detail/part-00024-b6c697c6-1520-4aae-9f5c-6213dff6ab0a-c000.json').text\r\n",
        "oea.land(data, 'graph_api/beta/m365_app_user_detail', 'part25_hed_test_data.json', oea.ADDITIVE_BATCH_DATA, currentDateTime)\r\n",
        "data = requests.get('https://raw.githubusercontent.com/microsoft/OpenEduAnalytics/main/modules/module_catalog/Microsoft_Graph/test_data/hed_test_data/M365_App_User_Detail/part-00025-b6c697c6-1520-4aae-9f5c-6213dff6ab0a-c000.json').text\r\n",
        "oea.land(data, 'graph_api/beta/m365_app_user_detail', 'part26_hed_test_data.json', oea.ADDITIVE_BATCH_DATA, currentDateTime)\r\n",
        "data = requests.get('https://raw.githubusercontent.com/microsoft/OpenEduAnalytics/main/modules/module_catalog/Microsoft_Graph/test_data/hed_test_data/M365_App_User_Detail/part-00026-b6c697c6-1520-4aae-9f5c-6213dff6ab0a-c000.json').text\r\n",
        "oea.land(data, 'graph_api/beta/m365_app_user_detail', 'part27_hed_test_data.json', oea.ADDITIVE_BATCH_DATA, currentDateTime)\r\n",
        "data = requests.get('https://raw.githubusercontent.com/microsoft/OpenEduAnalytics/main/modules/module_catalog/Microsoft_Graph/test_data/hed_test_data/M365_App_User_Detail/part-00027-b6c697c6-1520-4aae-9f5c-6213dff6ab0a-c000.json').text\r\n",
        "oea.land(data, 'graph_api/beta/m365_app_user_detail', 'part28_hed_test_data.json', oea.ADDITIVE_BATCH_DATA, currentDateTime)\r\n",
        "data = requests.get('https://raw.githubusercontent.com/microsoft/OpenEduAnalytics/main/modules/module_catalog/Microsoft_Graph/test_data/hed_test_data/M365_App_User_Detail/part-00028-b6c697c6-1520-4aae-9f5c-6213dff6ab0a-c000.json').text\r\n",
        "oea.land(data, 'graph_api/beta/m365_app_user_detail', 'part29_hed_test_data.json', oea.ADDITIVE_BATCH_DATA, currentDateTime)\r\n",
        "data = requests.get('https://raw.githubusercontent.com/microsoft/OpenEduAnalytics/main/modules/module_catalog/Microsoft_Graph/test_data/hed_test_data/M365_App_User_Detail/part-00029-b6c697c6-1520-4aae-9f5c-6213dff6ab0a-c000.json').text\r\n",
        "oea.land(data, 'graph_api/beta/m365_app_user_detail', 'part30_hed_test_data.json', oea.ADDITIVE_BATCH_DATA, currentDateTime)\r\n",
        "data = requests.get('https://raw.githubusercontent.com/microsoft/OpenEduAnalytics/main/modules/module_catalog/Microsoft_Graph/test_data/hed_test_data/M365_App_User_Detail/part-00030-b6c697c6-1520-4aae-9f5c-6213dff6ab0a-c000.json').text\r\n",
        "oea.land(data, 'graph_api/beta/m365_app_user_detail', 'part31_hed_test_data.json', oea.ADDITIVE_BATCH_DATA, currentDateTime)\r\n",
        "data = requests.get('https://raw.githubusercontent.com/microsoft/OpenEduAnalytics/main/modules/module_catalog/Microsoft_Graph/test_data/hed_test_data/M365_App_User_Detail/part-00031-b6c697c6-1520-4aae-9f5c-6213dff6ab0a-c000.json').text\r\n",
        "oea.land(data, 'graph_api/beta/m365_app_user_detail', 'part32_hed_test_data.json', oea.ADDITIVE_BATCH_DATA, currentDateTime)\r\n",
        "\r\n",
        "data = requests.get('https://raw.githubusercontent.com/microsoft/OpenEduAnalytics/main/modules/module_catalog/Microsoft_Graph/test_data/hed_test_data/Teams_Activity_User_Detail/part-00000-bd366e94-d20e-4e81-b4ba-47b15889b4a9-c000.json').text\r\n",
        "oea.land(data, 'graph_api/beta/teams_activity_user_detail', 'part01_hed_test_data.json', oea.ADDITIVE_BATCH_DATA, currentDateTime)\r\n",
        "data = requests.get('https://raw.githubusercontent.com/microsoft/OpenEduAnalytics/main/modules/module_catalog/Microsoft_Graph/test_data/hed_test_data/Teams_Activity_User_Detail/part-00001-bd366e94-d20e-4e81-b4ba-47b15889b4a9-c000.json').text\r\n",
        "oea.land(data, 'graph_api/beta/teams_activity_user_detail', 'part02_hed_test_data.json', oea.ADDITIVE_BATCH_DATA, currentDateTime)\r\n",
        "data = requests.get('https://raw.githubusercontent.com/microsoft/OpenEduAnalytics/main/modules/module_catalog/Microsoft_Graph/test_data/hed_test_data/Teams_Activity_User_Detail/part-00002-bd366e94-d20e-4e81-b4ba-47b15889b4a9-c000.json').text\r\n",
        "oea.land(data, 'graph_api/beta/teams_activity_user_detail', 'part03_hed_test_data.json', oea.ADDITIVE_BATCH_DATA, currentDateTime)\r\n",
        "data = requests.get('https://raw.githubusercontent.com/microsoft/OpenEduAnalytics/main/modules/module_catalog/Microsoft_Graph/test_data/hed_test_data/Teams_Activity_User_Detail/part-00003-bd366e94-d20e-4e81-b4ba-47b15889b4a9-c000.json').text\r\n",
        "oea.land(data, 'graph_api/beta/teams_activity_user_detail', 'part04_hed_test_data.json', oea.ADDITIVE_BATCH_DATA, currentDateTime)\r\n",
        "data = requests.get('https://raw.githubusercontent.com/microsoft/OpenEduAnalytics/main/modules/module_catalog/Microsoft_Graph/test_data/hed_test_data/Teams_Activity_User_Detail/part-00004-bd366e94-d20e-4e81-b4ba-47b15889b4a9-c000.json').text\r\n",
        "oea.land(data, 'graph_api/beta/teams_activity_user_detail', 'part05_hed_test_data.json', oea.ADDITIVE_BATCH_DATA, currentDateTime)\r\n",
        "data = requests.get('https://raw.githubusercontent.com/microsoft/OpenEduAnalytics/main/modules/module_catalog/Microsoft_Graph/test_data/hed_test_data/Teams_Activity_User_Detail/part-00005-bd366e94-d20e-4e81-b4ba-47b15889b4a9-c000.json').text\r\n",
        "oea.land(data, 'graph_api/beta/teams_activity_user_detail', 'part06_hed_test_data.json', oea.ADDITIVE_BATCH_DATA, currentDateTime)\r\n",
        "data = requests.get('https://raw.githubusercontent.com/microsoft/OpenEduAnalytics/main/modules/module_catalog/Microsoft_Graph/test_data/hed_test_data/Teams_Activity_User_Detail/part-00006-bd366e94-d20e-4e81-b4ba-47b15889b4a9-c000.json').text\r\n",
        "oea.land(data, 'graph_api/beta/teams_activity_user_detail', 'part07_hed_test_data.json', oea.ADDITIVE_BATCH_DATA, currentDateTime)\r\n",
        "data = requests.get('https://raw.githubusercontent.com/microsoft/OpenEduAnalytics/main/modules/module_catalog/Microsoft_Graph/test_data/hed_test_data/Teams_Activity_User_Detail/part-00007-bd366e94-d20e-4e81-b4ba-47b15889b4a9-c000.json').text\r\n",
        "oea.land(data, 'graph_api/beta/teams_activity_user_detail', 'part08_hed_test_data.json', oea.ADDITIVE_BATCH_DATA, currentDateTime)\r\n",
        "data = requests.get('https://raw.githubusercontent.com/microsoft/OpenEduAnalytics/main/modules/module_catalog/Microsoft_Graph/test_data/hed_test_data/Teams_Activity_User_Detail/part-00008-bd366e94-d20e-4e81-b4ba-47b15889b4a9-c000.json').text\r\n",
        "oea.land(data, 'graph_api/beta/teams_activity_user_detail', 'part09_hed_test_data.json', oea.ADDITIVE_BATCH_DATA, currentDateTime)\r\n",
        "data = requests.get('https://raw.githubusercontent.com/microsoft/OpenEduAnalytics/main/modules/module_catalog/Microsoft_Graph/test_data/hed_test_data/Teams_Activity_User_Detail/part-00009-bd366e94-d20e-4e81-b4ba-47b15889b4a9-c000.json').text\r\n",
        "oea.land(data, 'graph_api/beta/teams_activity_user_detail', 'part10_hed_test_data.json', oea.ADDITIVE_BATCH_DATA, currentDateTime)\r\n",
        "data = requests.get('https://raw.githubusercontent.com/microsoft/OpenEduAnalytics/main/modules/module_catalog/Microsoft_Graph/test_data/hed_test_data/Teams_Activity_User_Detail/part-00010-bd366e94-d20e-4e81-b4ba-47b15889b4a9-c000.json').text\r\n",
        "oea.land(data, 'graph_api/beta/teams_activity_user_detail', 'part11_hed_test_data.json', oea.ADDITIVE_BATCH_DATA, currentDateTime)\r\n",
        "data = requests.get('https://raw.githubusercontent.com/microsoft/OpenEduAnalytics/main/modules/module_catalog/Microsoft_Graph/test_data/hed_test_data/Teams_Activity_User_Detail/part-00011-bd366e94-d20e-4e81-b4ba-47b15889b4a9-c000.json').text\r\n",
        "oea.land(data, 'graph_api/beta/teams_activity_user_detail', 'part12_hed_test_data.json', oea.ADDITIVE_BATCH_DATA, currentDateTime)\r\n",
        "data = requests.get('https://raw.githubusercontent.com/microsoft/OpenEduAnalytics/main/modules/module_catalog/Microsoft_Graph/test_data/hed_test_data/Teams_Activity_User_Detail/part-00012-bd366e94-d20e-4e81-b4ba-47b15889b4a9-c000.json').text\r\n",
        "oea.land(data, 'graph_api/beta/teams_activity_user_detail', 'part13_hed_test_data.json', oea.ADDITIVE_BATCH_DATA, currentDateTime)\r\n",
        "data = requests.get('https://raw.githubusercontent.com/microsoft/OpenEduAnalytics/main/modules/module_catalog/Microsoft_Graph/test_data/hed_test_data/Teams_Activity_User_Detail/part-00013-bd366e94-d20e-4e81-b4ba-47b15889b4a9-c000.json').text\r\n",
        "oea.land(data, 'graph_api/beta/teams_activity_user_detail', 'part14_hed_test_data.json', oea.ADDITIVE_BATCH_DATA, currentDateTime)\r\n",
        "data = requests.get('https://raw.githubusercontent.com/microsoft/OpenEduAnalytics/main/modules/module_catalog/Microsoft_Graph/test_data/hed_test_data/Teams_Activity_User_Detail/part-00014-bd366e94-d20e-4e81-b4ba-47b15889b4a9-c000.json').text\r\n",
        "oea.land(data, 'graph_api/beta/teams_activity_user_detail', 'part15_hed_test_data.json', oea.ADDITIVE_BATCH_DATA, currentDateTime)\r\n",
        "data = requests.get('https://raw.githubusercontent.com/microsoft/OpenEduAnalytics/main/modules/module_catalog/Microsoft_Graph/test_data/hed_test_data/Teams_Activity_User_Detail/part-00015-bd366e94-d20e-4e81-b4ba-47b15889b4a9-c000.json').text\r\n",
        "oea.land(data, 'graph_api/beta/teams_activity_user_detail', 'part16_hed_test_data.json', oea.ADDITIVE_BATCH_DATA, currentDateTime)\r\n",
        "data = requests.get('https://raw.githubusercontent.com/microsoft/OpenEduAnalytics/main/modules/module_catalog/Microsoft_Graph/test_data/hed_test_data/Teams_Activity_User_Detail/part-00016-bd366e94-d20e-4e81-b4ba-47b15889b4a9-c000.json').text\r\n",
        "oea.land(data, 'graph_api/beta/teams_activity_user_detail', 'part17_hed_test_data.json', oea.ADDITIVE_BATCH_DATA, currentDateTime)\r\n",
        "data = requests.get('https://raw.githubusercontent.com/microsoft/OpenEduAnalytics/main/modules/module_catalog/Microsoft_Graph/test_data/hed_test_data/Teams_Activity_User_Detail/part-00017-bd366e94-d20e-4e81-b4ba-47b15889b4a9-c000.json').text\r\n",
        "oea.land(data, 'graph_api/beta/teams_activity_user_detail', 'part18_hed_test_data.json', oea.ADDITIVE_BATCH_DATA, currentDateTime)\r\n",
        "data = requests.get('https://raw.githubusercontent.com/microsoft/OpenEduAnalytics/main/modules/module_catalog/Microsoft_Graph/test_data/hed_test_data/Teams_Activity_User_Detail/part-00018-bd366e94-d20e-4e81-b4ba-47b15889b4a9-c000.json').text\r\n",
        "oea.land(data, 'graph_api/beta/teams_activity_user_detail', 'part19_hed_test_data.json', oea.ADDITIVE_BATCH_DATA, currentDateTime)\r\n",
        "data = requests.get('https://raw.githubusercontent.com/microsoft/OpenEduAnalytics/main/modules/module_catalog/Microsoft_Graph/test_data/hed_test_data/Teams_Activity_User_Detail/part-00019-bd366e94-d20e-4e81-b4ba-47b15889b4a9-c000.json').text\r\n",
        "oea.land(data, 'graph_api/beta/teams_activity_user_detail', 'part20_hed_test_data.json', oea.ADDITIVE_BATCH_DATA, currentDateTime)\r\n",
        "data = requests.get('https://raw.githubusercontent.com/microsoft/OpenEduAnalytics/main/modules/module_catalog/Microsoft_Graph/test_data/hed_test_data/Teams_Activity_User_Detail/part-00020-bd366e94-d20e-4e81-b4ba-47b15889b4a9-c000.json').text\r\n",
        "oea.land(data, 'graph_api/beta/teams_activity_user_detail', 'part21_hed_test_data.json', oea.ADDITIVE_BATCH_DATA, currentDateTime)\r\n",
        "data = requests.get('https://raw.githubusercontent.com/microsoft/OpenEduAnalytics/main/modules/module_catalog/Microsoft_Graph/test_data/hed_test_data/Teams_Activity_User_Detail/part-00021-bd366e94-d20e-4e81-b4ba-47b15889b4a9-c000.json').text\r\n",
        "oea.land(data, 'graph_api/beta/teams_activity_user_detail', 'part22_hed_test_data.json', oea.ADDITIVE_BATCH_DATA, currentDateTime)\r\n",
        "data = requests.get('https://raw.githubusercontent.com/microsoft/OpenEduAnalytics/main/modules/module_catalog/Microsoft_Graph/test_data/hed_test_data/Teams_Activity_User_Detail/part-00022-bd366e94-d20e-4e81-b4ba-47b15889b4a9-c000.json').text\r\n",
        "oea.land(data, 'graph_api/beta/teams_activity_user_detail', 'part23_hed_test_data.json', oea.ADDITIVE_BATCH_DATA, currentDateTime)\r\n",
        "data = requests.get('https://raw.githubusercontent.com/microsoft/OpenEduAnalytics/main/modules/module_catalog/Microsoft_Graph/test_data/hed_test_data/Teams_Activity_User_Detail/part-00023-bd366e94-d20e-4e81-b4ba-47b15889b4a9-c000.json').text\r\n",
        "oea.land(data, 'graph_api/beta/teams_activity_user_detail', 'part24_hed_test_data.json', oea.ADDITIVE_BATCH_DATA, currentDateTime)\r\n",
        "data = requests.get('https://raw.githubusercontent.com/microsoft/OpenEduAnalytics/main/modules/module_catalog/Microsoft_Graph/test_data/hed_test_data/Teams_Activity_User_Detail/part-00024-bd366e94-d20e-4e81-b4ba-47b15889b4a9-c000.json').text\r\n",
        "oea.land(data, 'graph_api/beta/teams_activity_user_detail', 'part25_hed_test_data.json', oea.ADDITIVE_BATCH_DATA, currentDateTime)\r\n",
        "data = requests.get('https://raw.githubusercontent.com/microsoft/OpenEduAnalytics/main/modules/module_catalog/Microsoft_Graph/test_data/hed_test_data/Teams_Activity_User_Detail/part-00025-bd366e94-d20e-4e81-b4ba-47b15889b4a9-c000.json').text\r\n",
        "oea.land(data, 'graph_api/beta/teams_activity_user_detail', 'part26_hed_test_data.json', oea.ADDITIVE_BATCH_DATA, currentDateTime)\r\n",
        "data = requests.get('https://raw.githubusercontent.com/microsoft/OpenEduAnalytics/main/modules/module_catalog/Microsoft_Graph/test_data/hed_test_data/Teams_Activity_User_Detail/part-00026-bd366e94-d20e-4e81-b4ba-47b15889b4a9-c000.json').text\r\n",
        "oea.land(data, 'graph_api/beta/teams_activity_user_detail', 'part27_hed_test_data.json', oea.ADDITIVE_BATCH_DATA, currentDateTime)\r\n",
        "data = requests.get('https://raw.githubusercontent.com/microsoft/OpenEduAnalytics/main/modules/module_catalog/Microsoft_Graph/test_data/hed_test_data/Teams_Activity_User_Detail/part-00027-bd366e94-d20e-4e81-b4ba-47b15889b4a9-c000.json').text\r\n",
        "oea.land(data, 'graph_api/beta/teams_activity_user_detail', 'part28_hed_test_data.json', oea.ADDITIVE_BATCH_DATA, currentDateTime)\r\n",
        "data = requests.get('https://raw.githubusercontent.com/microsoft/OpenEduAnalytics/main/modules/module_catalog/Microsoft_Graph/test_data/hed_test_data/Teams_Activity_User_Detail/part-00028-bd366e94-d20e-4e81-b4ba-47b15889b4a9-c000.json').text\r\n",
        "oea.land(data, 'graph_api/beta/teams_activity_user_detail', 'part29_hed_test_data.json', oea.ADDITIVE_BATCH_DATA, currentDateTime)\r\n",
        "data = requests.get('https://raw.githubusercontent.com/microsoft/OpenEduAnalytics/main/modules/module_catalog/Microsoft_Graph/test_data/hed_test_data/Teams_Activity_User_Detail/part-00029-bd366e94-d20e-4e81-b4ba-47b15889b4a9-c000.json').text\r\n",
        "oea.land(data, 'graph_api/beta/teams_activity_user_detail', 'part30_hed_test_data.json', oea.ADDITIVE_BATCH_DATA, currentDateTime)\r\n",
        "data = requests.get('https://raw.githubusercontent.com/microsoft/OpenEduAnalytics/main/modules/module_catalog/Microsoft_Graph/test_data/hed_test_data/Teams_Activity_User_Detail/part-00030-bd366e94-d20e-4e81-b4ba-47b15889b4a9-c000.json').text\r\n",
        "oea.land(data, 'graph_api/beta/teams_activity_user_detail', 'part31_hed_test_data.json', oea.ADDITIVE_BATCH_DATA, currentDateTime)\r\n",
        "data = requests.get('https://raw.githubusercontent.com/microsoft/OpenEduAnalytics/main/modules/module_catalog/Microsoft_Graph/test_data/hed_test_data/Teams_Activity_User_Detail/part-00031-bd366e94-d20e-4e81-b4ba-47b15889b4a9-c000.json').text\r\n",
        "oea.land(data, 'graph_api/beta/teams_activity_user_detail', 'part32_hed_test_data.json', oea.ADDITIVE_BATCH_DATA, currentDateTime)"
      ],
      "outputs": [],
      "execution_count": 48,
      "metadata": {
        "jupyter": {
          "source_hidden": false,
          "outputs_hidden": false
        },
        "nteract": {
          "transient": {
            "deleting": false
          }
        }
      }
    },
    {
      "cell_type": "code",
      "source": [
        "# 2.25) Land batch data files into stage1 of the data lake.\r\n",
        "# In this example we pull Graph Higher Ed. test json data files from github and land it in oea/sandboxes/sam/stage1/Transactional/graph_api/v1.0\r\n",
        "import datetime\r\n",
        "currentDate = datetime.datetime.now()\r\n",
        "currentDateTime = currentDate.strftime(\"%Y-%m-%d %H-%M-%S\")\r\n",
        "data = requests.get('https://raw.githubusercontent.com/microsoft/OpenEduAnalytics/main/modules/module_catalog/Microsoft_Graph/test_data/hed_test_data/Meeting_Attendance_Report/030733285E7943CE86189E39C88A04D6_13_16.json').text\r\n",
        "oea.land(data, 'graph_api/v1.0/meeting_attendance_report', 'report001_hed_test_data.json', oea.ADDITIVE_BATCH_DATA, currentDateTime)\r\n",
        "data = requests.get('https://raw.githubusercontent.com/microsoft/OpenEduAnalytics/main/modules/module_catalog/Microsoft_Graph/test_data/hed_test_data/Meeting_Attendance_Report/030733285E7943CE86189E39C88A04D6_20_15.json').text\r\n",
        "oea.land(data, 'graph_api/v1.0/meeting_attendance_report', 'report002_hed_test_data.json', oea.ADDITIVE_BATCH_DATA, currentDateTime)\r\n",
        "data = requests.get('https://raw.githubusercontent.com/microsoft/OpenEduAnalytics/main/modules/module_catalog/Microsoft_Graph/test_data/hed_test_data/Meeting_Attendance_Report/030733285E7943CE86189E39C88A04D6_21_12.json').text\r\n",
        "oea.land(data, 'graph_api/v1.0/meeting_attendance_report', 'report003_hed_test_data.json', oea.ADDITIVE_BATCH_DATA, currentDateTime)\r\n",
        "data = requests.get('https://raw.githubusercontent.com/microsoft/OpenEduAnalytics/main/modules/module_catalog/Microsoft_Graph/test_data/hed_test_data/Meeting_Attendance_Report/03A2BF1EEE524B1CADC97E214963BB92_11_14.json').text\r\n",
        "oea.land(data, 'graph_api/v1.0/meeting_attendance_report', 'report004_hed_test_data.json', oea.ADDITIVE_BATCH_DATA, currentDateTime)\r\n",
        "data = requests.get('https://raw.githubusercontent.com/microsoft/OpenEduAnalytics/main/modules/module_catalog/Microsoft_Graph/test_data/hed_test_data/Meeting_Attendance_Report/03A2BF1EEE524B1CADC97E214963BB92_14_9.json').text\r\n",
        "oea.land(data, 'graph_api/v1.0/meeting_attendance_report', 'report005_hed_test_data.json', oea.ADDITIVE_BATCH_DATA, currentDateTime)\r\n",
        "data = requests.get('https://raw.githubusercontent.com/microsoft/OpenEduAnalytics/main/modules/module_catalog/Microsoft_Graph/test_data/hed_test_data/Meeting_Attendance_Report/03A2BF1EEE524B1CADC97E214963BB92_6_15.json').text\r\n",
        "oea.land(data, 'graph_api/v1.0/meeting_attendance_report', 'report006_hed_test_data.json', oea.ADDITIVE_BATCH_DATA, currentDateTime)\r\n",
        "data = requests.get('https://raw.githubusercontent.com/microsoft/OpenEduAnalytics/main/modules/module_catalog/Microsoft_Graph/test_data/hed_test_data/Meeting_Attendance_Report/08DDFD65A495417587EE3E91F25FEECD_20_15.json').text\r\n",
        "oea.land(data, 'graph_api/v1.0/meeting_attendance_report', 'report007_hed_test_data.json', oea.ADDITIVE_BATCH_DATA, currentDateTime)\r\n",
        "data = requests.get('https://raw.githubusercontent.com/microsoft/OpenEduAnalytics/main/modules/module_catalog/Microsoft_Graph/test_data/hed_test_data/Meeting_Attendance_Report/08DDFD65A495417587EE3E91F25FEECD_21_15.json').text\r\n",
        "oea.land(data, 'graph_api/v1.0/meeting_attendance_report', 'report008_hed_test_data.json', oea.ADDITIVE_BATCH_DATA, currentDateTime)\r\n",
        "data = requests.get('https://raw.githubusercontent.com/microsoft/OpenEduAnalytics/main/modules/module_catalog/Microsoft_Graph/test_data/hed_test_data/Meeting_Attendance_Report/08DDFD65A495417587EE3E91F25FEECD_28_12.json').text\r\n",
        "oea.land(data, 'graph_api/v1.0/meeting_attendance_report', 'report009_hed_test_data.json', oea.ADDITIVE_BATCH_DATA, currentDateTime)\r\n",
        "data = requests.get('https://raw.githubusercontent.com/microsoft/OpenEduAnalytics/main/modules/module_catalog/Microsoft_Graph/test_data/hed_test_data/Meeting_Attendance_Report/16D3783DEA504F35B66FD00178DFC2CB_13_11.json').text\r\n",
        "oea.land(data, 'graph_api/v1.0/meeting_attendance_report', 'report010_hed_test_data.json', oea.ADDITIVE_BATCH_DATA, currentDateTime)\r\n",
        "data = requests.get('https://raw.githubusercontent.com/microsoft/OpenEduAnalytics/main/modules/module_catalog/Microsoft_Graph/test_data/hed_test_data/Meeting_Attendance_Report/16D3783DEA504F35B66FD00178DFC2CB_17_10.json').text\r\n",
        "oea.land(data, 'graph_api/v1.0/meeting_attendance_report', 'report011_hed_test_data.json', oea.ADDITIVE_BATCH_DATA, currentDateTime)\r\n",
        "data = requests.get('https://raw.githubusercontent.com/microsoft/OpenEduAnalytics/main/modules/module_catalog/Microsoft_Graph/test_data/hed_test_data/Meeting_Attendance_Report/16D3783DEA504F35B66FD00178DFC2CB_25_15.json').text\r\n",
        "oea.land(data, 'graph_api/v1.0/meeting_attendance_report', 'report012_hed_test_data.json', oea.ADDITIVE_BATCH_DATA, currentDateTime)\r\n",
        "data = requests.get('https://raw.githubusercontent.com/microsoft/OpenEduAnalytics/main/modules/module_catalog/Microsoft_Graph/test_data/hed_test_data/Meeting_Attendance_Report/1AC9DCA1874A42B0915A699B7675B90F_10_10.json').text\r\n",
        "oea.land(data, 'graph_api/v1.0/meeting_attendance_report', 'report013_hed_test_data.json', oea.ADDITIVE_BATCH_DATA, currentDateTime)\r\n",
        "data = requests.get('https://raw.githubusercontent.com/microsoft/OpenEduAnalytics/main/modules/module_catalog/Microsoft_Graph/test_data/hed_test_data/Meeting_Attendance_Report/1AC9DCA1874A42B0915A699B7675B90F_17_11.json').text\r\n",
        "oea.land(data, 'graph_api/v1.0/meeting_attendance_report', 'report014_hed_test_data.json', oea.ADDITIVE_BATCH_DATA, currentDateTime)\r\n",
        "data = requests.get('https://raw.githubusercontent.com/microsoft/OpenEduAnalytics/main/modules/module_catalog/Microsoft_Graph/test_data/hed_test_data/Meeting_Attendance_Report/1AC9DCA1874A42B0915A699B7675B90F_26_13.json').text\r\n",
        "oea.land(data, 'graph_api/v1.0/meeting_attendance_report', 'report015_hed_test_data.json', oea.ADDITIVE_BATCH_DATA, currentDateTime)\r\n",
        "data = requests.get('https://raw.githubusercontent.com/microsoft/OpenEduAnalytics/main/modules/module_catalog/Microsoft_Graph/test_data/hed_test_data/Meeting_Attendance_Report/1CC8AEF1B8364E2C8B1C00CEFA109248_10_15.json').text\r\n",
        "oea.land(data, 'graph_api/v1.0/meeting_attendance_report', 'report016_hed_test_data.json', oea.ADDITIVE_BATCH_DATA, currentDateTime)\r\n",
        "data = requests.get('https://raw.githubusercontent.com/microsoft/OpenEduAnalytics/main/modules/module_catalog/Microsoft_Graph/test_data/hed_test_data/Meeting_Attendance_Report/1CC8AEF1B8364E2C8B1C00CEFA109248_20_14.json').text\r\n",
        "oea.land(data, 'graph_api/v1.0/meeting_attendance_report', 'report017_hed_test_data.json', oea.ADDITIVE_BATCH_DATA, currentDateTime)\r\n",
        "data = requests.get('https://raw.githubusercontent.com/microsoft/OpenEduAnalytics/main/modules/module_catalog/Microsoft_Graph/test_data/hed_test_data/Meeting_Attendance_Report/1CC8AEF1B8364E2C8B1C00CEFA109248_26_15.json').text\r\n",
        "oea.land(data, 'graph_api/v1.0/meeting_attendance_report', 'report018_hed_test_data.json', oea.ADDITIVE_BATCH_DATA, currentDateTime)\r\n",
        "data = requests.get('https://raw.githubusercontent.com/microsoft/OpenEduAnalytics/main/modules/module_catalog/Microsoft_Graph/test_data/hed_test_data/Meeting_Attendance_Report/1D636A19738249C59B08BB8D41E240F9_10_7.json').text\r\n",
        "oea.land(data, 'graph_api/v1.0/meeting_attendance_report', 'report019_hed_test_data.json', oea.ADDITIVE_BATCH_DATA, currentDateTime)\r\n",
        "data = requests.get('https://raw.githubusercontent.com/microsoft/OpenEduAnalytics/main/modules/module_catalog/Microsoft_Graph/test_data/hed_test_data/Meeting_Attendance_Report/1D636A19738249C59B08BB8D41E240F9_20_14.json').text\r\n",
        "oea.land(data, 'graph_api/v1.0/meeting_attendance_report', 'report020_hed_test_data.json', oea.ADDITIVE_BATCH_DATA, currentDateTime)\r\n",
        "data = requests.get('https://raw.githubusercontent.com/microsoft/OpenEduAnalytics/main/modules/module_catalog/Microsoft_Graph/test_data/hed_test_data/Meeting_Attendance_Report/1D636A19738249C59B08BB8D41E240F9_26_7.json').text\r\n",
        "oea.land(data, 'graph_api/v1.0/meeting_attendance_report', 'report021_hed_test_data.json', oea.ADDITIVE_BATCH_DATA, currentDateTime)\r\n",
        "data = requests.get('https://raw.githubusercontent.com/microsoft/OpenEduAnalytics/main/modules/module_catalog/Microsoft_Graph/test_data/hed_test_data/Meeting_Attendance_Report/21A2ECF0DA464984BAA8056F9257AC03_24_13.json').text\r\n",
        "oea.land(data, 'graph_api/v1.0/meeting_attendance_report', 'report022_hed_test_data.json', oea.ADDITIVE_BATCH_DATA, currentDateTime)\r\n",
        "data = requests.get('https://raw.githubusercontent.com/microsoft/OpenEduAnalytics/main/modules/module_catalog/Microsoft_Graph/test_data/hed_test_data/Meeting_Attendance_Report/21A2ECF0DA464984BAA8056F9257AC03_24_9.json').text\r\n",
        "oea.land(data, 'graph_api/v1.0/meeting_attendance_report', 'report023_hed_test_data.json', oea.ADDITIVE_BATCH_DATA, currentDateTime)\r\n",
        "data = requests.get('https://raw.githubusercontent.com/microsoft/OpenEduAnalytics/main/modules/module_catalog/Microsoft_Graph/test_data/hed_test_data/Meeting_Attendance_Report/21A2ECF0DA464984BAA8056F9257AC03_4_12.json').text\r\n",
        "oea.land(data, 'graph_api/v1.0/meeting_attendance_report', 'report024_hed_test_data.json', oea.ADDITIVE_BATCH_DATA, currentDateTime)\r\n",
        "data = requests.get('https://raw.githubusercontent.com/microsoft/OpenEduAnalytics/main/modules/module_catalog/Microsoft_Graph/test_data/hed_test_data/Meeting_Attendance_Report/2234ACFD1FE44510B19607B1D31AD714_10_7.json').text\r\n",
        "oea.land(data, 'graph_api/v1.0/meeting_attendance_report', 'report025_hed_test_data.json', oea.ADDITIVE_BATCH_DATA, currentDateTime)\r\n",
        "data = requests.get('https://raw.githubusercontent.com/microsoft/OpenEduAnalytics/main/modules/module_catalog/Microsoft_Graph/test_data/hed_test_data/Meeting_Attendance_Report/2234ACFD1FE44510B19607B1D31AD714_24_9.json').text\r\n",
        "oea.land(data, 'graph_api/v1.0/meeting_attendance_report', 'report026_hed_test_data.json', oea.ADDITIVE_BATCH_DATA, currentDateTime)\r\n",
        "data = requests.get('https://raw.githubusercontent.com/microsoft/OpenEduAnalytics/main/modules/module_catalog/Microsoft_Graph/test_data/hed_test_data/Meeting_Attendance_Report/2234ACFD1FE44510B19607B1D31AD714_4_7.json').text\r\n",
        "oea.land(data, 'graph_api/v1.0/meeting_attendance_report', 'report027_hed_test_data.json', oea.ADDITIVE_BATCH_DATA, currentDateTime)\r\n",
        "data = requests.get('https://raw.githubusercontent.com/microsoft/OpenEduAnalytics/main/modules/module_catalog/Microsoft_Graph/test_data/hed_test_data/Meeting_Attendance_Report/2481F408C8FF44C99E64CF522F323EEF_11_10.json').text\r\n",
        "oea.land(data, 'graph_api/v1.0/meeting_attendance_report', 'report028_hed_test_data.json', oea.ADDITIVE_BATCH_DATA, currentDateTime)\r\n",
        "data = requests.get('https://raw.githubusercontent.com/microsoft/OpenEduAnalytics/main/modules/module_catalog/Microsoft_Graph/test_data/hed_test_data/Meeting_Attendance_Report/2481F408C8FF44C99E64CF522F323EEF_12_8.json').text\r\n",
        "oea.land(data, 'graph_api/v1.0/meeting_attendance_report', 'report029_hed_test_data.json', oea.ADDITIVE_BATCH_DATA, currentDateTime)\r\n",
        "data = requests.get('https://raw.githubusercontent.com/microsoft/OpenEduAnalytics/main/modules/module_catalog/Microsoft_Graph/test_data/hed_test_data/Meeting_Attendance_Report/2481F408C8FF44C99E64CF522F323EEF_18_9.json').text\r\n",
        "oea.land(data, 'graph_api/v1.0/meeting_attendance_report', 'report030_hed_test_data.json', oea.ADDITIVE_BATCH_DATA, currentDateTime)\r\n",
        "data = requests.get('https://raw.githubusercontent.com/microsoft/OpenEduAnalytics/main/modules/module_catalog/Microsoft_Graph/test_data/hed_test_data/Meeting_Attendance_Report/25E91551DD0F4EB69FA10ABF1CE740B7_11_10.json').text\r\n",
        "oea.land(data, 'graph_api/v1.0/meeting_attendance_report', 'report031_hed_test_data.json', oea.ADDITIVE_BATCH_DATA, currentDateTime)\r\n",
        "data = requests.get('https://raw.githubusercontent.com/microsoft/OpenEduAnalytics/main/modules/module_catalog/Microsoft_Graph/test_data/hed_test_data/Meeting_Attendance_Report/25E91551DD0F4EB69FA10ABF1CE740B7_21_11.json').text\r\n",
        "oea.land(data, 'graph_api/v1.0/meeting_attendance_report', 'report032_hed_test_data.json', oea.ADDITIVE_BATCH_DATA, currentDateTime)\r\n",
        "data = requests.get('https://raw.githubusercontent.com/microsoft/OpenEduAnalytics/main/modules/module_catalog/Microsoft_Graph/test_data/hed_test_data/Meeting_Attendance_Report/25E91551DD0F4EB69FA10ABF1CE740B7_25_11.json').text\r\n",
        "oea.land(data, 'graph_api/v1.0/meeting_attendance_report', 'report033_hed_test_data.json', oea.ADDITIVE_BATCH_DATA, currentDateTime)\r\n",
        "data = requests.get('https://raw.githubusercontent.com/microsoft/OpenEduAnalytics/main/modules/module_catalog/Microsoft_Graph/test_data/hed_test_data/Meeting_Attendance_Report/2A16BC7D7F0D4B90822FEB162FFFA3BF_11_16.json').text\r\n",
        "oea.land(data, 'graph_api/v1.0/meeting_attendance_report', 'report034_hed_test_data.json', oea.ADDITIVE_BATCH_DATA, currentDateTime)\r\n",
        "data = requests.get('https://raw.githubusercontent.com/microsoft/OpenEduAnalytics/main/modules/module_catalog/Microsoft_Graph/test_data/hed_test_data/Meeting_Attendance_Report/2A16BC7D7F0D4B90822FEB162FFFA3BF_13_13.json').text\r\n",
        "oea.land(data, 'graph_api/v1.0/meeting_attendance_report', 'report035_hed_test_data.json', oea.ADDITIVE_BATCH_DATA, currentDateTime)\r\n",
        "data = requests.get('https://raw.githubusercontent.com/microsoft/OpenEduAnalytics/main/modules/module_catalog/Microsoft_Graph/test_data/hed_test_data/Meeting_Attendance_Report/2A16BC7D7F0D4B90822FEB162FFFA3BF_20_13.json').text\r\n",
        "oea.land(data, 'graph_api/v1.0/meeting_attendance_report', 'report036_hed_test_data.json', oea.ADDITIVE_BATCH_DATA, currentDateTime)\r\n",
        "data = requests.get('https://raw.githubusercontent.com/microsoft/OpenEduAnalytics/main/modules/module_catalog/Microsoft_Graph/test_data/hed_test_data/Meeting_Attendance_Report/346617E5E8AD4C5C96A345B428660558_18_12.json').text\r\n",
        "oea.land(data, 'graph_api/v1.0/meeting_attendance_report', 'report037_hed_test_data.json', oea.ADDITIVE_BATCH_DATA, currentDateTime)\r\n",
        "data = requests.get('https://raw.githubusercontent.com/microsoft/OpenEduAnalytics/main/modules/module_catalog/Microsoft_Graph/test_data/hed_test_data/Meeting_Attendance_Report/346617E5E8AD4C5C96A345B428660558_21_12.json').text\r\n",
        "oea.land(data, 'graph_api/v1.0/meeting_attendance_report', 'report038_hed_test_data.json', oea.ADDITIVE_BATCH_DATA, currentDateTime)\r\n",
        "data = requests.get('https://raw.githubusercontent.com/microsoft/OpenEduAnalytics/main/modules/module_catalog/Microsoft_Graph/test_data/hed_test_data/Meeting_Attendance_Report/346617E5E8AD4C5C96A345B428660558_25_10.json').text\r\n",
        "oea.land(data, 'graph_api/v1.0/meeting_attendance_report', 'report039_hed_test_data.json', oea.ADDITIVE_BATCH_DATA, currentDateTime)\r\n",
        "data = requests.get('https://raw.githubusercontent.com/microsoft/OpenEduAnalytics/main/modules/module_catalog/Microsoft_Graph/test_data/hed_test_data/Meeting_Attendance_Report/3B4BBA143AF041839B597DFA97CA93C5_11_15.json').text\r\n",
        "oea.land(data, 'graph_api/v1.0/meeting_attendance_report', 'report040_hed_test_data.json', oea.ADDITIVE_BATCH_DATA, currentDateTime)\r\n",
        "data = requests.get('https://raw.githubusercontent.com/microsoft/OpenEduAnalytics/main/modules/module_catalog/Microsoft_Graph/test_data/hed_test_data/Meeting_Attendance_Report/3B4BBA143AF041839B597DFA97CA93C5_18_9.json').text\r\n",
        "oea.land(data, 'graph_api/v1.0/meeting_attendance_report', 'report041_hed_test_data.json', oea.ADDITIVE_BATCH_DATA, currentDateTime)\r\n",
        "data = requests.get('https://raw.githubusercontent.com/microsoft/OpenEduAnalytics/main/modules/module_catalog/Microsoft_Graph/test_data/hed_test_data/Meeting_Attendance_Report/3B4BBA143AF041839B597DFA97CA93C5_3_13.json').text\r\n",
        "oea.land(data, 'graph_api/v1.0/meeting_attendance_report', 'report042_hed_test_data.json', oea.ADDITIVE_BATCH_DATA, currentDateTime)\r\n",
        "data = requests.get('https://raw.githubusercontent.com/microsoft/OpenEduAnalytics/main/modules/module_catalog/Microsoft_Graph/test_data/hed_test_data/Meeting_Attendance_Report/3BA7BDD4577C4974A1D46F51E9EA2831_21_10.json').text\r\n",
        "oea.land(data, 'graph_api/v1.0/meeting_attendance_report', 'report043_hed_test_data.json', oea.ADDITIVE_BATCH_DATA, currentDateTime)\r\n",
        "data = requests.get('https://raw.githubusercontent.com/microsoft/OpenEduAnalytics/main/modules/module_catalog/Microsoft_Graph/test_data/hed_test_data/Meeting_Attendance_Report/3BA7BDD4577C4974A1D46F51E9EA2831_25_13.json').text\r\n",
        "oea.land(data, 'graph_api/v1.0/meeting_attendance_report', 'report044_hed_test_data.json', oea.ADDITIVE_BATCH_DATA, currentDateTime)\r\n",
        "data = requests.get('https://raw.githubusercontent.com/microsoft/OpenEduAnalytics/main/modules/module_catalog/Microsoft_Graph/test_data/hed_test_data/Meeting_Attendance_Report/3BA7BDD4577C4974A1D46F51E9EA2831_4_12.json').text\r\n",
        "oea.land(data, 'graph_api/v1.0/meeting_attendance_report', 'report045_hed_test_data.json', oea.ADDITIVE_BATCH_DATA, currentDateTime)\r\n",
        "data = requests.get('https://raw.githubusercontent.com/microsoft/OpenEduAnalytics/main/modules/module_catalog/Microsoft_Graph/test_data/hed_test_data/Meeting_Attendance_Report/3C0DCC5113564086A3726ADA0D329E71_10_8.json').text\r\n",
        "oea.land(data, 'graph_api/v1.0/meeting_attendance_report', 'report046_hed_test_data.json', oea.ADDITIVE_BATCH_DATA, currentDateTime)\r\n",
        "data = requests.get('https://raw.githubusercontent.com/microsoft/OpenEduAnalytics/main/modules/module_catalog/Microsoft_Graph/test_data/hed_test_data/Meeting_Attendance_Report/3C0DCC5113564086A3726ADA0D329E71_12_15.json').text\r\n",
        "oea.land(data, 'graph_api/v1.0/meeting_attendance_report', 'report047_hed_test_data.json', oea.ADDITIVE_BATCH_DATA, currentDateTime)\r\n",
        "data = requests.get('https://raw.githubusercontent.com/microsoft/OpenEduAnalytics/main/modules/module_catalog/Microsoft_Graph/test_data/hed_test_data/Meeting_Attendance_Report/3C0DCC5113564086A3726ADA0D329E71_4_13.json').text\r\n",
        "oea.land(data, 'graph_api/v1.0/meeting_attendance_report', 'report048_hed_test_data.json', oea.ADDITIVE_BATCH_DATA, currentDateTime)\r\n",
        "data = requests.get('https://raw.githubusercontent.com/microsoft/OpenEduAnalytics/main/modules/module_catalog/Microsoft_Graph/test_data/hed_test_data/Meeting_Attendance_Report/3C97C00264E84D34BC36231432D26D08_11_12.json').text\r\n",
        "oea.land(data, 'graph_api/v1.0/meeting_attendance_report', 'report049_hed_test_data.json', oea.ADDITIVE_BATCH_DATA, currentDateTime)\r\n",
        "data = requests.get('https://raw.githubusercontent.com/microsoft/OpenEduAnalytics/main/modules/module_catalog/Microsoft_Graph/test_data/hed_test_data/Meeting_Attendance_Report/3C97C00264E84D34BC36231432D26D08_24_9.json').text\r\n",
        "oea.land(data, 'graph_api/v1.0/meeting_attendance_report', 'report050_hed_test_data.json', oea.ADDITIVE_BATCH_DATA, currentDateTime)\r\n",
        "data = requests.get('https://raw.githubusercontent.com/microsoft/OpenEduAnalytics/main/modules/module_catalog/Microsoft_Graph/test_data/hed_test_data/Meeting_Attendance_Report/3C97C00264E84D34BC36231432D26D08_3_10.json').text\r\n",
        "oea.land(data, 'graph_api/v1.0/meeting_attendance_report', 'report051_hed_test_data.json', oea.ADDITIVE_BATCH_DATA, currentDateTime)\r\n",
        "data = requests.get('https://raw.githubusercontent.com/microsoft/OpenEduAnalytics/main/modules/module_catalog/Microsoft_Graph/test_data/hed_test_data/Meeting_Attendance_Report/3CFE40C9DD8246F1A6E574AA0CB2DC93_11_9.json').text\r\n",
        "oea.land(data, 'graph_api/v1.0/meeting_attendance_report', 'report052_hed_test_data.json', oea.ADDITIVE_BATCH_DATA, currentDateTime)\r\n",
        "data = requests.get('https://raw.githubusercontent.com/microsoft/OpenEduAnalytics/main/modules/module_catalog/Microsoft_Graph/test_data/hed_test_data/Meeting_Attendance_Report/3CFE40C9DD8246F1A6E574AA0CB2DC93_27_7.json').text\r\n",
        "oea.land(data, 'graph_api/v1.0/meeting_attendance_report', 'report053_hed_test_data.json', oea.ADDITIVE_BATCH_DATA, currentDateTime)\r\n",
        "data = requests.get('https://raw.githubusercontent.com/microsoft/OpenEduAnalytics/main/modules/module_catalog/Microsoft_Graph/test_data/hed_test_data/Meeting_Attendance_Report/3CFE40C9DD8246F1A6E574AA0CB2DC93_5_13.json').text\r\n",
        "oea.land(data, 'graph_api/v1.0/meeting_attendance_report', 'report054_hed_test_data.json', oea.ADDITIVE_BATCH_DATA, currentDateTime)\r\n",
        "data = requests.get('https://raw.githubusercontent.com/microsoft/OpenEduAnalytics/main/modules/module_catalog/Microsoft_Graph/test_data/hed_test_data/Meeting_Attendance_Report/3DC76BEF0A674B14A3416A751E6614AD_19_7.json').text\r\n",
        "oea.land(data, 'graph_api/v1.0/meeting_attendance_report', 'report055_hed_test_data.json', oea.ADDITIVE_BATCH_DATA, currentDateTime)\r\n",
        "data = requests.get('https://raw.githubusercontent.com/microsoft/OpenEduAnalytics/main/modules/module_catalog/Microsoft_Graph/test_data/hed_test_data/Meeting_Attendance_Report/3DC76BEF0A674B14A3416A751E6614AD_21_15.json').text\r\n",
        "oea.land(data, 'graph_api/v1.0/meeting_attendance_report', 'report056_hed_test_data.json', oea.ADDITIVE_BATCH_DATA, currentDateTime)\r\n",
        "data = requests.get('https://raw.githubusercontent.com/microsoft/OpenEduAnalytics/main/modules/module_catalog/Microsoft_Graph/test_data/hed_test_data/Meeting_Attendance_Report/3DC76BEF0A674B14A3416A751E6614AD_26_9.json').text\r\n",
        "oea.land(data, 'graph_api/v1.0/meeting_attendance_report', 'report057_hed_test_data.json', oea.ADDITIVE_BATCH_DATA, currentDateTime)\r\n",
        "data = requests.get('https://raw.githubusercontent.com/microsoft/OpenEduAnalytics/main/modules/module_catalog/Microsoft_Graph/test_data/hed_test_data/Meeting_Attendance_Report/4334F5A95C144FFF898B7721C0DCCFF6_11_15.json').text\r\n",
        "oea.land(data, 'graph_api/v1.0/meeting_attendance_report', 'report058_hed_test_data.json', oea.ADDITIVE_BATCH_DATA, currentDateTime)\r\n",
        "data = requests.get('https://raw.githubusercontent.com/microsoft/OpenEduAnalytics/main/modules/module_catalog/Microsoft_Graph/test_data/hed_test_data/Meeting_Attendance_Report/4334F5A95C144FFF898B7721C0DCCFF6_11_7.json').text\r\n",
        "oea.land(data, 'graph_api/v1.0/meeting_attendance_report', 'report059_hed_test_data.json', oea.ADDITIVE_BATCH_DATA, currentDateTime)\r\n",
        "data = requests.get('https://raw.githubusercontent.com/microsoft/OpenEduAnalytics/main/modules/module_catalog/Microsoft_Graph/test_data/hed_test_data/Meeting_Attendance_Report/4334F5A95C144FFF898B7721C0DCCFF6_18_8.json').text\r\n",
        "oea.land(data, 'graph_api/v1.0/meeting_attendance_report', 'report060_hed_test_data.json', oea.ADDITIVE_BATCH_DATA, currentDateTime)\r\n",
        "data = requests.get('https://raw.githubusercontent.com/microsoft/OpenEduAnalytics/main/modules/module_catalog/Microsoft_Graph/test_data/hed_test_data/Meeting_Attendance_Report/4394AC06CD484BCF97BA17DE0076B2A2_19_16.json').text\r\n",
        "oea.land(data, 'graph_api/v1.0/meeting_attendance_report', 'report061_hed_test_data.json', oea.ADDITIVE_BATCH_DATA, currentDateTime)\r\n",
        "data = requests.get('https://raw.githubusercontent.com/microsoft/OpenEduAnalytics/main/modules/module_catalog/Microsoft_Graph/test_data/hed_test_data/Meeting_Attendance_Report/4394AC06CD484BCF97BA17DE0076B2A2_28_10.json').text\r\n",
        "oea.land(data, 'graph_api/v1.0/meeting_attendance_report', 'report062_hed_test_data.json', oea.ADDITIVE_BATCH_DATA, currentDateTime)\r\n",
        "data = requests.get('https://raw.githubusercontent.com/microsoft/OpenEduAnalytics/main/modules/module_catalog/Microsoft_Graph/test_data/hed_test_data/Meeting_Attendance_Report/4394AC06CD484BCF97BA17DE0076B2A2_28_7.json').text\r\n",
        "oea.land(data, 'graph_api/v1.0/meeting_attendance_report', 'report063_hed_test_data.json', oea.ADDITIVE_BATCH_DATA, currentDateTime)\r\n",
        "data = requests.get('https://raw.githubusercontent.com/microsoft/OpenEduAnalytics/main/modules/module_catalog/Microsoft_Graph/test_data/hed_test_data/Meeting_Attendance_Report/445E913608A44FBDA99B8108E1990EB0_13_7.json').text\r\n",
        "oea.land(data, 'graph_api/v1.0/meeting_attendance_report', 'report064_hed_test_data.json', oea.ADDITIVE_BATCH_DATA, currentDateTime)\r\n",
        "data = requests.get('https://raw.githubusercontent.com/microsoft/OpenEduAnalytics/main/modules/module_catalog/Microsoft_Graph/test_data/hed_test_data/Meeting_Attendance_Report/445E913608A44FBDA99B8108E1990EB0_17_9.json').text\r\n",
        "oea.land(data, 'graph_api/v1.0/meeting_attendance_report', 'report065_hed_test_data.json', oea.ADDITIVE_BATCH_DATA, currentDateTime)\r\n",
        "data = requests.get('https://raw.githubusercontent.com/microsoft/OpenEduAnalytics/main/modules/module_catalog/Microsoft_Graph/test_data/hed_test_data/Meeting_Attendance_Report/445E913608A44FBDA99B8108E1990EB0_18_7.json').text\r\n",
        "oea.land(data, 'graph_api/v1.0/meeting_attendance_report', 'report066_hed_test_data.json', oea.ADDITIVE_BATCH_DATA, currentDateTime)\r\n",
        "data = requests.get('https://raw.githubusercontent.com/microsoft/OpenEduAnalytics/main/modules/module_catalog/Microsoft_Graph/test_data/hed_test_data/Meeting_Attendance_Report/4659EDDC864346B9BE42E52321A14D3F_11_13.json').text\r\n",
        "oea.land(data, 'graph_api/v1.0/meeting_attendance_report', 'report067_hed_test_data.json', oea.ADDITIVE_BATCH_DATA, currentDateTime)\r\n",
        "data = requests.get('https://raw.githubusercontent.com/microsoft/OpenEduAnalytics/main/modules/module_catalog/Microsoft_Graph/test_data/hed_test_data/Meeting_Attendance_Report/4659EDDC864346B9BE42E52321A14D3F_14_12.json').text\r\n",
        "oea.land(data, 'graph_api/v1.0/meeting_attendance_report', 'report068_hed_test_data.json', oea.ADDITIVE_BATCH_DATA, currentDateTime)\r\n",
        "data = requests.get('https://raw.githubusercontent.com/microsoft/OpenEduAnalytics/main/modules/module_catalog/Microsoft_Graph/test_data/hed_test_data/Meeting_Attendance_Report/4659EDDC864346B9BE42E52321A14D3F_7_10.json').text\r\n",
        "oea.land(data, 'graph_api/v1.0/meeting_attendance_report', 'report069_hed_test_data.json', oea.ADDITIVE_BATCH_DATA, currentDateTime)\r\n",
        "data = requests.get('https://raw.githubusercontent.com/microsoft/OpenEduAnalytics/main/modules/module_catalog/Microsoft_Graph/test_data/hed_test_data/Meeting_Attendance_Report/49589E18A4734BB182FEFE0F8B8D6962_21_11.json').text\r\n",
        "oea.land(data, 'graph_api/v1.0/meeting_attendance_report', 'report070_hed_test_data.json', oea.ADDITIVE_BATCH_DATA, currentDateTime)\r\n",
        "data = requests.get('https://raw.githubusercontent.com/microsoft/OpenEduAnalytics/main/modules/module_catalog/Microsoft_Graph/test_data/hed_test_data/Meeting_Attendance_Report/49589E18A4734BB182FEFE0F8B8D6962_3_14.json').text\r\n",
        "oea.land(data, 'graph_api/v1.0/meeting_attendance_report', 'report071_hed_test_data.json', oea.ADDITIVE_BATCH_DATA, currentDateTime)\r\n",
        "data = requests.get('https://raw.githubusercontent.com/microsoft/OpenEduAnalytics/main/modules/module_catalog/Microsoft_Graph/test_data/hed_test_data/Meeting_Attendance_Report/49589E18A4734BB182FEFE0F8B8D6962_6_12.json').text\r\n",
        "oea.land(data, 'graph_api/v1.0/meeting_attendance_report', 'report072_hed_test_data.json', oea.ADDITIVE_BATCH_DATA, currentDateTime)\r\n",
        "data = requests.get('https://raw.githubusercontent.com/microsoft/OpenEduAnalytics/main/modules/module_catalog/Microsoft_Graph/test_data/hed_test_data/Meeting_Attendance_Report/49A1942FADD6402DB745870761477CAF_10_9.json').text\r\n",
        "oea.land(data, 'graph_api/v1.0/meeting_attendance_report', 'report073_hed_test_data.json', oea.ADDITIVE_BATCH_DATA, currentDateTime)\r\n",
        "data = requests.get('https://raw.githubusercontent.com/microsoft/OpenEduAnalytics/main/modules/module_catalog/Microsoft_Graph/test_data/hed_test_data/Meeting_Attendance_Report/49A1942FADD6402DB745870761477CAF_14_12.json').text\r\n",
        "oea.land(data, 'graph_api/v1.0/meeting_attendance_report', 'report074_hed_test_data.json', oea.ADDITIVE_BATCH_DATA, currentDateTime)\r\n",
        "data = requests.get('https://raw.githubusercontent.com/microsoft/OpenEduAnalytics/main/modules/module_catalog/Microsoft_Graph/test_data/hed_test_data/Meeting_Attendance_Report/49A1942FADD6402DB745870761477CAF_19_10.json').text\r\n",
        "oea.land(data, 'graph_api/v1.0/meeting_attendance_report', 'report075_hed_test_data.json', oea.ADDITIVE_BATCH_DATA, currentDateTime)\r\n",
        "data = requests.get('https://raw.githubusercontent.com/microsoft/OpenEduAnalytics/main/modules/module_catalog/Microsoft_Graph/test_data/hed_test_data/Meeting_Attendance_Report/508D26EBA720459FB44FA6C910832522_18_9.json').text\r\n",
        "oea.land(data, 'graph_api/v1.0/meeting_attendance_report', 'report076_hed_test_data.json', oea.ADDITIVE_BATCH_DATA, currentDateTime)\r\n",
        "data = requests.get('https://raw.githubusercontent.com/microsoft/OpenEduAnalytics/main/modules/module_catalog/Microsoft_Graph/test_data/hed_test_data/Meeting_Attendance_Report/508D26EBA720459FB44FA6C910832522_28_13.json').text\r\n",
        "oea.land(data, 'graph_api/v1.0/meeting_attendance_report', 'report077_hed_test_data.json', oea.ADDITIVE_BATCH_DATA, currentDateTime)\r\n",
        "data = requests.get('https://raw.githubusercontent.com/microsoft/OpenEduAnalytics/main/modules/module_catalog/Microsoft_Graph/test_data/hed_test_data/Meeting_Attendance_Report/508D26EBA720459FB44FA6C910832522_6_7.json').text\r\n",
        "oea.land(data, 'graph_api/v1.0/meeting_attendance_report', 'report078_hed_test_data.json', oea.ADDITIVE_BATCH_DATA, currentDateTime)\r\n",
        "data = requests.get('https://raw.githubusercontent.com/microsoft/OpenEduAnalytics/main/modules/module_catalog/Microsoft_Graph/test_data/hed_test_data/Meeting_Attendance_Report/518053972F9E417990607B6F95279906_11_11.json').text\r\n",
        "oea.land(data, 'graph_api/v1.0/meeting_attendance_report', 'report079_hed_test_data.json', oea.ADDITIVE_BATCH_DATA, currentDateTime)\r\n",
        "data = requests.get('https://raw.githubusercontent.com/microsoft/OpenEduAnalytics/main/modules/module_catalog/Microsoft_Graph/test_data/hed_test_data/Meeting_Attendance_Report/518053972F9E417990607B6F95279906_14_11.json').text\r\n",
        "oea.land(data, 'graph_api/v1.0/meeting_attendance_report', 'report080_hed_test_data.json', oea.ADDITIVE_BATCH_DATA, currentDateTime)\r\n",
        "data = requests.get('https://raw.githubusercontent.com/microsoft/OpenEduAnalytics/main/modules/module_catalog/Microsoft_Graph/test_data/hed_test_data/Meeting_Attendance_Report/518053972F9E417990607B6F95279906_17_14.json').text\r\n",
        "oea.land(data, 'graph_api/v1.0/meeting_attendance_report', 'report081_hed_test_data.json', oea.ADDITIVE_BATCH_DATA, currentDateTime)\r\n",
        "data = requests.get('https://raw.githubusercontent.com/microsoft/OpenEduAnalytics/main/modules/module_catalog/Microsoft_Graph/test_data/hed_test_data/Meeting_Attendance_Report/525498CDB2494D87A529C129A592BA75_20_14.json').text\r\n",
        "oea.land(data, 'graph_api/v1.0/meeting_attendance_report', 'report082_hed_test_data.json', oea.ADDITIVE_BATCH_DATA, currentDateTime)\r\n",
        "data = requests.get('https://raw.githubusercontent.com/microsoft/OpenEduAnalytics/main/modules/module_catalog/Microsoft_Graph/test_data/hed_test_data/Meeting_Attendance_Report/525498CDB2494D87A529C129A592BA75_24_13.json').text\r\n",
        "oea.land(data, 'graph_api/v1.0/meeting_attendance_report', 'report083_hed_test_data.json', oea.ADDITIVE_BATCH_DATA, currentDateTime)\r\n",
        "data = requests.get('https://raw.githubusercontent.com/microsoft/OpenEduAnalytics/main/modules/module_catalog/Microsoft_Graph/test_data/hed_test_data/Meeting_Attendance_Report/525498CDB2494D87A529C129A592BA75_3_13.json').text\r\n",
        "oea.land(data, 'graph_api/v1.0/meeting_attendance_report', 'report084_hed_test_data.json', oea.ADDITIVE_BATCH_DATA, currentDateTime)\r\n",
        "data = requests.get('https://raw.githubusercontent.com/microsoft/OpenEduAnalytics/main/modules/module_catalog/Microsoft_Graph/test_data/hed_test_data/Meeting_Attendance_Report/53114219F05E4AAC877219B6D7181E7A_21_11.json').text\r\n",
        "oea.land(data, 'graph_api/v1.0/meeting_attendance_report', 'report085_hed_test_data.json', oea.ADDITIVE_BATCH_DATA, currentDateTime)\r\n",
        "data = requests.get('https://raw.githubusercontent.com/microsoft/OpenEduAnalytics/main/modules/module_catalog/Microsoft_Graph/test_data/hed_test_data/Meeting_Attendance_Report/53114219F05E4AAC877219B6D7181E7A_26_16.json').text\r\n",
        "oea.land(data, 'graph_api/v1.0/meeting_attendance_report', 'report086_hed_test_data.json', oea.ADDITIVE_BATCH_DATA, currentDateTime)\r\n",
        "data = requests.get('https://raw.githubusercontent.com/microsoft/OpenEduAnalytics/main/modules/module_catalog/Microsoft_Graph/test_data/hed_test_data/Meeting_Attendance_Report/53114219F05E4AAC877219B6D7181E7A_4_9.json').text\r\n",
        "oea.land(data, 'graph_api/v1.0/meeting_attendance_report', 'report087_hed_test_data.json', oea.ADDITIVE_BATCH_DATA, currentDateTime)\r\n",
        "data = requests.get('https://raw.githubusercontent.com/microsoft/OpenEduAnalytics/main/modules/module_catalog/Microsoft_Graph/test_data/hed_test_data/Meeting_Attendance_Report/57A93AA78A6F492287C15F30F238BE1D_11_10.json').text\r\n",
        "oea.land(data, 'graph_api/v1.0/meeting_attendance_report', 'report088_hed_test_data.json', oea.ADDITIVE_BATCH_DATA, currentDateTime)\r\n",
        "data = requests.get('https://raw.githubusercontent.com/microsoft/OpenEduAnalytics/main/modules/module_catalog/Microsoft_Graph/test_data/hed_test_data/Meeting_Attendance_Report/57A93AA78A6F492287C15F30F238BE1D_3_14.json').text\r\n",
        "oea.land(data, 'graph_api/v1.0/meeting_attendance_report', 'report089_hed_test_data.json', oea.ADDITIVE_BATCH_DATA, currentDateTime)\r\n",
        "data = requests.get('https://raw.githubusercontent.com/microsoft/OpenEduAnalytics/main/modules/module_catalog/Microsoft_Graph/test_data/hed_test_data/Meeting_Attendance_Report/57A93AA78A6F492287C15F30F238BE1D_5_16.json').text\r\n",
        "oea.land(data, 'graph_api/v1.0/meeting_attendance_report', 'report090_hed_test_data.json', oea.ADDITIVE_BATCH_DATA, currentDateTime)\r\n",
        "data = requests.get('https://raw.githubusercontent.com/microsoft/OpenEduAnalytics/main/modules/module_catalog/Microsoft_Graph/test_data/hed_test_data/Meeting_Attendance_Report/5D129FA96C454B0387237E799D1EEF12_28_10.json').text\r\n",
        "oea.land(data, 'graph_api/v1.0/meeting_attendance_report', 'report091_hed_test_data.json', oea.ADDITIVE_BATCH_DATA, currentDateTime)\r\n",
        "data = requests.get('https://raw.githubusercontent.com/microsoft/OpenEduAnalytics/main/modules/module_catalog/Microsoft_Graph/test_data/hed_test_data/Meeting_Attendance_Report/5D129FA96C454B0387237E799D1EEF12_28_8.json').text\r\n",
        "oea.land(data, 'graph_api/v1.0/meeting_attendance_report', 'report092_hed_test_data.json', oea.ADDITIVE_BATCH_DATA, currentDateTime)\r\n",
        "data = requests.get('https://raw.githubusercontent.com/microsoft/OpenEduAnalytics/main/modules/module_catalog/Microsoft_Graph/test_data/hed_test_data/Meeting_Attendance_Report/5D129FA96C454B0387237E799D1EEF12_5_8.json').text\r\n",
        "oea.land(data, 'graph_api/v1.0/meeting_attendance_report', 'report093_hed_test_data.json', oea.ADDITIVE_BATCH_DATA, currentDateTime)\r\n",
        "data = requests.get('https://raw.githubusercontent.com/microsoft/OpenEduAnalytics/main/modules/module_catalog/Microsoft_Graph/test_data/hed_test_data/Meeting_Attendance_Report/5EECBA2B274847679615AEC649EFA200_27_15.json').text\r\n",
        "oea.land(data, 'graph_api/v1.0/meeting_attendance_report', 'report094_hed_test_data.json', oea.ADDITIVE_BATCH_DATA, currentDateTime)\r\n",
        "data = requests.get('https://raw.githubusercontent.com/microsoft/OpenEduAnalytics/main/modules/module_catalog/Microsoft_Graph/test_data/hed_test_data/Meeting_Attendance_Report/5EECBA2B274847679615AEC649EFA200_28_13.json').text\r\n",
        "oea.land(data, 'graph_api/v1.0/meeting_attendance_report', 'report095_hed_test_data.json', oea.ADDITIVE_BATCH_DATA, currentDateTime)\r\n",
        "data = requests.get('https://raw.githubusercontent.com/microsoft/OpenEduAnalytics/main/modules/module_catalog/Microsoft_Graph/test_data/hed_test_data/Meeting_Attendance_Report/5EECBA2B274847679615AEC649EFA200_5_11.json').text\r\n",
        "oea.land(data, 'graph_api/v1.0/meeting_attendance_report', 'report096_hed_test_data.json', oea.ADDITIVE_BATCH_DATA, currentDateTime)\r\n",
        "data = requests.get('https://raw.githubusercontent.com/microsoft/OpenEduAnalytics/main/modules/module_catalog/Microsoft_Graph/test_data/hed_test_data/Meeting_Attendance_Report/66D505FBFEC5477684B7DFE66323C8CB_25_9.json').text\r\n",
        "oea.land(data, 'graph_api/v1.0/meeting_attendance_report', 'report097_hed_test_data.json', oea.ADDITIVE_BATCH_DATA, currentDateTime)\r\n",
        "data = requests.get('https://raw.githubusercontent.com/microsoft/OpenEduAnalytics/main/modules/module_catalog/Microsoft_Graph/test_data/hed_test_data/Meeting_Attendance_Report/66D505FBFEC5477684B7DFE66323C8CB_4_8.json').text\r\n",
        "oea.land(data, 'graph_api/v1.0/meeting_attendance_report', 'report098_hed_test_data.json', oea.ADDITIVE_BATCH_DATA, currentDateTime)\r\n",
        "data = requests.get('https://raw.githubusercontent.com/microsoft/OpenEduAnalytics/main/modules/module_catalog/Microsoft_Graph/test_data/hed_test_data/Meeting_Attendance_Report/66D505FBFEC5477684B7DFE66323C8CB_7_14.json').text\r\n",
        "oea.land(data, 'graph_api/v1.0/meeting_attendance_report', 'report099_hed_test_data.json', oea.ADDITIVE_BATCH_DATA, currentDateTime)\r\n",
        "data = requests.get('https://raw.githubusercontent.com/microsoft/OpenEduAnalytics/main/modules/module_catalog/Microsoft_Graph/test_data/hed_test_data/Meeting_Attendance_Report/66EF3D922B054714AA9060ECFA1E50D0_12_12.json').text\r\n",
        "oea.land(data, 'graph_api/v1.0/meeting_attendance_report', 'report100_hed_test_data.json', oea.ADDITIVE_BATCH_DATA, currentDateTime)\r\n",
        "data = requests.get('https://raw.githubusercontent.com/microsoft/OpenEduAnalytics/main/modules/module_catalog/Microsoft_Graph/test_data/hed_test_data/Meeting_Attendance_Report/66EF3D922B054714AA9060ECFA1E50D0_14_15.json').text\r\n",
        "oea.land(data, 'graph_api/v1.0/meeting_attendance_report', 'report101_hed_test_data.json', oea.ADDITIVE_BATCH_DATA, currentDateTime)\r\n",
        "data = requests.get('https://raw.githubusercontent.com/microsoft/OpenEduAnalytics/main/modules/module_catalog/Microsoft_Graph/test_data/hed_test_data/Meeting_Attendance_Report/66EF3D922B054714AA9060ECFA1E50D0_7_11.json').text\r\n",
        "oea.land(data, 'graph_api/v1.0/meeting_attendance_report', 'report102_hed_test_data.json', oea.ADDITIVE_BATCH_DATA, currentDateTime)\r\n",
        "data = requests.get('https://raw.githubusercontent.com/microsoft/OpenEduAnalytics/main/modules/module_catalog/Microsoft_Graph/test_data/hed_test_data/Meeting_Attendance_Report/69F85F73C3104AFE9E0427C808E3D2CD_20_8.json').text\r\n",
        "oea.land(data, 'graph_api/v1.0/meeting_attendance_report', 'report103_hed_test_data.json', oea.ADDITIVE_BATCH_DATA, currentDateTime)\r\n",
        "data = requests.get('https://raw.githubusercontent.com/microsoft/OpenEduAnalytics/main/modules/module_catalog/Microsoft_Graph/test_data/hed_test_data/Meeting_Attendance_Report/69F85F73C3104AFE9E0427C808E3D2CD_25_7.json').text\r\n",
        "oea.land(data, 'graph_api/v1.0/meeting_attendance_report', 'report104_hed_test_data.json', oea.ADDITIVE_BATCH_DATA, currentDateTime)\r\n",
        "data = requests.get('https://raw.githubusercontent.com/microsoft/OpenEduAnalytics/main/modules/module_catalog/Microsoft_Graph/test_data/hed_test_data/Meeting_Attendance_Report/69F85F73C3104AFE9E0427C808E3D2CD_5_16.json').text\r\n",
        "oea.land(data, 'graph_api/v1.0/meeting_attendance_report', 'report105_hed_test_data.json', oea.ADDITIVE_BATCH_DATA, currentDateTime)\r\n",
        "data = requests.get('https://raw.githubusercontent.com/microsoft/OpenEduAnalytics/main/modules/module_catalog/Microsoft_Graph/test_data/hed_test_data/Meeting_Attendance_Report/6B2F0FEF9F38494FB10B3F1AB1FB0210_18_10.json').text\r\n",
        "oea.land(data, 'graph_api/v1.0/meeting_attendance_report', 'report106_hed_test_data.json', oea.ADDITIVE_BATCH_DATA, currentDateTime)\r\n",
        "data = requests.get('https://raw.githubusercontent.com/microsoft/OpenEduAnalytics/main/modules/module_catalog/Microsoft_Graph/test_data/hed_test_data/Meeting_Attendance_Report/6B2F0FEF9F38494FB10B3F1AB1FB0210_4_13.json').text\r\n",
        "oea.land(data, 'graph_api/v1.0/meeting_attendance_report', 'report107_hed_test_data.json', oea.ADDITIVE_BATCH_DATA, currentDateTime)\r\n",
        "data = requests.get('https://raw.githubusercontent.com/microsoft/OpenEduAnalytics/main/modules/module_catalog/Microsoft_Graph/test_data/hed_test_data/Meeting_Attendance_Report/6B2F0FEF9F38494FB10B3F1AB1FB0210_7_10.json').text\r\n",
        "oea.land(data, 'graph_api/v1.0/meeting_attendance_report', 'report108_hed_test_data.json', oea.ADDITIVE_BATCH_DATA, currentDateTime)\r\n",
        "data = requests.get('https://raw.githubusercontent.com/microsoft/OpenEduAnalytics/main/modules/module_catalog/Microsoft_Graph/test_data/hed_test_data/Meeting_Attendance_Report/6F6FBD3F724F4CB8AE2F090B37BB729A_24_10.json').text\r\n",
        "oea.land(data, 'graph_api/v1.0/meeting_attendance_report', 'report109_hed_test_data.json', oea.ADDITIVE_BATCH_DATA, currentDateTime)\r\n",
        "data = requests.get('https://raw.githubusercontent.com/microsoft/OpenEduAnalytics/main/modules/module_catalog/Microsoft_Graph/test_data/hed_test_data/Meeting_Attendance_Report/6F6FBD3F724F4CB8AE2F090B37BB729A_27_8.json').text\r\n",
        "oea.land(data, 'graph_api/v1.0/meeting_attendance_report', 'report110_hed_test_data.json', oea.ADDITIVE_BATCH_DATA, currentDateTime)\r\n",
        "data = requests.get('https://raw.githubusercontent.com/microsoft/OpenEduAnalytics/main/modules/module_catalog/Microsoft_Graph/test_data/hed_test_data/Meeting_Attendance_Report/6F6FBD3F724F4CB8AE2F090B37BB729A_7_16.json').text\r\n",
        "oea.land(data, 'graph_api/v1.0/meeting_attendance_report', 'report111_hed_test_data.json', oea.ADDITIVE_BATCH_DATA, currentDateTime)\r\n",
        "data = requests.get('https://raw.githubusercontent.com/microsoft/OpenEduAnalytics/main/modules/module_catalog/Microsoft_Graph/test_data/hed_test_data/Meeting_Attendance_Report/7307533D0C4143469F22436EF53FDD00_17_15.json').text\r\n",
        "oea.land(data, 'graph_api/v1.0/meeting_attendance_report', 'report112_hed_test_data.json', oea.ADDITIVE_BATCH_DATA, currentDateTime)\r\n",
        "data = requests.get('https://raw.githubusercontent.com/microsoft/OpenEduAnalytics/main/modules/module_catalog/Microsoft_Graph/test_data/hed_test_data/Meeting_Attendance_Report/7307533D0C4143469F22436EF53FDD00_3_13.json').text\r\n",
        "oea.land(data, 'graph_api/v1.0/meeting_attendance_report', 'report113_hed_test_data.json', oea.ADDITIVE_BATCH_DATA, currentDateTime)\r\n",
        "data = requests.get('https://raw.githubusercontent.com/microsoft/OpenEduAnalytics/main/modules/module_catalog/Microsoft_Graph/test_data/hed_test_data/Meeting_Attendance_Report/7307533D0C4143469F22436EF53FDD00_3_9.json').text\r\n",
        "oea.land(data, 'graph_api/v1.0/meeting_attendance_report', 'report114_hed_test_data.json', oea.ADDITIVE_BATCH_DATA, currentDateTime)\r\n",
        "data = requests.get('https://raw.githubusercontent.com/microsoft/OpenEduAnalytics/main/modules/module_catalog/Microsoft_Graph/test_data/hed_test_data/Meeting_Attendance_Report/7510AF2BAFE14181BE9ED11FBBE569AB_17_15.json').text\r\n",
        "oea.land(data, 'graph_api/v1.0/meeting_attendance_report', 'report115_hed_test_data.json', oea.ADDITIVE_BATCH_DATA, currentDateTime)\r\n",
        "data = requests.get('https://raw.githubusercontent.com/microsoft/OpenEduAnalytics/main/modules/module_catalog/Microsoft_Graph/test_data/hed_test_data/Meeting_Attendance_Report/7510AF2BAFE14181BE9ED11FBBE569AB_24_8.json').text\r\n",
        "oea.land(data, 'graph_api/v1.0/meeting_attendance_report', 'report116_hed_test_data.json', oea.ADDITIVE_BATCH_DATA, currentDateTime)\r\n",
        "data = requests.get('https://raw.githubusercontent.com/microsoft/OpenEduAnalytics/main/modules/module_catalog/Microsoft_Graph/test_data/hed_test_data/Meeting_Attendance_Report/7510AF2BAFE14181BE9ED11FBBE569AB_28_12.json').text\r\n",
        "oea.land(data, 'graph_api/v1.0/meeting_attendance_report', 'report117_hed_test_data.json', oea.ADDITIVE_BATCH_DATA, currentDateTime)\r\n",
        "data = requests.get('https://raw.githubusercontent.com/microsoft/OpenEduAnalytics/main/modules/module_catalog/Microsoft_Graph/test_data/hed_test_data/Meeting_Attendance_Report/78E67CD474B7442A8DA5297A09A558D8_17_14.json').text\r\n",
        "oea.land(data, 'graph_api/v1.0/meeting_attendance_report', 'report118_hed_test_data.json', oea.ADDITIVE_BATCH_DATA, currentDateTime)\r\n",
        "data = requests.get('https://raw.githubusercontent.com/microsoft/OpenEduAnalytics/main/modules/module_catalog/Microsoft_Graph/test_data/hed_test_data/Meeting_Attendance_Report/78E67CD474B7442A8DA5297A09A558D8_27_12.json').text\r\n",
        "oea.land(data, 'graph_api/v1.0/meeting_attendance_report', 'report119_hed_test_data.json', oea.ADDITIVE_BATCH_DATA, currentDateTime)\r\n",
        "data = requests.get('https://raw.githubusercontent.com/microsoft/OpenEduAnalytics/main/modules/module_catalog/Microsoft_Graph/test_data/hed_test_data/Meeting_Attendance_Report/78E67CD474B7442A8DA5297A09A558D8_5_9.json').text\r\n",
        "oea.land(data, 'graph_api/v1.0/meeting_attendance_report', 'report120_hed_test_data.json', oea.ADDITIVE_BATCH_DATA, currentDateTime)\r\n",
        "data = requests.get('https://raw.githubusercontent.com/microsoft/OpenEduAnalytics/main/modules/module_catalog/Microsoft_Graph/test_data/hed_test_data/Meeting_Attendance_Report/7D851C14FFA244CF909340AC7863BAC3_28_14.json').text\r\n",
        "oea.land(data, 'graph_api/v1.0/meeting_attendance_report', 'report121_hed_test_data.json', oea.ADDITIVE_BATCH_DATA, currentDateTime)\r\n",
        "data = requests.get('https://raw.githubusercontent.com/microsoft/OpenEduAnalytics/main/modules/module_catalog/Microsoft_Graph/test_data/hed_test_data/Meeting_Attendance_Report/7D851C14FFA244CF909340AC7863BAC3_5_11.json').text\r\n",
        "oea.land(data, 'graph_api/v1.0/meeting_attendance_report', 'report122_hed_test_data.json', oea.ADDITIVE_BATCH_DATA, currentDateTime)\r\n",
        "data = requests.get('https://raw.githubusercontent.com/microsoft/OpenEduAnalytics/main/modules/module_catalog/Microsoft_Graph/test_data/hed_test_data/Meeting_Attendance_Report/7D851C14FFA244CF909340AC7863BAC3_7_9.json').text\r\n",
        "oea.land(data, 'graph_api/v1.0/meeting_attendance_report', 'report123_hed_test_data.json', oea.ADDITIVE_BATCH_DATA, currentDateTime)\r\n",
        "data = requests.get('https://raw.githubusercontent.com/microsoft/OpenEduAnalytics/main/modules/module_catalog/Microsoft_Graph/test_data/hed_test_data/Meeting_Attendance_Report/7EA3285A7DFB4C2389A12D00CE77BDF9_10_8.json').text\r\n",
        "oea.land(data, 'graph_api/v1.0/meeting_attendance_report', 'report124_hed_test_data.json', oea.ADDITIVE_BATCH_DATA, currentDateTime)\r\n",
        "data = requests.get('https://raw.githubusercontent.com/microsoft/OpenEduAnalytics/main/modules/module_catalog/Microsoft_Graph/test_data/hed_test_data/Meeting_Attendance_Report/7EA3285A7DFB4C2389A12D00CE77BDF9_11_7.json').text\r\n",
        "oea.land(data, 'graph_api/v1.0/meeting_attendance_report', 'report125_hed_test_data.json', oea.ADDITIVE_BATCH_DATA, currentDateTime)\r\n",
        "data = requests.get('https://raw.githubusercontent.com/microsoft/OpenEduAnalytics/main/modules/module_catalog/Microsoft_Graph/test_data/hed_test_data/Meeting_Attendance_Report/7EA3285A7DFB4C2389A12D00CE77BDF9_5_10.json').text\r\n",
        "oea.land(data, 'graph_api/v1.0/meeting_attendance_report', 'report126_hed_test_data.json', oea.ADDITIVE_BATCH_DATA, currentDateTime)\r\n",
        "data = requests.get('https://raw.githubusercontent.com/microsoft/OpenEduAnalytics/main/modules/module_catalog/Microsoft_Graph/test_data/hed_test_data/Meeting_Attendance_Report/7F9AE60E119947A587F733734913F561_11_8.json').text\r\n",
        "oea.land(data, 'graph_api/v1.0/meeting_attendance_report', 'report127_hed_test_data.json', oea.ADDITIVE_BATCH_DATA, currentDateTime)\r\n",
        "data = requests.get('https://raw.githubusercontent.com/microsoft/OpenEduAnalytics/main/modules/module_catalog/Microsoft_Graph/test_data/hed_test_data/Meeting_Attendance_Report/7F9AE60E119947A587F733734913F561_12_14.json').text\r\n",
        "oea.land(data, 'graph_api/v1.0/meeting_attendance_report', 'report128_hed_test_data.json', oea.ADDITIVE_BATCH_DATA, currentDateTime)\r\n",
        "data = requests.get('https://raw.githubusercontent.com/microsoft/OpenEduAnalytics/main/modules/module_catalog/Microsoft_Graph/test_data/hed_test_data/Meeting_Attendance_Report/7F9AE60E119947A587F733734913F561_7_9.json').text\r\n",
        "oea.land(data, 'graph_api/v1.0/meeting_attendance_report', 'report129_hed_test_data.json', oea.ADDITIVE_BATCH_DATA, currentDateTime)\r\n",
        "data = requests.get('https://raw.githubusercontent.com/microsoft/OpenEduAnalytics/main/modules/module_catalog/Microsoft_Graph/test_data/hed_test_data/Meeting_Attendance_Report/856A511D6D124BE3A61D8A9FBECF89D1_11_13.json').text\r\n",
        "oea.land(data, 'graph_api/v1.0/meeting_attendance_report', 'report130_hed_test_data.json', oea.ADDITIVE_BATCH_DATA, currentDateTime)\r\n",
        "data = requests.get('https://raw.githubusercontent.com/microsoft/OpenEduAnalytics/main/modules/module_catalog/Microsoft_Graph/test_data/hed_test_data/Meeting_Attendance_Report/856A511D6D124BE3A61D8A9FBECF89D1_11_15.json').text\r\n",
        "oea.land(data, 'graph_api/v1.0/meeting_attendance_report', 'report131_hed_test_data.json', oea.ADDITIVE_BATCH_DATA, currentDateTime)\r\n",
        "data = requests.get('https://raw.githubusercontent.com/microsoft/OpenEduAnalytics/main/modules/module_catalog/Microsoft_Graph/test_data/hed_test_data/Meeting_Attendance_Report/856A511D6D124BE3A61D8A9FBECF89D1_18_7.json').text\r\n",
        "oea.land(data, 'graph_api/v1.0/meeting_attendance_report', 'report132_hed_test_data.json', oea.ADDITIVE_BATCH_DATA, currentDateTime)\r\n",
        "data = requests.get('https://raw.githubusercontent.com/microsoft/OpenEduAnalytics/main/modules/module_catalog/Microsoft_Graph/test_data/hed_test_data/Meeting_Attendance_Report/88C5D9EE75344355ACBFAD211D436E0A_11_14.json').text\r\n",
        "oea.land(data, 'graph_api/v1.0/meeting_attendance_report', 'report133_hed_test_data.json', oea.ADDITIVE_BATCH_DATA, currentDateTime)\r\n",
        "data = requests.get('https://raw.githubusercontent.com/microsoft/OpenEduAnalytics/main/modules/module_catalog/Microsoft_Graph/test_data/hed_test_data/Meeting_Attendance_Report/88C5D9EE75344355ACBFAD211D436E0A_11_16.json').text\r\n",
        "oea.land(data, 'graph_api/v1.0/meeting_attendance_report', 'report134_hed_test_data.json', oea.ADDITIVE_BATCH_DATA, currentDateTime)\r\n",
        "data = requests.get('https://raw.githubusercontent.com/microsoft/OpenEduAnalytics/main/modules/module_catalog/Microsoft_Graph/test_data/hed_test_data/Meeting_Attendance_Report/88C5D9EE75344355ACBFAD211D436E0A_21_12.json').text\r\n",
        "oea.land(data, 'graph_api/v1.0/meeting_attendance_report', 'report135_hed_test_data.json', oea.ADDITIVE_BATCH_DATA, currentDateTime)\r\n",
        "data = requests.get('https://raw.githubusercontent.com/microsoft/OpenEduAnalytics/main/modules/module_catalog/Microsoft_Graph/test_data/hed_test_data/Meeting_Attendance_Report/8F93CDB9FB7740899247AE8EE1B647AE_11_9.json').text\r\n",
        "oea.land(data, 'graph_api/v1.0/meeting_attendance_report', 'report136_hed_test_data.json', oea.ADDITIVE_BATCH_DATA, currentDateTime)\r\n",
        "data = requests.get('https://raw.githubusercontent.com/microsoft/OpenEduAnalytics/main/modules/module_catalog/Microsoft_Graph/test_data/hed_test_data/Meeting_Attendance_Report/8F93CDB9FB7740899247AE8EE1B647AE_24_7.json').text\r\n",
        "oea.land(data, 'graph_api/v1.0/meeting_attendance_report', 'report137_hed_test_data.json', oea.ADDITIVE_BATCH_DATA, currentDateTime)\r\n",
        "data = requests.get('https://raw.githubusercontent.com/microsoft/OpenEduAnalytics/main/modules/module_catalog/Microsoft_Graph/test_data/hed_test_data/Meeting_Attendance_Report/8F93CDB9FB7740899247AE8EE1B647AE_27_14.json').text\r\n",
        "oea.land(data, 'graph_api/v1.0/meeting_attendance_report', 'report138_hed_test_data.json', oea.ADDITIVE_BATCH_DATA, currentDateTime)\r\n",
        "data = requests.get('https://raw.githubusercontent.com/microsoft/OpenEduAnalytics/main/modules/module_catalog/Microsoft_Graph/test_data/hed_test_data/Meeting_Attendance_Report/90A1DB4399014520B10AC7FBCC8A165C_14_8.json').text\r\n",
        "oea.land(data, 'graph_api/v1.0/meeting_attendance_report', 'report139_hed_test_data.json', oea.ADDITIVE_BATCH_DATA, currentDateTime)\r\n",
        "data = requests.get('https://raw.githubusercontent.com/microsoft/OpenEduAnalytics/main/modules/module_catalog/Microsoft_Graph/test_data/hed_test_data/Meeting_Attendance_Report/90A1DB4399014520B10AC7FBCC8A165C_24_16.json').text\r\n",
        "oea.land(data, 'graph_api/v1.0/meeting_attendance_report', 'report140_hed_test_data.json', oea.ADDITIVE_BATCH_DATA, currentDateTime)\r\n",
        "data = requests.get('https://raw.githubusercontent.com/microsoft/OpenEduAnalytics/main/modules/module_catalog/Microsoft_Graph/test_data/hed_test_data/Meeting_Attendance_Report/90A1DB4399014520B10AC7FBCC8A165C_5_16.json').text\r\n",
        "oea.land(data, 'graph_api/v1.0/meeting_attendance_report', 'report141_hed_test_data.json', oea.ADDITIVE_BATCH_DATA, currentDateTime)\r\n",
        "data = requests.get('https://raw.githubusercontent.com/microsoft/OpenEduAnalytics/main/modules/module_catalog/Microsoft_Graph/test_data/hed_test_data/Meeting_Attendance_Report/92C670E8E11A47888A574BE6D6300042_10_12.json').text\r\n",
        "oea.land(data, 'graph_api/v1.0/meeting_attendance_report', 'report142_hed_test_data.json', oea.ADDITIVE_BATCH_DATA, currentDateTime)\r\n",
        "data = requests.get('https://raw.githubusercontent.com/microsoft/OpenEduAnalytics/main/modules/module_catalog/Microsoft_Graph/test_data/hed_test_data/Meeting_Attendance_Report/92C670E8E11A47888A574BE6D6300042_13_12.json').text\r\n",
        "oea.land(data, 'graph_api/v1.0/meeting_attendance_report', 'report143_hed_test_data.json', oea.ADDITIVE_BATCH_DATA, currentDateTime)\r\n",
        "data = requests.get('https://raw.githubusercontent.com/microsoft/OpenEduAnalytics/main/modules/module_catalog/Microsoft_Graph/test_data/hed_test_data/Meeting_Attendance_Report/92C670E8E11A47888A574BE6D6300042_14_9.json').text\r\n",
        "oea.land(data, 'graph_api/v1.0/meeting_attendance_report', 'report144_hed_test_data.json', oea.ADDITIVE_BATCH_DATA, currentDateTime)\r\n",
        "data = requests.get('https://raw.githubusercontent.com/microsoft/OpenEduAnalytics/main/modules/module_catalog/Microsoft_Graph/test_data/hed_test_data/Meeting_Attendance_Report/95AE2468EFE544689808A2C3516E6B2E_13_9.json').text\r\n",
        "oea.land(data, 'graph_api/v1.0/meeting_attendance_report', 'report145_hed_test_data.json', oea.ADDITIVE_BATCH_DATA, currentDateTime)\r\n",
        "data = requests.get('https://raw.githubusercontent.com/microsoft/OpenEduAnalytics/main/modules/module_catalog/Microsoft_Graph/test_data/hed_test_data/Meeting_Attendance_Report/95AE2468EFE544689808A2C3516E6B2E_27_11.json').text\r\n",
        "oea.land(data, 'graph_api/v1.0/meeting_attendance_report', 'report146_hed_test_data.json', oea.ADDITIVE_BATCH_DATA, currentDateTime)\r\n",
        "data = requests.get('https://raw.githubusercontent.com/microsoft/OpenEduAnalytics/main/modules/module_catalog/Microsoft_Graph/test_data/hed_test_data/Meeting_Attendance_Report/95AE2468EFE544689808A2C3516E6B2E_3_15.json').text\r\n",
        "oea.land(data, 'graph_api/v1.0/meeting_attendance_report', 'report147_hed_test_data.json', oea.ADDITIVE_BATCH_DATA, currentDateTime)\r\n",
        "data = requests.get('https://raw.githubusercontent.com/microsoft/OpenEduAnalytics/main/modules/module_catalog/Microsoft_Graph/test_data/hed_test_data/Meeting_Attendance_Report/95CB73976B544812B6CACDFAB76A4A7D_10_8.json').text\r\n",
        "oea.land(data, 'graph_api/v1.0/meeting_attendance_report', 'report148_hed_test_data.json', oea.ADDITIVE_BATCH_DATA, currentDateTime)\r\n",
        "data = requests.get('https://raw.githubusercontent.com/microsoft/OpenEduAnalytics/main/modules/module_catalog/Microsoft_Graph/test_data/hed_test_data/Meeting_Attendance_Report/95CB73976B544812B6CACDFAB76A4A7D_4_13.json').text\r\n",
        "oea.land(data, 'graph_api/v1.0/meeting_attendance_report', 'report149_hed_test_data.json', oea.ADDITIVE_BATCH_DATA, currentDateTime)\r\n",
        "data = requests.get('https://raw.githubusercontent.com/microsoft/OpenEduAnalytics/main/modules/module_catalog/Microsoft_Graph/test_data/hed_test_data/Meeting_Attendance_Report/95CB73976B544812B6CACDFAB76A4A7D_5_12.json').text\r\n",
        "oea.land(data, 'graph_api/v1.0/meeting_attendance_report', 'report150_hed_test_data.json', oea.ADDITIVE_BATCH_DATA, currentDateTime)\r\n",
        "data = requests.get('https://raw.githubusercontent.com/microsoft/OpenEduAnalytics/main/modules/module_catalog/Microsoft_Graph/test_data/hed_test_data/Meeting_Attendance_Report/9EA9D757EBCD4C7BB1B65077F9F1AEF3_17_16.json').text\r\n",
        "oea.land(data, 'graph_api/v1.0/meeting_attendance_report', 'report151_hed_test_data.json', oea.ADDITIVE_BATCH_DATA, currentDateTime)\r\n",
        "data = requests.get('https://raw.githubusercontent.com/microsoft/OpenEduAnalytics/main/modules/module_catalog/Microsoft_Graph/test_data/hed_test_data/Meeting_Attendance_Report/9EA9D757EBCD4C7BB1B65077F9F1AEF3_18_10.json').text\r\n",
        "oea.land(data, 'graph_api/v1.0/meeting_attendance_report', 'report152_hed_test_data.json', oea.ADDITIVE_BATCH_DATA, currentDateTime)\r\n",
        "data = requests.get('https://raw.githubusercontent.com/microsoft/OpenEduAnalytics/main/modules/module_catalog/Microsoft_Graph/test_data/hed_test_data/Meeting_Attendance_Report/9EA9D757EBCD4C7BB1B65077F9F1AEF3_6_15.json').text\r\n",
        "oea.land(data, 'graph_api/v1.0/meeting_attendance_report', 'report153_hed_test_data.json', oea.ADDITIVE_BATCH_DATA, currentDateTime)\r\n",
        "data = requests.get('https://raw.githubusercontent.com/microsoft/OpenEduAnalytics/main/modules/module_catalog/Microsoft_Graph/test_data/hed_test_data/Meeting_Attendance_Report/A12FDEF5617C49E380791A543353B0A2_20_8.json').text\r\n",
        "oea.land(data, 'graph_api/v1.0/meeting_attendance_report', 'report154_hed_test_data.json', oea.ADDITIVE_BATCH_DATA, currentDateTime)\r\n",
        "data = requests.get('https://raw.githubusercontent.com/microsoft/OpenEduAnalytics/main/modules/module_catalog/Microsoft_Graph/test_data/hed_test_data/Meeting_Attendance_Report/A12FDEF5617C49E380791A543353B0A2_7_14.json').text\r\n",
        "oea.land(data, 'graph_api/v1.0/meeting_attendance_report', 'report155_hed_test_data.json', oea.ADDITIVE_BATCH_DATA, currentDateTime)\r\n",
        "data = requests.get('https://raw.githubusercontent.com/microsoft/OpenEduAnalytics/main/modules/module_catalog/Microsoft_Graph/test_data/hed_test_data/Meeting_Attendance_Report/A12FDEF5617C49E380791A543353B0A2_7_16.json').text\r\n",
        "oea.land(data, 'graph_api/v1.0/meeting_attendance_report', 'report156_hed_test_data.json', oea.ADDITIVE_BATCH_DATA, currentDateTime)\r\n",
        "data = requests.get('https://raw.githubusercontent.com/microsoft/OpenEduAnalytics/main/modules/module_catalog/Microsoft_Graph/test_data/hed_test_data/Meeting_Attendance_Report/A41A4D8CF7CD4CCCABA4FE5FC3CE21BF_11_12.json').text\r\n",
        "oea.land(data, 'graph_api/v1.0/meeting_attendance_report', 'report157_hed_test_data.json', oea.ADDITIVE_BATCH_DATA, currentDateTime)\r\n",
        "data = requests.get('https://raw.githubusercontent.com/microsoft/OpenEduAnalytics/main/modules/module_catalog/Microsoft_Graph/test_data/hed_test_data/Meeting_Attendance_Report/A41A4D8CF7CD4CCCABA4FE5FC3CE21BF_28_7.json').text\r\n",
        "oea.land(data, 'graph_api/v1.0/meeting_attendance_report', 'report158_hed_test_data.json', oea.ADDITIVE_BATCH_DATA, currentDateTime)\r\n",
        "data = requests.get('https://raw.githubusercontent.com/microsoft/OpenEduAnalytics/main/modules/module_catalog/Microsoft_Graph/test_data/hed_test_data/Meeting_Attendance_Report/A41A4D8CF7CD4CCCABA4FE5FC3CE21BF_7_12.json').text\r\n",
        "oea.land(data, 'graph_api/v1.0/meeting_attendance_report', 'report159_hed_test_data.json', oea.ADDITIVE_BATCH_DATA, currentDateTime)\r\n",
        "data = requests.get('https://raw.githubusercontent.com/microsoft/OpenEduAnalytics/main/modules/module_catalog/Microsoft_Graph/test_data/hed_test_data/Meeting_Attendance_Report/A520F654FBCC4CCEBACEC63D2333D771_14_10.json').text\r\n",
        "oea.land(data, 'graph_api/v1.0/meeting_attendance_report', 'report160_hed_test_data.json', oea.ADDITIVE_BATCH_DATA, currentDateTime)\r\n",
        "data = requests.get('https://raw.githubusercontent.com/microsoft/OpenEduAnalytics/main/modules/module_catalog/Microsoft_Graph/test_data/hed_test_data/Meeting_Attendance_Report/A520F654FBCC4CCEBACEC63D2333D771_17_12.json').text\r\n",
        "oea.land(data, 'graph_api/v1.0/meeting_attendance_report', 'report161_hed_test_data.json', oea.ADDITIVE_BATCH_DATA, currentDateTime)\r\n",
        "data = requests.get('https://raw.githubusercontent.com/microsoft/OpenEduAnalytics/main/modules/module_catalog/Microsoft_Graph/test_data/hed_test_data/Meeting_Attendance_Report/A520F654FBCC4CCEBACEC63D2333D771_17_7.json').text\r\n",
        "oea.land(data, 'graph_api/v1.0/meeting_attendance_report', 'report162_hed_test_data.json', oea.ADDITIVE_BATCH_DATA, currentDateTime)\r\n",
        "data = requests.get('https://raw.githubusercontent.com/microsoft/OpenEduAnalytics/main/modules/module_catalog/Microsoft_Graph/test_data/hed_test_data/Meeting_Attendance_Report/A7D4A05729F84E00B19FF5279BC0ACB2_13_15.json').text\r\n",
        "oea.land(data, 'graph_api/v1.0/meeting_attendance_report', 'report163_hed_test_data.json', oea.ADDITIVE_BATCH_DATA, currentDateTime)\r\n",
        "data = requests.get('https://raw.githubusercontent.com/microsoft/OpenEduAnalytics/main/modules/module_catalog/Microsoft_Graph/test_data/hed_test_data/Meeting_Attendance_Report/A7D4A05729F84E00B19FF5279BC0ACB2_14_10.json').text\r\n",
        "oea.land(data, 'graph_api/v1.0/meeting_attendance_report', 'report164_hed_test_data.json', oea.ADDITIVE_BATCH_DATA, currentDateTime)\r\n",
        "data = requests.get('https://raw.githubusercontent.com/microsoft/OpenEduAnalytics/main/modules/module_catalog/Microsoft_Graph/test_data/hed_test_data/Meeting_Attendance_Report/A7D4A05729F84E00B19FF5279BC0ACB2_5_8.json').text\r\n",
        "oea.land(data, 'graph_api/v1.0/meeting_attendance_report', 'report165_hed_test_data.json', oea.ADDITIVE_BATCH_DATA, currentDateTime)\r\n",
        "data = requests.get('https://raw.githubusercontent.com/microsoft/OpenEduAnalytics/main/modules/module_catalog/Microsoft_Graph/test_data/hed_test_data/Meeting_Attendance_Report/AACE248D43BE4595AEEED5A95FA70ED2_28_13.json').text\r\n",
        "oea.land(data, 'graph_api/v1.0/meeting_attendance_report', 'report166_hed_test_data.json', oea.ADDITIVE_BATCH_DATA, currentDateTime)\r\n",
        "data = requests.get('https://raw.githubusercontent.com/microsoft/OpenEduAnalytics/main/modules/module_catalog/Microsoft_Graph/test_data/hed_test_data/Meeting_Attendance_Report/AACE248D43BE4595AEEED5A95FA70ED2_4_15.json').text\r\n",
        "oea.land(data, 'graph_api/v1.0/meeting_attendance_report', 'report167_hed_test_data.json', oea.ADDITIVE_BATCH_DATA, currentDateTime)\r\n",
        "data = requests.get('https://raw.githubusercontent.com/microsoft/OpenEduAnalytics/main/modules/module_catalog/Microsoft_Graph/test_data/hed_test_data/Meeting_Attendance_Report/AACE248D43BE4595AEEED5A95FA70ED2_5_13.json').text\r\n",
        "oea.land(data, 'graph_api/v1.0/meeting_attendance_report', 'report168_hed_test_data.json', oea.ADDITIVE_BATCH_DATA, currentDateTime)\r\n",
        "data = requests.get('https://raw.githubusercontent.com/microsoft/OpenEduAnalytics/main/modules/module_catalog/Microsoft_Graph/test_data/hed_test_data/Meeting_Attendance_Report/AD1204DE0EE14ECB97A62A03310E1FA5_19_13.json').text\r\n",
        "oea.land(data, 'graph_api/v1.0/meeting_attendance_report', 'report169_hed_test_data.json', oea.ADDITIVE_BATCH_DATA, currentDateTime)\r\n",
        "data = requests.get('https://raw.githubusercontent.com/microsoft/OpenEduAnalytics/main/modules/module_catalog/Microsoft_Graph/test_data/hed_test_data/Meeting_Attendance_Report/AD1204DE0EE14ECB97A62A03310E1FA5_26_12.json').text\r\n",
        "oea.land(data, 'graph_api/v1.0/meeting_attendance_report', 'report170_hed_test_data.json', oea.ADDITIVE_BATCH_DATA, currentDateTime)\r\n",
        "data = requests.get('https://raw.githubusercontent.com/microsoft/OpenEduAnalytics/main/modules/module_catalog/Microsoft_Graph/test_data/hed_test_data/Meeting_Attendance_Report/AD1204DE0EE14ECB97A62A03310E1FA5_3_10.json').text\r\n",
        "oea.land(data, 'graph_api/v1.0/meeting_attendance_report', 'report171_hed_test_data.json', oea.ADDITIVE_BATCH_DATA, currentDateTime)\r\n",
        "data = requests.get('https://raw.githubusercontent.com/microsoft/OpenEduAnalytics/main/modules/module_catalog/Microsoft_Graph/test_data/hed_test_data/Meeting_Attendance_Report/B207F983B9524E5F892884A8934D1077_21_11.json').text\r\n",
        "oea.land(data, 'graph_api/v1.0/meeting_attendance_report', 'report172_hed_test_data.json', oea.ADDITIVE_BATCH_DATA, currentDateTime)\r\n",
        "data = requests.get('https://raw.githubusercontent.com/microsoft/OpenEduAnalytics/main/modules/module_catalog/Microsoft_Graph/test_data/hed_test_data/Meeting_Attendance_Report/B207F983B9524E5F892884A8934D1077_21_12.json').text\r\n",
        "oea.land(data, 'graph_api/v1.0/meeting_attendance_report', 'report173_hed_test_data.json', oea.ADDITIVE_BATCH_DATA, currentDateTime)\r\n",
        "data = requests.get('https://raw.githubusercontent.com/microsoft/OpenEduAnalytics/main/modules/module_catalog/Microsoft_Graph/test_data/hed_test_data/Meeting_Attendance_Report/B207F983B9524E5F892884A8934D1077_24_7.json').text\r\n",
        "oea.land(data, 'graph_api/v1.0/meeting_attendance_report', 'report174_hed_test_data.json', oea.ADDITIVE_BATCH_DATA, currentDateTime)\r\n",
        "data = requests.get('https://raw.githubusercontent.com/microsoft/OpenEduAnalytics/main/modules/module_catalog/Microsoft_Graph/test_data/hed_test_data/Meeting_Attendance_Report/B3890CDB0D9148C78770334E44F30729_19_10.json').text\r\n",
        "oea.land(data, 'graph_api/v1.0/meeting_attendance_report', 'report175_hed_test_data.json', oea.ADDITIVE_BATCH_DATA, currentDateTime)\r\n",
        "data = requests.get('https://raw.githubusercontent.com/microsoft/OpenEduAnalytics/main/modules/module_catalog/Microsoft_Graph/test_data/hed_test_data/Meeting_Attendance_Report/B3890CDB0D9148C78770334E44F30729_19_15.json').text\r\n",
        "oea.land(data, 'graph_api/v1.0/meeting_attendance_report', 'report176_hed_test_data.json', oea.ADDITIVE_BATCH_DATA, currentDateTime)\r\n",
        "data = requests.get('https://raw.githubusercontent.com/microsoft/OpenEduAnalytics/main/modules/module_catalog/Microsoft_Graph/test_data/hed_test_data/Meeting_Attendance_Report/B3890CDB0D9148C78770334E44F30729_21_16.json').text\r\n",
        "oea.land(data, 'graph_api/v1.0/meeting_attendance_report', 'report177_hed_test_data.json', oea.ADDITIVE_BATCH_DATA, currentDateTime)\r\n",
        "data = requests.get('https://raw.githubusercontent.com/microsoft/OpenEduAnalytics/main/modules/module_catalog/Microsoft_Graph/test_data/hed_test_data/Meeting_Attendance_Report/B6E4ABF9F1CA41A6A5317AFB4BDCACB4_10_16.json').text\r\n",
        "oea.land(data, 'graph_api/v1.0/meeting_attendance_report', 'report178_hed_test_data.json', oea.ADDITIVE_BATCH_DATA, currentDateTime)\r\n",
        "data = requests.get('https://raw.githubusercontent.com/microsoft/OpenEduAnalytics/main/modules/module_catalog/Microsoft_Graph/test_data/hed_test_data/Meeting_Attendance_Report/B6E4ABF9F1CA41A6A5317AFB4BDCACB4_13_10.json').text\r\n",
        "oea.land(data, 'graph_api/v1.0/meeting_attendance_report', 'report179_hed_test_data.json', oea.ADDITIVE_BATCH_DATA, currentDateTime)\r\n",
        "data = requests.get('https://raw.githubusercontent.com/microsoft/OpenEduAnalytics/main/modules/module_catalog/Microsoft_Graph/test_data/hed_test_data/Meeting_Attendance_Report/B6E4ABF9F1CA41A6A5317AFB4BDCACB4_18_16.json').text\r\n",
        "oea.land(data, 'graph_api/v1.0/meeting_attendance_report', 'report180_hed_test_data.json', oea.ADDITIVE_BATCH_DATA, currentDateTime)\r\n",
        "data = requests.get('https://raw.githubusercontent.com/microsoft/OpenEduAnalytics/main/modules/module_catalog/Microsoft_Graph/test_data/hed_test_data/Meeting_Attendance_Report/BE0A4AC2F0264375B4ED97DC17DD6800_13_10.json').text\r\n",
        "oea.land(data, 'graph_api/v1.0/meeting_attendance_report', 'report181_hed_test_data.json', oea.ADDITIVE_BATCH_DATA, currentDateTime)\r\n",
        "data = requests.get('https://raw.githubusercontent.com/microsoft/OpenEduAnalytics/main/modules/module_catalog/Microsoft_Graph/test_data/hed_test_data/Meeting_Attendance_Report/BE0A4AC2F0264375B4ED97DC17DD6800_17_16.json').text\r\n",
        "oea.land(data, 'graph_api/v1.0/meeting_attendance_report', 'report182_hed_test_data.json', oea.ADDITIVE_BATCH_DATA, currentDateTime)\r\n",
        "data = requests.get('https://raw.githubusercontent.com/microsoft/OpenEduAnalytics/main/modules/module_catalog/Microsoft_Graph/test_data/hed_test_data/Meeting_Attendance_Report/BE0A4AC2F0264375B4ED97DC17DD6800_25_8.json').text\r\n",
        "oea.land(data, 'graph_api/v1.0/meeting_attendance_report', 'report183_hed_test_data.json', oea.ADDITIVE_BATCH_DATA, currentDateTime)\r\n",
        "data = requests.get('https://raw.githubusercontent.com/microsoft/OpenEduAnalytics/main/modules/module_catalog/Microsoft_Graph/test_data/hed_test_data/Meeting_Attendance_Report/BEB8D1707FEB453A85B387A9C474F08F_3_7.json').text\r\n",
        "oea.land(data, 'graph_api/v1.0/meeting_attendance_report', 'report184_hed_test_data.json', oea.ADDITIVE_BATCH_DATA, currentDateTime)\r\n",
        "data = requests.get('https://raw.githubusercontent.com/microsoft/OpenEduAnalytics/main/modules/module_catalog/Microsoft_Graph/test_data/hed_test_data/Meeting_Attendance_Report/BEB8D1707FEB453A85B387A9C474F08F_5_7.json').text\r\n",
        "oea.land(data, 'graph_api/v1.0/meeting_attendance_report', 'report185_hed_test_data.json', oea.ADDITIVE_BATCH_DATA, currentDateTime)\r\n",
        "data = requests.get('https://raw.githubusercontent.com/microsoft/OpenEduAnalytics/main/modules/module_catalog/Microsoft_Graph/test_data/hed_test_data/Meeting_Attendance_Report/BEB8D1707FEB453A85B387A9C474F08F_7_11.json').text\r\n",
        "oea.land(data, 'graph_api/v1.0/meeting_attendance_report', 'report186_hed_test_data.json', oea.ADDITIVE_BATCH_DATA, currentDateTime)\r\n",
        "data = requests.get('https://raw.githubusercontent.com/microsoft/OpenEduAnalytics/main/modules/module_catalog/Microsoft_Graph/test_data/hed_test_data/Meeting_Attendance_Report/C6BFFB2D75F5425EAA743F666C89702B_10_16.json').text\r\n",
        "oea.land(data, 'graph_api/v1.0/meeting_attendance_report', 'report187_hed_test_data.json', oea.ADDITIVE_BATCH_DATA, currentDateTime)\r\n",
        "data = requests.get('https://raw.githubusercontent.com/microsoft/OpenEduAnalytics/main/modules/module_catalog/Microsoft_Graph/test_data/hed_test_data/Meeting_Attendance_Report/C6BFFB2D75F5425EAA743F666C89702B_17_16.json').text\r\n",
        "oea.land(data, 'graph_api/v1.0/meeting_attendance_report', 'report188_hed_test_data.json', oea.ADDITIVE_BATCH_DATA, currentDateTime)\r\n",
        "data = requests.get('https://raw.githubusercontent.com/microsoft/OpenEduAnalytics/main/modules/module_catalog/Microsoft_Graph/test_data/hed_test_data/Meeting_Attendance_Report/C6BFFB2D75F5425EAA743F666C89702B_26_11.json').text\r\n",
        "oea.land(data, 'graph_api/v1.0/meeting_attendance_report', 'report189_hed_test_data.json', oea.ADDITIVE_BATCH_DATA, currentDateTime)\r\n",
        "data = requests.get('https://raw.githubusercontent.com/microsoft/OpenEduAnalytics/main/modules/module_catalog/Microsoft_Graph/test_data/hed_test_data/Meeting_Attendance_Report/C6C48F7DA7FB413AB903DF50BDA02C1D_24_13.json').text\r\n",
        "oea.land(data, 'graph_api/v1.0/meeting_attendance_report', 'report190_hed_test_data.json', oea.ADDITIVE_BATCH_DATA, currentDateTime)\r\n",
        "data = requests.get('https://raw.githubusercontent.com/microsoft/OpenEduAnalytics/main/modules/module_catalog/Microsoft_Graph/test_data/hed_test_data/Meeting_Attendance_Report/C6C48F7DA7FB413AB903DF50BDA02C1D_5_12.json').text\r\n",
        "oea.land(data, 'graph_api/v1.0/meeting_attendance_report', 'report191_hed_test_data.json', oea.ADDITIVE_BATCH_DATA, currentDateTime)\r\n",
        "data = requests.get('https://raw.githubusercontent.com/microsoft/OpenEduAnalytics/main/modules/module_catalog/Microsoft_Graph/test_data/hed_test_data/Meeting_Attendance_Report/C6C48F7DA7FB413AB903DF50BDA02C1D_6_7.json').text\r\n",
        "oea.land(data, 'graph_api/v1.0/meeting_attendance_report', 'report192_hed_test_data.json', oea.ADDITIVE_BATCH_DATA, currentDateTime)\r\n",
        "data = requests.get('https://raw.githubusercontent.com/microsoft/OpenEduAnalytics/main/modules/module_catalog/Microsoft_Graph/test_data/hed_test_data/Meeting_Attendance_Report/C9314F1342D740C5B8C89FB12C55DBB8_10_12.json').text\r\n",
        "oea.land(data, 'graph_api/v1.0/meeting_attendance_report', 'report193_hed_test_data.json', oea.ADDITIVE_BATCH_DATA, currentDateTime)\r\n",
        "data = requests.get('https://raw.githubusercontent.com/microsoft/OpenEduAnalytics/main/modules/module_catalog/Microsoft_Graph/test_data/hed_test_data/Meeting_Attendance_Report/C9314F1342D740C5B8C89FB12C55DBB8_18_16.json').text\r\n",
        "oea.land(data, 'graph_api/v1.0/meeting_attendance_report', 'report194_hed_test_data.json', oea.ADDITIVE_BATCH_DATA, currentDateTime)\r\n",
        "data = requests.get('https://raw.githubusercontent.com/microsoft/OpenEduAnalytics/main/modules/module_catalog/Microsoft_Graph/test_data/hed_test_data/Meeting_Attendance_Report/C9314F1342D740C5B8C89FB12C55DBB8_20_16.json').text\r\n",
        "oea.land(data, 'graph_api/v1.0/meeting_attendance_report', 'report195_hed_test_data.json', oea.ADDITIVE_BATCH_DATA, currentDateTime)\r\n",
        "data = requests.get('https://raw.githubusercontent.com/microsoft/OpenEduAnalytics/main/modules/module_catalog/Microsoft_Graph/test_data/hed_test_data/Meeting_Attendance_Report/CBA6D54FF6F347B4B0676331FD87295C_26_14.json').text\r\n",
        "oea.land(data, 'graph_api/v1.0/meeting_attendance_report', 'report196_hed_test_data.json', oea.ADDITIVE_BATCH_DATA, currentDateTime)\r\n",
        "data = requests.get('https://raw.githubusercontent.com/microsoft/OpenEduAnalytics/main/modules/module_catalog/Microsoft_Graph/test_data/hed_test_data/Meeting_Attendance_Report/CBA6D54FF6F347B4B0676331FD87295C_27_13.json').text\r\n",
        "oea.land(data, 'graph_api/v1.0/meeting_attendance_report', 'report197_hed_test_data.json', oea.ADDITIVE_BATCH_DATA, currentDateTime)\r\n",
        "data = requests.get('https://raw.githubusercontent.com/microsoft/OpenEduAnalytics/main/modules/module_catalog/Microsoft_Graph/test_data/hed_test_data/Meeting_Attendance_Report/CBA6D54FF6F347B4B0676331FD87295C_3_10.json').text\r\n",
        "oea.land(data, 'graph_api/v1.0/meeting_attendance_report', 'report198_hed_test_data.json', oea.ADDITIVE_BATCH_DATA, currentDateTime)\r\n",
        "data = requests.get('https://raw.githubusercontent.com/microsoft/OpenEduAnalytics/main/modules/module_catalog/Microsoft_Graph/test_data/hed_test_data/Meeting_Attendance_Report/D2B4723C805C42748F405FDDD94E114C_24_15.json').text\r\n",
        "oea.land(data, 'graph_api/v1.0/meeting_attendance_report', 'report199_hed_test_data.json', oea.ADDITIVE_BATCH_DATA, currentDateTime)\r\n",
        "data = requests.get('https://raw.githubusercontent.com/microsoft/OpenEduAnalytics/main/modules/module_catalog/Microsoft_Graph/test_data/hed_test_data/Meeting_Attendance_Report/D2B4723C805C42748F405FDDD94E114C_28_16.json').text\r\n",
        "oea.land(data, 'graph_api/v1.0/meeting_attendance_report', 'report200_hed_test_data.json', oea.ADDITIVE_BATCH_DATA, currentDateTime)\r\n",
        "data = requests.get('https://raw.githubusercontent.com/microsoft/OpenEduAnalytics/main/modules/module_catalog/Microsoft_Graph/test_data/hed_test_data/Meeting_Attendance_Report/D2B4723C805C42748F405FDDD94E114C_6_8.json').text\r\n",
        "oea.land(data, 'graph_api/v1.0/meeting_attendance_report', 'report201_hed_test_data.json', oea.ADDITIVE_BATCH_DATA, currentDateTime)\r\n",
        "data = requests.get('https://raw.githubusercontent.com/microsoft/OpenEduAnalytics/main/modules/module_catalog/Microsoft_Graph/test_data/hed_test_data/Meeting_Attendance_Report/D496C7CA2D9F48488AC516ADE41E839D_24_12.json').text\r\n",
        "oea.land(data, 'graph_api/v1.0/meeting_attendance_report', 'report202_hed_test_data.json', oea.ADDITIVE_BATCH_DATA, currentDateTime)\r\n",
        "data = requests.get('https://raw.githubusercontent.com/microsoft/OpenEduAnalytics/main/modules/module_catalog/Microsoft_Graph/test_data/hed_test_data/Meeting_Attendance_Report/D496C7CA2D9F48488AC516ADE41E839D_28_7.json').text\r\n",
        "oea.land(data, 'graph_api/v1.0/meeting_attendance_report', 'report203_hed_test_data.json', oea.ADDITIVE_BATCH_DATA, currentDateTime)\r\n",
        "data = requests.get('https://raw.githubusercontent.com/microsoft/OpenEduAnalytics/main/modules/module_catalog/Microsoft_Graph/test_data/hed_test_data/Meeting_Attendance_Report/D496C7CA2D9F48488AC516ADE41E839D_7_7.json').text\r\n",
        "oea.land(data, 'graph_api/v1.0/meeting_attendance_report', 'report204_hed_test_data.json', oea.ADDITIVE_BATCH_DATA, currentDateTime)\r\n",
        "data = requests.get('https://raw.githubusercontent.com/microsoft/OpenEduAnalytics/main/modules/module_catalog/Microsoft_Graph/test_data/hed_test_data/Meeting_Attendance_Report/D4EE7DB0625E4DE6B7AE26B29F297607_24_11.json').text\r\n",
        "oea.land(data, 'graph_api/v1.0/meeting_attendance_report', 'report205_hed_test_data.json', oea.ADDITIVE_BATCH_DATA, currentDateTime)\r\n",
        "data = requests.get('https://raw.githubusercontent.com/microsoft/OpenEduAnalytics/main/modules/module_catalog/Microsoft_Graph/test_data/hed_test_data/Meeting_Attendance_Report/D4EE7DB0625E4DE6B7AE26B29F297607_27_10.json').text\r\n",
        "oea.land(data, 'graph_api/v1.0/meeting_attendance_report', 'report206_hed_test_data.json', oea.ADDITIVE_BATCH_DATA, currentDateTime)\r\n",
        "data = requests.get('https://raw.githubusercontent.com/microsoft/OpenEduAnalytics/main/modules/module_catalog/Microsoft_Graph/test_data/hed_test_data/Meeting_Attendance_Report/D4EE7DB0625E4DE6B7AE26B29F297607_7_10.json').text\r\n",
        "oea.land(data, 'graph_api/v1.0/meeting_attendance_report', 'report207_hed_test_data.json', oea.ADDITIVE_BATCH_DATA, currentDateTime)\r\n",
        "data = requests.get('https://raw.githubusercontent.com/microsoft/OpenEduAnalytics/main/modules/module_catalog/Microsoft_Graph/test_data/hed_test_data/Meeting_Attendance_Report/D527009BB12344CD9DBE54B60AE06D98_11_8.json').text\r\n",
        "oea.land(data, 'graph_api/v1.0/meeting_attendance_report', 'report208_hed_test_data.json', oea.ADDITIVE_BATCH_DATA, currentDateTime)\r\n",
        "data = requests.get('https://raw.githubusercontent.com/microsoft/OpenEduAnalytics/main/modules/module_catalog/Microsoft_Graph/test_data/hed_test_data/Meeting_Attendance_Report/D527009BB12344CD9DBE54B60AE06D98_17_11.json').text\r\n",
        "oea.land(data, 'graph_api/v1.0/meeting_attendance_report', 'report209_hed_test_data.json', oea.ADDITIVE_BATCH_DATA, currentDateTime)\r\n",
        "data = requests.get('https://raw.githubusercontent.com/microsoft/OpenEduAnalytics/main/modules/module_catalog/Microsoft_Graph/test_data/hed_test_data/Meeting_Attendance_Report/D527009BB12344CD9DBE54B60AE06D98_28_8.json').text\r\n",
        "oea.land(data, 'graph_api/v1.0/meeting_attendance_report', 'report210_hed_test_data.json', oea.ADDITIVE_BATCH_DATA, currentDateTime)\r\n",
        "data = requests.get('https://raw.githubusercontent.com/microsoft/OpenEduAnalytics/main/modules/module_catalog/Microsoft_Graph/test_data/hed_test_data/Meeting_Attendance_Report/D75473554303430AADBC77748F20E4E9_13_7.json').text\r\n",
        "oea.land(data, 'graph_api/v1.0/meeting_attendance_report', 'report211_hed_test_data.json', oea.ADDITIVE_BATCH_DATA, currentDateTime)\r\n",
        "data = requests.get('https://raw.githubusercontent.com/microsoft/OpenEduAnalytics/main/modules/module_catalog/Microsoft_Graph/test_data/hed_test_data/Meeting_Attendance_Report/D75473554303430AADBC77748F20E4E9_19_12.json').text\r\n",
        "oea.land(data, 'graph_api/v1.0/meeting_attendance_report', 'report212_hed_test_data.json', oea.ADDITIVE_BATCH_DATA, currentDateTime)\r\n",
        "data = requests.get('https://raw.githubusercontent.com/microsoft/OpenEduAnalytics/main/modules/module_catalog/Microsoft_Graph/test_data/hed_test_data/Meeting_Attendance_Report/D75473554303430AADBC77748F20E4E9_27_10.json').text\r\n",
        "oea.land(data, 'graph_api/v1.0/meeting_attendance_report', 'report213_hed_test_data.json', oea.ADDITIVE_BATCH_DATA, currentDateTime)\r\n",
        "data = requests.get('https://raw.githubusercontent.com/microsoft/OpenEduAnalytics/main/modules/module_catalog/Microsoft_Graph/test_data/hed_test_data/Meeting_Attendance_Report/D8991C4D1D924B97998B81B4804A3A72_18_8.json').text\r\n",
        "oea.land(data, 'graph_api/v1.0/meeting_attendance_report', 'report214_hed_test_data.json', oea.ADDITIVE_BATCH_DATA, currentDateTime)\r\n",
        "data = requests.get('https://raw.githubusercontent.com/microsoft/OpenEduAnalytics/main/modules/module_catalog/Microsoft_Graph/test_data/hed_test_data/Meeting_Attendance_Report/D8991C4D1D924B97998B81B4804A3A72_24_7.json').text\r\n",
        "oea.land(data, 'graph_api/v1.0/meeting_attendance_report', 'report215_hed_test_data.json', oea.ADDITIVE_BATCH_DATA, currentDateTime)\r\n",
        "data = requests.get('https://raw.githubusercontent.com/microsoft/OpenEduAnalytics/main/modules/module_catalog/Microsoft_Graph/test_data/hed_test_data/Meeting_Attendance_Report/D8991C4D1D924B97998B81B4804A3A72_3_11.json').text\r\n",
        "oea.land(data, 'graph_api/v1.0/meeting_attendance_report', 'report216_hed_test_data.json', oea.ADDITIVE_BATCH_DATA, currentDateTime)\r\n",
        "data = requests.get('https://raw.githubusercontent.com/microsoft/OpenEduAnalytics/main/modules/module_catalog/Microsoft_Graph/test_data/hed_test_data/Meeting_Attendance_Report/D8DDAC3FCAF04F2FAB556415E6548815_18_16.json').text\r\n",
        "oea.land(data, 'graph_api/v1.0/meeting_attendance_report', 'report217_hed_test_data.json', oea.ADDITIVE_BATCH_DATA, currentDateTime)\r\n",
        "data = requests.get('https://raw.githubusercontent.com/microsoft/OpenEduAnalytics/main/modules/module_catalog/Microsoft_Graph/test_data/hed_test_data/Meeting_Attendance_Report/D8DDAC3FCAF04F2FAB556415E6548815_6_8.json').text\r\n",
        "oea.land(data, 'graph_api/v1.0/meeting_attendance_report', 'report218_hed_test_data.json', oea.ADDITIVE_BATCH_DATA, currentDateTime)\r\n",
        "data = requests.get('https://raw.githubusercontent.com/microsoft/OpenEduAnalytics/main/modules/module_catalog/Microsoft_Graph/test_data/hed_test_data/Meeting_Attendance_Report/D8DDAC3FCAF04F2FAB556415E6548815_7_13.json').text\r\n",
        "oea.land(data, 'graph_api/v1.0/meeting_attendance_report', 'report219_hed_test_data.json', oea.ADDITIVE_BATCH_DATA, currentDateTime)\r\n",
        "data = requests.get('https://raw.githubusercontent.com/microsoft/OpenEduAnalytics/main/modules/module_catalog/Microsoft_Graph/test_data/hed_test_data/Meeting_Attendance_Report/DBBD9A73B355472188EC58D66BDFF9C0_19_11.json').text\r\n",
        "oea.land(data, 'graph_api/v1.0/meeting_attendance_report', 'report220_hed_test_data.json', oea.ADDITIVE_BATCH_DATA, currentDateTime)\r\n",
        "data = requests.get('https://raw.githubusercontent.com/microsoft/OpenEduAnalytics/main/modules/module_catalog/Microsoft_Graph/test_data/hed_test_data/Meeting_Attendance_Report/DBBD9A73B355472188EC58D66BDFF9C0_27_9.json').text\r\n",
        "oea.land(data, 'graph_api/v1.0/meeting_attendance_report', 'report221_hed_test_data.json', oea.ADDITIVE_BATCH_DATA, currentDateTime)\r\n",
        "data = requests.get('https://raw.githubusercontent.com/microsoft/OpenEduAnalytics/main/modules/module_catalog/Microsoft_Graph/test_data/hed_test_data/Meeting_Attendance_Report/DBBD9A73B355472188EC58D66BDFF9C0_28_13.json').text\r\n",
        "oea.land(data, 'graph_api/v1.0/meeting_attendance_report', 'report222_hed_test_data.json', oea.ADDITIVE_BATCH_DATA, currentDateTime)\r\n",
        "data = requests.get('https://raw.githubusercontent.com/microsoft/OpenEduAnalytics/main/modules/module_catalog/Microsoft_Graph/test_data/hed_test_data/Meeting_Attendance_Report/DE9680C86ACE45F083586D625595D07F_12_9.json').text\r\n",
        "oea.land(data, 'graph_api/v1.0/meeting_attendance_report', 'report223_hed_test_data.json', oea.ADDITIVE_BATCH_DATA, currentDateTime)\r\n",
        "data = requests.get('https://raw.githubusercontent.com/microsoft/OpenEduAnalytics/main/modules/module_catalog/Microsoft_Graph/test_data/hed_test_data/Meeting_Attendance_Report/DE9680C86ACE45F083586D625595D07F_13_10.json').text\r\n",
        "oea.land(data, 'graph_api/v1.0/meeting_attendance_report', 'report224_hed_test_data.json', oea.ADDITIVE_BATCH_DATA, currentDateTime)\r\n",
        "data = requests.get('https://raw.githubusercontent.com/microsoft/OpenEduAnalytics/main/modules/module_catalog/Microsoft_Graph/test_data/hed_test_data/Meeting_Attendance_Report/DE9680C86ACE45F083586D625595D07F_27_9.json').text\r\n",
        "oea.land(data, 'graph_api/v1.0/meeting_attendance_report', 'report225_hed_test_data.json', oea.ADDITIVE_BATCH_DATA, currentDateTime)\r\n",
        "data = requests.get('https://raw.githubusercontent.com/microsoft/OpenEduAnalytics/main/modules/module_catalog/Microsoft_Graph/test_data/hed_test_data/Meeting_Attendance_Report/E5A01DE79553432FA7F86CAF28A8599B_13_11.json').text\r\n",
        "oea.land(data, 'graph_api/v1.0/meeting_attendance_report', 'report226_hed_test_data.json', oea.ADDITIVE_BATCH_DATA, currentDateTime)\r\n",
        "data = requests.get('https://raw.githubusercontent.com/microsoft/OpenEduAnalytics/main/modules/module_catalog/Microsoft_Graph/test_data/hed_test_data/Meeting_Attendance_Report/E5A01DE79553432FA7F86CAF28A8599B_18_8.json').text\r\n",
        "oea.land(data, 'graph_api/v1.0/meeting_attendance_report', 'report227_hed_test_data.json', oea.ADDITIVE_BATCH_DATA, currentDateTime)\r\n",
        "data = requests.get('https://raw.githubusercontent.com/microsoft/OpenEduAnalytics/main/modules/module_catalog/Microsoft_Graph/test_data/hed_test_data/Meeting_Attendance_Report/E5A01DE79553432FA7F86CAF28A8599B_20_7.json').text\r\n",
        "oea.land(data, 'graph_api/v1.0/meeting_attendance_report', 'report228_hed_test_data.json', oea.ADDITIVE_BATCH_DATA, currentDateTime)\r\n",
        "data = requests.get('https://raw.githubusercontent.com/microsoft/OpenEduAnalytics/main/modules/module_catalog/Microsoft_Graph/test_data/hed_test_data/Meeting_Attendance_Report/E6B970EC95E444759FEF0581FC0110B1_17_15.json').text\r\n",
        "oea.land(data, 'graph_api/v1.0/meeting_attendance_report', 'report229_hed_test_data.json', oea.ADDITIVE_BATCH_DATA, currentDateTime)\r\n",
        "data = requests.get('https://raw.githubusercontent.com/microsoft/OpenEduAnalytics/main/modules/module_catalog/Microsoft_Graph/test_data/hed_test_data/Meeting_Attendance_Report/E6B970EC95E444759FEF0581FC0110B1_25_16.json').text\r\n",
        "oea.land(data, 'graph_api/v1.0/meeting_attendance_report', 'report230_hed_test_data.json', oea.ADDITIVE_BATCH_DATA, currentDateTime)\r\n",
        "data = requests.get('https://raw.githubusercontent.com/microsoft/OpenEduAnalytics/main/modules/module_catalog/Microsoft_Graph/test_data/hed_test_data/Meeting_Attendance_Report/E6B970EC95E444759FEF0581FC0110B1_4_8.json').text\r\n",
        "oea.land(data, 'graph_api/v1.0/meeting_attendance_report', 'report231_hed_test_data.json', oea.ADDITIVE_BATCH_DATA, currentDateTime)\r\n",
        "data = requests.get('https://raw.githubusercontent.com/microsoft/OpenEduAnalytics/main/modules/module_catalog/Microsoft_Graph/test_data/hed_test_data/Meeting_Attendance_Report/E7FD916EDB4E4533B3A57E8A5053DAA8_18_10.json').text\r\n",
        "oea.land(data, 'graph_api/v1.0/meeting_attendance_report', 'report232_hed_test_data.json', oea.ADDITIVE_BATCH_DATA, currentDateTime)\r\n",
        "data = requests.get('https://raw.githubusercontent.com/microsoft/OpenEduAnalytics/main/modules/module_catalog/Microsoft_Graph/test_data/hed_test_data/Meeting_Attendance_Report/E7FD916EDB4E4533B3A57E8A5053DAA8_20_9.json').text\r\n",
        "oea.land(data, 'graph_api/v1.0/meeting_attendance_report', 'report233_hed_test_data.json', oea.ADDITIVE_BATCH_DATA, currentDateTime)\r\n",
        "data = requests.get('https://raw.githubusercontent.com/microsoft/OpenEduAnalytics/main/modules/module_catalog/Microsoft_Graph/test_data/hed_test_data/Meeting_Attendance_Report/E7FD916EDB4E4533B3A57E8A5053DAA8_24_16.json').text\r\n",
        "oea.land(data, 'graph_api/v1.0/meeting_attendance_report', 'report234_hed_test_data.json', oea.ADDITIVE_BATCH_DATA, currentDateTime)\r\n",
        "data = requests.get('https://raw.githubusercontent.com/microsoft/OpenEduAnalytics/main/modules/module_catalog/Microsoft_Graph/test_data/hed_test_data/Meeting_Attendance_Report/ED5760AB46DC44BBAB0CF9E8F59658D5_11_16.json').text\r\n",
        "oea.land(data, 'graph_api/v1.0/meeting_attendance_report', 'report235_hed_test_data.json', oea.ADDITIVE_BATCH_DATA, currentDateTime)\r\n",
        "data = requests.get('https://raw.githubusercontent.com/microsoft/OpenEduAnalytics/main/modules/module_catalog/Microsoft_Graph/test_data/hed_test_data/Meeting_Attendance_Report/ED5760AB46DC44BBAB0CF9E8F59658D5_4_12.json').text\r\n",
        "oea.land(data, 'graph_api/v1.0/meeting_attendance_report', 'report236_hed_test_data.json', oea.ADDITIVE_BATCH_DATA, currentDateTime)\r\n",
        "data = requests.get('https://raw.githubusercontent.com/microsoft/OpenEduAnalytics/main/modules/module_catalog/Microsoft_Graph/test_data/hed_test_data/Meeting_Attendance_Report/ED5760AB46DC44BBAB0CF9E8F59658D5_5_7.json').text\r\n",
        "oea.land(data, 'graph_api/v1.0/meeting_attendance_report', 'report237_hed_test_data.json', oea.ADDITIVE_BATCH_DATA, currentDateTime)\r\n",
        "data = requests.get('https://raw.githubusercontent.com/microsoft/OpenEduAnalytics/main/modules/module_catalog/Microsoft_Graph/test_data/hed_test_data/Meeting_Attendance_Report/EEFC922BA6B543A28FECDEC638E07EE0_20_10.json').text\r\n",
        "oea.land(data, 'graph_api/v1.0/meeting_attendance_report', 'report238_hed_test_data.json', oea.ADDITIVE_BATCH_DATA, currentDateTime)\r\n",
        "data = requests.get('https://raw.githubusercontent.com/microsoft/OpenEduAnalytics/main/modules/module_catalog/Microsoft_Graph/test_data/hed_test_data/Meeting_Attendance_Report/EEFC922BA6B543A28FECDEC638E07EE0_20_13.json').text\r\n",
        "oea.land(data, 'graph_api/v1.0/meeting_attendance_report', 'report239_hed_test_data.json', oea.ADDITIVE_BATCH_DATA, currentDateTime)\r\n",
        "data = requests.get('https://raw.githubusercontent.com/microsoft/OpenEduAnalytics/main/modules/module_catalog/Microsoft_Graph/test_data/hed_test_data/Meeting_Attendance_Report/EEFC922BA6B543A28FECDEC638E07EE0_26_8.json').text\r\n",
        "oea.land(data, 'graph_api/v1.0/meeting_attendance_report', 'report240_hed_test_data.json', oea.ADDITIVE_BATCH_DATA, currentDateTime)\r\n",
        "data = requests.get('https://raw.githubusercontent.com/microsoft/OpenEduAnalytics/main/modules/module_catalog/Microsoft_Graph/test_data/hed_test_data/Meeting_Attendance_Report/F1EE0B9AD5F7421EB3B49578A2E3B09B_17_7.json').text\r\n",
        "oea.land(data, 'graph_api/v1.0/meeting_attendance_report', 'report241_hed_test_data.json', oea.ADDITIVE_BATCH_DATA, currentDateTime)\r\n",
        "data = requests.get('https://raw.githubusercontent.com/microsoft/OpenEduAnalytics/main/modules/module_catalog/Microsoft_Graph/test_data/hed_test_data/Meeting_Attendance_Report/F1EE0B9AD5F7421EB3B49578A2E3B09B_28_9.json').text\r\n",
        "oea.land(data, 'graph_api/v1.0/meeting_attendance_report', 'report242_hed_test_data.json', oea.ADDITIVE_BATCH_DATA, currentDateTime)\r\n",
        "data = requests.get('https://raw.githubusercontent.com/microsoft/OpenEduAnalytics/main/modules/module_catalog/Microsoft_Graph/test_data/hed_test_data/Meeting_Attendance_Report/F1EE0B9AD5F7421EB3B49578A2E3B09B_7_13.json').text\r\n",
        "oea.land(data, 'graph_api/v1.0/meeting_attendance_report', 'report243_hed_test_data.json', oea.ADDITIVE_BATCH_DATA, currentDateTime)\r\n",
        "data = requests.get('https://raw.githubusercontent.com/microsoft/OpenEduAnalytics/main/modules/module_catalog/Microsoft_Graph/test_data/hed_test_data/Meeting_Attendance_Report/F1F03A18392E40818B01E55D19C26700_20_13.json').text\r\n",
        "oea.land(data, 'graph_api/v1.0/meeting_attendance_report', 'report244_hed_test_data.json', oea.ADDITIVE_BATCH_DATA, currentDateTime)\r\n",
        "data = requests.get('https://raw.githubusercontent.com/microsoft/OpenEduAnalytics/main/modules/module_catalog/Microsoft_Graph/test_data/hed_test_data/Meeting_Attendance_Report/F1F03A18392E40818B01E55D19C26700_24_7.json').text\r\n",
        "oea.land(data, 'graph_api/v1.0/meeting_attendance_report', 'report245_hed_test_data.json', oea.ADDITIVE_BATCH_DATA, currentDateTime)\r\n",
        "data = requests.get('https://raw.githubusercontent.com/microsoft/OpenEduAnalytics/main/modules/module_catalog/Microsoft_Graph/test_data/hed_test_data/Meeting_Attendance_Report/F1F03A18392E40818B01E55D19C26700_6_16.json').text\r\n",
        "oea.land(data, 'graph_api/v1.0/meeting_attendance_report', 'report246_hed_test_data.json', oea.ADDITIVE_BATCH_DATA, currentDateTime)\r\n",
        "data = requests.get('https://raw.githubusercontent.com/microsoft/OpenEduAnalytics/main/modules/module_catalog/Microsoft_Graph/test_data/hed_test_data/Meeting_Attendance_Report/F7163B9D8FB64D1F828028906A69CD98_13_15.json').text\r\n",
        "oea.land(data, 'graph_api/v1.0/meeting_attendance_report', 'report247_hed_test_data.json', oea.ADDITIVE_BATCH_DATA, currentDateTime)\r\n",
        "data = requests.get('https://raw.githubusercontent.com/microsoft/OpenEduAnalytics/main/modules/module_catalog/Microsoft_Graph/test_data/hed_test_data/Meeting_Attendance_Report/F7163B9D8FB64D1F828028906A69CD98_14_13.json').text\r\n",
        "oea.land(data, 'graph_api/v1.0/meeting_attendance_report', 'report248_hed_test_data.json', oea.ADDITIVE_BATCH_DATA, currentDateTime)\r\n",
        "data = requests.get('https://raw.githubusercontent.com/microsoft/OpenEduAnalytics/main/modules/module_catalog/Microsoft_Graph/test_data/hed_test_data/Meeting_Attendance_Report/F7163B9D8FB64D1F828028906A69CD98_20_16.json').text\r\n",
        "oea.land(data, 'graph_api/v1.0/meeting_attendance_report', 'report249_hed_test_data.json', oea.ADDITIVE_BATCH_DATA, currentDateTime)\r\n",
        "data = requests.get('https://raw.githubusercontent.com/microsoft/OpenEduAnalytics/main/modules/module_catalog/Microsoft_Graph/test_data/hed_test_data/Meeting_Attendance_Report/F94C741BE5064831A356F30C6863C6E2_13_16.json').text\r\n",
        "oea.land(data, 'graph_api/v1.0/meeting_attendance_report', 'report250_hed_test_data.json', oea.ADDITIVE_BATCH_DATA, currentDateTime)\r\n",
        "data = requests.get('https://raw.githubusercontent.com/microsoft/OpenEduAnalytics/main/modules/module_catalog/Microsoft_Graph/test_data/hed_test_data/Meeting_Attendance_Report/F94C741BE5064831A356F30C6863C6E2_6_12.json').text\r\n",
        "oea.land(data, 'graph_api/v1.0/meeting_attendance_report', 'report251_hed_test_data.json', oea.ADDITIVE_BATCH_DATA, currentDateTime)\r\n",
        "data = requests.get('https://raw.githubusercontent.com/microsoft/OpenEduAnalytics/main/modules/module_catalog/Microsoft_Graph/test_data/hed_test_data/Meeting_Attendance_Report/F94C741BE5064831A356F30C6863C6E2_7_12.json').text\r\n",
        "oea.land(data, 'graph_api/v1.0/meeting_attendance_report', 'report252_hed_test_data.json', oea.ADDITIVE_BATCH_DATA, currentDateTime)\r\n",
        "data = requests.get('https://raw.githubusercontent.com/microsoft/OpenEduAnalytics/main/modules/module_catalog/Microsoft_Graph/test_data/hed_test_data/Meeting_Attendance_Report/F9A6820A57E542CBA302680BB6BD2B22_24_10.json').text\r\n",
        "oea.land(data, 'graph_api/v1.0/meeting_attendance_report', 'report253_hed_test_data.json', oea.ADDITIVE_BATCH_DATA, currentDateTime)\r\n",
        "data = requests.get('https://raw.githubusercontent.com/microsoft/OpenEduAnalytics/main/modules/module_catalog/Microsoft_Graph/test_data/hed_test_data/Meeting_Attendance_Report/F9A6820A57E542CBA302680BB6BD2B22_6_13.json').text\r\n",
        "oea.land(data, 'graph_api/v1.0/meeting_attendance_report', 'report254_hed_test_data.json', oea.ADDITIVE_BATCH_DATA, currentDateTime)\r\n",
        "data = requests.get('https://raw.githubusercontent.com/microsoft/OpenEduAnalytics/main/modules/module_catalog/Microsoft_Graph/test_data/hed_test_data/Meeting_Attendance_Report/F9A6820A57E542CBA302680BB6BD2B22_7_14.json').text\r\n",
        "oea.land(data, 'graph_api/v1.0/meeting_attendance_report', 'report255_hed_test_data.json', oea.ADDITIVE_BATCH_DATA, currentDateTime)\r\n",
        "data = requests.get('https://raw.githubusercontent.com/microsoft/OpenEduAnalytics/main/modules/module_catalog/Microsoft_Graph/test_data/hed_test_data/Meeting_Attendance_Report/FAF3539D627A4E6280B60BC3C73E95E2_11_13.json').text\r\n",
        "oea.land(data, 'graph_api/v1.0/meeting_attendance_report', 'report256_hed_test_data.json', oea.ADDITIVE_BATCH_DATA, currentDateTime)\r\n",
        "data = requests.get('https://raw.githubusercontent.com/microsoft/OpenEduAnalytics/main/modules/module_catalog/Microsoft_Graph/test_data/hed_test_data/Meeting_Attendance_Report/FAF3539D627A4E6280B60BC3C73E95E2_13_9.json').text\r\n",
        "oea.land(data, 'graph_api/v1.0/meeting_attendance_report', 'report257_hed_test_data.json', oea.ADDITIVE_BATCH_DATA, currentDateTime)\r\n",
        "data = requests.get('https://raw.githubusercontent.com/microsoft/OpenEduAnalytics/main/modules/module_catalog/Microsoft_Graph/test_data/hed_test_data/Meeting_Attendance_Report/FAF3539D627A4E6280B60BC3C73E95E2_6_7.json').text\r\n",
        "oea.land(data, 'graph_api/v1.0/meeting_attendance_report', 'report258_hed_test_data.json', oea.ADDITIVE_BATCH_DATA, currentDateTime)\r\n",
        "data = requests.get('https://raw.githubusercontent.com/microsoft/OpenEduAnalytics/main/modules/module_catalog/Microsoft_Graph/test_data/hed_test_data/Meeting_Attendance_Report/FCAE13D8ADD94DB8B1BD65E4607B7DE0_13_9.json').text\r\n",
        "oea.land(data, 'graph_api/v1.0/meeting_attendance_report', 'report259_hed_test_data.json', oea.ADDITIVE_BATCH_DATA, currentDateTime)\r\n",
        "data = requests.get('https://raw.githubusercontent.com/microsoft/OpenEduAnalytics/main/modules/module_catalog/Microsoft_Graph/test_data/hed_test_data/Meeting_Attendance_Report/FCAE13D8ADD94DB8B1BD65E4607B7DE0_18_10.json').text\r\n",
        "oea.land(data, 'graph_api/v1.0/meeting_attendance_report', 'report260_hed_test_data.json', oea.ADDITIVE_BATCH_DATA, currentDateTime)\r\n",
        "data = requests.get('https://raw.githubusercontent.com/microsoft/OpenEduAnalytics/main/modules/module_catalog/Microsoft_Graph/test_data/hed_test_data/Meeting_Attendance_Report/FCAE13D8ADD94DB8B1BD65E4607B7DE0_4_14.json').text\r\n",
        "oea.land(data, 'graph_api/v1.0/meeting_attendance_report', 'report261_hed_test_data.json', oea.ADDITIVE_BATCH_DATA, currentDateTime)"
      ],
      "outputs": [],
      "execution_count": 49,
      "metadata": {
        "jupyter": {
          "source_hidden": false,
          "outputs_hidden": false
        },
        "nteract": {
          "transient": {
            "deleting": false
          }
        }
      }
    },
    {
      "cell_type": "markdown",
      "source": [
        "## 3.) Ingest the Graph Module Test Data\r\n",
        "\r\n",
        "This step ingests the Graph module test data from stage1 to stage2/Ingested (ingests either the K-12 or Higher Ed. test data - whichever dataset is in your lake, chosen from the last step).\r\n",
        "\r\n",
        "Both test datasets are formatted exactly as the Graph data - thus, the schema will be un-flattened, initially. Ingest the data using the ```oea.ingest()``` function as normal, and next step will correct each table's schema. \r\n",
        "\r\n",
        "*NOTE:* There is a pre-processing step where the \"@odata.context\" field in the meeting_attendance_report table is dropped in order to ingest properly.\r\n",
        "\r\n",
        "**To-Do's:**\r\n",
        " - *Will need to be updated per production data purposes* - the pre-processing method replaces all the data in the lake, under graph_api/v1.0/meeting__attendance_report, with the updated schema. This may cause issues with processing batch data over more periods of time."
      ],
      "metadata": {
        "nteract": {
          "transient": {
            "deleting": false
          }
        }
      }
    },
    {
      "cell_type": "code",
      "source": [
        "# 3) The next step is to ingest the batch data into stage2\r\n",
        "# Note that when you run this the first time, you'll see an info message like \"Number of new inbound rows processed: 2\".\r\n",
        "# If you run this a second time, the number of inbound rows processed will be 0 because the ingestion uses spark structured streaming to keep track of what data has already been processed.\r\n",
        "oea.ingest(f'graph_api/beta/users', 'value')\r\n",
        "oea.ingest(f'graph_api/beta/m365_app_user_detail', 'value')\r\n",
        "oea.ingest(f'graph_api/beta/teams_activity_user_detail', 'value')"
      ],
      "outputs": [],
      "execution_count": 50,
      "metadata": {
        "jupyter": {
          "source_hidden": false,
          "outputs_hidden": false
        },
        "nteract": {
          "transient": {
            "deleting": false
          }
        },
        "collapsed": false
      }
    },
    {
      "cell_type": "code",
      "source": [
        "# read in the original meeting_attendance_report table, if you chose to land the HEd test dataset, remove the '@odata.context' column and confirm it has been removed.\r\n",
        "df = spark.read.format('json').load(oea.to_url('stage1/Transactional/graph_api/v1.0/meeting_attendance_report'), multiline='true')\r\n",
        "df_corrected = df.select('id', 'totalParticipantCount', 'meetingStartDateTime', 'meetingEndDateTime', 'attendanceRecords')\r\n",
        "display(df_corrected.limit(10))"
      ],
      "outputs": [],
      "execution_count": 51,
      "metadata": {
        "jupyter": {
          "source_hidden": false,
          "outputs_hidden": false
        },
        "nteract": {
          "transient": {
            "deleting": false
          }
        },
        "collapsed": false
      }
    },
    {
      "cell_type": "code",
      "source": [
        "df_corrected.printSchema()"
      ],
      "outputs": [],
      "execution_count": 52,
      "metadata": {
        "jupyter": {
          "source_hidden": false,
          "outputs_hidden": false
        },
        "nteract": {
          "transient": {
            "deleting": false
          }
        }
      }
    },
    {
      "cell_type": "code",
      "source": [
        "# set the current date and time (using the correct format), and write out to the same relative same location, with a new rundate partition-folder.\r\n",
        "import datetime\r\n",
        "currentDate = datetime.datetime.now()\r\n",
        "currentDateTime = currentDate.strftime(\"%Y-%m-%d %H-%M-%S\")\r\n",
        "table_path = 'stage1/Transactional/graph_api/v1.0/meeting_attendance_report/additive_batch_data/rundate=' + currentDateTime\r\n",
        "df_corrected.write.save(oea.to_url(table_path), format='json', mode='overwrite', overwriteSchema='true')"
      ],
      "outputs": [],
      "execution_count": 53,
      "metadata": {
        "jupyter": {
          "source_hidden": false,
          "outputs_hidden": false
        },
        "nteract": {
          "transient": {
            "deleting": false
          }
        }
      }
    },
    {
      "cell_type": "code",
      "source": [
        "# only house the latest rundate folder compared to the old data (which had the '@odata.context' column).\r\n",
        "def clean_data_lake_latest(source_path):\r\n",
        "    latest_folder = oea.get_latest_folder(source_path)\r\n",
        "    items = mssparkutils.fs.ls(oea.to_url(source_path))\r\n",
        "    for item in items:\r\n",
        "        if item.name != latest_folder:\r\n",
        "            logger.info('file removal path: ' + item.path + ' with item: ' + item.name)\r\n",
        "            oea.rm_if_exists(source_path + '/' + item.name)\r\n",
        "            logger.info('Successfully removed folder: ' + item.name + ' from path: ' + item.path)\r\n",
        "        else:\r\n",
        "            logger.info('Kept folder: ' + item.name + ' from path: ' + item.path)\r\n",
        "    logger.info('Finished cleaning data lake to house only the latest folder')"
      ],
      "outputs": [],
      "execution_count": 54,
      "metadata": {
        "jupyter": {
          "source_hidden": false,
          "outputs_hidden": false
        },
        "nteract": {
          "transient": {
            "deleting": false
          }
        }
      }
    },
    {
      "cell_type": "code",
      "source": [
        "clean_data_lake_latest('stage1/Transactional/graph_api/v1.0/meeting_attendance_report/additive_batch_data')"
      ],
      "outputs": [],
      "execution_count": 55,
      "metadata": {
        "jupyter": {
          "source_hidden": false,
          "outputs_hidden": false
        },
        "nteract": {
          "transient": {
            "deleting": false
          }
        }
      }
    },
    {
      "cell_type": "code",
      "source": [
        "# ad hoc work - remove the _SUCCESS file, otherwise this will throw an error when ingesting the table.\r\n",
        "table_path = 'stage1/Transactional/graph_api/v1.0/meeting_attendance_report/additive_batch_data/rundate=' + currentDateTime\r\n",
        "oea.rm_if_exists(table_path + '/_SUCCESS', False)"
      ],
      "outputs": [],
      "execution_count": 56,
      "metadata": {
        "jupyter": {
          "source_hidden": false,
          "outputs_hidden": false
        },
        "nteract": {
          "transient": {
            "deleting": false
          }
        }
      }
    },
    {
      "cell_type": "code",
      "source": [
        "oea.ingest(f'graph_api/v1.0/meeting_attendance_report', 'id')"
      ],
      "outputs": [],
      "execution_count": 57,
      "metadata": {
        "jupyter": {
          "source_hidden": false,
          "outputs_hidden": false
        },
        "nteract": {
          "transient": {
            "deleting": false
          }
        }
      }
    },
    {
      "cell_type": "code",
      "source": [
        "# 3.5) Now you can run queries against the auto-generated \"lake database\" with the ingested Graph data.\r\n",
        "df = spark.sql(\"select * from ldb_sam_s2i_graph_api_v1p0.meeting_attendance_report\")\r\n",
        "display(df.limit(10))"
      ],
      "outputs": [],
      "execution_count": 58,
      "metadata": {
        "jupyter": {
          "source_hidden": false,
          "outputs_hidden": false
        },
        "nteract": {
          "transient": {
            "deleting": false
          }
        },
        "collapsed": false
      }
    },
    {
      "cell_type": "markdown",
      "source": [
        "## 4.) Graph Schema Corrections\r\n",
        "\r\n",
        "This step uses the same four functions from the \"Graph_schema_correction\" notebook, where the metadata.csv is used to correct each table's schema. Each table's schema is updated with the column dtypes and flattened/exploded fields, as well as unique primary keys being created for the m365_app_user_detail, teams_activity_user_table, and meeting_attendance_report.\r\n",
        "\r\n",
        "Each table is read from ```stage2/Ingested```, and after the schema is corrected, written out to ```stage2/Ingested_Corrected```.\r\n",
        "\r\n",
        "**To-Do's:**\r\n",
        " - Confirm this is the way to update tables (m365, teams, and meeting) to have unique primary keys.\r\n",
        "    * Currently, **m365 and teams tables** use userPrincipalName + reportRefreshDate columns to create a new primary key column - assumption is every person has a single row per reportRefreshDate.\r\n",
        "    * The **meeting table** uses meetingId + userId columns to create a new primary key column - assumption is that every person has a single row per meeting [should be updated for production data]."
      ],
      "metadata": {
        "nteract": {
          "transient": {
            "deleting": false
          }
        }
      }
    },
    {
      "cell_type": "code",
      "source": [
        "# 4) schema correction, since Graph data initially landed is unstructured with nested arrays, incorrect column dtypes, and without primary keys for 3 of the 4 tables.\r\n",
        "def _correct_users_table(df):\r\n",
        "    df_flat = df.select(F.explode('value').alias('exploded_values')).select(\"exploded_values.*\")\r\n",
        "    return df_flat\r\n",
        "\r\n",
        "def _correct_m365_table(df):\r\n",
        "    df_flat = df.select(F.explode('value').alias('exploded_values'), 'rundate').select(\"exploded_values.*\", 'rundate')\r\n",
        "    df_flat = df_flat.withColumn('reportPeriod', F.explode(F.col('details').reportPeriod)) \\\r\n",
        "                    .withColumn('mobile', F.explode(F.col('details').mobile)) \\\r\n",
        "                    .withColumn('web', F.explode(F.col('details').web)) \\\r\n",
        "                    .withColumn('mac', F.explode(F.col('details').mac)) \\\r\n",
        "                    .withColumn('windows', F.explode(F.col('details').windows)) \\\r\n",
        "                    .withColumn('excel', F.explode(F.col('details').excel)) \\\r\n",
        "                    .withColumn('excelMobile', F.explode(F.col('details').excelMobile)) \\\r\n",
        "                    .withColumn('excelWeb', F.explode(F.col('details').excelWeb)) \\\r\n",
        "                    .withColumn('excelMac', F.explode(F.col('details').excelMac)) \\\r\n",
        "                    .withColumn('excelWindows', F.explode(F.col('details').excelWindows)) \\\r\n",
        "                    .withColumn('oneNote', F.explode(F.col('details').oneNote)) \\\r\n",
        "                    .withColumn('oneNoteMobile', F.explode(F.col('details').oneNoteMobile)) \\\r\n",
        "                    .withColumn('oneNoteWeb', F.explode(F.col('details').oneNoteWeb)) \\\r\n",
        "                    .withColumn('oneNoteMac', F.explode(F.col('details').oneNoteMac)) \\\r\n",
        "                    .withColumn('oneNoteWindows', F.explode(F.col('details').oneNoteWindows)) \\\r\n",
        "                    .withColumn('outlook', F.explode(F.col('details').outlook)) \\\r\n",
        "                    .withColumn('outlookMobile', F.explode(F.col('details').outlookMobile)) \\\r\n",
        "                    .withColumn('outlookWeb', F.explode(F.col('details').outlookWeb)) \\\r\n",
        "                    .withColumn('outlookMac', F.explode(F.col('details').outlookMac)) \\\r\n",
        "                    .withColumn('outlookWindows', F.explode(F.col('details').outlookWindows)) \\\r\n",
        "                    .withColumn('powerPoint', F.explode(F.col('details').powerPoint)) \\\r\n",
        "                    .withColumn('powerPointMobile', F.explode(F.col('details').powerPointMobile)) \\\r\n",
        "                    .withColumn('powerPointWeb', F.explode(F.col('details').powerPointWeb)) \\\r\n",
        "                    .withColumn('powerPointMac', F.explode(F.col('details').powerPointMac)) \\\r\n",
        "                    .withColumn('powerPointWindows', F.explode(F.col('details').powerPointWindows)) \\\r\n",
        "                    .withColumn('teams', F.explode(F.col('details').teams)) \\\r\n",
        "                    .withColumn('teamsMobile', F.explode(F.col('details').teamsMobile)) \\\r\n",
        "                    .withColumn('teamsWeb', F.explode(F.col('details').teamsWeb)) \\\r\n",
        "                    .withColumn('teamsMac', F.explode(F.col('details').teamsMac)) \\\r\n",
        "                    .withColumn('teamsWindows', F.explode(F.col('details').teamsWindows)) \\\r\n",
        "                    .withColumn('word', F.explode(F.col('details').word)) \\\r\n",
        "                    .withColumn('wordMobile', F.explode(F.col('details').wordMobile)) \\\r\n",
        "                    .withColumn('wordWeb', F.explode(F.col('details').wordWeb)) \\\r\n",
        "                    .withColumn('wordMac', F.explode(F.col('details').wordMac)) \\\r\n",
        "                    .withColumn('wordWindows', F.explode(F.col('details').wordWindows)) \\\r\n",
        "                    .drop('details')\r\n",
        "    # temp: add unique primary key per row, by combining UPNs with the date the report was generated\r\n",
        "    # this assumes every person has only one row per reportRefreshDate\r\n",
        "    df_flat = df_flat.withColumn('m365Activity_pk', F.concat(F.col('userPrincipalName'),F.lit('_'),F.col('reportRefreshDate')))\r\n",
        "\r\n",
        "    df_flat.select(F.col('reportRefreshDate'), F.to_date(F.col('reportRefreshDate'), 'yyyy-MM-dd'))\r\n",
        "    df_flat.select(F.col('lastActivityDate'), F.to_date(F.col('lastActivityDate'), 'yyyy-MM-dd'))\r\n",
        "    df_flat.select(F.col('lastActivationDate'), F.to_date(F.col('lastActivationDate'), 'yyyy-MM-dd'))\r\n",
        "    return df_flat\r\n",
        "\r\n",
        "def _correct_teams_table(df):\r\n",
        "    df_flat = df.select(F.explode('value').alias('exploded_values'), 'rundate').select(\"exploded_values.*\", 'rundate')\r\n",
        "    df_flat = df_flat.withColumn('assignedProducts', F.explode(F.col('assignedProducts')))\r\n",
        "    # convert duration to seconds only \r\n",
        "    # NOTE: The duration expression may have changed and this will need to be modified to accommodate any new duration formatting\r\n",
        "    df_flat = df_flat.withColumn(\r\n",
        "        'screenShareDuration', \r\n",
        "        F.coalesce(F.regexp_extract('screenShareDuration', r'(\\d+)H', 1).cast('int'), F.lit(0)) * 3600 + \r\n",
        "        F.coalesce(F.regexp_extract('screenShareDuration', r'(\\d+)M', 1).cast('int'), F.lit(0)) * 60 + \r\n",
        "        F.coalesce(F.regexp_extract('screenShareDuration', r'(\\d+)S', 1).cast('int'), F.lit(0))\r\n",
        "        ).withColumn(\r\n",
        "        'videoDuration', \r\n",
        "        F.coalesce(F.regexp_extract('videoDuration', r'(\\d+)H', 1).cast('int'), F.lit(0)) * 3600 + \r\n",
        "        F.coalesce(F.regexp_extract('videoDuration', r'(\\d+)M', 1).cast('int'), F.lit(0)) * 60 + \r\n",
        "        F.coalesce(F.regexp_extract('videoDuration', r'(\\d+)S', 1).cast('int'), F.lit(0))\r\n",
        "        ).withColumn(\r\n",
        "        'audioDuration', \r\n",
        "        F.coalesce(F.regexp_extract('audioDuration', r'(\\d+)H', 1).cast('int'), F.lit(0)) * 3600 + \r\n",
        "        F.coalesce(F.regexp_extract('audioDuration', r'(\\d+)M', 1).cast('int'), F.lit(0)) * 60 + \r\n",
        "        F.coalesce(F.regexp_extract('audioDuration', r'(\\d+)S', 1).cast('int'), F.lit(0))\r\n",
        "        )\r\n",
        "    # temp: add unique primary key per row, by combining UPNs with the date the report was generated\r\n",
        "    # this assumes every person has only one row per reportRefreshDate\r\n",
        "    df_flat = df_flat.withColumn('teamsActivity_pk', F.concat(F.col('userPrincipalName'),F.lit('_'),F.col('reportRefreshDate')))\r\n",
        "\r\n",
        "    df_flat.select(F.col('reportRefreshDate'), F.to_date(F.col('reportRefreshDate'), 'yyyy-MM-dd'))\r\n",
        "    df_flat.select(F.col('lastActivityDate'), F.to_date(F.col('lastActivityDate'), 'yyyy-MM-dd'))\r\n",
        "    return df_flat\r\n",
        "\r\n",
        "def _correct_meetings_table(df):\r\n",
        "    df_flat = df.select(\r\n",
        "        \"id\", \"meetingEndDateTime\", \"meetingStartDateTime\", \"totalParticipantCount\",\r\n",
        "        F.explode(\"attendanceRecords\").alias(\"attendanceRecordsExplode\"), 'rundate'\r\n",
        "        ).select(\"id\", \"meetingEndDateTime\", \"meetingStartDateTime\", \"totalParticipantCount\", \r\n",
        "                \"attendanceRecordsExplode.*\", 'rundate')\r\n",
        "    df_flat = df_flat.withColumnRenamed(\"id\",\"meetingId\")\r\n",
        "    df_flat = df_flat.select(\r\n",
        "        \"meetingId\", \"meetingEndDateTime\", \"meetingStartDateTime\", \"totalParticipantCount\", \r\n",
        "        \"totalAttendanceInSeconds\", \"role\", \"emailAddress\", \"attendanceIntervals\",\r\n",
        "        F.explode(F.array(\"identity\")).alias(\"identityExplode\"), 'rundate'\r\n",
        "        ).select(\"meetingId\", \"meetingEndDateTime\", \"meetingStartDateTime\", \"totalParticipantCount\", \r\n",
        "            \"totalAttendanceInSeconds\", \"role\", \"emailAddress\",\"attendanceIntervals\",\r\n",
        "            \"identityExplode.*\", 'rundate')\r\n",
        "\r\n",
        "    df_flat = df_flat.select(\r\n",
        "        \"meetingId\", \"meetingEndDateTime\", \"meetingStartDateTime\", \"totalParticipantCount\", \r\n",
        "        \"totalAttendanceInSeconds\", \"role\", \"emailAddress\",\r\n",
        "        \"displayName\", \"id\", \"tenantId\",\r\n",
        "        F.explode(\"attendanceIntervals\").alias(\"attendanceIntervalsExplode\"), 'rundate'\r\n",
        "        ).select(\"meetingId\", \"meetingEndDateTime\", \"meetingStartDateTime\", \"totalParticipantCount\", \r\n",
        "            \"totalAttendanceInSeconds\", \"role\", \"emailAddress\",\r\n",
        "            \"attendanceIntervalsExplode.*\",\r\n",
        "            \"displayName\", \"id\", \"tenantId\", 'rundate')\r\n",
        "    # clean up column names and timestamp types\r\n",
        "    df_flat = df_flat.withColumnRenamed(\"id\", \"userId\").withColumnRenamed(\"displayName\", \"userDisplayName\").withColumnRenamed(\"emailAddress\", \"userEmailAddress\") \\\r\n",
        "        .withColumnRenamed(\"totalAttendanceInSeconds\", \"totalAttendanceInSec\").withColumnRenamed(\"tenantId\", \"userTenantId\") \\\r\n",
        "        .withColumnRenamed(\"joinDateTime\", \"attendanceInterval_joinDateTime\").withColumnRenamed(\"leaveDateTime\", \"attendanceInterval_leaveDateTime\").withColumnRenamed(\"durationInSeconds\", \"attendanceInterval_durationInSec\")\r\n",
        "    df_flat = df_flat.withColumn('meetingStartDateTime', F.to_timestamp(F.col('meetingStartDateTime'))) \\\r\n",
        "                .withColumn('meetingEndDateTime', F.to_timestamp(F.col('meetingEndDateTime'))) \\\r\n",
        "                .withColumn('attendanceInterval_joinDateTime', F.to_timestamp(F.col('attendanceInterval_joinDateTime'))) \\\r\n",
        "                .withColumn('attendanceInterval_leaveDateTime', F.to_timestamp(F.col('attendanceInterval_leaveDateTime')))\r\n",
        "    # temp: add unique primary key per row, by combining meeting IDs with user IDs\r\n",
        "    # this assumes every person attending a meeting has only one attendance interval\r\n",
        "    df_flat = df_flat.withColumn('meetingUserId_pk', F.concat(F.col('meetingId'),F.col('userId')))\r\n",
        "    df_flat = df_flat.select(\r\n",
        "        'meetingUserId_pk','meetingId','meetingStartDateTime','meetingEndDateTime','totalParticipantCount','userId','userDisplayName','userEmailAddress',\r\n",
        "        'userTenantId','role','totalAttendanceInSec','attendanceInterval_joinDateTime','attendanceInterval_leaveDateTime','attendanceInterval_durationInSec','rundate'\r\n",
        "        )\r\n",
        "    return df_flat\r\n",
        "\r\n",
        "def correct_graph_dataset(tables_source, write_destination):\r\n",
        "    items = oea.get_folders(tables_source)\r\n",
        "    for item in items: \r\n",
        "        table_path = tables_source +'/'+ item\r\n",
        "        if item == 'metadata.csv':\r\n",
        "            logger.info('ignore metadata processing, since this is not a table to be ingested')\r\n",
        "        elif item == 'users':\r\n",
        "            spark.sql(\"set spark.sql.streaming.schemaInference=true\")\r\n",
        "            streaming_df_users = spark.readStream.format('delta').load(oea.to_url(table_path))\r\n",
        "            df_corrected = _correct_users_table(streaming_df_users)\r\n",
        "            query = df_corrected.writeStream.format('delta').outputMode('append').trigger(once=True).option('checkpointLocation', oea.to_url(table_path) + '/_checkpoints')\r\n",
        "            query = query.start(oea.to_url(write_destination + '/' +item))\r\n",
        "            query.awaitTermination() \r\n",
        "            logger.info('Successfully corrected the users table from: ' + table_path)\r\n",
        "        elif item == 'm365_app_user_detail':\r\n",
        "            spark.sql(\"set spark.sql.streaming.schemaInference=true\")\r\n",
        "            streaming_df_m365 = spark.readStream.format('delta').load(oea.to_url(table_path))\r\n",
        "            df_corrected = _correct_m365_table(streaming_df_m365)\r\n",
        "            query = df_corrected.writeStream.format('delta').outputMode('append').trigger(once=True).option('checkpointLocation', oea.to_url(table_path) + '/_checkpoints')\r\n",
        "            query = query.start(oea.to_url(write_destination + '/' + item))\r\n",
        "            query.awaitTermination() \r\n",
        "            logger.info('Successfully corrected the m365_app_user_detail table from: ' + table_path)\r\n",
        "        elif item == 'teams_activity_user_detail':\r\n",
        "            spark.sql(\"set spark.sql.streaming.schemaInference=true\")\r\n",
        "            streaming_df_teams = spark.readStream.format('delta').load(oea.to_url(table_path))\r\n",
        "            df_corrected = _correct_teams_table(streaming_df_teams)\r\n",
        "            query = df_corrected.writeStream.format('delta').outputMode('append').trigger(once=True).option('checkpointLocation', oea.to_url(table_path) + '/_checkpoints')\r\n",
        "            query = query.start(oea.to_url(write_destination + '/' + item))\r\n",
        "            query.awaitTermination() \r\n",
        "            logger.info('Successfully corrected the teams_activity_user_detail table from: ' + table_path)\r\n",
        "        elif item == 'meeting_attendance_report':\r\n",
        "            spark.sql(\"set spark.sql.streaming.schemaInference=true\")\r\n",
        "            streaming_df_meetings = spark.readStream.format('delta').load(oea.to_url(table_path))\r\n",
        "            df_corrected = _correct_meetings_table(streaming_df_meetings)\r\n",
        "            query = df_corrected.writeStream.format('delta').outputMode('append').trigger(once=True).option('checkpointLocation', oea.to_url(table_path) + '/_checkpoints')\r\n",
        "            query = query.start(oea.to_url(write_destination + '/' + item))\r\n",
        "            query.awaitTermination() \r\n",
        "            logger.info('Successfully corrected the meeting_attendance_report table from: ' + table_path)\r\n",
        "        else:\r\n",
        "            logger.info('No defined function for table: ' + item)"
      ],
      "outputs": [],
      "execution_count": 59,
      "metadata": {
        "jupyter": {
          "source_hidden": false,
          "outputs_hidden": false
        },
        "nteract": {
          "transient": {
            "deleting": false
          }
        }
      }
    },
    {
      "cell_type": "code",
      "source": [
        "correct_graph_dataset('stage2/Ingested/graph_api/beta', 'stage2/Ingested_Corrected/graph_api/beta')\r\n",
        "correct_graph_dataset('stage2/Ingested/graph_api/v1.0', 'stage2/Ingested_Corrected/graph_api/v1.0')"
      ],
      "outputs": [],
      "execution_count": 60,
      "metadata": {
        "jupyter": {
          "source_hidden": false,
          "outputs_hidden": false
        },
        "nteract": {
          "transient": {
            "deleting": false
          }
        }
      }
    },
    {
      "cell_type": "code",
      "source": [
        "df = spark.read.format('delta').load(oea.to_url('stage2/Ingested_Corrected/graph_api/beta/m365_app_user_detail'), header='true')\r\n",
        "display(df.limit(10))"
      ],
      "outputs": [],
      "execution_count": 61,
      "metadata": {
        "jupyter": {
          "source_hidden": false,
          "outputs_hidden": false
        },
        "nteract": {
          "transient": {
            "deleting": false
          }
        },
        "collapsed": false
      }
    },
    {
      "cell_type": "code",
      "source": [
        "df = spark.read.format('delta').load(oea.to_url('stage2/Ingested_Corrected/graph_api/v1.0/meeting_attendance_report'), header='true')\r\n",
        "display(df.limit(10))"
      ],
      "outputs": [],
      "execution_count": 62,
      "metadata": {
        "jupyter": {
          "source_hidden": false,
          "outputs_hidden": false
        },
        "nteract": {
          "transient": {
            "deleting": false
          }
        },
        "collapsed": false
      }
    },
    {
      "cell_type": "code",
      "source": [
        "df.printSchema()"
      ],
      "outputs": [],
      "execution_count": 63,
      "metadata": {
        "jupyter": {
          "source_hidden": false,
          "outputs_hidden": false
        },
        "nteract": {
          "transient": {
            "deleting": false
          }
        }
      }
    },
    {
      "cell_type": "markdown",
      "source": [
        "## 5.) Refine the Graph Module Test Data\r\n",
        "This step refines the Graph test data from stage2/Ingested_Corrected to stage2/Refined, using the metadata.csv. This step is responsible for pseudonymization, which preserves sensitive student information by either hashing or masking the sensitive columns. \r\n",
        "\r\n",
        "Tables are separated into either ```stage2/Refined/graph_api/(beta or v1.0)/general``` or ```stage2/Refined/graph_api/(beta or v1.0)/sensitive```, depending on whether each table is pseudonymized or has a sensitive column-hashing/masking mapping, respectively.\r\n",
        "\r\n",
        "The ```refine_corrected()``` function acts almost identical to the ```oea.refine()``` method, except reads from stage2/Ingested_Corrected, rather than stage2/Ingested."
      ],
      "metadata": {
        "nteract": {
          "transient": {
            "deleting": false
          }
        }
      }
    },
    {
      "cell_type": "code",
      "source": [
        "# 5) After ingesting the corrected data, the next step is to refine the data through the use of metadata (this is where the pseudonymization of the data occurs).\r\n",
        "def refine_corrected(entity_path, metadata=None, primary_key='id'):\r\n",
        "    source_path = f'stage2/Ingested_Corrected/{entity_path}'\r\n",
        "    primary_key = oea.fix_column_name(primary_key) # fix the column name, in case it has a space in it or some other invalid character\r\n",
        "    path_dict = oea.parse_path(source_path)\r\n",
        "    sink_general_path = path_dict['entity_parent_path'].replace('Ingested_Corrected', 'Refined') + '/general/' + path_dict['entity']\r\n",
        "    sink_sensitive_path = path_dict['entity_parent_path'].replace('Ingested_Corrected', 'Refined') + '/sensitive/' + path_dict['entity'] + '_lookup'\r\n",
        "    if not metadata:\r\n",
        "        all_metadata = oea.get_metadata_from_path(path_dict['entity_parent_path'])\r\n",
        "        metadata = all_metadata[path_dict['entity']]\r\n",
        "\r\n",
        "    df_changes = oea.get_latest_changes(source_path, sink_general_path)\r\n",
        "    spark_schema = oea.to_spark_schema(metadata)\r\n",
        "    df_changes = oea.modify_schema(df_changes, spark_schema)        \r\n",
        "\r\n",
        "    if df_changes.count() > 0:\r\n",
        "        df_pseudo, df_lookup = oea.pseudonymize(df_changes, metadata)\r\n",
        "        oea.upsert(df_pseudo, sink_general_path, primary_key) # todo: remove this assumption that the primary key will always be hashed during pseduonymization\r\n",
        "        oea.upsert(df_lookup, sink_sensitive_path, primary_key)    \r\n",
        "        oea.add_to_lake_db(sink_general_path)\r\n",
        "        oea.add_to_lake_db(sink_sensitive_path)\r\n",
        "        logger.info(f'Processed {df_changes.count()} updated rows from {source_path} into stage2/Refined')\r\n",
        "    else:\r\n",
        "        logger.info(f'No updated rows in {source_path} to process.')\r\n",
        "    return df_changes.count()\r\n",
        "\r\n",
        "def refine_graph_dataset(tables_source):\r\n",
        "    items = oea.get_folders(tables_source)\r\n",
        "    for item in items: \r\n",
        "        table_path = tables_source +'/'+ item\r\n",
        "        if item == 'metadata.csv':\r\n",
        "            logger.info('ignore metadata processing, since this is not a table to be ingested')\r\n",
        "        else:\r\n",
        "            try:\r\n",
        "                if item == 'users':\r\n",
        "                    refine_corrected('graph_api/beta/' + item, metadata_beta[item], 'userPrincipalName_pseudonym')\r\n",
        "                elif item == 'm365_app_user_detail':\r\n",
        "                    refine_corrected('graph_api/beta/' + item, metadata_beta[item], 'm365Activity_pk_pseudonym')\r\n",
        "                elif item == 'teams_activity_user_detail':\r\n",
        "                    refine_corrected('graph_api/beta/' + item, metadata_beta[item], 'teamsActivity_pk_pseudonym')\r\n",
        "                elif item == 'meeting_attendance_report':\r\n",
        "                    refine_corrected('graph_api/v1.0/' + item, metadata_v1p0[item], 'meetingUserId_pk_pseudonym')\r\n",
        "                else:\r\n",
        "                    logger.info('No defined function for processing this Graph table.')\r\n",
        "            except AnalysisException as e:\r\n",
        "                # This means the table may have not been properly refined due to errors with the primary key not aligning with columns expected in the lookup table.\r\n",
        "                pass\r\n",
        "            \r\n",
        "            logger.info('Refined table: ' + item + ' from: ' + table_path)"
      ],
      "outputs": [],
      "execution_count": 64,
      "metadata": {
        "jupyter": {
          "source_hidden": false,
          "outputs_hidden": false
        },
        "nteract": {
          "transient": {
            "deleting": false
          }
        }
      }
    },
    {
      "cell_type": "code",
      "source": [
        "# similar to ingestion, you only need to run the refine the beta test data if you chose to process the K-12 test dataset\r\n",
        "metadata_beta = oea.get_metadata_from_url('https://raw.githubusercontent.com/microsoft/OpenEduAnalytics/main/modules/module_catalog/Microsoft_Graph/test_data/metadata_beta.csv')\r\n",
        "metadata_v1p0 = oea.get_metadata_from_url('https://raw.githubusercontent.com/microsoft/OpenEduAnalytics/main/modules/module_catalog/Microsoft_Graph/test_data/metadata_v1p0.csv')\r\n",
        "refine_graph_dataset('stage2/Ingested_Corrected/graph_api/beta')\r\n",
        "refine_graph_dataset('stage2/Ingested_Corrected/graph_api/v1.0')"
      ],
      "outputs": [],
      "execution_count": 65,
      "metadata": {
        "jupyter": {
          "source_hidden": false,
          "outputs_hidden": false
        },
        "nteract": {
          "transient": {
            "deleting": false
          }
        }
      }
    },
    {
      "cell_type": "code",
      "source": [
        "# This block represents what the blocks above (in this step) accomplish\r\n",
        "#metadata_beta = oea.get_metadata_from_url('https://raw.githubusercontent.com/microsoft/OpenEduAnalytics/main/modules/module_catalog/Microsoft_Graph/test_data/metadata_beta.csv')\r\n",
        "#metadata_v1p0 = oea.get_metadata_from_url('https://raw.githubusercontent.com/microsoft/OpenEduAnalytics/main/modules/module_catalog/Microsoft_Graph/test_data/metadata_v1p0.csv')\r\n",
        "\r\n",
        "#refine_corrected('graph_api/beta/users', metadata_beta['users'], 'userPrincipalName_pseudonym')\r\n",
        "#refine_corrected('graph_api/beta/m365_app_user_detail', metadata_beta['m365_app_user_detail'], 'm365Activity_pk_pseudonym')\r\n",
        "#refine_corrected('graph_api/beta/teams_activity_user_detail', metadata_beta['teams_activity_user_detail'], 'teamsActivity_pk_pseudonym')\r\n",
        "#refine_corrected('graph_api/v1.0/meeting_attendance_report', metadata_v1p0['meeting_attendance_report'], 'meetingUserId_pk_pseudonym')"
      ],
      "outputs": [],
      "execution_count": 66,
      "metadata": {
        "jupyter": {
          "source_hidden": false,
          "outputs_hidden": false
        },
        "nteract": {
          "transient": {
            "deleting": false
          }
        }
      }
    },
    {
      "cell_type": "markdown",
      "source": [
        "## 6.) Demonstrate Lake Database Queries/Final Remarks"
      ],
      "metadata": {
        "nteract": {
          "transient": {
            "deleting": false
          }
        }
      }
    },
    {
      "cell_type": "code",
      "source": [
        "# 6) Now you can query the refined data tables in the lake db\r\n",
        "df = spark.sql(\"select * from ldb_sam_s2r_graph_api.teams_activity_user_detail\")\r\n",
        "display(df.limit(10))\r\n",
        "df.printSchema()\r\n",
        "df = spark.sql(\"select * from ldb_sam_s2r_graph_api.users_lookup\")\r\n",
        "display(df.limit(10))\r\n",
        "df.printSchema()\r\n",
        "# You can use the \"lookup\" table for joins (people with restricted access won't be able to perform this query because they won't have access to data in the \"sensitive\" folder in the data lake)\r\n",
        "df = spark.sql(\"select taud.reportRefreshDate, taud.reportPeriod, taud.audioDuration, taud.screenShareDuration, taud.videoDuration, ul.userPrincipalName from ldb_sam_s2r_graph_api.users_lookup ul, ldb_sam_s2r_graph_api.teams_activity_user_detail taud where taud.userPrincipalName_pseudonym = ul.userPrincipalName_pseudonym\")\r\n",
        "display(df.limit(10))"
      ],
      "outputs": [],
      "execution_count": 69,
      "metadata": {
        "jupyter": {
          "source_hidden": false,
          "outputs_hidden": false
        },
        "nteract": {
          "transient": {
            "deleting": false
          }
        },
        "collapsed": false
      }
    },
    {
      "cell_type": "code",
      "source": [
        "# Run this cell to reset this example (deleting all the example Graph data in your workspace)\r\n",
        "oea.rm_if_exists('stage1/Transactional/graph_api')\r\n",
        "oea.rm_if_exists('stage2/Ingested/graph_api')\r\n",
        "oea.rm_if_exists('stage2/Refined/graph_api')\r\n",
        "oea.drop_lake_db('ldb_sam_s2i_graph_api')\r\n",
        "oea.drop_lake_db('ldb_sam_s2i_graph_api_v1p0')\r\n",
        "oea.drop_lake_db('ldb_sam_s2r_graph_api')\r\n",
        "oea.drop_lake_db('ldb_sam_s2r_graph_api_v1p0')"
      ],
      "outputs": [],
      "execution_count": null,
      "metadata": {
        "jupyter": {
          "source_hidden": false,
          "outputs_hidden": false
        },
        "nteract": {
          "transient": {
            "deleting": false
          }
        }
      }
    },
    {
      "cell_type": "markdown",
      "source": [
        "## Appendix"
      ],
      "metadata": {
        "nteract": {
          "transient": {
            "deleting": false
          }
        }
      }
    },
    {
      "cell_type": "code",
      "source": [
        "# generate an initial metadata file for manual modification\r\n",
        "metadata = oea.create_metadata_from_lake_db('ldb_sam_s2i_graph_api')\r\n",
        "dlw = DataLakeWriter(oea.to_url('stage1/Transactional/graph_api'))\r\n",
        "dlw.write('metadata_beta.csv', metadata)\r\n",
        "metadata = oea.create_metadata_from_lake_db('ldb_sam_s2i_graph_api_v1p0')\r\n",
        "dlw = DataLakeWriter(oea.to_url('stage1/Transactional/graph_api'))\r\n",
        "dlw.write('metadata_v1p0.csv', metadata)"
      ],
      "outputs": [],
      "execution_count": null,
      "metadata": {
        "jupyter": {
          "source_hidden": false,
          "outputs_hidden": false
        },
        "nteract": {
          "transient": {
            "deleting": false
          }
        }
      }
    },
    {
      "cell_type": "code",
      "source": [
        "# Create a sql db for the ingested Graph data\r\n",
        "oea.create_sql_db('stage2/Ingested/graph_api')"
      ],
      "outputs": [],
      "execution_count": null,
      "metadata": {
        "jupyter": {
          "source_hidden": false,
          "outputs_hidden": false
        },
        "nteract": {
          "transient": {
            "deleting": false
          }
        }
      }
    }
  ],
  "metadata": {
    "kernelspec": {
      "name": "synapse_pyspark",
      "display_name": "Synapse PySpark"
    },
    "language_info": {
      "name": "python"
    },
    "description": null,
    "save_output": true,
    "synapse_widget": {
      "version": "0.1",
      "state": {}
    }
  },
  "nbformat": 4,
  "nbformat_minor": 2
}